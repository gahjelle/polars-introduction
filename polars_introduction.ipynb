{
 "cells": [
  {
   "cell_type": "markdown",
   "id": "f9f2abbc",
   "metadata": {},
   "source": [
    "# Introduction to Polars\n",
    "\n",
    "**EuroSciPy 2024, Szczecin**\n",
    "\n",
    "Contact: **Geir Arne Hjelle**, `geirarne@gmail.com`, <https://github.com/gahjelle/polars-introduction>\n",
    "\n",
    "**Agenda:**\n",
    "\n",
    "1. DataFrames for Structuring Data\n",
    "2. Create DataFrames\n",
    "3. Work With Tidy Data\n",
    "4. Manipulate DataFrames\n",
    "5. Share Results and Insights\n",
    "6. Saving the Best for Last: Polars is Lazy!"
   ]
  },
  {
   "cell_type": "markdown",
   "id": "d4446206",
   "metadata": {},
   "source": [
    "## DataFrames for Structuring Data\n",
    "\n",
    "A **DataFrame** is the main data structure used in Polars. A DataFrame is analogous to a structured spread sheet. In particular:\n",
    "\n",
    "- A DataFrame is a **two-dimensional** table of rows and columns\n",
    "- Each column has a **name**\n",
    "- All values in a column have the **same data type**\n",
    "- Each row group related data\n",
    "\n",
    "Here are some examples of tables organized as DataFrames:\n",
    "\n",
    "| Time                | Room 6                                                        | Room 5                                                                     |\n",
    "| :------------------ | :------------------------------------------------------------ | :------------------------------------------------------------------------- |\n",
    "| 2024-08-26 09:00:00 | Introduction to Python                                        | What is the magic of magic methods in the Python language?                 |\n",
    "| 2024-08-26 11:00:00 | Introduction to NumPy                                         | Decorators - A deep dive                                                   |\n",
    "| 2024-08-26 14:00:00 | Introduction to matplotlib for data visualization with Python | Probabilistic classification and cost-sensitive learning with scikit-learn |\n",
    "| 2024-08-26 16:00:00 | Image Analysis in Python with scikit-image                    | Using the Array API to write code that runs with NumPy, Cupy, and PyTorch  |\n",
    "| 2024-08-27 09:00:00 | Introduction to Polars: Fast and readable data analysis       | Building robust workflows with strong provenance                           |\n",
    "| 2024-08-27 11:00:00 | Using Wikipedia as a language corpus for NLP                  | Combining Python and Rust to create Polars plugins                         |\n",
    "| 2024-08-27 14:00:00 | Introduction to machine learning with scikit-learn and pandas | Multi-dimensional arrays with Scipp                                        |\n",
    "| 2024-08-27 16:00:00 | A hitchhiker's guide to contributing to open source           | sktime - Python toolbox for time series                                    |\n",
    "\n",
    "A subset of the data can be presented as follows:\n",
    "\n",
    "| Room | 09:00                                                   | 11:00                                              | 14:00                                                         | 16:00                                               |\n",
    "| :--- | :------------------------------------------------------ | :------------------------------------------------- | :------------------------------------------------------------ | :-------------------------------------------------- |\n",
    "| 6    | Introduction to Polars: Fast and readable data analysis | Using Wikipedia as a language corpus for NLP       | Introduction to machine learning with scikit-learn and pandas | A hitchhiker's guide to contributing to open source |\n",
    "| 5    | Building robust workflows with strong provenance        | Combining Python and Rust to create Polars plugins | Multi-dimensional arrays with Scipp                           | sktime - Python toolbox for time series             |\n"
   ]
  },
  {
   "cell_type": "markdown",
   "id": "3d24b902",
   "metadata": {},
   "source": [
    "## Create DataFrames\n",
    "\n",
    "At a high level, you can create DataFrames in two ways:\n",
    "\n",
    "1. From an existing Python data structure in memory, typically nested `dict` and/or `list`\n",
    "2. From a data source like a file, database, etc\n",
    "\n",
    "You use `pl.DataFrame()` to convert an existing Python data structure. There are several `read_*()` and `scan_*()` functions in Polars that construct DataFrames from different data sources."
   ]
  },
  {
   "cell_type": "code",
   "execution_count": 1,
   "id": "23e4e43c",
   "metadata": {},
   "outputs": [],
   "source": [
    "import polars as pl"
   ]
  },
  {
   "cell_type": "code",
   "execution_count": 2,
   "id": "5b8fda81",
   "metadata": {},
   "outputs": [
    {
     "data": {
      "text/html": [
       "<div><style>\n",
       ".dataframe > thead > tr,\n",
       ".dataframe > tbody > tr {\n",
       "  text-align: right;\n",
       "  white-space: pre-wrap;\n",
       "}\n",
       "</style>\n",
       "<small>shape: (4, 3)</small><table border=\"1\" class=\"dataframe\"><thead><tr><th>time</th><th>room_6</th><th>room_5</th></tr><tr><td>str</td><td>str</td><td>str</td></tr></thead><tbody><tr><td>&quot;09:00&quot;</td><td>&quot;Introduction to Polars: Fast a…</td><td>&quot;Building robust workflows with…</td></tr><tr><td>&quot;11:00&quot;</td><td>&quot;Using Wikipedia as a language …</td><td>&quot;Combining Python and Rust to c…</td></tr><tr><td>&quot;14:00&quot;</td><td>&quot;Introduction to machine learni…</td><td>&quot;Multi-dimensional arrays with …</td></tr><tr><td>&quot;16:00&quot;</td><td>&quot;A hitchhiker&#x27;s guide to contri…</td><td>&quot;sktime - Python toolbox for ti…</td></tr></tbody></table></div>"
      ],
      "text/plain": [
       "shape: (4, 3)\n",
       "┌───────┬─────────────────────────────────┬─────────────────────────────────┐\n",
       "│ time  ┆ room_6                          ┆ room_5                          │\n",
       "│ ---   ┆ ---                             ┆ ---                             │\n",
       "│ str   ┆ str                             ┆ str                             │\n",
       "╞═══════╪═════════════════════════════════╪═════════════════════════════════╡\n",
       "│ 09:00 ┆ Introduction to Polars: Fast a… ┆ Building robust workflows with… │\n",
       "│ 11:00 ┆ Using Wikipedia as a language … ┆ Combining Python and Rust to c… │\n",
       "│ 14:00 ┆ Introduction to machine learni… ┆ Multi-dimensional arrays with … │\n",
       "│ 16:00 ┆ A hitchhiker's guide to contri… ┆ sktime - Python toolbox for ti… │\n",
       "└───────┴─────────────────────────────────┴─────────────────────────────────┘"
      ]
     },
     "execution_count": 2,
     "metadata": {},
     "output_type": "execute_result"
    }
   ],
   "source": [
    "# Create a DataFrame from a list of dictionaries\n",
    "tutorials = [\n",
    "    {\n",
    "        \"time\": \"09:00\",\n",
    "        \"room_6\": \"Introduction to Polars: Fast and readable data analysis\",\n",
    "        \"room_5\": \"Building robust workflows with strong provenance\",\n",
    "    },\n",
    "    {\n",
    "        \"time\": \"11:00\",\n",
    "        \"room_6\": \"Using Wikipedia as a language corpus for NLP\",\n",
    "        \"room_5\": \"Combining Python and Rust to create Polars plugins\",\n",
    "    },\n",
    "    {\n",
    "        \"time\": \"14:00\",\n",
    "        \"room_6\": \"Introduction to machine learning with scikit-learn and pandas\",\n",
    "        \"room_5\": \"Multi-dimensional arrays with Scipp\",\n",
    "    },\n",
    "    {\n",
    "        \"time\": \"16:00\",\n",
    "        \"room_6\": \"A hitchhiker's guide to contributing to open source\",\n",
    "        \"room_5\": \"sktime - Python toolbox for time series\",\n",
    "    },\n",
    "]\n",
    "\n",
    "pl.DataFrame(tutorials)"
   ]
  },
  {
   "cell_type": "code",
   "execution_count": 3,
   "id": "5e2bde85",
   "metadata": {},
   "outputs": [
    {
     "data": {
      "text/html": [
       "<div><style>\n",
       ".dataframe > thead > tr,\n",
       ".dataframe > tbody > tr {\n",
       "  text-align: right;\n",
       "  white-space: pre-wrap;\n",
       "}\n",
       "</style>\n",
       "<small>shape: (4, 3)</small><table border=\"1\" class=\"dataframe\"><thead><tr><th>time</th><th>room_6</th><th>room_5</th></tr><tr><td>str</td><td>str</td><td>str</td></tr></thead><tbody><tr><td>&quot;09:00&quot;</td><td>&quot;Introduction to Polars: Fast a…</td><td>&quot;Building robust workflows with…</td></tr><tr><td>&quot;11:00&quot;</td><td>&quot;Using Wikipedia as a language …</td><td>&quot;Combining Python and Rust to c…</td></tr><tr><td>&quot;14:00&quot;</td><td>&quot;Introduction to machine learni…</td><td>&quot;Multi-dimensional arrays with …</td></tr><tr><td>&quot;16:00&quot;</td><td>&quot;A hitchhiker&#x27;s guide to contri…</td><td>&quot;sktime - Python toolbox for ti…</td></tr></tbody></table></div>"
      ],
      "text/plain": [
       "shape: (4, 3)\n",
       "┌───────┬─────────────────────────────────┬─────────────────────────────────┐\n",
       "│ time  ┆ room_6                          ┆ room_5                          │\n",
       "│ ---   ┆ ---                             ┆ ---                             │\n",
       "│ str   ┆ str                             ┆ str                             │\n",
       "╞═══════╪═════════════════════════════════╪═════════════════════════════════╡\n",
       "│ 09:00 ┆ Introduction to Polars: Fast a… ┆ Building robust workflows with… │\n",
       "│ 11:00 ┆ Using Wikipedia as a language … ┆ Combining Python and Rust to c… │\n",
       "│ 14:00 ┆ Introduction to machine learni… ┆ Multi-dimensional arrays with … │\n",
       "│ 16:00 ┆ A hitchhiker's guide to contri… ┆ sktime - Python toolbox for ti… │\n",
       "└───────┴─────────────────────────────────┴─────────────────────────────────┘"
      ]
     },
     "execution_count": 3,
     "metadata": {},
     "output_type": "execute_result"
    }
   ],
   "source": [
    "# Create a DataFrame from a dictionary of lists\n",
    "tutorials = {\n",
    "    \"time\": [\"09:00\", \"11:00\", \"14:00\", \"16:00\"],\n",
    "    \"room_6\": [\n",
    "        \"Introduction to Polars: Fast and readable data analysis\",\n",
    "        \"Using Wikipedia as a language corpus for NLP\",\n",
    "        \"Introduction to machine learning with scikit-learn and pandas\",\n",
    "        \"A hitchhiker's guide to contributing to open source\",\n",
    "    ],\n",
    "    \"room_5\": [\n",
    "        \"Building robust workflows with strong provenance\",\n",
    "        \"Combining Python and Rust to create Polars plugins\",\n",
    "        \"Multi-dimensional arrays with Scipp\",\n",
    "        \"sktime - Python toolbox for time series\",\n",
    "    ],\n",
    "}\n",
    "pl.DataFrame(tutorials)"
   ]
  },
  {
   "cell_type": "code",
   "execution_count": 4,
   "id": "0450ed12",
   "metadata": {},
   "outputs": [
    {
     "data": {
      "text/html": [
       "<div><style>\n",
       ".dataframe > thead > tr,\n",
       ".dataframe > tbody > tr {\n",
       "  text-align: right;\n",
       "  white-space: pre-wrap;\n",
       "}\n",
       "</style>\n",
       "<small>shape: (317, 5)</small><table border=\"1\" class=\"dataframe\"><thead><tr><th>id</th><th>artist</th><th>track</th><th>time</th><th>genre</th></tr><tr><td>i64</td><td>str</td><td>str</td><td>str</td><td>str</td></tr></thead><tbody><tr><td>0</td><td>&quot;Destiny&#x27;s Child&quot;</td><td>&quot;Independent Women Part I&quot;</td><td>&quot;3:38&quot;</td><td>&quot;Rock&quot;</td></tr><tr><td>1</td><td>&quot;Santana&quot;</td><td>&quot;Maria, Maria&quot;</td><td>&quot;4:18&quot;</td><td>&quot;Rock&quot;</td></tr><tr><td>2</td><td>&quot;Savage Garden&quot;</td><td>&quot;I Knew I Loved You&quot;</td><td>&quot;4:07&quot;</td><td>&quot;Rock&quot;</td></tr><tr><td>3</td><td>&quot;Madonna&quot;</td><td>&quot;Music&quot;</td><td>&quot;3:45&quot;</td><td>&quot;Rock&quot;</td></tr><tr><td>4</td><td>&quot;Aguilera, Christina&quot;</td><td>&quot;Come On Over Baby (All I Want …</td><td>&quot;3:38&quot;</td><td>&quot;Rock&quot;</td></tr><tr><td>&hellip;</td><td>&hellip;</td><td>&hellip;</td><td>&hellip;</td><td>&hellip;</td></tr><tr><td>312</td><td>&quot;Ghostface Killah&quot;</td><td>&quot;Cherchez LaGhost&quot;</td><td>&quot;3:04&quot;</td><td>&quot;R&amp;B&quot;</td></tr><tr><td>313</td><td>&quot;Smith, Will&quot;</td><td>&quot;Freakin&#x27; It&quot;</td><td>&quot;3:58&quot;</td><td>&quot;Rap&quot;</td></tr><tr><td>314</td><td>&quot;Zombie Nation&quot;</td><td>&quot;Kernkraft 400&quot;</td><td>&quot;3:30&quot;</td><td>&quot;Rock&quot;</td></tr><tr><td>315</td><td>&quot;Eastsidaz, The&quot;</td><td>&quot;Got Beef&quot;</td><td>&quot;3:58&quot;</td><td>&quot;Rap&quot;</td></tr><tr><td>316</td><td>&quot;Fragma&quot;</td><td>&quot;Toca&#x27;s Miracle&quot;</td><td>&quot;3:22&quot;</td><td>&quot;R&amp;B&quot;</td></tr></tbody></table></div>"
      ],
      "text/plain": [
       "shape: (317, 5)\n",
       "┌─────┬─────────────────────┬─────────────────────────────────┬──────┬───────┐\n",
       "│ id  ┆ artist              ┆ track                           ┆ time ┆ genre │\n",
       "│ --- ┆ ---                 ┆ ---                             ┆ ---  ┆ ---   │\n",
       "│ i64 ┆ str                 ┆ str                             ┆ str  ┆ str   │\n",
       "╞═════╪═════════════════════╪═════════════════════════════════╪══════╪═══════╡\n",
       "│ 0   ┆ Destiny's Child     ┆ Independent Women Part I        ┆ 3:38 ┆ Rock  │\n",
       "│ 1   ┆ Santana             ┆ Maria, Maria                    ┆ 4:18 ┆ Rock  │\n",
       "│ 2   ┆ Savage Garden       ┆ I Knew I Loved You              ┆ 4:07 ┆ Rock  │\n",
       "│ 3   ┆ Madonna             ┆ Music                           ┆ 3:45 ┆ Rock  │\n",
       "│ 4   ┆ Aguilera, Christina ┆ Come On Over Baby (All I Want … ┆ 3:38 ┆ Rock  │\n",
       "│ …   ┆ …                   ┆ …                               ┆ …    ┆ …     │\n",
       "│ 312 ┆ Ghostface Killah    ┆ Cherchez LaGhost                ┆ 3:04 ┆ R&B   │\n",
       "│ 313 ┆ Smith, Will         ┆ Freakin' It                     ┆ 3:58 ┆ Rap   │\n",
       "│ 314 ┆ Zombie Nation       ┆ Kernkraft 400                   ┆ 3:30 ┆ Rock  │\n",
       "│ 315 ┆ Eastsidaz, The      ┆ Got Beef                        ┆ 3:58 ┆ Rap   │\n",
       "│ 316 ┆ Fragma              ┆ Toca's Miracle                  ┆ 3:22 ┆ R&B   │\n",
       "└─────┴─────────────────────┴─────────────────────────────────┴──────┴───────┘"
      ]
     },
     "execution_count": 4,
     "metadata": {},
     "output_type": "execute_result"
    }
   ],
   "source": [
    "# Create a DataFrame from a CSV file\n",
    "pl.read_csv(\"data/billboard_songs.csv\")"
   ]
  },
  {
   "cell_type": "code",
   "execution_count": 5,
   "id": "8011a50b",
   "metadata": {},
   "outputs": [
    {
     "data": {
      "text/plain": [
       "['read_avro',\n",
       " 'read_clipboard',\n",
       " 'read_csv',\n",
       " 'read_csv_batched',\n",
       " 'read_database',\n",
       " 'read_database_uri',\n",
       " 'read_delta',\n",
       " 'read_excel',\n",
       " 'read_ipc',\n",
       " 'read_ipc_schema',\n",
       " 'read_ipc_stream',\n",
       " 'read_json',\n",
       " 'read_ndjson',\n",
       " 'read_ods',\n",
       " 'read_parquet',\n",
       " 'read_parquet_schema']"
      ]
     },
     "execution_count": 5,
     "metadata": {},
     "output_type": "execute_result"
    }
   ],
   "source": [
    "[function for function in dir(pl) if function.startswith(\"read_\")]"
   ]
  },
  {
   "cell_type": "markdown",
   "id": "1781de92",
   "metadata": {},
   "source": [
    "You can also read files directly from the Internet by supplying a URL. Some sites have extra support, like for\n",
    "example [Hugging Face](https://huggingface.co/docs/hub/en/datasets-polars) with a special `hf://` protocol."
   ]
  },
  {
   "cell_type": "code",
   "execution_count": 6,
   "id": "f5ff5810",
   "metadata": {},
   "outputs": [
    {
     "data": {
      "text/html": [
       "<div><style>\n",
       ".dataframe > thead > tr,\n",
       ".dataframe > tbody > tr {\n",
       "  text-align: right;\n",
       "  white-space: pre-wrap;\n",
       "}\n",
       "</style>\n",
       "<small>shape: (483_168, 11)</small><table border=\"1\" class=\"dataframe\"><thead><tr><th></th><th>suffix</th><th>crawl</th><th>date</th><th>type</th><th>subtype</th><th>tld</th><th>pages</th><th>urls</th><th>hosts</th><th>domains</th></tr><tr><td>i64</td><td>str</td><td>str</td><td>str</td><td>str</td><td>str</td><td>str</td><td>i64</td><td>i64</td><td>f64</td><td>f64</td></tr></thead><tbody><tr><td>0</td><td>&quot;a.se&quot;</td><td>&quot;CC-MAIN-2008-2009&quot;</td><td>&quot;2009-01-12&quot;</td><td>&quot;ccTLD&quot;</td><td>&quot;second-level&quot;</td><td>&quot;se&quot;</td><td>18</td><td>18</td><td>1.0</td><td>1.0</td></tr><tr><td>1</td><td>&quot;a.se&quot;</td><td>&quot;CC-MAIN-2009-2010&quot;</td><td>&quot;2010-09-25&quot;</td><td>&quot;ccTLD&quot;</td><td>&quot;second-level&quot;</td><td>&quot;se&quot;</td><td>3462</td><td>3259</td><td>166.0</td><td>151.0</td></tr><tr><td>2</td><td>&quot;a.se&quot;</td><td>&quot;CC-MAIN-2012&quot;</td><td>&quot;2012-11-02&quot;</td><td>&quot;ccTLD&quot;</td><td>&quot;second-level&quot;</td><td>&quot;se&quot;</td><td>6957</td><td>6794</td><td>172.0</td><td>150.0</td></tr><tr><td>3</td><td>&quot;a.se&quot;</td><td>&quot;CC-MAIN-2013-20&quot;</td><td>&quot;2013-05-13&quot;</td><td>&quot;ccTLD&quot;</td><td>&quot;second-level&quot;</td><td>&quot;se&quot;</td><td>613</td><td>600</td><td>50.0</td><td>46.0</td></tr><tr><td>4</td><td>&quot;a.se&quot;</td><td>&quot;CC-MAIN-2013-48&quot;</td><td>&quot;2013-11-25&quot;</td><td>&quot;ccTLD&quot;</td><td>&quot;second-level&quot;</td><td>&quot;se&quot;</td><td>224</td><td>222</td><td>35.0</td><td>34.0</td></tr><tr><td>&hellip;</td><td>&hellip;</td><td>&hellip;</td><td>&hellip;</td><td>&hellip;</td><td>&hellip;</td><td>&hellip;</td><td>&hellip;</td><td>&hellip;</td><td>&hellip;</td><td>&hellip;</td></tr><tr><td>483163</td><td>&quot;fajr.nom.br&quot;</td><td>&quot;CC-MAIN-2024-33&quot;</td><td>&quot;2024-08-12&quot;</td><td>&quot;ccTLD&quot;</td><td>&quot;second-level&quot;</td><td>&quot;br&quot;</td><td>4</td><td>4</td><td>1.0</td><td>1.0</td></tr><tr><td>483164</td><td>&quot;gkp.pk&quot;</td><td>&quot;CC-MAIN-2024-33&quot;</td><td>&quot;2024-08-12&quot;</td><td>&quot;ccTLD&quot;</td><td>&quot;second-level&quot;</td><td>&quot;pk&quot;</td><td>859</td><td>853</td><td>14.0</td><td>14.0</td></tr><tr><td>483165</td><td>&quot;gog.pk&quot;</td><td>&quot;CC-MAIN-2024-33&quot;</td><td>&quot;2024-08-12&quot;</td><td>&quot;ccTLD&quot;</td><td>&quot;second-level&quot;</td><td>&quot;pk&quot;</td><td>34</td><td>34</td><td>3.0</td><td>3.0</td></tr><tr><td>483166</td><td>&quot;gyeongbuk.kr&quot;</td><td>&quot;CC-MAIN-2024-33&quot;</td><td>&quot;2024-08-12&quot;</td><td>&quot;ccTLD&quot;</td><td>&quot;second-level&quot;</td><td>&quot;kr&quot;</td><td>1</td><td>1</td><td>1.0</td><td>1.0</td></tr><tr><td>483167</td><td>&quot;tv.bd&quot;</td><td>&quot;CC-MAIN-2024-33&quot;</td><td>&quot;2024-08-12&quot;</td><td>&quot;ccTLD&quot;</td><td>&quot;second-level&quot;</td><td>&quot;bd&quot;</td><td>1</td><td>1</td><td>1.0</td><td>1.0</td></tr></tbody></table></div>"
      ],
      "text/plain": [
       "shape: (483_168, 11)\n",
       "┌────────┬──────────────┬───────────────────┬────────────┬───┬───────┬──────┬───────┬─────────┐\n",
       "│        ┆ suffix       ┆ crawl             ┆ date       ┆ … ┆ pages ┆ urls ┆ hosts ┆ domains │\n",
       "│ ---    ┆ ---          ┆ ---               ┆ ---        ┆   ┆ ---   ┆ ---  ┆ ---   ┆ ---     │\n",
       "│ i64    ┆ str          ┆ str               ┆ str        ┆   ┆ i64   ┆ i64  ┆ f64   ┆ f64     │\n",
       "╞════════╪══════════════╪═══════════════════╪════════════╪═══╪═══════╪══════╪═══════╪═════════╡\n",
       "│ 0      ┆ a.se         ┆ CC-MAIN-2008-2009 ┆ 2009-01-12 ┆ … ┆ 18    ┆ 18   ┆ 1.0   ┆ 1.0     │\n",
       "│ 1      ┆ a.se         ┆ CC-MAIN-2009-2010 ┆ 2010-09-25 ┆ … ┆ 3462  ┆ 3259 ┆ 166.0 ┆ 151.0   │\n",
       "│ 2      ┆ a.se         ┆ CC-MAIN-2012      ┆ 2012-11-02 ┆ … ┆ 6957  ┆ 6794 ┆ 172.0 ┆ 150.0   │\n",
       "│ 3      ┆ a.se         ┆ CC-MAIN-2013-20   ┆ 2013-05-13 ┆ … ┆ 613   ┆ 600  ┆ 50.0  ┆ 46.0    │\n",
       "│ 4      ┆ a.se         ┆ CC-MAIN-2013-48   ┆ 2013-11-25 ┆ … ┆ 224   ┆ 222  ┆ 35.0  ┆ 34.0    │\n",
       "│ …      ┆ …            ┆ …                 ┆ …          ┆ … ┆ …     ┆ …    ┆ …     ┆ …       │\n",
       "│ 483163 ┆ fajr.nom.br  ┆ CC-MAIN-2024-33   ┆ 2024-08-12 ┆ … ┆ 4     ┆ 4    ┆ 1.0   ┆ 1.0     │\n",
       "│ 483164 ┆ gkp.pk       ┆ CC-MAIN-2024-33   ┆ 2024-08-12 ┆ … ┆ 859   ┆ 853  ┆ 14.0  ┆ 14.0    │\n",
       "│ 483165 ┆ gog.pk       ┆ CC-MAIN-2024-33   ┆ 2024-08-12 ┆ … ┆ 34    ┆ 34   ┆ 3.0   ┆ 3.0     │\n",
       "│ 483166 ┆ gyeongbuk.kr ┆ CC-MAIN-2024-33   ┆ 2024-08-12 ┆ … ┆ 1     ┆ 1    ┆ 1.0   ┆ 1.0     │\n",
       "│ 483167 ┆ tv.bd        ┆ CC-MAIN-2024-33   ┆ 2024-08-12 ┆ … ┆ 1     ┆ 1    ┆ 1.0   ┆ 1.0     │\n",
       "└────────┴──────────────┴───────────────────┴────────────┴───┴───────┴──────┴───────┴─────────┘"
      ]
     },
     "execution_count": 6,
     "metadata": {},
     "output_type": "execute_result"
    }
   ],
   "source": [
    "pl.read_csv(\n",
    "    \"hf://datasets/commoncrawl/statistics/tlds.csv\"\n",
    ")"
   ]
  },
  {
   "cell_type": "code",
   "execution_count": 7,
   "id": "bece91be",
   "metadata": {},
   "outputs": [
    {
     "data": {
      "text/html": [
       "<div><style>\n",
       ".dataframe > thead > tr,\n",
       ".dataframe > tbody > tr {\n",
       "  text-align: right;\n",
       "  white-space: pre-wrap;\n",
       "}\n",
       "</style>\n",
       "<small>shape: (483_168, 11)</small><table border=\"1\" class=\"dataframe\"><thead><tr><th>Unnamed: 0</th><th>suffix</th><th>crawl</th><th>date</th><th>type</th><th>subtype</th><th>tld</th><th>pages</th><th>urls</th><th>hosts</th><th>domains</th></tr><tr><td>i64</td><td>str</td><td>str</td><td>str</td><td>str</td><td>str</td><td>str</td><td>i64</td><td>i64</td><td>f64</td><td>f64</td></tr></thead><tbody><tr><td>0</td><td>&quot;a.se&quot;</td><td>&quot;CC-MAIN-2008-2009&quot;</td><td>&quot;2009-01-12&quot;</td><td>&quot;ccTLD&quot;</td><td>&quot;second-level&quot;</td><td>&quot;se&quot;</td><td>18</td><td>18</td><td>1.0</td><td>1.0</td></tr><tr><td>1</td><td>&quot;a.se&quot;</td><td>&quot;CC-MAIN-2009-2010&quot;</td><td>&quot;2010-09-25&quot;</td><td>&quot;ccTLD&quot;</td><td>&quot;second-level&quot;</td><td>&quot;se&quot;</td><td>3462</td><td>3259</td><td>166.0</td><td>151.0</td></tr><tr><td>2</td><td>&quot;a.se&quot;</td><td>&quot;CC-MAIN-2012&quot;</td><td>&quot;2012-11-02&quot;</td><td>&quot;ccTLD&quot;</td><td>&quot;second-level&quot;</td><td>&quot;se&quot;</td><td>6957</td><td>6794</td><td>172.0</td><td>150.0</td></tr><tr><td>3</td><td>&quot;a.se&quot;</td><td>&quot;CC-MAIN-2013-20&quot;</td><td>&quot;2013-05-13&quot;</td><td>&quot;ccTLD&quot;</td><td>&quot;second-level&quot;</td><td>&quot;se&quot;</td><td>613</td><td>600</td><td>50.0</td><td>46.0</td></tr><tr><td>4</td><td>&quot;a.se&quot;</td><td>&quot;CC-MAIN-2013-48&quot;</td><td>&quot;2013-11-25&quot;</td><td>&quot;ccTLD&quot;</td><td>&quot;second-level&quot;</td><td>&quot;se&quot;</td><td>224</td><td>222</td><td>35.0</td><td>34.0</td></tr><tr><td>&hellip;</td><td>&hellip;</td><td>&hellip;</td><td>&hellip;</td><td>&hellip;</td><td>&hellip;</td><td>&hellip;</td><td>&hellip;</td><td>&hellip;</td><td>&hellip;</td><td>&hellip;</td></tr><tr><td>483163</td><td>&quot;fajr.nom.br&quot;</td><td>&quot;CC-MAIN-2024-33&quot;</td><td>&quot;2024-08-12&quot;</td><td>&quot;ccTLD&quot;</td><td>&quot;second-level&quot;</td><td>&quot;br&quot;</td><td>4</td><td>4</td><td>1.0</td><td>1.0</td></tr><tr><td>483164</td><td>&quot;gkp.pk&quot;</td><td>&quot;CC-MAIN-2024-33&quot;</td><td>&quot;2024-08-12&quot;</td><td>&quot;ccTLD&quot;</td><td>&quot;second-level&quot;</td><td>&quot;pk&quot;</td><td>859</td><td>853</td><td>14.0</td><td>14.0</td></tr><tr><td>483165</td><td>&quot;gog.pk&quot;</td><td>&quot;CC-MAIN-2024-33&quot;</td><td>&quot;2024-08-12&quot;</td><td>&quot;ccTLD&quot;</td><td>&quot;second-level&quot;</td><td>&quot;pk&quot;</td><td>34</td><td>34</td><td>3.0</td><td>3.0</td></tr><tr><td>483166</td><td>&quot;gyeongbuk.kr&quot;</td><td>&quot;CC-MAIN-2024-33&quot;</td><td>&quot;2024-08-12&quot;</td><td>&quot;ccTLD&quot;</td><td>&quot;second-level&quot;</td><td>&quot;kr&quot;</td><td>1</td><td>1</td><td>1.0</td><td>1.0</td></tr><tr><td>483167</td><td>&quot;tv.bd&quot;</td><td>&quot;CC-MAIN-2024-33&quot;</td><td>&quot;2024-08-12&quot;</td><td>&quot;ccTLD&quot;</td><td>&quot;second-level&quot;</td><td>&quot;bd&quot;</td><td>1</td><td>1</td><td>1.0</td><td>1.0</td></tr></tbody></table></div>"
      ],
      "text/plain": [
       "shape: (483_168, 11)\n",
       "┌────────────┬──────────────┬───────────────────┬────────────┬───┬───────┬──────┬───────┬─────────┐\n",
       "│ Unnamed: 0 ┆ suffix       ┆ crawl             ┆ date       ┆ … ┆ pages ┆ urls ┆ hosts ┆ domains │\n",
       "│ ---        ┆ ---          ┆ ---               ┆ ---        ┆   ┆ ---   ┆ ---  ┆ ---   ┆ ---     │\n",
       "│ i64        ┆ str          ┆ str               ┆ str        ┆   ┆ i64   ┆ i64  ┆ f64   ┆ f64     │\n",
       "╞════════════╪══════════════╪═══════════════════╪════════════╪═══╪═══════╪══════╪═══════╪═════════╡\n",
       "│ 0          ┆ a.se         ┆ CC-MAIN-2008-2009 ┆ 2009-01-12 ┆ … ┆ 18    ┆ 18   ┆ 1.0   ┆ 1.0     │\n",
       "│ 1          ┆ a.se         ┆ CC-MAIN-2009-2010 ┆ 2010-09-25 ┆ … ┆ 3462  ┆ 3259 ┆ 166.0 ┆ 151.0   │\n",
       "│ 2          ┆ a.se         ┆ CC-MAIN-2012      ┆ 2012-11-02 ┆ … ┆ 6957  ┆ 6794 ┆ 172.0 ┆ 150.0   │\n",
       "│ 3          ┆ a.se         ┆ CC-MAIN-2013-20   ┆ 2013-05-13 ┆ … ┆ 613   ┆ 600  ┆ 50.0  ┆ 46.0    │\n",
       "│ 4          ┆ a.se         ┆ CC-MAIN-2013-48   ┆ 2013-11-25 ┆ … ┆ 224   ┆ 222  ┆ 35.0  ┆ 34.0    │\n",
       "│ …          ┆ …            ┆ …                 ┆ …          ┆ … ┆ …     ┆ …    ┆ …     ┆ …       │\n",
       "│ 483163     ┆ fajr.nom.br  ┆ CC-MAIN-2024-33   ┆ 2024-08-12 ┆ … ┆ 4     ┆ 4    ┆ 1.0   ┆ 1.0     │\n",
       "│ 483164     ┆ gkp.pk       ┆ CC-MAIN-2024-33   ┆ 2024-08-12 ┆ … ┆ 859   ┆ 853  ┆ 14.0  ┆ 14.0    │\n",
       "│ 483165     ┆ gog.pk       ┆ CC-MAIN-2024-33   ┆ 2024-08-12 ┆ … ┆ 34    ┆ 34   ┆ 3.0   ┆ 3.0     │\n",
       "│ 483166     ┆ gyeongbuk.kr ┆ CC-MAIN-2024-33   ┆ 2024-08-12 ┆ … ┆ 1     ┆ 1    ┆ 1.0   ┆ 1.0     │\n",
       "│ 483167     ┆ tv.bd        ┆ CC-MAIN-2024-33   ┆ 2024-08-12 ┆ … ┆ 1     ┆ 1    ┆ 1.0   ┆ 1.0     │\n",
       "└────────────┴──────────────┴───────────────────┴────────────┴───┴───────┴──────┴───────┴─────────┘"
      ]
     },
     "execution_count": 7,
     "metadata": {},
     "output_type": "execute_result"
    }
   ],
   "source": [
    "pl.read_parquet(\n",
    "    \"hf://datasets/commoncrawl/statistics@~parquet/Top-level domains/train/0000.parquet\"\n",
    ")"
   ]
  },
  {
   "cell_type": "markdown",
   "id": "e22a4365",
   "metadata": {},
   "source": [
    "## Work With Tidy Data\n",
    "\n",
    "Hadley Wickham introduced the term **tidy data** (<https://tidyr.tidyverse.org/articles/tidy-data.html>). Data tidying is a way to **structure DataFrames to facilitate analysis**.\n",
    "\n",
    "A DataFrame is tidy if:\n",
    "\n",
    "- Each variable is a column\n",
    "- Each observation is a row\n",
    "- Each DataFrame contains one observational unit\n",
    "\n",
    "Note that tidy data principles are closely tied to normalization of relational databases.\n",
    "\n",
    "Is the following DataFrame tidy?"
   ]
  },
  {
   "cell_type": "code",
   "execution_count": 8,
   "id": "7a977c0e",
   "metadata": {},
   "outputs": [
    {
     "data": {
      "text/html": [
       "<div><style>\n",
       ".dataframe > thead > tr,\n",
       ".dataframe > tbody > tr {\n",
       "  text-align: right;\n",
       "  white-space: pre-wrap;\n",
       "}\n",
       "</style>\n",
       "<small>shape: (4, 3)</small><table border=\"1\" class=\"dataframe\"><thead><tr><th>time</th><th>room_6</th><th>room_5</th></tr><tr><td>str</td><td>str</td><td>str</td></tr></thead><tbody><tr><td>&quot;09:00&quot;</td><td>&quot;Introduction to Polars: Fast a…</td><td>&quot;Building robust workflows with…</td></tr><tr><td>&quot;11:00&quot;</td><td>&quot;Using Wikipedia as a language …</td><td>&quot;Combining Python and Rust to c…</td></tr><tr><td>&quot;14:00&quot;</td><td>&quot;Introduction to machine learni…</td><td>&quot;Multi-dimensional arrays with …</td></tr><tr><td>&quot;16:00&quot;</td><td>&quot;A hitchhiker&#x27;s guide to contri…</td><td>&quot;sktime - Python toolbox for ti…</td></tr></tbody></table></div>"
      ],
      "text/plain": [
       "shape: (4, 3)\n",
       "┌───────┬─────────────────────────────────┬─────────────────────────────────┐\n",
       "│ time  ┆ room_6                          ┆ room_5                          │\n",
       "│ ---   ┆ ---                             ┆ ---                             │\n",
       "│ str   ┆ str                             ┆ str                             │\n",
       "╞═══════╪═════════════════════════════════╪═════════════════════════════════╡\n",
       "│ 09:00 ┆ Introduction to Polars: Fast a… ┆ Building robust workflows with… │\n",
       "│ 11:00 ┆ Using Wikipedia as a language … ┆ Combining Python and Rust to c… │\n",
       "│ 14:00 ┆ Introduction to machine learni… ┆ Multi-dimensional arrays with … │\n",
       "│ 16:00 ┆ A hitchhiker's guide to contri… ┆ sktime - Python toolbox for ti… │\n",
       "└───────┴─────────────────────────────────┴─────────────────────────────────┘"
      ]
     },
     "execution_count": 8,
     "metadata": {},
     "output_type": "execute_result"
    }
   ],
   "source": [
    "schedule = pl.DataFrame(tutorials)\n",
    "schedule"
   ]
  },
  {
   "cell_type": "markdown",
   "id": "3d3905db",
   "metadata": {
    "tags": []
   },
   "source": [
    "What about the following DataFrame?"
   ]
  },
  {
   "cell_type": "code",
   "execution_count": 9,
   "id": "f82e5d8c",
   "metadata": {},
   "outputs": [
    {
     "data": {
      "text/html": [
       "<div><style>\n",
       ".dataframe > thead > tr,\n",
       ".dataframe > tbody > tr {\n",
       "  text-align: right;\n",
       "  white-space: pre-wrap;\n",
       "}\n",
       "</style>\n",
       "<small>shape: (2, 5)</small><table border=\"1\" class=\"dataframe\"><thead><tr><th>room</th><th>09:00</th><th>11:00</th><th>14:00</th><th>16:00</th></tr><tr><td>str</td><td>str</td><td>str</td><td>str</td><td>str</td></tr></thead><tbody><tr><td>&quot;room_6&quot;</td><td>&quot;Introduction to Polars: Fast a…</td><td>&quot;Using Wikipedia as a language …</td><td>&quot;Introduction to machine learni…</td><td>&quot;A hitchhiker&#x27;s guide to contri…</td></tr><tr><td>&quot;room_5&quot;</td><td>&quot;Building robust workflows with…</td><td>&quot;Combining Python and Rust to c…</td><td>&quot;Multi-dimensional arrays with …</td><td>&quot;sktime - Python toolbox for ti…</td></tr></tbody></table></div>"
      ],
      "text/plain": [
       "shape: (2, 5)\n",
       "┌────────┬─────────────────┬──────────────────────┬───────────────────┬─────────────────────────┐\n",
       "│ room   ┆ 09:00           ┆ 11:00                ┆ 14:00             ┆ 16:00                   │\n",
       "│ ---    ┆ ---             ┆ ---                  ┆ ---               ┆ ---                     │\n",
       "│ str    ┆ str             ┆ str                  ┆ str               ┆ str                     │\n",
       "╞════════╪═════════════════╪══════════════════════╪═══════════════════╪═════════════════════════╡\n",
       "│ room_6 ┆ Introduction to ┆ Using Wikipedia as a ┆ Introduction to   ┆ A hitchhiker's guide to │\n",
       "│        ┆ Polars: Fast a… ┆ language …           ┆ machine learni…   ┆ contri…                 │\n",
       "│ room_5 ┆ Building robust ┆ Combining Python and ┆ Multi-dimensional ┆ sktime - Python toolbox │\n",
       "│        ┆ workflows with… ┆ Rust to c…           ┆ arrays with …     ┆ for ti…                 │\n",
       "└────────┴─────────────────┴──────────────────────┴───────────────────┴─────────────────────────┘"
      ]
     },
     "execution_count": 9,
     "metadata": {},
     "output_type": "execute_result"
    }
   ],
   "source": [
    "schedule.transpose(include_header=True, header_name=\"room\", column_names=\"time\")"
   ]
  },
  {
   "cell_type": "markdown",
   "id": "9b7d4788",
   "metadata": {},
   "source": [
    "What are the variables in the dataset? Time slots, rooms, and tutorial titles. They should each be their own column. Tidy the dataset:"
   ]
  },
  {
   "cell_type": "code",
   "execution_count": 10,
   "id": "7a59c6ea",
   "metadata": {},
   "outputs": [
    {
     "data": {
      "text/html": [
       "<div><style>\n",
       ".dataframe > thead > tr,\n",
       ".dataframe > tbody > tr {\n",
       "  text-align: right;\n",
       "  white-space: pre-wrap;\n",
       "}\n",
       "</style>\n",
       "<small>shape: (8, 3)</small><table border=\"1\" class=\"dataframe\"><thead><tr><th>time</th><th>room</th><th>title</th></tr><tr><td>str</td><td>str</td><td>str</td></tr></thead><tbody><tr><td>&quot;09:00&quot;</td><td>&quot;room_5&quot;</td><td>&quot;Building robust workflows with…</td></tr><tr><td>&quot;09:00&quot;</td><td>&quot;room_6&quot;</td><td>&quot;Introduction to Polars: Fast a…</td></tr><tr><td>&quot;11:00&quot;</td><td>&quot;room_5&quot;</td><td>&quot;Combining Python and Rust to c…</td></tr><tr><td>&quot;11:00&quot;</td><td>&quot;room_6&quot;</td><td>&quot;Using Wikipedia as a language …</td></tr><tr><td>&quot;14:00&quot;</td><td>&quot;room_5&quot;</td><td>&quot;Multi-dimensional arrays with …</td></tr><tr><td>&quot;14:00&quot;</td><td>&quot;room_6&quot;</td><td>&quot;Introduction to machine learni…</td></tr><tr><td>&quot;16:00&quot;</td><td>&quot;room_5&quot;</td><td>&quot;sktime - Python toolbox for ti…</td></tr><tr><td>&quot;16:00&quot;</td><td>&quot;room_6&quot;</td><td>&quot;A hitchhiker&#x27;s guide to contri…</td></tr></tbody></table></div>"
      ],
      "text/plain": [
       "shape: (8, 3)\n",
       "┌───────┬────────┬─────────────────────────────────┐\n",
       "│ time  ┆ room   ┆ title                           │\n",
       "│ ---   ┆ ---    ┆ ---                             │\n",
       "│ str   ┆ str    ┆ str                             │\n",
       "╞═══════╪════════╪═════════════════════════════════╡\n",
       "│ 09:00 ┆ room_5 ┆ Building robust workflows with… │\n",
       "│ 09:00 ┆ room_6 ┆ Introduction to Polars: Fast a… │\n",
       "│ 11:00 ┆ room_5 ┆ Combining Python and Rust to c… │\n",
       "│ 11:00 ┆ room_6 ┆ Using Wikipedia as a language … │\n",
       "│ 14:00 ┆ room_5 ┆ Multi-dimensional arrays with … │\n",
       "│ 14:00 ┆ room_6 ┆ Introduction to machine learni… │\n",
       "│ 16:00 ┆ room_5 ┆ sktime - Python toolbox for ti… │\n",
       "│ 16:00 ┆ room_6 ┆ A hitchhiker's guide to contri… │\n",
       "└───────┴────────┴─────────────────────────────────┘"
      ]
     },
     "execution_count": 10,
     "metadata": {},
     "output_type": "execute_result"
    }
   ],
   "source": [
    "(\n",
    "    schedule.unpivot(index=\"time\", variable_name=\"room\", value_name=\"title\").sort(\n",
    "        by=[\"time\", \"room\"]\n",
    "    )\n",
    ")"
   ]
  },
  {
   "cell_type": "markdown",
   "id": "17cd10bf",
   "metadata": {},
   "source": [
    "Being conscious of tidy data lets you standardize your **data cleaning** and **analysis**:\n",
    "\n",
    "1. Tidy your data set\n",
    "2. Clean your data (e.g. check outliers, parse dates, impute missing values)\n",
    "3. Analyze\n",
    "4. Share and visualize\n",
    "\n",
    "**Note:** Datasets from Hadley Wickham's Tidy Data paper are at <https://github.com/hadley/tidy-data/tree/master/data>"
   ]
  },
  {
   "cell_type": "markdown",
   "id": "eab7ef75",
   "metadata": {},
   "source": [
    "## Manipulate DataFrames\n",
    "\n",
    "Polars DataFrames have many methods you can use to manipulate your data, and\n",
    "you'll explore some of them now. In a tidy workflow, you think about methods\n",
    "in different categories:\n",
    "\n",
    "- **Filter:** remove observations\n",
    "- **Transform:** add or modify variables based on existing variables\n",
    "- **Aggregate:** collapse multiple values into a single value\n",
    "- **Sort:** change the order of observations\n",
    "\n",
    "Polars uses the concept of **contexts** which map fairly nicely with the tidy categories:\n",
    "\n",
    "- **Selection**\n",
    "- **Filter**\n",
    "- **Group by / Aggregation**"
   ]
  },
  {
   "cell_type": "code",
   "execution_count": 11,
   "id": "29725a83",
   "metadata": {},
   "outputs": [
    {
     "data": {
      "text/html": [
       "<div><style>\n",
       ".dataframe > thead > tr,\n",
       ".dataframe > tbody > tr {\n",
       "  text-align: right;\n",
       "  white-space: pre-wrap;\n",
       "}\n",
       "</style>\n",
       "<small>shape: (16, 3)</small><table border=\"1\" class=\"dataframe\"><thead><tr><th>timestamp</th><th>room</th><th>title</th></tr><tr><td>datetime[μs]</td><td>i64</td><td>str</td></tr></thead><tbody><tr><td>2024-08-26 09:00:00</td><td>6</td><td>&quot;Introduction to Python&quot;</td></tr><tr><td>2024-08-26 09:00:00</td><td>5</td><td>&quot;What is the magic of magic met…</td></tr><tr><td>2024-08-26 11:00:00</td><td>6</td><td>&quot;Introduction to NumPy&quot;</td></tr><tr><td>2024-08-26 11:00:00</td><td>5</td><td>&quot;Decorators - A deep dive&quot;</td></tr><tr><td>2024-08-26 14:00:00</td><td>6</td><td>&quot;Introduction to matplotlib for…</td></tr><tr><td>&hellip;</td><td>&hellip;</td><td>&hellip;</td></tr><tr><td>2024-08-27 11:00:00</td><td>5</td><td>&quot;Combining Python and Rust to c…</td></tr><tr><td>2024-08-27 14:00:00</td><td>6</td><td>&quot;Introduction to machine learni…</td></tr><tr><td>2024-08-27 14:00:00</td><td>5</td><td>&quot;Multi-dimensional arrays with …</td></tr><tr><td>2024-08-27 16:00:00</td><td>6</td><td>&quot;A hitchhiker&#x27;s guide to contri…</td></tr><tr><td>2024-08-27 16:00:00</td><td>5</td><td>&quot;sktime - Python toolbox for ti…</td></tr></tbody></table></div>"
      ],
      "text/plain": [
       "shape: (16, 3)\n",
       "┌─────────────────────┬──────┬─────────────────────────────────┐\n",
       "│ timestamp           ┆ room ┆ title                           │\n",
       "│ ---                 ┆ ---  ┆ ---                             │\n",
       "│ datetime[μs]        ┆ i64  ┆ str                             │\n",
       "╞═════════════════════╪══════╪═════════════════════════════════╡\n",
       "│ 2024-08-26 09:00:00 ┆ 6    ┆ Introduction to Python          │\n",
       "│ 2024-08-26 09:00:00 ┆ 5    ┆ What is the magic of magic met… │\n",
       "│ 2024-08-26 11:00:00 ┆ 6    ┆ Introduction to NumPy           │\n",
       "│ 2024-08-26 11:00:00 ┆ 5    ┆ Decorators - A deep dive        │\n",
       "│ 2024-08-26 14:00:00 ┆ 6    ┆ Introduction to matplotlib for… │\n",
       "│ …                   ┆ …    ┆ …                               │\n",
       "│ 2024-08-27 11:00:00 ┆ 5    ┆ Combining Python and Rust to c… │\n",
       "│ 2024-08-27 14:00:00 ┆ 6    ┆ Introduction to machine learni… │\n",
       "│ 2024-08-27 14:00:00 ┆ 5    ┆ Multi-dimensional arrays with … │\n",
       "│ 2024-08-27 16:00:00 ┆ 6    ┆ A hitchhiker's guide to contri… │\n",
       "│ 2024-08-27 16:00:00 ┆ 5    ┆ sktime - Python toolbox for ti… │\n",
       "└─────────────────────┴──────┴─────────────────────────────────┘"
      ]
     },
     "execution_count": 11,
     "metadata": {},
     "output_type": "execute_result"
    }
   ],
   "source": [
    "schedule = pl.read_csv(\"data/schedule.csv\", try_parse_dates=True)\n",
    "schedule"
   ]
  },
  {
   "cell_type": "code",
   "execution_count": 12,
   "id": "c22587f7",
   "metadata": {},
   "outputs": [
    {
     "data": {
      "text/html": [
       "<div><style>\n",
       ".dataframe > thead > tr,\n",
       ".dataframe > tbody > tr {\n",
       "  text-align: right;\n",
       "  white-space: pre-wrap;\n",
       "}\n",
       "</style>\n",
       "<small>shape: (317, 5)</small><table border=\"1\" class=\"dataframe\"><thead><tr><th>id</th><th>artist</th><th>track</th><th>time</th><th>genre</th></tr><tr><td>i64</td><td>str</td><td>str</td><td>str</td><td>str</td></tr></thead><tbody><tr><td>0</td><td>&quot;Destiny&#x27;s Child&quot;</td><td>&quot;Independent Women Part I&quot;</td><td>&quot;3:38&quot;</td><td>&quot;Rock&quot;</td></tr><tr><td>1</td><td>&quot;Santana&quot;</td><td>&quot;Maria, Maria&quot;</td><td>&quot;4:18&quot;</td><td>&quot;Rock&quot;</td></tr><tr><td>2</td><td>&quot;Savage Garden&quot;</td><td>&quot;I Knew I Loved You&quot;</td><td>&quot;4:07&quot;</td><td>&quot;Rock&quot;</td></tr><tr><td>3</td><td>&quot;Madonna&quot;</td><td>&quot;Music&quot;</td><td>&quot;3:45&quot;</td><td>&quot;Rock&quot;</td></tr><tr><td>4</td><td>&quot;Aguilera, Christina&quot;</td><td>&quot;Come On Over Baby (All I Want …</td><td>&quot;3:38&quot;</td><td>&quot;Rock&quot;</td></tr><tr><td>&hellip;</td><td>&hellip;</td><td>&hellip;</td><td>&hellip;</td><td>&hellip;</td></tr><tr><td>312</td><td>&quot;Ghostface Killah&quot;</td><td>&quot;Cherchez LaGhost&quot;</td><td>&quot;3:04&quot;</td><td>&quot;R&amp;B&quot;</td></tr><tr><td>313</td><td>&quot;Smith, Will&quot;</td><td>&quot;Freakin&#x27; It&quot;</td><td>&quot;3:58&quot;</td><td>&quot;Rap&quot;</td></tr><tr><td>314</td><td>&quot;Zombie Nation&quot;</td><td>&quot;Kernkraft 400&quot;</td><td>&quot;3:30&quot;</td><td>&quot;Rock&quot;</td></tr><tr><td>315</td><td>&quot;Eastsidaz, The&quot;</td><td>&quot;Got Beef&quot;</td><td>&quot;3:58&quot;</td><td>&quot;Rap&quot;</td></tr><tr><td>316</td><td>&quot;Fragma&quot;</td><td>&quot;Toca&#x27;s Miracle&quot;</td><td>&quot;3:22&quot;</td><td>&quot;R&amp;B&quot;</td></tr></tbody></table></div>"
      ],
      "text/plain": [
       "shape: (317, 5)\n",
       "┌─────┬─────────────────────┬─────────────────────────────────┬──────┬───────┐\n",
       "│ id  ┆ artist              ┆ track                           ┆ time ┆ genre │\n",
       "│ --- ┆ ---                 ┆ ---                             ┆ ---  ┆ ---   │\n",
       "│ i64 ┆ str                 ┆ str                             ┆ str  ┆ str   │\n",
       "╞═════╪═════════════════════╪═════════════════════════════════╪══════╪═══════╡\n",
       "│ 0   ┆ Destiny's Child     ┆ Independent Women Part I        ┆ 3:38 ┆ Rock  │\n",
       "│ 1   ┆ Santana             ┆ Maria, Maria                    ┆ 4:18 ┆ Rock  │\n",
       "│ 2   ┆ Savage Garden       ┆ I Knew I Loved You              ┆ 4:07 ┆ Rock  │\n",
       "│ 3   ┆ Madonna             ┆ Music                           ┆ 3:45 ┆ Rock  │\n",
       "│ 4   ┆ Aguilera, Christina ┆ Come On Over Baby (All I Want … ┆ 3:38 ┆ Rock  │\n",
       "│ …   ┆ …                   ┆ …                               ┆ …    ┆ …     │\n",
       "│ 312 ┆ Ghostface Killah    ┆ Cherchez LaGhost                ┆ 3:04 ┆ R&B   │\n",
       "│ 313 ┆ Smith, Will         ┆ Freakin' It                     ┆ 3:58 ┆ Rap   │\n",
       "│ 314 ┆ Zombie Nation       ┆ Kernkraft 400                   ┆ 3:30 ┆ Rock  │\n",
       "│ 315 ┆ Eastsidaz, The      ┆ Got Beef                        ┆ 3:58 ┆ Rap   │\n",
       "│ 316 ┆ Fragma              ┆ Toca's Miracle                  ┆ 3:22 ┆ R&B   │\n",
       "└─────┴─────────────────────┴─────────────────────────────────┴──────┴───────┘"
      ]
     },
     "execution_count": 12,
     "metadata": {},
     "output_type": "execute_result"
    }
   ],
   "source": [
    "songs = pl.read_csv(\"data/billboard_songs.csv\")\n",
    "ranks = pl.read_csv(\"data/billboard_ranks.csv\", try_parse_dates=True)\n",
    "songs"
   ]
  },
  {
   "cell_type": "markdown",
   "id": "a63d16ee",
   "metadata": {},
   "source": [
    "### Filter"
   ]
  },
  {
   "cell_type": "code",
   "execution_count": 13,
   "id": "bf6d53ad",
   "metadata": {},
   "outputs": [
    {
     "data": {
      "text/html": [
       "<div><style>\n",
       ".dataframe > thead > tr,\n",
       ".dataframe > tbody > tr {\n",
       "  text-align: right;\n",
       "  white-space: pre-wrap;\n",
       "}\n",
       "</style>\n",
       "<small>shape: (317, 3)</small><table border=\"1\" class=\"dataframe\"><thead><tr><th>artist</th><th>track</th><th>time</th></tr><tr><td>str</td><td>str</td><td>str</td></tr></thead><tbody><tr><td>&quot;Destiny&#x27;s Child&quot;</td><td>&quot;Independent Women Part I&quot;</td><td>&quot;3:38&quot;</td></tr><tr><td>&quot;Santana&quot;</td><td>&quot;Maria, Maria&quot;</td><td>&quot;4:18&quot;</td></tr><tr><td>&quot;Savage Garden&quot;</td><td>&quot;I Knew I Loved You&quot;</td><td>&quot;4:07&quot;</td></tr><tr><td>&quot;Madonna&quot;</td><td>&quot;Music&quot;</td><td>&quot;3:45&quot;</td></tr><tr><td>&quot;Aguilera, Christina&quot;</td><td>&quot;Come On Over Baby (All I Want …</td><td>&quot;3:38&quot;</td></tr><tr><td>&hellip;</td><td>&hellip;</td><td>&hellip;</td></tr><tr><td>&quot;Ghostface Killah&quot;</td><td>&quot;Cherchez LaGhost&quot;</td><td>&quot;3:04&quot;</td></tr><tr><td>&quot;Smith, Will&quot;</td><td>&quot;Freakin&#x27; It&quot;</td><td>&quot;3:58&quot;</td></tr><tr><td>&quot;Zombie Nation&quot;</td><td>&quot;Kernkraft 400&quot;</td><td>&quot;3:30&quot;</td></tr><tr><td>&quot;Eastsidaz, The&quot;</td><td>&quot;Got Beef&quot;</td><td>&quot;3:58&quot;</td></tr><tr><td>&quot;Fragma&quot;</td><td>&quot;Toca&#x27;s Miracle&quot;</td><td>&quot;3:22&quot;</td></tr></tbody></table></div>"
      ],
      "text/plain": [
       "shape: (317, 3)\n",
       "┌─────────────────────┬─────────────────────────────────┬──────┐\n",
       "│ artist              ┆ track                           ┆ time │\n",
       "│ ---                 ┆ ---                             ┆ ---  │\n",
       "│ str                 ┆ str                             ┆ str  │\n",
       "╞═════════════════════╪═════════════════════════════════╪══════╡\n",
       "│ Destiny's Child     ┆ Independent Women Part I        ┆ 3:38 │\n",
       "│ Santana             ┆ Maria, Maria                    ┆ 4:18 │\n",
       "│ Savage Garden       ┆ I Knew I Loved You              ┆ 4:07 │\n",
       "│ Madonna             ┆ Music                           ┆ 3:45 │\n",
       "│ Aguilera, Christina ┆ Come On Over Baby (All I Want … ┆ 3:38 │\n",
       "│ …                   ┆ …                               ┆ …    │\n",
       "│ Ghostface Killah    ┆ Cherchez LaGhost                ┆ 3:04 │\n",
       "│ Smith, Will         ┆ Freakin' It                     ┆ 3:58 │\n",
       "│ Zombie Nation       ┆ Kernkraft 400                   ┆ 3:30 │\n",
       "│ Eastsidaz, The      ┆ Got Beef                        ┆ 3:58 │\n",
       "│ Fragma              ┆ Toca's Miracle                  ┆ 3:22 │\n",
       "└─────────────────────┴─────────────────────────────────┴──────┘"
      ]
     },
     "execution_count": 13,
     "metadata": {},
     "output_type": "execute_result"
    }
   ],
   "source": [
    "songs.select(pl.col(\"artist\", \"track\", \"time\"))"
   ]
  },
  {
   "cell_type": "code",
   "execution_count": 14,
   "id": "23a4c07e",
   "metadata": {},
   "outputs": [
    {
     "data": {
      "text/html": [
       "<div><style>\n",
       ".dataframe > thead > tr,\n",
       ".dataframe > tbody > tr {\n",
       "  text-align: right;\n",
       "  white-space: pre-wrap;\n",
       "}\n",
       "</style>\n",
       "<small>shape: (16, 2)</small><table border=\"1\" class=\"dataframe\"><thead><tr><th>timestamp</th><th>title</th></tr><tr><td>datetime[μs]</td><td>str</td></tr></thead><tbody><tr><td>2024-08-26 09:00:00</td><td>&quot;Introduction to Python&quot;</td></tr><tr><td>2024-08-26 09:00:00</td><td>&quot;What is the magic of magic met…</td></tr><tr><td>2024-08-26 11:00:00</td><td>&quot;Introduction to NumPy&quot;</td></tr><tr><td>2024-08-26 11:00:00</td><td>&quot;Decorators - A deep dive&quot;</td></tr><tr><td>2024-08-26 14:00:00</td><td>&quot;Introduction to matplotlib for…</td></tr><tr><td>&hellip;</td><td>&hellip;</td></tr><tr><td>2024-08-27 11:00:00</td><td>&quot;Combining Python and Rust to c…</td></tr><tr><td>2024-08-27 14:00:00</td><td>&quot;Introduction to machine learni…</td></tr><tr><td>2024-08-27 14:00:00</td><td>&quot;Multi-dimensional arrays with …</td></tr><tr><td>2024-08-27 16:00:00</td><td>&quot;A hitchhiker&#x27;s guide to contri…</td></tr><tr><td>2024-08-27 16:00:00</td><td>&quot;sktime - Python toolbox for ti…</td></tr></tbody></table></div>"
      ],
      "text/plain": [
       "shape: (16, 2)\n",
       "┌─────────────────────┬─────────────────────────────────┐\n",
       "│ timestamp           ┆ title                           │\n",
       "│ ---                 ┆ ---                             │\n",
       "│ datetime[μs]        ┆ str                             │\n",
       "╞═════════════════════╪═════════════════════════════════╡\n",
       "│ 2024-08-26 09:00:00 ┆ Introduction to Python          │\n",
       "│ 2024-08-26 09:00:00 ┆ What is the magic of magic met… │\n",
       "│ 2024-08-26 11:00:00 ┆ Introduction to NumPy           │\n",
       "│ 2024-08-26 11:00:00 ┆ Decorators - A deep dive        │\n",
       "│ 2024-08-26 14:00:00 ┆ Introduction to matplotlib for… │\n",
       "│ …                   ┆ …                               │\n",
       "│ 2024-08-27 11:00:00 ┆ Combining Python and Rust to c… │\n",
       "│ 2024-08-27 14:00:00 ┆ Introduction to machine learni… │\n",
       "│ 2024-08-27 14:00:00 ┆ Multi-dimensional arrays with … │\n",
       "│ 2024-08-27 16:00:00 ┆ A hitchhiker's guide to contri… │\n",
       "│ 2024-08-27 16:00:00 ┆ sktime - Python toolbox for ti… │\n",
       "└─────────────────────┴─────────────────────────────────┘"
      ]
     },
     "execution_count": 14,
     "metadata": {},
     "output_type": "execute_result"
    }
   ],
   "source": [
    "schedule.select(pl.col(\"timestamp\", \"title\"))"
   ]
  },
  {
   "cell_type": "code",
   "execution_count": 15,
   "id": "66bbca8c",
   "metadata": {},
   "outputs": [
    {
     "data": {
      "text/html": [
       "<div><style>\n",
       ".dataframe > thead > tr,\n",
       ".dataframe > tbody > tr {\n",
       "  text-align: right;\n",
       "  white-space: pre-wrap;\n",
       "}\n",
       "</style>\n",
       "<small>shape: (16, 2)</small><table border=\"1\" class=\"dataframe\"><thead><tr><th>timestamp</th><th>title</th></tr><tr><td>datetime[μs]</td><td>str</td></tr></thead><tbody><tr><td>2024-08-26 09:00:00</td><td>&quot;Introduction to Python&quot;</td></tr><tr><td>2024-08-26 09:00:00</td><td>&quot;What is the magic of magic met…</td></tr><tr><td>2024-08-26 11:00:00</td><td>&quot;Introduction to NumPy&quot;</td></tr><tr><td>2024-08-26 11:00:00</td><td>&quot;Decorators - A deep dive&quot;</td></tr><tr><td>2024-08-26 14:00:00</td><td>&quot;Introduction to matplotlib for…</td></tr><tr><td>&hellip;</td><td>&hellip;</td></tr><tr><td>2024-08-27 11:00:00</td><td>&quot;Combining Python and Rust to c…</td></tr><tr><td>2024-08-27 14:00:00</td><td>&quot;Introduction to machine learni…</td></tr><tr><td>2024-08-27 14:00:00</td><td>&quot;Multi-dimensional arrays with …</td></tr><tr><td>2024-08-27 16:00:00</td><td>&quot;A hitchhiker&#x27;s guide to contri…</td></tr><tr><td>2024-08-27 16:00:00</td><td>&quot;sktime - Python toolbox for ti…</td></tr></tbody></table></div>"
      ],
      "text/plain": [
       "shape: (16, 2)\n",
       "┌─────────────────────┬─────────────────────────────────┐\n",
       "│ timestamp           ┆ title                           │\n",
       "│ ---                 ┆ ---                             │\n",
       "│ datetime[μs]        ┆ str                             │\n",
       "╞═════════════════════╪═════════════════════════════════╡\n",
       "│ 2024-08-26 09:00:00 ┆ Introduction to Python          │\n",
       "│ 2024-08-26 09:00:00 ┆ What is the magic of magic met… │\n",
       "│ 2024-08-26 11:00:00 ┆ Introduction to NumPy           │\n",
       "│ 2024-08-26 11:00:00 ┆ Decorators - A deep dive        │\n",
       "│ 2024-08-26 14:00:00 ┆ Introduction to matplotlib for… │\n",
       "│ …                   ┆ …                               │\n",
       "│ 2024-08-27 11:00:00 ┆ Combining Python and Rust to c… │\n",
       "│ 2024-08-27 14:00:00 ┆ Introduction to machine learni… │\n",
       "│ 2024-08-27 14:00:00 ┆ Multi-dimensional arrays with … │\n",
       "│ 2024-08-27 16:00:00 ┆ A hitchhiker's guide to contri… │\n",
       "│ 2024-08-27 16:00:00 ┆ sktime - Python toolbox for ti… │\n",
       "└─────────────────────┴─────────────────────────────────┘"
      ]
     },
     "execution_count": 15,
     "metadata": {},
     "output_type": "execute_result"
    }
   ],
   "source": [
    "schedule.select(pl.all().exclude(\"room\"))"
   ]
  },
  {
   "cell_type": "code",
   "execution_count": 16,
   "id": "392ced92",
   "metadata": {},
   "outputs": [
    {
     "data": {
      "text/html": [
       "<div><style>\n",
       ".dataframe > thead > tr,\n",
       ".dataframe > tbody > tr {\n",
       "  text-align: right;\n",
       "  white-space: pre-wrap;\n",
       "}\n",
       "</style>\n",
       "<small>shape: (8, 3)</small><table border=\"1\" class=\"dataframe\"><thead><tr><th>timestamp</th><th>room</th><th>title</th></tr><tr><td>datetime[μs]</td><td>i64</td><td>str</td></tr></thead><tbody><tr><td>2024-08-26 09:00:00</td><td>5</td><td>&quot;What is the magic of magic met…</td></tr><tr><td>2024-08-26 11:00:00</td><td>5</td><td>&quot;Decorators - A deep dive&quot;</td></tr><tr><td>2024-08-26 14:00:00</td><td>5</td><td>&quot;Probabilistic classification a…</td></tr><tr><td>2024-08-26 16:00:00</td><td>5</td><td>&quot;Using the Array API to write c…</td></tr><tr><td>2024-08-27 09:00:00</td><td>5</td><td>&quot;Building robust workflows with…</td></tr><tr><td>2024-08-27 11:00:00</td><td>5</td><td>&quot;Combining Python and Rust to c…</td></tr><tr><td>2024-08-27 14:00:00</td><td>5</td><td>&quot;Multi-dimensional arrays with …</td></tr><tr><td>2024-08-27 16:00:00</td><td>5</td><td>&quot;sktime - Python toolbox for ti…</td></tr></tbody></table></div>"
      ],
      "text/plain": [
       "shape: (8, 3)\n",
       "┌─────────────────────┬──────┬─────────────────────────────────┐\n",
       "│ timestamp           ┆ room ┆ title                           │\n",
       "│ ---                 ┆ ---  ┆ ---                             │\n",
       "│ datetime[μs]        ┆ i64  ┆ str                             │\n",
       "╞═════════════════════╪══════╪═════════════════════════════════╡\n",
       "│ 2024-08-26 09:00:00 ┆ 5    ┆ What is the magic of magic met… │\n",
       "│ 2024-08-26 11:00:00 ┆ 5    ┆ Decorators - A deep dive        │\n",
       "│ 2024-08-26 14:00:00 ┆ 5    ┆ Probabilistic classification a… │\n",
       "│ 2024-08-26 16:00:00 ┆ 5    ┆ Using the Array API to write c… │\n",
       "│ 2024-08-27 09:00:00 ┆ 5    ┆ Building robust workflows with… │\n",
       "│ 2024-08-27 11:00:00 ┆ 5    ┆ Combining Python and Rust to c… │\n",
       "│ 2024-08-27 14:00:00 ┆ 5    ┆ Multi-dimensional arrays with … │\n",
       "│ 2024-08-27 16:00:00 ┆ 5    ┆ sktime - Python toolbox for ti… │\n",
       "└─────────────────────┴──────┴─────────────────────────────────┘"
      ]
     },
     "execution_count": 16,
     "metadata": {},
     "output_type": "execute_result"
    }
   ],
   "source": [
    "schedule.filter(pl.col(\"room\") == 5)"
   ]
  },
  {
   "cell_type": "code",
   "execution_count": 17,
   "id": "981cca1a",
   "metadata": {},
   "outputs": [
    {
     "data": {
      "text/html": [
       "<div><style>\n",
       ".dataframe > thead > tr,\n",
       ".dataframe > tbody > tr {\n",
       "  text-align: right;\n",
       "  white-space: pre-wrap;\n",
       "}\n",
       "</style>\n",
       "<small>shape: (4, 3)</small><table border=\"1\" class=\"dataframe\"><thead><tr><th>timestamp</th><th>room</th><th>title</th></tr><tr><td>datetime[μs]</td><td>i64</td><td>str</td></tr></thead><tbody><tr><td>2024-08-26 11:00:00</td><td>6</td><td>&quot;Introduction to NumPy&quot;</td></tr><tr><td>2024-08-26 11:00:00</td><td>5</td><td>&quot;Decorators - A deep dive&quot;</td></tr><tr><td>2024-08-27 11:00:00</td><td>6</td><td>&quot;Using Wikipedia as a language …</td></tr><tr><td>2024-08-27 11:00:00</td><td>5</td><td>&quot;Combining Python and Rust to c…</td></tr></tbody></table></div>"
      ],
      "text/plain": [
       "shape: (4, 3)\n",
       "┌─────────────────────┬──────┬─────────────────────────────────┐\n",
       "│ timestamp           ┆ room ┆ title                           │\n",
       "│ ---                 ┆ ---  ┆ ---                             │\n",
       "│ datetime[μs]        ┆ i64  ┆ str                             │\n",
       "╞═════════════════════╪══════╪═════════════════════════════════╡\n",
       "│ 2024-08-26 11:00:00 ┆ 6    ┆ Introduction to NumPy           │\n",
       "│ 2024-08-26 11:00:00 ┆ 5    ┆ Decorators - A deep dive        │\n",
       "│ 2024-08-27 11:00:00 ┆ 6    ┆ Using Wikipedia as a language … │\n",
       "│ 2024-08-27 11:00:00 ┆ 5    ┆ Combining Python and Rust to c… │\n",
       "└─────────────────────┴──────┴─────────────────────────────────┘"
      ]
     },
     "execution_count": 17,
     "metadata": {},
     "output_type": "execute_result"
    }
   ],
   "source": [
    "schedule.filter(pl.col(\"timestamp\").dt.hour() == 11)"
   ]
  },
  {
   "cell_type": "code",
   "execution_count": 18,
   "id": "55178a7e",
   "metadata": {},
   "outputs": [
    {
     "data": {
      "text/html": [
       "<div><style>\n",
       ".dataframe > thead > tr,\n",
       ".dataframe > tbody > tr {\n",
       "  text-align: right;\n",
       "  white-space: pre-wrap;\n",
       "}\n",
       "</style>\n",
       "<small>shape: (5, 3)</small><table border=\"1\" class=\"dataframe\"><thead><tr><th>timestamp</th><th>room</th><th>title</th></tr><tr><td>datetime[μs]</td><td>i64</td><td>str</td></tr></thead><tbody><tr><td>2024-08-26 09:00:00</td><td>6</td><td>&quot;Introduction to Python&quot;</td></tr><tr><td>2024-08-26 11:00:00</td><td>6</td><td>&quot;Introduction to NumPy&quot;</td></tr><tr><td>2024-08-26 14:00:00</td><td>6</td><td>&quot;Introduction to matplotlib for…</td></tr><tr><td>2024-08-27 09:00:00</td><td>6</td><td>&quot;Introduction to Polars: Fast a…</td></tr><tr><td>2024-08-27 14:00:00</td><td>6</td><td>&quot;Introduction to machine learni…</td></tr></tbody></table></div>"
      ],
      "text/plain": [
       "shape: (5, 3)\n",
       "┌─────────────────────┬──────┬─────────────────────────────────┐\n",
       "│ timestamp           ┆ room ┆ title                           │\n",
       "│ ---                 ┆ ---  ┆ ---                             │\n",
       "│ datetime[μs]        ┆ i64  ┆ str                             │\n",
       "╞═════════════════════╪══════╪═════════════════════════════════╡\n",
       "│ 2024-08-26 09:00:00 ┆ 6    ┆ Introduction to Python          │\n",
       "│ 2024-08-26 11:00:00 ┆ 6    ┆ Introduction to NumPy           │\n",
       "│ 2024-08-26 14:00:00 ┆ 6    ┆ Introduction to matplotlib for… │\n",
       "│ 2024-08-27 09:00:00 ┆ 6    ┆ Introduction to Polars: Fast a… │\n",
       "│ 2024-08-27 14:00:00 ┆ 6    ┆ Introduction to machine learni… │\n",
       "└─────────────────────┴──────┴─────────────────────────────────┘"
      ]
     },
     "execution_count": 18,
     "metadata": {},
     "output_type": "execute_result"
    }
   ],
   "source": [
    "schedule.filter(pl.col(\"title\").str.starts_with(\"Intro\"))"
   ]
  },
  {
   "cell_type": "code",
   "execution_count": 19,
   "id": "5e41efda",
   "metadata": {},
   "outputs": [
    {
     "data": {
      "text/html": [
       "<div><style>\n",
       ".dataframe > thead > tr,\n",
       ".dataframe > tbody > tr {\n",
       "  text-align: right;\n",
       "  white-space: pre-wrap;\n",
       "}\n",
       "</style>\n",
       "<small>shape: (3, 3)</small><table border=\"1\" class=\"dataframe\"><thead><tr><th>timestamp</th><th>room</th><th>title</th></tr><tr><td>datetime[μs]</td><td>i64</td><td>str</td></tr></thead><tbody><tr><td>2024-08-26 14:00:00</td><td>5</td><td>&quot;Probabilistic classification a…</td></tr><tr><td>2024-08-26 16:00:00</td><td>6</td><td>&quot;Image Analysis in Python with …</td></tr><tr><td>2024-08-27 14:00:00</td><td>6</td><td>&quot;Introduction to machine learni…</td></tr></tbody></table></div>"
      ],
      "text/plain": [
       "shape: (3, 3)\n",
       "┌─────────────────────┬──────┬─────────────────────────────────┐\n",
       "│ timestamp           ┆ room ┆ title                           │\n",
       "│ ---                 ┆ ---  ┆ ---                             │\n",
       "│ datetime[μs]        ┆ i64  ┆ str                             │\n",
       "╞═════════════════════╪══════╪═════════════════════════════════╡\n",
       "│ 2024-08-26 14:00:00 ┆ 5    ┆ Probabilistic classification a… │\n",
       "│ 2024-08-26 16:00:00 ┆ 6    ┆ Image Analysis in Python with … │\n",
       "│ 2024-08-27 14:00:00 ┆ 6    ┆ Introduction to machine learni… │\n",
       "└─────────────────────┴──────┴─────────────────────────────────┘"
      ]
     },
     "execution_count": 19,
     "metadata": {},
     "output_type": "execute_result"
    }
   ],
   "source": [
    "schedule.filter(pl.col(\"title\").str.contains(\"scikit\"))"
   ]
  },
  {
   "cell_type": "code",
   "execution_count": 20,
   "id": "30ffa008",
   "metadata": {},
   "outputs": [
    {
     "data": {
      "text/html": [
       "<div><style>\n",
       ".dataframe > thead > tr,\n",
       ".dataframe > tbody > tr {\n",
       "  text-align: right;\n",
       "  white-space: pre-wrap;\n",
       "}\n",
       "</style>\n",
       "<small>shape: (5, 2)</small><table border=\"1\" class=\"dataframe\"><thead><tr><th>track</th><th>time</th></tr><tr><td>str</td><td>str</td></tr></thead><tbody><tr><td>&quot;I Just Wanna Love U (Give It 2…</td><td>&quot;3:50&quot;</td></tr><tr><td>&quot;Big Pimpin&#x27;&quot;</td><td>&quot;3:55&quot;</td></tr><tr><td>&quot;Anything&quot;</td><td>&quot;3:41&quot;</td></tr><tr><td>&quot;Do It Again (Put Ya Hands Up)&quot;</td><td>&quot;3:47&quot;</td></tr><tr><td>&quot;Hey Papi&quot;</td><td>&quot;3:40&quot;</td></tr></tbody></table></div>"
      ],
      "text/plain": [
       "shape: (5, 2)\n",
       "┌─────────────────────────────────┬──────┐\n",
       "│ track                           ┆ time │\n",
       "│ ---                             ┆ ---  │\n",
       "│ str                             ┆ str  │\n",
       "╞═════════════════════════════════╪══════╡\n",
       "│ I Just Wanna Love U (Give It 2… ┆ 3:50 │\n",
       "│ Big Pimpin'                     ┆ 3:55 │\n",
       "│ Anything                        ┆ 3:41 │\n",
       "│ Do It Again (Put Ya Hands Up)   ┆ 3:47 │\n",
       "│ Hey Papi                        ┆ 3:40 │\n",
       "└─────────────────────────────────┴──────┘"
      ]
     },
     "execution_count": 20,
     "metadata": {},
     "output_type": "execute_result"
    }
   ],
   "source": [
    "songs.filter(pl.col(\"artist\") == \"Jay-Z\").select(pl.col(\"track\", \"time\"))"
   ]
  },
  {
   "cell_type": "code",
   "execution_count": 21,
   "id": "22e9ec7e",
   "metadata": {},
   "outputs": [
    {
     "data": {
      "text/html": [
       "<div><style>\n",
       ".dataframe > thead > tr,\n",
       ".dataframe > tbody > tr {\n",
       "  text-align: right;\n",
       "  white-space: pre-wrap;\n",
       "}\n",
       "</style>\n",
       "<small>shape: (5_307, 2)</small><table border=\"1\" class=\"dataframe\"><thead><tr><th>id</th><th>rank</th></tr><tr><td>i64</td><td>i64</td></tr></thead><tbody><tr><td>0</td><td>78</td></tr><tr><td>0</td><td>63</td></tr><tr><td>0</td><td>49</td></tr><tr><td>0</td><td>33</td></tr><tr><td>0</td><td>23</td></tr><tr><td>&hellip;</td><td>&hellip;</td></tr><tr><td>314</td><td>99</td></tr><tr><td>314</td><td>99</td></tr><tr><td>315</td><td>99</td></tr><tr><td>315</td><td>99</td></tr><tr><td>316</td><td>99</td></tr></tbody></table></div>"
      ],
      "text/plain": [
       "shape: (5_307, 2)\n",
       "┌─────┬──────┐\n",
       "│ id  ┆ rank │\n",
       "│ --- ┆ ---  │\n",
       "│ i64 ┆ i64  │\n",
       "╞═════╪══════╡\n",
       "│ 0   ┆ 78   │\n",
       "│ 0   ┆ 63   │\n",
       "│ 0   ┆ 49   │\n",
       "│ 0   ┆ 33   │\n",
       "│ 0   ┆ 23   │\n",
       "│ …   ┆ …    │\n",
       "│ 314 ┆ 99   │\n",
       "│ 314 ┆ 99   │\n",
       "│ 315 ┆ 99   │\n",
       "│ 315 ┆ 99   │\n",
       "│ 316 ┆ 99   │\n",
       "└─────┴──────┘"
      ]
     },
     "execution_count": 21,
     "metadata": {},
     "output_type": "execute_result"
    }
   ],
   "source": [
    "ranks.select(pl.col(pl.Int64))"
   ]
  },
  {
   "cell_type": "markdown",
   "id": "133d8aae",
   "metadata": {},
   "source": [
    "### Aggregate"
   ]
  },
  {
   "cell_type": "code",
   "execution_count": 22,
   "id": "7330e0fe",
   "metadata": {},
   "outputs": [
    {
     "data": {
      "text/html": [
       "<div><style>\n",
       ".dataframe > thead > tr,\n",
       ".dataframe > tbody > tr {\n",
       "  text-align: right;\n",
       "  white-space: pre-wrap;\n",
       "}\n",
       "</style>\n",
       "<small>shape: (1, 3)</small><table border=\"1\" class=\"dataframe\"><thead><tr><th>id</th><th>date</th><th>rank</th></tr><tr><td>i64</td><td>date</td><td>i64</td></tr></thead><tbody><tr><td>633989</td><td>null</td><td>270935</td></tr></tbody></table></div>"
      ],
      "text/plain": [
       "shape: (1, 3)\n",
       "┌────────┬──────┬────────┐\n",
       "│ id     ┆ date ┆ rank   │\n",
       "│ ---    ┆ ---  ┆ ---    │\n",
       "│ i64    ┆ date ┆ i64    │\n",
       "╞════════╪══════╪════════╡\n",
       "│ 633989 ┆ null ┆ 270935 │\n",
       "└────────┴──────┴────────┘"
      ]
     },
     "execution_count": 22,
     "metadata": {},
     "output_type": "execute_result"
    }
   ],
   "source": [
    "ranks.sum()"
   ]
  },
  {
   "cell_type": "code",
   "execution_count": 23,
   "id": "f69bca6e",
   "metadata": {},
   "outputs": [
    {
     "data": {
      "text/html": [
       "<div><style>\n",
       ".dataframe > thead > tr,\n",
       ".dataframe > tbody > tr {\n",
       "  text-align: right;\n",
       "  white-space: pre-wrap;\n",
       "}\n",
       "</style>\n",
       "<small>shape: (1, 2)</small><table border=\"1\" class=\"dataframe\"><thead><tr><th>id</th><th>rank</th></tr><tr><td>f64</td><td>f64</td></tr></thead><tbody><tr><td>119.462785</td><td>51.052384</td></tr></tbody></table></div>"
      ],
      "text/plain": [
       "shape: (1, 2)\n",
       "┌────────────┬───────────┐\n",
       "│ id         ┆ rank      │\n",
       "│ ---        ┆ ---       │\n",
       "│ f64        ┆ f64       │\n",
       "╞════════════╪═══════════╡\n",
       "│ 119.462785 ┆ 51.052384 │\n",
       "└────────────┴───────────┘"
      ]
     },
     "execution_count": 23,
     "metadata": {},
     "output_type": "execute_result"
    }
   ],
   "source": [
    "ranks.select(pl.col(pl.Int64)).mean()"
   ]
  },
  {
   "cell_type": "code",
   "execution_count": 24,
   "id": "2512acc9",
   "metadata": {},
   "outputs": [
    {
     "data": {
      "text/html": [
       "<div><style>\n",
       ".dataframe > thead > tr,\n",
       ".dataframe > tbody > tr {\n",
       "  text-align: right;\n",
       "  white-space: pre-wrap;\n",
       "}\n",
       "</style>\n",
       "<small>shape: (317, 2)</small><table border=\"1\" class=\"dataframe\"><thead><tr><th>id</th><th>len</th></tr><tr><td>i64</td><td>u32</td></tr></thead><tbody><tr><td>3</td><td>24</td></tr><tr><td>304</td><td>5</td></tr><tr><td>137</td><td>15</td></tr><tr><td>271</td><td>1</td></tr><tr><td>36</td><td>27</td></tr><tr><td>&hellip;</td><td>&hellip;</td></tr><tr><td>232</td><td>5</td></tr><tr><td>220</td><td>15</td></tr><tr><td>256</td><td>15</td></tr><tr><td>119</td><td>20</td></tr><tr><td>113</td><td>20</td></tr></tbody></table></div>"
      ],
      "text/plain": [
       "shape: (317, 2)\n",
       "┌─────┬─────┐\n",
       "│ id  ┆ len │\n",
       "│ --- ┆ --- │\n",
       "│ i64 ┆ u32 │\n",
       "╞═════╪═════╡\n",
       "│ 3   ┆ 24  │\n",
       "│ 304 ┆ 5   │\n",
       "│ 137 ┆ 15  │\n",
       "│ 271 ┆ 1   │\n",
       "│ 36  ┆ 27  │\n",
       "│ …   ┆ …   │\n",
       "│ 232 ┆ 5   │\n",
       "│ 220 ┆ 15  │\n",
       "│ 256 ┆ 15  │\n",
       "│ 119 ┆ 20  │\n",
       "│ 113 ┆ 20  │\n",
       "└─────┴─────┘"
      ]
     },
     "execution_count": 24,
     "metadata": {},
     "output_type": "execute_result"
    }
   ],
   "source": [
    "ranks.group_by(\"id\").agg(pl.len())  #.sort(by=pl.col(\"len\"), descending=True)"
   ]
  },
  {
   "cell_type": "code",
   "execution_count": 25,
   "id": "fcc22f44",
   "metadata": {},
   "outputs": [
    {
     "data": {
      "text/html": [
       "<div><style>\n",
       ".dataframe > thead > tr,\n",
       ".dataframe > tbody > tr {\n",
       "  text-align: right;\n",
       "  white-space: pre-wrap;\n",
       "}\n",
       "</style>\n",
       "<small>shape: (317, 3)</small><table border=\"1\" class=\"dataframe\"><thead><tr><th>id</th><th>date</th><th>rank</th></tr><tr><td>i64</td><td>date</td><td>i64</td></tr></thead><tbody><tr><td>45</td><td>2000-03-04</td><td>25</td></tr><tr><td>9</td><td>1999-06-05</td><td>81</td></tr><tr><td>310</td><td>2000-08-12</td><td>99</td></tr><tr><td>268</td><td>2000-01-22</td><td>80</td></tr><tr><td>170</td><td>2000-11-25</td><td>77</td></tr><tr><td>&hellip;</td><td>&hellip;</td><td>&hellip;</td></tr><tr><td>244</td><td>2000-09-09</td><td>82</td></tr><tr><td>116</td><td>2000-01-15</td><td>70</td></tr><tr><td>110</td><td>2000-02-19</td><td>69</td></tr><tr><td>238</td><td>2000-09-16</td><td>82</td></tr><tr><td>89</td><td>2000-04-29</td><td>62</td></tr></tbody></table></div>"
      ],
      "text/plain": [
       "shape: (317, 3)\n",
       "┌─────┬────────────┬──────┐\n",
       "│ id  ┆ date       ┆ rank │\n",
       "│ --- ┆ ---        ┆ ---  │\n",
       "│ i64 ┆ date       ┆ i64  │\n",
       "╞═════╪════════════╪══════╡\n",
       "│ 45  ┆ 2000-03-04 ┆ 25   │\n",
       "│ 9   ┆ 1999-06-05 ┆ 81   │\n",
       "│ 310 ┆ 2000-08-12 ┆ 99   │\n",
       "│ 268 ┆ 2000-01-22 ┆ 80   │\n",
       "│ 170 ┆ 2000-11-25 ┆ 77   │\n",
       "│ …   ┆ …          ┆ …    │\n",
       "│ 244 ┆ 2000-09-09 ┆ 82   │\n",
       "│ 116 ┆ 2000-01-15 ┆ 70   │\n",
       "│ 110 ┆ 2000-02-19 ┆ 69   │\n",
       "│ 238 ┆ 2000-09-16 ┆ 82   │\n",
       "│ 89  ┆ 2000-04-29 ┆ 62   │\n",
       "└─────┴────────────┴──────┘"
      ]
     },
     "execution_count": 25,
     "metadata": {},
     "output_type": "execute_result"
    }
   ],
   "source": [
    "ranks.group_by(\"id\").agg(pl.first(\"date\", \"rank\"))"
   ]
  },
  {
   "cell_type": "code",
   "execution_count": 26,
   "id": "4b00a38f",
   "metadata": {},
   "outputs": [
    {
     "data": {
      "text/html": [
       "<div><style>\n",
       ".dataframe > thead > tr,\n",
       ".dataframe > tbody > tr {\n",
       "  text-align: right;\n",
       "  white-space: pre-wrap;\n",
       "}\n",
       "</style>\n",
       "<small>shape: (317, 3)</small><table border=\"1\" class=\"dataframe\"><thead><tr><th>id</th><th>date</th><th>rank</th></tr><tr><td>i64</td><td>date</td><td>i64</td></tr></thead><tbody><tr><td>30</td><td>2000-01-29</td><td>4</td></tr><tr><td>298</td><td>2000-05-13</td><td>91</td></tr><tr><td>301</td><td>2000-04-01</td><td>92</td></tr><tr><td>18</td><td>2000-08-19</td><td>2</td></tr><tr><td>27</td><td>1999-09-04</td><td>4</td></tr><tr><td>&hellip;</td><td>&hellip;</td><td>&hellip;</td></tr><tr><td>235</td><td>2000-09-02</td><td>69</td></tr><tr><td>259</td><td>2000-12-16</td><td>75</td></tr><tr><td>232</td><td>2000-12-02</td><td>68</td></tr><tr><td>256</td><td>2000-04-22</td><td>75</td></tr><tr><td>220</td><td>1999-11-13</td><td>63</td></tr></tbody></table></div>"
      ],
      "text/plain": [
       "shape: (317, 3)\n",
       "┌─────┬────────────┬──────┐\n",
       "│ id  ┆ date       ┆ rank │\n",
       "│ --- ┆ ---        ┆ ---  │\n",
       "│ i64 ┆ date       ┆ i64  │\n",
       "╞═════╪════════════╪══════╡\n",
       "│ 30  ┆ 2000-01-29 ┆ 4    │\n",
       "│ 298 ┆ 2000-05-13 ┆ 91   │\n",
       "│ 301 ┆ 2000-04-01 ┆ 92   │\n",
       "│ 18  ┆ 2000-08-19 ┆ 2    │\n",
       "│ 27  ┆ 1999-09-04 ┆ 4    │\n",
       "│ …   ┆ …          ┆ …    │\n",
       "│ 235 ┆ 2000-09-02 ┆ 69   │\n",
       "│ 259 ┆ 2000-12-16 ┆ 75   │\n",
       "│ 232 ┆ 2000-12-02 ┆ 68   │\n",
       "│ 256 ┆ 2000-04-22 ┆ 75   │\n",
       "│ 220 ┆ 1999-11-13 ┆ 63   │\n",
       "└─────┴────────────┴──────┘"
      ]
     },
     "execution_count": 26,
     "metadata": {},
     "output_type": "execute_result"
    }
   ],
   "source": [
    "ranks.group_by(\"id\").agg(pl.first(\"date\"), pl.min(\"rank\"))"
   ]
  },
  {
   "cell_type": "code",
   "execution_count": 27,
   "id": "a1cdc2b8",
   "metadata": {},
   "outputs": [
    {
     "data": {
      "text/html": [
       "<div><style>\n",
       ".dataframe > thead > tr,\n",
       ".dataframe > tbody > tr {\n",
       "  text-align: right;\n",
       "  white-space: pre-wrap;\n",
       "}\n",
       "</style>\n",
       "<small>shape: (317, 3)</small><table border=\"1\" class=\"dataframe\"><thead><tr><th>id</th><th>date_entered</th><th>best_rank</th></tr><tr><td>i64</td><td>date</td><td>i64</td></tr></thead><tbody><tr><td>21</td><td>2000-02-26</td><td>2</td></tr><tr><td>268</td><td>2000-01-22</td><td>76</td></tr><tr><td>304</td><td>2000-07-08</td><td>95</td></tr><tr><td>39</td><td>2000-01-01</td><td>6</td></tr><tr><td>155</td><td>2000-04-15</td><td>40</td></tr><tr><td>&hellip;</td><td>&hellip;</td><td>&hellip;</td></tr><tr><td>223</td><td>2000-03-04</td><td>64</td></tr><tr><td>119</td><td>2000-10-14</td><td>29</td></tr><tr><td>238</td><td>2000-09-16</td><td>70</td></tr><tr><td>89</td><td>2000-04-29</td><td>23</td></tr><tr><td>259</td><td>2000-12-16</td><td>75</td></tr></tbody></table></div>"
      ],
      "text/plain": [
       "shape: (317, 3)\n",
       "┌─────┬──────────────┬───────────┐\n",
       "│ id  ┆ date_entered ┆ best_rank │\n",
       "│ --- ┆ ---          ┆ ---       │\n",
       "│ i64 ┆ date         ┆ i64       │\n",
       "╞═════╪══════════════╪═══════════╡\n",
       "│ 21  ┆ 2000-02-26   ┆ 2         │\n",
       "│ 268 ┆ 2000-01-22   ┆ 76        │\n",
       "│ 304 ┆ 2000-07-08   ┆ 95        │\n",
       "│ 39  ┆ 2000-01-01   ┆ 6         │\n",
       "│ 155 ┆ 2000-04-15   ┆ 40        │\n",
       "│ …   ┆ …            ┆ …         │\n",
       "│ 223 ┆ 2000-03-04   ┆ 64        │\n",
       "│ 119 ┆ 2000-10-14   ┆ 29        │\n",
       "│ 238 ┆ 2000-09-16   ┆ 70        │\n",
       "│ 89  ┆ 2000-04-29   ┆ 23        │\n",
       "│ 259 ┆ 2000-12-16   ┆ 75        │\n",
       "└─────┴──────────────┴───────────┘"
      ]
     },
     "execution_count": 27,
     "metadata": {},
     "output_type": "execute_result"
    }
   ],
   "source": [
    "ranks.group_by(\"id\").agg(\n",
    "    pl.first(\"date\").alias(\"date_entered\"), pl.min(\"rank\").alias(\"best_rank\")\n",
    ")"
   ]
  },
  {
   "cell_type": "code",
   "execution_count": 28,
   "id": "2efe34bc",
   "metadata": {},
   "outputs": [
    {
     "data": {
      "text/html": [
       "<div><style>\n",
       ".dataframe > thead > tr,\n",
       ".dataframe > tbody > tr {\n",
       "  text-align: right;\n",
       "  white-space: pre-wrap;\n",
       "}\n",
       "</style>\n",
       "<small>shape: (5_307, 7)</small><table border=\"1\" class=\"dataframe\"><thead><tr><th>id</th><th>artist</th><th>track</th><th>time</th><th>genre</th><th>date</th><th>rank</th></tr><tr><td>i64</td><td>str</td><td>str</td><td>str</td><td>str</td><td>date</td><td>i64</td></tr></thead><tbody><tr><td>0</td><td>&quot;Destiny&#x27;s Child&quot;</td><td>&quot;Independent Women Part I&quot;</td><td>&quot;3:38&quot;</td><td>&quot;Rock&quot;</td><td>2000-09-23</td><td>78</td></tr><tr><td>0</td><td>&quot;Destiny&#x27;s Child&quot;</td><td>&quot;Independent Women Part I&quot;</td><td>&quot;3:38&quot;</td><td>&quot;Rock&quot;</td><td>2000-09-30</td><td>63</td></tr><tr><td>0</td><td>&quot;Destiny&#x27;s Child&quot;</td><td>&quot;Independent Women Part I&quot;</td><td>&quot;3:38&quot;</td><td>&quot;Rock&quot;</td><td>2000-10-07</td><td>49</td></tr><tr><td>0</td><td>&quot;Destiny&#x27;s Child&quot;</td><td>&quot;Independent Women Part I&quot;</td><td>&quot;3:38&quot;</td><td>&quot;Rock&quot;</td><td>2000-10-14</td><td>33</td></tr><tr><td>0</td><td>&quot;Destiny&#x27;s Child&quot;</td><td>&quot;Independent Women Part I&quot;</td><td>&quot;3:38&quot;</td><td>&quot;Rock&quot;</td><td>2000-10-21</td><td>23</td></tr><tr><td>&hellip;</td><td>&hellip;</td><td>&hellip;</td><td>&hellip;</td><td>&hellip;</td><td>&hellip;</td><td>&hellip;</td></tr><tr><td>314</td><td>&quot;Zombie Nation&quot;</td><td>&quot;Kernkraft 400&quot;</td><td>&quot;3:30&quot;</td><td>&quot;Rock&quot;</td><td>2000-09-02</td><td>99</td></tr><tr><td>314</td><td>&quot;Zombie Nation&quot;</td><td>&quot;Kernkraft 400&quot;</td><td>&quot;3:30&quot;</td><td>&quot;Rock&quot;</td><td>2000-09-09</td><td>99</td></tr><tr><td>315</td><td>&quot;Eastsidaz, The&quot;</td><td>&quot;Got Beef&quot;</td><td>&quot;3:58&quot;</td><td>&quot;Rap&quot;</td><td>2000-07-01</td><td>99</td></tr><tr><td>315</td><td>&quot;Eastsidaz, The&quot;</td><td>&quot;Got Beef&quot;</td><td>&quot;3:58&quot;</td><td>&quot;Rap&quot;</td><td>2000-07-08</td><td>99</td></tr><tr><td>316</td><td>&quot;Fragma&quot;</td><td>&quot;Toca&#x27;s Miracle&quot;</td><td>&quot;3:22&quot;</td><td>&quot;R&amp;B&quot;</td><td>2000-10-28</td><td>99</td></tr></tbody></table></div>"
      ],
      "text/plain": [
       "shape: (5_307, 7)\n",
       "┌─────┬─────────────────┬──────────────────────────┬──────┬───────┬────────────┬──────┐\n",
       "│ id  ┆ artist          ┆ track                    ┆ time ┆ genre ┆ date       ┆ rank │\n",
       "│ --- ┆ ---             ┆ ---                      ┆ ---  ┆ ---   ┆ ---        ┆ ---  │\n",
       "│ i64 ┆ str             ┆ str                      ┆ str  ┆ str   ┆ date       ┆ i64  │\n",
       "╞═════╪═════════════════╪══════════════════════════╪══════╪═══════╪════════════╪══════╡\n",
       "│ 0   ┆ Destiny's Child ┆ Independent Women Part I ┆ 3:38 ┆ Rock  ┆ 2000-09-23 ┆ 78   │\n",
       "│ 0   ┆ Destiny's Child ┆ Independent Women Part I ┆ 3:38 ┆ Rock  ┆ 2000-09-30 ┆ 63   │\n",
       "│ 0   ┆ Destiny's Child ┆ Independent Women Part I ┆ 3:38 ┆ Rock  ┆ 2000-10-07 ┆ 49   │\n",
       "│ 0   ┆ Destiny's Child ┆ Independent Women Part I ┆ 3:38 ┆ Rock  ┆ 2000-10-14 ┆ 33   │\n",
       "│ 0   ┆ Destiny's Child ┆ Independent Women Part I ┆ 3:38 ┆ Rock  ┆ 2000-10-21 ┆ 23   │\n",
       "│ …   ┆ …               ┆ …                        ┆ …    ┆ …     ┆ …          ┆ …    │\n",
       "│ 314 ┆ Zombie Nation   ┆ Kernkraft 400            ┆ 3:30 ┆ Rock  ┆ 2000-09-02 ┆ 99   │\n",
       "│ 314 ┆ Zombie Nation   ┆ Kernkraft 400            ┆ 3:30 ┆ Rock  ┆ 2000-09-09 ┆ 99   │\n",
       "│ 315 ┆ Eastsidaz, The  ┆ Got Beef                 ┆ 3:58 ┆ Rap   ┆ 2000-07-01 ┆ 99   │\n",
       "│ 315 ┆ Eastsidaz, The  ┆ Got Beef                 ┆ 3:58 ┆ Rap   ┆ 2000-07-08 ┆ 99   │\n",
       "│ 316 ┆ Fragma          ┆ Toca's Miracle           ┆ 3:22 ┆ R&B   ┆ 2000-10-28 ┆ 99   │\n",
       "└─────┴─────────────────┴──────────────────────────┴──────┴───────┴────────────┴──────┘"
      ]
     },
     "execution_count": 28,
     "metadata": {},
     "output_type": "execute_result"
    }
   ],
   "source": [
    "billboard = songs.join(ranks, left_on=\"id\", right_on=\"id\", how=\"inner\")\n",
    "billboard"
   ]
  },
  {
   "cell_type": "code",
   "execution_count": 29,
   "id": "7c005c3f",
   "metadata": {},
   "outputs": [
    {
     "name": "stdout",
     "output_type": "stream",
     "text": [
      "shape: (3, 7)\n",
      "┌─────┬─────────────────┬─────────────┬──────┬───────┬────────────┬──────┐\n",
      "│ id  ┆ artist          ┆ track       ┆ time ┆ genre ┆ date       ┆ rank │\n",
      "│ --- ┆ ---             ┆ ---         ┆ ---  ┆ ---   ┆ ---        ┆ ---  │\n",
      "│ i64 ┆ str             ┆ str         ┆ str  ┆ str   ┆ date       ┆ i64  │\n",
      "╞═════╪═════════════════╪═════════════╪══════╪═══════╪════════════╪══════╡\n",
      "│ 6   ┆ Destiny's Child ┆ Say My Name ┆ 4:31 ┆ Rock  ┆ 2000-03-18 ┆ 1    │\n",
      "│ 6   ┆ Destiny's Child ┆ Say My Name ┆ 4:31 ┆ Rock  ┆ 2000-03-25 ┆ 1    │\n",
      "│ 6   ┆ Destiny's Child ┆ Say My Name ┆ 4:31 ┆ Rock  ┆ 2000-04-01 ┆ 1    │\n",
      "└─────┴─────────────────┴─────────────┴──────┴───────┴────────────┴──────┘\n",
      "shape: (2, 7)\n",
      "┌─────┬──────────┬────────┬──────┬─────────┬────────────┬──────┐\n",
      "│ id  ┆ artist   ┆ track  ┆ time ┆ genre   ┆ date       ┆ rank │\n",
      "│ --- ┆ ---      ┆ ---    ┆ ---  ┆ ---     ┆ ---        ┆ ---  │\n",
      "│ i64 ┆ str      ┆ str    ┆ str  ┆ str     ┆ date       ┆ i64  │\n",
      "╞═════╪══════════╪════════╪══════╪═════════╪════════════╪══════╡\n",
      "│ 9   ┆ Lonestar ┆ Amazed ┆ 4:25 ┆ Country ┆ 2000-03-04 ┆ 1    │\n",
      "│ 9   ┆ Lonestar ┆ Amazed ┆ 4:25 ┆ Country ┆ 2000-03-11 ┆ 1    │\n",
      "└─────┴──────────┴────────┴──────┴─────────┴────────────┴──────┘\n",
      "shape: (1, 7)\n",
      "┌─────┬──────────────────┬─────────────────────┬──────┬───────┬────────────┬──────┐\n",
      "│ id  ┆ artist           ┆ track               ┆ time ┆ genre ┆ date       ┆ rank │\n",
      "│ --- ┆ ---              ┆ ---                 ┆ ---  ┆ ---   ┆ ---        ┆ ---  │\n",
      "│ i64 ┆ str              ┆ str                 ┆ str  ┆ str   ┆ date       ┆ i64  │\n",
      "╞═════╪══════════════════╪═════════════════════╪══════╪═══════╪════════════╪══════╡\n",
      "│ 12  ┆ Vertical Horizon ┆ Everything You Want ┆ 4:01 ┆ Rock  ┆ 2000-07-15 ┆ 1    │\n",
      "└─────┴──────────────────┴─────────────────────┴──────┴───────┴────────────┴──────┘\n",
      "shape: (1, 7)\n",
      "┌─────┬─────────────────┬───────┬──────┬───────┬────────────┬──────┐\n",
      "│ id  ┆ artist          ┆ track ┆ time ┆ genre ┆ date       ┆ rank │\n",
      "│ --- ┆ ---             ┆ ---   ┆ ---  ┆ ---   ┆ ---        ┆ ---  │\n",
      "│ i64 ┆ str             ┆ str   ┆ str  ┆ str   ┆ date       ┆ i64  │\n",
      "╞═════╪═════════════════╪═══════╪══════╪═══════╪════════════╪══════╡\n",
      "│ 15  ┆ matchbox twenty ┆ Bent  ┆ 4:12 ┆ Rock  ┆ 2000-07-22 ┆ 1    │\n",
      "└─────┴─────────────────┴───────┴──────┴───────┴────────────┴──────┘\n",
      "shape: (4, 7)\n",
      "┌─────┬─────────┬───────┬──────┬───────┬────────────┬──────┐\n",
      "│ id  ┆ artist  ┆ track ┆ time ┆ genre ┆ date       ┆ rank │\n",
      "│ --- ┆ ---     ┆ ---   ┆ ---  ┆ ---   ┆ ---        ┆ ---  │\n",
      "│ i64 ┆ str     ┆ str   ┆ str  ┆ str   ┆ date       ┆ i64  │\n",
      "╞═════╪═════════╪═══════╪══════╪═══════╪════════════╪══════╡\n",
      "│ 3   ┆ Madonna ┆ Music ┆ 3:45 ┆ Rock  ┆ 2000-09-16 ┆ 1    │\n",
      "│ 3   ┆ Madonna ┆ Music ┆ 3:45 ┆ Rock  ┆ 2000-09-23 ┆ 1    │\n",
      "│ 3   ┆ Madonna ┆ Music ┆ 3:45 ┆ Rock  ┆ 2000-09-30 ┆ 1    │\n",
      "│ 3   ┆ Madonna ┆ Music ┆ 3:45 ┆ Rock  ┆ 2000-10-07 ┆ 1    │\n",
      "└─────┴─────────┴───────┴──────┴───────┴────────────┴──────┘\n",
      "shape: (11, 7)\n",
      "┌─────┬─────────────────┬──────────────────────────┬──────┬───────┬────────────┬──────┐\n",
      "│ id  ┆ artist          ┆ track                    ┆ time ┆ genre ┆ date       ┆ rank │\n",
      "│ --- ┆ ---             ┆ ---                      ┆ ---  ┆ ---   ┆ ---        ┆ ---  │\n",
      "│ i64 ┆ str             ┆ str                      ┆ str  ┆ str   ┆ date       ┆ i64  │\n",
      "╞═════╪═════════════════╪══════════════════════════╪══════╪═══════╪════════════╪══════╡\n",
      "│ 0   ┆ Destiny's Child ┆ Independent Women Part I ┆ 3:38 ┆ Rock  ┆ 2000-11-18 ┆ 1    │\n",
      "│ 0   ┆ Destiny's Child ┆ Independent Women Part I ┆ 3:38 ┆ Rock  ┆ 2000-11-25 ┆ 1    │\n",
      "│ 0   ┆ Destiny's Child ┆ Independent Women Part I ┆ 3:38 ┆ Rock  ┆ 2000-12-02 ┆ 1    │\n",
      "│ 0   ┆ Destiny's Child ┆ Independent Women Part I ┆ 3:38 ┆ Rock  ┆ 2000-12-09 ┆ 1    │\n",
      "│ 0   ┆ Destiny's Child ┆ Independent Women Part I ┆ 3:38 ┆ Rock  ┆ 2000-12-16 ┆ 1    │\n",
      "│ …   ┆ …               ┆ …                        ┆ …    ┆ …     ┆ …          ┆ …    │\n",
      "│ 0   ┆ Destiny's Child ┆ Independent Women Part I ┆ 3:38 ┆ Rock  ┆ 2000-12-30 ┆ 1    │\n",
      "│ 0   ┆ Destiny's Child ┆ Independent Women Part I ┆ 3:38 ┆ Rock  ┆ 2001-01-06 ┆ 1    │\n",
      "│ 0   ┆ Destiny's Child ┆ Independent Women Part I ┆ 3:38 ┆ Rock  ┆ 2001-01-13 ┆ 1    │\n",
      "│ 0   ┆ Destiny's Child ┆ Independent Women Part I ┆ 3:38 ┆ Rock  ┆ 2001-01-20 ┆ 1    │\n",
      "│ 0   ┆ Destiny's Child ┆ Independent Women Part I ┆ 3:38 ┆ Rock  ┆ 2001-01-27 ┆ 1    │\n",
      "└─────┴─────────────────┴──────────────────────────┴──────┴───────┴────────────┴──────┘\n",
      "shape: (3, 7)\n",
      "┌─────┬───────────────────┬─────────────┬──────┬───────┬────────────┬──────┐\n",
      "│ id  ┆ artist            ┆ track       ┆ time ┆ genre ┆ date       ┆ rank │\n",
      "│ --- ┆ ---               ┆ ---         ┆ ---  ┆ ---   ┆ ---        ┆ ---  │\n",
      "│ i64 ┆ str               ┆ str         ┆ str  ┆ str   ┆ date       ┆ i64  │\n",
      "╞═════╪═══════════════════╪═════════════╪══════╪═══════╪════════════╪══════╡\n",
      "│ 7   ┆ Iglesias, Enrique ┆ Be With You ┆ 3:36 ┆ Latin ┆ 2000-06-24 ┆ 1    │\n",
      "│ 7   ┆ Iglesias, Enrique ┆ Be With You ┆ 3:36 ┆ Latin ┆ 2000-07-01 ┆ 1    │\n",
      "│ 7   ┆ Iglesias, Enrique ┆ Be With You ┆ 3:36 ┆ Latin ┆ 2000-07-08 ┆ 1    │\n",
      "└─────┴───────────────────┴─────────────┴──────┴───────┴────────────┴──────┘\n",
      "shape: (1, 7)\n",
      "┌─────┬────────┬─────────────────────┬──────┬───────┬────────────┬──────┐\n",
      "│ id  ┆ artist ┆ track               ┆ time ┆ genre ┆ date       ┆ rank │\n",
      "│ --- ┆ ---    ┆ ---                 ┆ ---  ┆ ---   ┆ ---        ┆ ---  │\n",
      "│ i64 ┆ str    ┆ str                 ┆ str  ┆ str   ┆ date       ┆ i64  │\n",
      "╞═════╪════════╪═════════════════════╪══════╪═══════╪════════════╪══════╡\n",
      "│ 13  ┆ Creed  ┆ With Arms Wide Open ┆ 3:52 ┆ Rock  ┆ 2000-11-11 ┆ 1    │\n",
      "└─────┴────────┴─────────────────────┴──────┴───────┴────────────┴──────┘\n",
      "shape: (1, 7)\n",
      "┌─────┬───────────────┬───────────────────────┬──────┬───────┬────────────┬──────┐\n",
      "│ id  ┆ artist        ┆ track                 ┆ time ┆ genre ┆ date       ┆ rank │\n",
      "│ --- ┆ ---           ┆ ---                   ┆ ---  ┆ ---   ┆ ---        ┆ ---  │\n",
      "│ i64 ┆ str           ┆ str                   ┆ str  ┆ str   ┆ date       ┆ i64  │\n",
      "╞═════╪═══════════════╪═══════════════════════╪══════╪═══════╪════════════╪══════╡\n",
      "│ 16  ┆ Carey, Mariah ┆ Thank God I Found You ┆ 4:14 ┆ Rock  ┆ 2000-02-19 ┆ 1    │\n",
      "└─────┴───────────────┴───────────────────────┴──────┴───────┴────────────┴──────┘\n",
      "shape: (2, 7)\n",
      "┌─────┬────────┬──────────────────┬──────┬───────┬────────────┬──────┐\n",
      "│ id  ┆ artist ┆ track            ┆ time ┆ genre ┆ date       ┆ rank │\n",
      "│ --- ┆ ---    ┆ ---              ┆ ---  ┆ ---   ┆ ---        ┆ ---  │\n",
      "│ i64 ┆ str    ┆ str              ┆ str  ┆ str   ┆ date       ┆ i64  │\n",
      "╞═════╪════════╪══════════════════╪══════╪═══════╪════════════╪══════╡\n",
      "│ 10  ┆ N'Sync ┆ It's Gonna Be Me ┆ 3:10 ┆ Rock  ┆ 2000-07-29 ┆ 1    │\n",
      "│ 10  ┆ N'Sync ┆ It's Gonna Be Me ┆ 3:10 ┆ Rock  ┆ 2000-08-05 ┆ 1    │\n",
      "└─────┴────────┴──────────────────┴──────┴───────┴────────────┴──────┘\n",
      "shape: (4, 7)\n",
      "┌─────┬─────────────────────┬─────────────────────────────────┬──────┬───────┬────────────┬──────┐\n",
      "│ id  ┆ artist              ┆ track                           ┆ time ┆ genre ┆ date       ┆ rank │\n",
      "│ --- ┆ ---                 ┆ ---                             ┆ ---  ┆ ---   ┆ ---        ┆ ---  │\n",
      "│ i64 ┆ str                 ┆ str                             ┆ str  ┆ str   ┆ date       ┆ i64  │\n",
      "╞═════╪═════════════════════╪═════════════════════════════════╪══════╪═══════╪════════════╪══════╡\n",
      "│ 4   ┆ Aguilera, Christina ┆ Come On Over Baby (All I Want … ┆ 3:38 ┆ Rock  ┆ 2000-10-14 ┆ 1    │\n",
      "│ 4   ┆ Aguilera, Christina ┆ Come On Over Baby (All I Want … ┆ 3:38 ┆ Rock  ┆ 2000-10-21 ┆ 1    │\n",
      "│ 4   ┆ Aguilera, Christina ┆ Come On Over Baby (All I Want … ┆ 3:38 ┆ Rock  ┆ 2000-10-28 ┆ 1    │\n",
      "│ 4   ┆ Aguilera, Christina ┆ Come On Over Baby (All I Want … ┆ 3:38 ┆ Rock  ┆ 2000-11-04 ┆ 1    │\n",
      "└─────┴─────────────────────┴─────────────────────────────────┴──────┴───────┴────────────┴──────┘\n",
      "shape: (10, 7)\n",
      "┌─────┬─────────┬──────────────┬──────┬───────┬────────────┬──────┐\n",
      "│ id  ┆ artist  ┆ track        ┆ time ┆ genre ┆ date       ┆ rank │\n",
      "│ --- ┆ ---     ┆ ---          ┆ ---  ┆ ---   ┆ ---        ┆ ---  │\n",
      "│ i64 ┆ str     ┆ str          ┆ str  ┆ str   ┆ date       ┆ i64  │\n",
      "╞═════╪═════════╪══════════════╪══════╪═══════╪════════════╪══════╡\n",
      "│ 1   ┆ Santana ┆ Maria, Maria ┆ 4:18 ┆ Rock  ┆ 2000-04-08 ┆ 1    │\n",
      "│ 1   ┆ Santana ┆ Maria, Maria ┆ 4:18 ┆ Rock  ┆ 2000-04-15 ┆ 1    │\n",
      "│ 1   ┆ Santana ┆ Maria, Maria ┆ 4:18 ┆ Rock  ┆ 2000-04-22 ┆ 1    │\n",
      "│ 1   ┆ Santana ┆ Maria, Maria ┆ 4:18 ┆ Rock  ┆ 2000-04-29 ┆ 1    │\n",
      "│ 1   ┆ Santana ┆ Maria, Maria ┆ 4:18 ┆ Rock  ┆ 2000-05-06 ┆ 1    │\n",
      "│ 1   ┆ Santana ┆ Maria, Maria ┆ 4:18 ┆ Rock  ┆ 2000-05-13 ┆ 1    │\n",
      "│ 1   ┆ Santana ┆ Maria, Maria ┆ 4:18 ┆ Rock  ┆ 2000-05-20 ┆ 1    │\n",
      "│ 1   ┆ Santana ┆ Maria, Maria ┆ 4:18 ┆ Rock  ┆ 2000-05-27 ┆ 1    │\n",
      "│ 1   ┆ Santana ┆ Maria, Maria ┆ 4:18 ┆ Rock  ┆ 2000-06-03 ┆ 1    │\n",
      "│ 1   ┆ Santana ┆ Maria, Maria ┆ 4:18 ┆ Rock  ┆ 2000-06-10 ┆ 1    │\n",
      "└─────┴─────────┴──────────────┴──────┴───────┴────────────┴──────┘\n",
      "shape: (2, 7)\n",
      "┌─────┬────────┬────────────┬──────┬───────┬────────────┬──────┐\n",
      "│ id  ┆ artist ┆ track      ┆ time ┆ genre ┆ date       ┆ rank │\n",
      "│ --- ┆ ---    ┆ ---        ┆ ---  ┆ ---   ┆ ---        ┆ ---  │\n",
      "│ i64 ┆ str    ┆ str        ┆ str  ┆ str   ┆ date       ┆ i64  │\n",
      "╞═════╪════════╪════════════╪══════╪═══════╪════════════╪══════╡\n",
      "│ 8   ┆ Sisqo  ┆ Incomplete ┆ 3:52 ┆ Rock  ┆ 2000-08-12 ┆ 1    │\n",
      "│ 8   ┆ Sisqo  ┆ Incomplete ┆ 3:52 ┆ Rock  ┆ 2000-08-19 ┆ 1    │\n",
      "└─────┴────────┴────────────┴──────┴───────┴────────────┴──────┘\n",
      "shape: (2, 7)\n",
      "┌─────┬─────────────────────┬───────────────────┬──────┬───────┬────────────┬──────┐\n",
      "│ id  ┆ artist              ┆ track             ┆ time ┆ genre ┆ date       ┆ rank │\n",
      "│ --- ┆ ---                 ┆ ---               ┆ ---  ┆ ---   ┆ ---        ┆ ---  │\n",
      "│ i64 ┆ str                 ┆ str               ┆ str  ┆ str   ┆ date       ┆ i64  │\n",
      "╞═════╪═════════════════════╪═══════════════════╪══════╪═══════╪════════════╪══════╡\n",
      "│ 11  ┆ Aguilera, Christina ┆ What A Girl Wants ┆ 3:18 ┆ Rock  ┆ 2000-01-15 ┆ 1    │\n",
      "│ 11  ┆ Aguilera, Christina ┆ What A Girl Wants ┆ 3:18 ┆ Rock  ┆ 2000-01-22 ┆ 1    │\n",
      "└─────┴─────────────────────┴───────────────────┴──────┴───────┴────────────┴──────┘\n",
      "shape: (1, 7)\n",
      "┌─────┬─────────┬───────────┬──────┬───────┬────────────┬──────┐\n",
      "│ id  ┆ artist  ┆ track     ┆ time ┆ genre ┆ date       ┆ rank │\n",
      "│ --- ┆ ---     ┆ ---       ┆ ---  ┆ ---   ┆ ---        ┆ ---  │\n",
      "│ i64 ┆ str     ┆ str       ┆ str  ┆ str   ┆ date       ┆ i64  │\n",
      "╞═════╪═════════╪═══════════╪══════╪═══════╪════════════╪══════╡\n",
      "│ 14  ┆ Aaliyah ┆ Try Again ┆ 4:03 ┆ Rock  ┆ 2000-06-17 ┆ 1    │\n",
      "└─────┴─────────┴───────────┴──────┴───────┴────────────┴──────┘\n",
      "shape: (4, 7)\n",
      "┌─────┬───────────────┬────────────────────┬──────┬───────┬────────────┬──────┐\n",
      "│ id  ┆ artist        ┆ track              ┆ time ┆ genre ┆ date       ┆ rank │\n",
      "│ --- ┆ ---           ┆ ---                ┆ ---  ┆ ---   ┆ ---        ┆ ---  │\n",
      "│ i64 ┆ str           ┆ str                ┆ str  ┆ str   ┆ date       ┆ i64  │\n",
      "╞═════╪═══════════════╪════════════════════╪══════╪═══════╪════════════╪══════╡\n",
      "│ 2   ┆ Savage Garden ┆ I Knew I Loved You ┆ 4:07 ┆ Rock  ┆ 2000-01-29 ┆ 1    │\n",
      "│ 2   ┆ Savage Garden ┆ I Knew I Loved You ┆ 4:07 ┆ Rock  ┆ 2000-02-05 ┆ 1    │\n",
      "│ 2   ┆ Savage Garden ┆ I Knew I Loved You ┆ 4:07 ┆ Rock  ┆ 2000-02-12 ┆ 1    │\n",
      "│ 2   ┆ Savage Garden ┆ I Knew I Loved You ┆ 4:07 ┆ Rock  ┆ 2000-02-26 ┆ 1    │\n",
      "└─────┴───────────────┴────────────────────┴──────┴───────┴────────────┴──────┘\n",
      "shape: (3, 7)\n",
      "┌─────┬────────┬───────────────────────┬──────┬───────┬────────────┬──────┐\n",
      "│ id  ┆ artist ┆ track                 ┆ time ┆ genre ┆ date       ┆ rank │\n",
      "│ --- ┆ ---    ┆ ---                   ┆ ---  ┆ ---   ┆ ---        ┆ ---  │\n",
      "│ i64 ┆ str    ┆ str                   ┆ str  ┆ str   ┆ date       ┆ i64  │\n",
      "╞═════╪════════╪═══════════════════════╪══════╪═══════╪════════════╪══════╡\n",
      "│ 5   ┆ Janet  ┆ Doesn't Really Matter ┆ 4:17 ┆ Rock  ┆ 2000-08-26 ┆ 1    │\n",
      "│ 5   ┆ Janet  ┆ Doesn't Really Matter ┆ 4:17 ┆ Rock  ┆ 2000-09-02 ┆ 1    │\n",
      "│ 5   ┆ Janet  ┆ Doesn't Really Matter ┆ 4:17 ┆ Rock  ┆ 2000-09-09 ┆ 1    │\n",
      "└─────┴────────┴───────────────────────┴──────┴───────┴────────────┴──────┘\n"
     ]
    }
   ],
   "source": [
    "for song_id, info in billboard.group_by(\"id\"):\n",
    "    if info[\"rank\"].min() == 1:\n",
    "        print(info.filter(pl.col(\"rank\") == 1))"
   ]
  },
  {
   "cell_type": "markdown",
   "id": "1c7bdeab",
   "metadata": {},
   "source": [
    "### Transform"
   ]
  },
  {
   "cell_type": "code",
   "execution_count": 30,
   "id": "12f22f86",
   "metadata": {},
   "outputs": [
    {
     "data": {
      "text/html": [
       "<div><style>\n",
       ".dataframe > thead > tr,\n",
       ".dataframe > tbody > tr {\n",
       "  text-align: right;\n",
       "  white-space: pre-wrap;\n",
       "}\n",
       "</style>\n",
       "<small>shape: (16, 4)</small><table border=\"1\" class=\"dataframe\"><thead><tr><th>date</th><th>time</th><th>room</th><th>title</th></tr><tr><td>date</td><td>time</td><td>i64</td><td>str</td></tr></thead><tbody><tr><td>2024-08-26</td><td>09:00:00</td><td>6</td><td>&quot;Introduction to Python&quot;</td></tr><tr><td>2024-08-26</td><td>09:00:00</td><td>5</td><td>&quot;What is the magic of magic met…</td></tr><tr><td>2024-08-26</td><td>11:00:00</td><td>6</td><td>&quot;Introduction to NumPy&quot;</td></tr><tr><td>2024-08-26</td><td>11:00:00</td><td>5</td><td>&quot;Decorators - A deep dive&quot;</td></tr><tr><td>2024-08-26</td><td>14:00:00</td><td>6</td><td>&quot;Introduction to matplotlib for…</td></tr><tr><td>&hellip;</td><td>&hellip;</td><td>&hellip;</td><td>&hellip;</td></tr><tr><td>2024-08-27</td><td>11:00:00</td><td>5</td><td>&quot;Combining Python and Rust to c…</td></tr><tr><td>2024-08-27</td><td>14:00:00</td><td>6</td><td>&quot;Introduction to machine learni…</td></tr><tr><td>2024-08-27</td><td>14:00:00</td><td>5</td><td>&quot;Multi-dimensional arrays with …</td></tr><tr><td>2024-08-27</td><td>16:00:00</td><td>6</td><td>&quot;A hitchhiker&#x27;s guide to contri…</td></tr><tr><td>2024-08-27</td><td>16:00:00</td><td>5</td><td>&quot;sktime - Python toolbox for ti…</td></tr></tbody></table></div>"
      ],
      "text/plain": [
       "shape: (16, 4)\n",
       "┌────────────┬──────────┬──────┬─────────────────────────────────┐\n",
       "│ date       ┆ time     ┆ room ┆ title                           │\n",
       "│ ---        ┆ ---      ┆ ---  ┆ ---                             │\n",
       "│ date       ┆ time     ┆ i64  ┆ str                             │\n",
       "╞════════════╪══════════╪══════╪═════════════════════════════════╡\n",
       "│ 2024-08-26 ┆ 09:00:00 ┆ 6    ┆ Introduction to Python          │\n",
       "│ 2024-08-26 ┆ 09:00:00 ┆ 5    ┆ What is the magic of magic met… │\n",
       "│ 2024-08-26 ┆ 11:00:00 ┆ 6    ┆ Introduction to NumPy           │\n",
       "│ 2024-08-26 ┆ 11:00:00 ┆ 5    ┆ Decorators - A deep dive        │\n",
       "│ 2024-08-26 ┆ 14:00:00 ┆ 6    ┆ Introduction to matplotlib for… │\n",
       "│ …          ┆ …        ┆ …    ┆ …                               │\n",
       "│ 2024-08-27 ┆ 11:00:00 ┆ 5    ┆ Combining Python and Rust to c… │\n",
       "│ 2024-08-27 ┆ 14:00:00 ┆ 6    ┆ Introduction to machine learni… │\n",
       "│ 2024-08-27 ┆ 14:00:00 ┆ 5    ┆ Multi-dimensional arrays with … │\n",
       "│ 2024-08-27 ┆ 16:00:00 ┆ 6    ┆ A hitchhiker's guide to contri… │\n",
       "│ 2024-08-27 ┆ 16:00:00 ┆ 5    ┆ sktime - Python toolbox for ti… │\n",
       "└────────────┴──────────┴──────┴─────────────────────────────────┘"
      ]
     },
     "execution_count": 30,
     "metadata": {},
     "output_type": "execute_result"
    }
   ],
   "source": [
    "schedule.select(\n",
    "    pl.col(\"timestamp\").dt.date().alias(\"date\"),\n",
    "    pl.col(\"timestamp\").dt.time().alias(\"time\"),\n",
    "    pl.col(\"room\"),\n",
    "    pl.col(\"title\"),\n",
    ")"
   ]
  },
  {
   "cell_type": "code",
   "execution_count": 31,
   "id": "addf3305",
   "metadata": {},
   "outputs": [
    {
     "data": {
      "text/html": [
       "<div><style>\n",
       ".dataframe > thead > tr,\n",
       ".dataframe > tbody > tr {\n",
       "  text-align: right;\n",
       "  white-space: pre-wrap;\n",
       "}\n",
       "</style>\n",
       "<small>shape: (16, 4)</small><table border=\"1\" class=\"dataframe\"><thead><tr><th>room</th><th>title</th><th>date</th><th>time</th></tr><tr><td>i64</td><td>str</td><td>date</td><td>time</td></tr></thead><tbody><tr><td>6</td><td>&quot;Introduction to Python&quot;</td><td>2024-08-26</td><td>09:00:00</td></tr><tr><td>5</td><td>&quot;What is the magic of magic met…</td><td>2024-08-26</td><td>09:00:00</td></tr><tr><td>6</td><td>&quot;Introduction to NumPy&quot;</td><td>2024-08-26</td><td>11:00:00</td></tr><tr><td>5</td><td>&quot;Decorators - A deep dive&quot;</td><td>2024-08-26</td><td>11:00:00</td></tr><tr><td>6</td><td>&quot;Introduction to matplotlib for…</td><td>2024-08-26</td><td>14:00:00</td></tr><tr><td>&hellip;</td><td>&hellip;</td><td>&hellip;</td><td>&hellip;</td></tr><tr><td>5</td><td>&quot;Combining Python and Rust to c…</td><td>2024-08-27</td><td>11:00:00</td></tr><tr><td>6</td><td>&quot;Introduction to machine learni…</td><td>2024-08-27</td><td>14:00:00</td></tr><tr><td>5</td><td>&quot;Multi-dimensional arrays with …</td><td>2024-08-27</td><td>14:00:00</td></tr><tr><td>6</td><td>&quot;A hitchhiker&#x27;s guide to contri…</td><td>2024-08-27</td><td>16:00:00</td></tr><tr><td>5</td><td>&quot;sktime - Python toolbox for ti…</td><td>2024-08-27</td><td>16:00:00</td></tr></tbody></table></div>"
      ],
      "text/plain": [
       "shape: (16, 4)\n",
       "┌──────┬─────────────────────────────────┬────────────┬──────────┐\n",
       "│ room ┆ title                           ┆ date       ┆ time     │\n",
       "│ ---  ┆ ---                             ┆ ---        ┆ ---      │\n",
       "│ i64  ┆ str                             ┆ date       ┆ time     │\n",
       "╞══════╪═════════════════════════════════╪════════════╪══════════╡\n",
       "│ 6    ┆ Introduction to Python          ┆ 2024-08-26 ┆ 09:00:00 │\n",
       "│ 5    ┆ What is the magic of magic met… ┆ 2024-08-26 ┆ 09:00:00 │\n",
       "│ 6    ┆ Introduction to NumPy           ┆ 2024-08-26 ┆ 11:00:00 │\n",
       "│ 5    ┆ Decorators - A deep dive        ┆ 2024-08-26 ┆ 11:00:00 │\n",
       "│ 6    ┆ Introduction to matplotlib for… ┆ 2024-08-26 ┆ 14:00:00 │\n",
       "│ …    ┆ …                               ┆ …          ┆ …        │\n",
       "│ 5    ┆ Combining Python and Rust to c… ┆ 2024-08-27 ┆ 11:00:00 │\n",
       "│ 6    ┆ Introduction to machine learni… ┆ 2024-08-27 ┆ 14:00:00 │\n",
       "│ 5    ┆ Multi-dimensional arrays with … ┆ 2024-08-27 ┆ 14:00:00 │\n",
       "│ 6    ┆ A hitchhiker's guide to contri… ┆ 2024-08-27 ┆ 16:00:00 │\n",
       "│ 5    ┆ sktime - Python toolbox for ti… ┆ 2024-08-27 ┆ 16:00:00 │\n",
       "└──────┴─────────────────────────────────┴────────────┴──────────┘"
      ]
     },
     "execution_count": 31,
     "metadata": {},
     "output_type": "execute_result"
    }
   ],
   "source": [
    "schedule.with_columns(\n",
    "    pl.col(\"timestamp\").dt.date().alias(\"date\"),\n",
    "    pl.col(\"timestamp\").dt.time().alias(\"time\"),\n",
    ").drop(\"timestamp\")"
   ]
  },
  {
   "cell_type": "code",
   "execution_count": 32,
   "id": "bd040710",
   "metadata": {},
   "outputs": [
    {
     "data": {
      "text/html": [
       "<div><style>\n",
       ".dataframe > thead > tr,\n",
       ".dataframe > tbody > tr {\n",
       "  text-align: right;\n",
       "  white-space: pre-wrap;\n",
       "}\n",
       "</style>\n",
       "<small>shape: (317, 8)</small><table border=\"1\" class=\"dataframe\"><thead><tr><th>id</th><th>artist</th><th>track</th><th>date_entered</th><th>peak_position</th><th>num_weeks</th><th>avg_position</th><th>score</th></tr><tr><td>i64</td><td>str</td><td>str</td><td>date</td><td>i64</td><td>u32</td><td>f64</td><td>f64</td></tr></thead><tbody><tr><td>216</td><td>&quot;Simpson, Jessica&quot;</td><td>&quot;Where You Are&quot;</td><td>2000-04-01</td><td>62</td><td>6</td><td>72.0</td><td>168.0</td></tr><tr><td>235</td><td>&quot;Third Eye Blind&quot;</td><td>&quot;Deep Inside Of You&quot;</td><td>2000-09-02</td><td>69</td><td>12</td><td>79.833333</td><td>242.0</td></tr><tr><td>226</td><td>&quot;Jay-Z&quot;</td><td>&quot;Do It Again (Put Ya Hands Up)&quot;</td><td>2000-01-15</td><td>65</td><td>9</td><td>81.555556</td><td>166.0</td></tr><tr><td>250</td><td>&quot;Lox&quot;</td><td>&quot;Ryde or Die, Chick&quot;</td><td>2000-03-18</td><td>73</td><td>7</td><td>86.857143</td><td>92.0</td></tr><tr><td>82</td><td>&quot;Ludacris&quot;</td><td>&quot;What&#x27;s Your Fantasy&quot;</td><td>2000-09-30</td><td>21</td><td>22</td><td>38.863636</td><td>1345.0</td></tr><tr><td>&hellip;</td><td>&hellip;</td><td>&hellip;</td><td>&hellip;</td><td>&hellip;</td><td>&hellip;</td><td>&hellip;</td><td>&hellip;</td></tr><tr><td>115</td><td>&quot;McGraw, Tim&quot;</td><td>&quot;My Best Friend&quot;</td><td>1999-11-27</td><td>29</td><td>21</td><td>47.333333</td><td>1106.0</td></tr><tr><td>145</td><td>&quot;Jean, Wyclef&quot;</td><td>&quot;911&quot;</td><td>2000-10-07</td><td>38</td><td>19</td><td>60.0</td><td>760.0</td></tr><tr><td>225</td><td>&quot;Hot Boys&quot;</td><td>&quot;I Need A Hot Girl&quot;</td><td>2000-02-19</td><td>65</td><td>13</td><td>78.846154</td><td>275.0</td></tr><tr><td>183</td><td>&quot;Gill, Vince&quot;</td><td>&quot;Feels Like Love&quot;</td><td>2000-09-02</td><td>52</td><td>20</td><td>69.15</td><td>617.0</td></tr><tr><td>108</td><td>&quot;Tritt, Travis&quot;</td><td>&quot;Best Of Intentions&quot;</td><td>2000-08-19</td><td>27</td><td>22</td><td>47.818182</td><td>1148.0</td></tr></tbody></table></div>"
      ],
      "text/plain": [
       "shape: (317, 8)\n",
       "┌─────┬──────────────┬──────────────┬─────────────┬─────────────┬───────────┬─────────────┬────────┐\n",
       "│ id  ┆ artist       ┆ track        ┆ date_entere ┆ peak_positi ┆ num_weeks ┆ avg_positio ┆ score  │\n",
       "│ --- ┆ ---          ┆ ---          ┆ d           ┆ on          ┆ ---       ┆ n           ┆ ---    │\n",
       "│ i64 ┆ str          ┆ str          ┆ ---         ┆ ---         ┆ u32       ┆ ---         ┆ f64    │\n",
       "│     ┆              ┆              ┆ date        ┆ i64         ┆           ┆ f64         ┆        │\n",
       "╞═════╪══════════════╪══════════════╪═════════════╪═════════════╪═══════════╪═════════════╪════════╡\n",
       "│ 216 ┆ Simpson,     ┆ Where You    ┆ 2000-04-01  ┆ 62          ┆ 6         ┆ 72.0        ┆ 168.0  │\n",
       "│     ┆ Jessica      ┆ Are          ┆             ┆             ┆           ┆             ┆        │\n",
       "│ 235 ┆ Third Eye    ┆ Deep Inside  ┆ 2000-09-02  ┆ 69          ┆ 12        ┆ 79.833333   ┆ 242.0  │\n",
       "│     ┆ Blind        ┆ Of You       ┆             ┆             ┆           ┆             ┆        │\n",
       "│ 226 ┆ Jay-Z        ┆ Do It Again  ┆ 2000-01-15  ┆ 65          ┆ 9         ┆ 81.555556   ┆ 166.0  │\n",
       "│     ┆              ┆ (Put Ya      ┆             ┆             ┆           ┆             ┆        │\n",
       "│     ┆              ┆ Hands Up)    ┆             ┆             ┆           ┆             ┆        │\n",
       "│ 250 ┆ Lox          ┆ Ryde or Die, ┆ 2000-03-18  ┆ 73          ┆ 7         ┆ 86.857143   ┆ 92.0   │\n",
       "│     ┆              ┆ Chick        ┆             ┆             ┆           ┆             ┆        │\n",
       "│ 82  ┆ Ludacris     ┆ What's Your  ┆ 2000-09-30  ┆ 21          ┆ 22        ┆ 38.863636   ┆ 1345.0 │\n",
       "│     ┆              ┆ Fantasy      ┆             ┆             ┆           ┆             ┆        │\n",
       "│ …   ┆ …            ┆ …            ┆ …           ┆ …           ┆ …         ┆ …           ┆ …      │\n",
       "│ 115 ┆ McGraw, Tim  ┆ My Best      ┆ 1999-11-27  ┆ 29          ┆ 21        ┆ 47.333333   ┆ 1106.0 │\n",
       "│     ┆              ┆ Friend       ┆             ┆             ┆           ┆             ┆        │\n",
       "│ 145 ┆ Jean, Wyclef ┆ 911          ┆ 2000-10-07  ┆ 38          ┆ 19        ┆ 60.0        ┆ 760.0  │\n",
       "│ 225 ┆ Hot Boys     ┆ I Need A Hot ┆ 2000-02-19  ┆ 65          ┆ 13        ┆ 78.846154   ┆ 275.0  │\n",
       "│     ┆              ┆ Girl         ┆             ┆             ┆           ┆             ┆        │\n",
       "│ 183 ┆ Gill, Vince  ┆ Feels Like   ┆ 2000-09-02  ┆ 52          ┆ 20        ┆ 69.15       ┆ 617.0  │\n",
       "│     ┆              ┆ Love         ┆             ┆             ┆           ┆             ┆        │\n",
       "│ 108 ┆ Tritt,       ┆ Best Of      ┆ 2000-08-19  ┆ 27          ┆ 22        ┆ 47.818182   ┆ 1148.0 │\n",
       "│     ┆ Travis       ┆ Intentions   ┆             ┆             ┆           ┆             ┆        │\n",
       "└─────┴──────────────┴──────────────┴─────────────┴─────────────┴───────────┴─────────────┴────────┘"
      ]
     },
     "execution_count": 32,
     "metadata": {},
     "output_type": "execute_result"
    }
   ],
   "source": [
    "(\n",
    "    billboard.group_by(\"id\", artist=\"artist\", track=\"track\")\n",
    "    .agg(\n",
    "        pl.col(\"date\").min().alias(\"date_entered\"),\n",
    "        pl.col(\"rank\").min().alias(\"peak_position\"),\n",
    "        pl.col(\"rank\").len().alias(\"num_weeks\"),\n",
    "        pl.col(\"rank\").mean().alias(\"avg_position\"),\n",
    "    )\n",
    "    .with_columns((pl.col(\"num_weeks\") * (100 - pl.col(\"avg_position\"))).alias(\"score\"))\n",
    ")"
   ]
  },
  {
   "cell_type": "markdown",
   "id": "6a287517",
   "metadata": {},
   "source": [
    "### Sort"
   ]
  },
  {
   "cell_type": "code",
   "execution_count": 33,
   "id": "f5950504",
   "metadata": {
    "lines_to_next_cell": 2
   },
   "outputs": [],
   "source": [
    "scored_billboard = (\n",
    "    billboard.group_by(\"id\", artist=\"artist\", track=\"track\")\n",
    "    .agg(\n",
    "        pl.col(\"date\").min().alias(\"date_entered\"),\n",
    "        pl.col(\"rank\").min().alias(\"peak_position\"),\n",
    "        pl.col(\"rank\").len().alias(\"num_weeks\"),\n",
    "        pl.col(\"rank\").mean().alias(\"avg_position\"),\n",
    "    )\n",
    "    .with_columns((pl.col(\"num_weeks\") * (100 - pl.col(\"avg_position\"))).alias(\"score\"))\n",
    ")"
   ]
  },
  {
   "cell_type": "code",
   "execution_count": 34,
   "id": "f63ef5dd",
   "metadata": {},
   "outputs": [
    {
     "data": {
      "text/html": [
       "<div><style>\n",
       ".dataframe > thead > tr,\n",
       ".dataframe > tbody > tr {\n",
       "  text-align: right;\n",
       "  white-space: pre-wrap;\n",
       "}\n",
       "</style>\n",
       "<small>shape: (317, 8)</small><table border=\"1\" class=\"dataframe\"><thead><tr><th>id</th><th>artist</th><th>track</th><th>date_entered</th><th>peak_position</th><th>num_weeks</th><th>avg_position</th><th>score</th></tr><tr><td>i64</td><td>str</td><td>str</td><td>date</td><td>i64</td><td>u32</td><td>f64</td><td>f64</td></tr></thead><tbody><tr><td>0</td><td>&quot;Destiny&#x27;s Child&quot;</td><td>&quot;Independent Women Part I&quot;</td><td>2000-09-23</td><td>1</td><td>28</td><td>14.821429</td><td>2385.0</td></tr><tr><td>1</td><td>&quot;Santana&quot;</td><td>&quot;Maria, Maria&quot;</td><td>2000-02-12</td><td>1</td><td>26</td><td>10.5</td><td>2327.0</td></tr><tr><td>2</td><td>&quot;Savage Garden&quot;</td><td>&quot;I Knew I Loved You&quot;</td><td>1999-10-23</td><td>1</td><td>33</td><td>17.363636</td><td>2727.0</td></tr><tr><td>3</td><td>&quot;Madonna&quot;</td><td>&quot;Music&quot;</td><td>2000-08-12</td><td>1</td><td>24</td><td>13.458333</td><td>2077.0</td></tr><tr><td>4</td><td>&quot;Aguilera, Christina&quot;</td><td>&quot;Come On Over Baby (All I Want …</td><td>2000-08-05</td><td>1</td><td>21</td><td>19.952381</td><td>1681.0</td></tr><tr><td>&hellip;</td><td>&hellip;</td><td>&hellip;</td><td>&hellip;</td><td>&hellip;</td><td>&hellip;</td><td>&hellip;</td><td>&hellip;</td></tr><tr><td>312</td><td>&quot;Ghostface Killah&quot;</td><td>&quot;Cherchez LaGhost&quot;</td><td>2000-08-05</td><td>98</td><td>1</td><td>98.0</td><td>2.0</td></tr><tr><td>313</td><td>&quot;Smith, Will&quot;</td><td>&quot;Freakin&#x27; It&quot;</td><td>2000-02-12</td><td>99</td><td>4</td><td>99.0</td><td>4.0</td></tr><tr><td>314</td><td>&quot;Zombie Nation&quot;</td><td>&quot;Kernkraft 400&quot;</td><td>2000-09-02</td><td>99</td><td>2</td><td>99.0</td><td>2.0</td></tr><tr><td>315</td><td>&quot;Eastsidaz, The&quot;</td><td>&quot;Got Beef&quot;</td><td>2000-07-01</td><td>99</td><td>2</td><td>99.0</td><td>2.0</td></tr><tr><td>316</td><td>&quot;Fragma&quot;</td><td>&quot;Toca&#x27;s Miracle&quot;</td><td>2000-10-28</td><td>99</td><td>1</td><td>99.0</td><td>1.0</td></tr></tbody></table></div>"
      ],
      "text/plain": [
       "shape: (317, 8)\n",
       "┌─────┬──────────────┬──────────────┬─────────────┬─────────────┬───────────┬─────────────┬────────┐\n",
       "│ id  ┆ artist       ┆ track        ┆ date_entere ┆ peak_positi ┆ num_weeks ┆ avg_positio ┆ score  │\n",
       "│ --- ┆ ---          ┆ ---          ┆ d           ┆ on          ┆ ---       ┆ n           ┆ ---    │\n",
       "│ i64 ┆ str          ┆ str          ┆ ---         ┆ ---         ┆ u32       ┆ ---         ┆ f64    │\n",
       "│     ┆              ┆              ┆ date        ┆ i64         ┆           ┆ f64         ┆        │\n",
       "╞═════╪══════════════╪══════════════╪═════════════╪═════════════╪═══════════╪═════════════╪════════╡\n",
       "│ 0   ┆ Destiny's    ┆ Independent  ┆ 2000-09-23  ┆ 1           ┆ 28        ┆ 14.821429   ┆ 2385.0 │\n",
       "│     ┆ Child        ┆ Women Part I ┆             ┆             ┆           ┆             ┆        │\n",
       "│ 1   ┆ Santana      ┆ Maria, Maria ┆ 2000-02-12  ┆ 1           ┆ 26        ┆ 10.5        ┆ 2327.0 │\n",
       "│ 2   ┆ Savage       ┆ I Knew I     ┆ 1999-10-23  ┆ 1           ┆ 33        ┆ 17.363636   ┆ 2727.0 │\n",
       "│     ┆ Garden       ┆ Loved You    ┆             ┆             ┆           ┆             ┆        │\n",
       "│ 3   ┆ Madonna      ┆ Music        ┆ 2000-08-12  ┆ 1           ┆ 24        ┆ 13.458333   ┆ 2077.0 │\n",
       "│ 4   ┆ Aguilera,    ┆ Come On Over ┆ 2000-08-05  ┆ 1           ┆ 21        ┆ 19.952381   ┆ 1681.0 │\n",
       "│     ┆ Christina    ┆ Baby (All I  ┆             ┆             ┆           ┆             ┆        │\n",
       "│     ┆              ┆ Want …       ┆             ┆             ┆           ┆             ┆        │\n",
       "│ …   ┆ …            ┆ …            ┆ …           ┆ …           ┆ …         ┆ …           ┆ …      │\n",
       "│ 312 ┆ Ghostface    ┆ Cherchez     ┆ 2000-08-05  ┆ 98          ┆ 1         ┆ 98.0        ┆ 2.0    │\n",
       "│     ┆ Killah       ┆ LaGhost      ┆             ┆             ┆           ┆             ┆        │\n",
       "│ 313 ┆ Smith, Will  ┆ Freakin' It  ┆ 2000-02-12  ┆ 99          ┆ 4         ┆ 99.0        ┆ 4.0    │\n",
       "│ 314 ┆ Zombie       ┆ Kernkraft    ┆ 2000-09-02  ┆ 99          ┆ 2         ┆ 99.0        ┆ 2.0    │\n",
       "│     ┆ Nation       ┆ 400          ┆             ┆             ┆           ┆             ┆        │\n",
       "│ 315 ┆ Eastsidaz,   ┆ Got Beef     ┆ 2000-07-01  ┆ 99          ┆ 2         ┆ 99.0        ┆ 2.0    │\n",
       "│     ┆ The          ┆              ┆             ┆             ┆           ┆             ┆        │\n",
       "│ 316 ┆ Fragma       ┆ Toca's       ┆ 2000-10-28  ┆ 99          ┆ 1         ┆ 99.0        ┆ 1.0    │\n",
       "│     ┆              ┆ Miracle      ┆             ┆             ┆           ┆             ┆        │\n",
       "└─────┴──────────────┴──────────────┴─────────────┴─────────────┴───────────┴─────────────┴────────┘"
      ]
     },
     "execution_count": 34,
     "metadata": {},
     "output_type": "execute_result"
    }
   ],
   "source": [
    "scored_billboard.sort(by=\"id\")"
   ]
  },
  {
   "cell_type": "code",
   "execution_count": 35,
   "id": "6e61c054",
   "metadata": {},
   "outputs": [
    {
     "data": {
      "text/html": [
       "<div><style>\n",
       ".dataframe > thead > tr,\n",
       ".dataframe > tbody > tr {\n",
       "  text-align: right;\n",
       "  white-space: pre-wrap;\n",
       "}\n",
       "</style>\n",
       "<small>shape: (317, 8)</small><table border=\"1\" class=\"dataframe\"><thead><tr><th>id</th><th>artist</th><th>track</th><th>date_entered</th><th>peak_position</th><th>num_weeks</th><th>avg_position</th><th>score</th></tr><tr><td>i64</td><td>str</td><td>str</td><td>date</td><td>i64</td><td>u32</td><td>f64</td><td>f64</td></tr></thead><tbody><tr><td>246</td><td>&quot;2 Pac&quot;</td><td>&quot;Baby Don&#x27;t Cry (Keep Ya Head U…</td><td>2000-02-26</td><td>72</td><td>7</td><td>85.428571</td><td>102.0</td></tr><tr><td>287</td><td>&quot;2Ge+her&quot;</td><td>&quot;The Hardest Part Of Breaking U…</td><td>2000-09-02</td><td>87</td><td>3</td><td>90.0</td><td>30.0</td></tr><tr><td>24</td><td>&quot;3 Doors Down&quot;</td><td>&quot;Kryptonite&quot;</td><td>2000-04-08</td><td>3</td><td>53</td><td>26.471698</td><td>3897.0</td></tr><tr><td>193</td><td>&quot;3 Doors Down&quot;</td><td>&quot;Loser&quot;</td><td>2000-10-21</td><td>55</td><td>20</td><td>67.1</td><td>658.0</td></tr><tr><td>69</td><td>&quot;504 Boyz&quot;</td><td>&quot;Wobble Wobble&quot;</td><td>2000-04-15</td><td>17</td><td>18</td><td>56.222222</td><td>788.0</td></tr><tr><td>&hellip;</td><td>&hellip;</td><td>&hellip;</td><td>&hellip;</td><td>&hellip;</td><td>&hellip;</td><td>&hellip;</td><td>&hellip;</td></tr><tr><td>254</td><td>&quot;Yankee Grey&quot;</td><td>&quot;Another Nine Minutes&quot;</td><td>2000-04-29</td><td>74</td><td>8</td><td>83.125</td><td>135.0</td></tr><tr><td>277</td><td>&quot;Yearwood, Trisha&quot;</td><td>&quot;Real Live Woman&quot;</td><td>2000-04-01</td><td>81</td><td>6</td><td>84.166667</td><td>95.0</td></tr><tr><td>251</td><td>&quot;Ying Yang Twins&quot;</td><td>&quot;Whistle While You Twurk&quot;</td><td>2000-03-18</td><td>74</td><td>14</td><td>88.857143</td><td>156.0</td></tr><tr><td>314</td><td>&quot;Zombie Nation&quot;</td><td>&quot;Kernkraft 400&quot;</td><td>2000-09-02</td><td>99</td><td>2</td><td>99.0</td><td>2.0</td></tr><tr><td>15</td><td>&quot;matchbox twenty&quot;</td><td>&quot;Bent&quot;</td><td>2000-04-29</td><td>1</td><td>39</td><td>18.641026</td><td>3173.0</td></tr></tbody></table></div>"
      ],
      "text/plain": [
       "shape: (317, 8)\n",
       "┌─────┬──────────────┬──────────────┬─────────────┬─────────────┬───────────┬─────────────┬────────┐\n",
       "│ id  ┆ artist       ┆ track        ┆ date_entere ┆ peak_positi ┆ num_weeks ┆ avg_positio ┆ score  │\n",
       "│ --- ┆ ---          ┆ ---          ┆ d           ┆ on          ┆ ---       ┆ n           ┆ ---    │\n",
       "│ i64 ┆ str          ┆ str          ┆ ---         ┆ ---         ┆ u32       ┆ ---         ┆ f64    │\n",
       "│     ┆              ┆              ┆ date        ┆ i64         ┆           ┆ f64         ┆        │\n",
       "╞═════╪══════════════╪══════════════╪═════════════╪═════════════╪═══════════╪═════════════╪════════╡\n",
       "│ 246 ┆ 2 Pac        ┆ Baby Don't   ┆ 2000-02-26  ┆ 72          ┆ 7         ┆ 85.428571   ┆ 102.0  │\n",
       "│     ┆              ┆ Cry (Keep Ya ┆             ┆             ┆           ┆             ┆        │\n",
       "│     ┆              ┆ Head U…      ┆             ┆             ┆           ┆             ┆        │\n",
       "│ 287 ┆ 2Ge+her      ┆ The Hardest  ┆ 2000-09-02  ┆ 87          ┆ 3         ┆ 90.0        ┆ 30.0   │\n",
       "│     ┆              ┆ Part Of      ┆             ┆             ┆           ┆             ┆        │\n",
       "│     ┆              ┆ Breaking U…  ┆             ┆             ┆           ┆             ┆        │\n",
       "│ 24  ┆ 3 Doors Down ┆ Kryptonite   ┆ 2000-04-08  ┆ 3           ┆ 53        ┆ 26.471698   ┆ 3897.0 │\n",
       "│ 193 ┆ 3 Doors Down ┆ Loser        ┆ 2000-10-21  ┆ 55          ┆ 20        ┆ 67.1        ┆ 658.0  │\n",
       "│ 69  ┆ 504 Boyz     ┆ Wobble       ┆ 2000-04-15  ┆ 17          ┆ 18        ┆ 56.222222   ┆ 788.0  │\n",
       "│     ┆              ┆ Wobble       ┆             ┆             ┆           ┆             ┆        │\n",
       "│ …   ┆ …            ┆ …            ┆ …           ┆ …           ┆ …         ┆ …           ┆ …      │\n",
       "│ 254 ┆ Yankee Grey  ┆ Another Nine ┆ 2000-04-29  ┆ 74          ┆ 8         ┆ 83.125      ┆ 135.0  │\n",
       "│     ┆              ┆ Minutes      ┆             ┆             ┆           ┆             ┆        │\n",
       "│ 277 ┆ Yearwood,    ┆ Real Live    ┆ 2000-04-01  ┆ 81          ┆ 6         ┆ 84.166667   ┆ 95.0   │\n",
       "│     ┆ Trisha       ┆ Woman        ┆             ┆             ┆           ┆             ┆        │\n",
       "│ 251 ┆ Ying Yang    ┆ Whistle      ┆ 2000-03-18  ┆ 74          ┆ 14        ┆ 88.857143   ┆ 156.0  │\n",
       "│     ┆ Twins        ┆ While You    ┆             ┆             ┆           ┆             ┆        │\n",
       "│     ┆              ┆ Twurk        ┆             ┆             ┆           ┆             ┆        │\n",
       "│ 314 ┆ Zombie       ┆ Kernkraft    ┆ 2000-09-02  ┆ 99          ┆ 2         ┆ 99.0        ┆ 2.0    │\n",
       "│     ┆ Nation       ┆ 400          ┆             ┆             ┆           ┆             ┆        │\n",
       "│ 15  ┆ matchbox     ┆ Bent         ┆ 2000-04-29  ┆ 1           ┆ 39        ┆ 18.641026   ┆ 3173.0 │\n",
       "│     ┆ twenty       ┆              ┆             ┆             ┆           ┆             ┆        │\n",
       "└─────┴──────────────┴──────────────┴─────────────┴─────────────┴───────────┴─────────────┴────────┘"
      ]
     },
     "execution_count": 35,
     "metadata": {},
     "output_type": "execute_result"
    }
   ],
   "source": [
    "scored_billboard.sort(by=pl.col(\"artist\"))"
   ]
  },
  {
   "cell_type": "code",
   "execution_count": 36,
   "id": "4974bfbf",
   "metadata": {},
   "outputs": [
    {
     "data": {
      "text/html": [
       "<div><style>\n",
       ".dataframe > thead > tr,\n",
       ".dataframe > tbody > tr {\n",
       "  text-align: right;\n",
       "  white-space: pre-wrap;\n",
       "}\n",
       "</style>\n",
       "<small>shape: (317, 8)</small><table border=\"1\" class=\"dataframe\"><thead><tr><th>id</th><th>artist</th><th>track</th><th>date_entered</th><th>peak_position</th><th>num_weeks</th><th>avg_position</th><th>score</th></tr><tr><td>i64</td><td>str</td><td>str</td><td>date</td><td>i64</td><td>u32</td><td>f64</td><td>f64</td></tr></thead><tbody><tr><td>246</td><td>&quot;2 Pac&quot;</td><td>&quot;Baby Don&#x27;t Cry (Keep Ya Head U…</td><td>2000-02-26</td><td>72</td><td>7</td><td>85.428571</td><td>102.0</td></tr><tr><td>287</td><td>&quot;2Ge+her&quot;</td><td>&quot;The Hardest Part Of Breaking U…</td><td>2000-09-02</td><td>87</td><td>3</td><td>90.0</td><td>30.0</td></tr><tr><td>24</td><td>&quot;3 Doors Down&quot;</td><td>&quot;Kryptonite&quot;</td><td>2000-04-08</td><td>3</td><td>53</td><td>26.471698</td><td>3897.0</td></tr><tr><td>193</td><td>&quot;3 Doors Down&quot;</td><td>&quot;Loser&quot;</td><td>2000-10-21</td><td>55</td><td>20</td><td>67.1</td><td>658.0</td></tr><tr><td>69</td><td>&quot;504 Boyz&quot;</td><td>&quot;Wobble Wobble&quot;</td><td>2000-04-15</td><td>17</td><td>18</td><td>56.222222</td><td>788.0</td></tr><tr><td>&hellip;</td><td>&hellip;</td><td>&hellip;</td><td>&hellip;</td><td>&hellip;</td><td>&hellip;</td><td>&hellip;</td><td>&hellip;</td></tr><tr><td>223</td><td>&quot;Wright, Chely&quot;</td><td>&quot;It Was&quot;</td><td>2000-03-04</td><td>64</td><td>10</td><td>77.3</td><td>227.0</td></tr><tr><td>254</td><td>&quot;Yankee Grey&quot;</td><td>&quot;Another Nine Minutes&quot;</td><td>2000-04-29</td><td>74</td><td>8</td><td>83.125</td><td>135.0</td></tr><tr><td>277</td><td>&quot;Yearwood, Trisha&quot;</td><td>&quot;Real Live Woman&quot;</td><td>2000-04-01</td><td>81</td><td>6</td><td>84.166667</td><td>95.0</td></tr><tr><td>251</td><td>&quot;Ying Yang Twins&quot;</td><td>&quot;Whistle While You Twurk&quot;</td><td>2000-03-18</td><td>74</td><td>14</td><td>88.857143</td><td>156.0</td></tr><tr><td>314</td><td>&quot;Zombie Nation&quot;</td><td>&quot;Kernkraft 400&quot;</td><td>2000-09-02</td><td>99</td><td>2</td><td>99.0</td><td>2.0</td></tr></tbody></table></div>"
      ],
      "text/plain": [
       "shape: (317, 8)\n",
       "┌─────┬──────────────┬──────────────┬─────────────┬─────────────┬───────────┬─────────────┬────────┐\n",
       "│ id  ┆ artist       ┆ track        ┆ date_entere ┆ peak_positi ┆ num_weeks ┆ avg_positio ┆ score  │\n",
       "│ --- ┆ ---          ┆ ---          ┆ d           ┆ on          ┆ ---       ┆ n           ┆ ---    │\n",
       "│ i64 ┆ str          ┆ str          ┆ ---         ┆ ---         ┆ u32       ┆ ---         ┆ f64    │\n",
       "│     ┆              ┆              ┆ date        ┆ i64         ┆           ┆ f64         ┆        │\n",
       "╞═════╪══════════════╪══════════════╪═════════════╪═════════════╪═══════════╪═════════════╪════════╡\n",
       "│ 246 ┆ 2 Pac        ┆ Baby Don't   ┆ 2000-02-26  ┆ 72          ┆ 7         ┆ 85.428571   ┆ 102.0  │\n",
       "│     ┆              ┆ Cry (Keep Ya ┆             ┆             ┆           ┆             ┆        │\n",
       "│     ┆              ┆ Head U…      ┆             ┆             ┆           ┆             ┆        │\n",
       "│ 287 ┆ 2Ge+her      ┆ The Hardest  ┆ 2000-09-02  ┆ 87          ┆ 3         ┆ 90.0        ┆ 30.0   │\n",
       "│     ┆              ┆ Part Of      ┆             ┆             ┆           ┆             ┆        │\n",
       "│     ┆              ┆ Breaking U…  ┆             ┆             ┆           ┆             ┆        │\n",
       "│ 24  ┆ 3 Doors Down ┆ Kryptonite   ┆ 2000-04-08  ┆ 3           ┆ 53        ┆ 26.471698   ┆ 3897.0 │\n",
       "│ 193 ┆ 3 Doors Down ┆ Loser        ┆ 2000-10-21  ┆ 55          ┆ 20        ┆ 67.1        ┆ 658.0  │\n",
       "│ 69  ┆ 504 Boyz     ┆ Wobble       ┆ 2000-04-15  ┆ 17          ┆ 18        ┆ 56.222222   ┆ 788.0  │\n",
       "│     ┆              ┆ Wobble       ┆             ┆             ┆           ┆             ┆        │\n",
       "│ …   ┆ …            ┆ …            ┆ …           ┆ …           ┆ …         ┆ …           ┆ …      │\n",
       "│ 223 ┆ Wright,      ┆ It Was       ┆ 2000-03-04  ┆ 64          ┆ 10        ┆ 77.3        ┆ 227.0  │\n",
       "│     ┆ Chely        ┆              ┆             ┆             ┆           ┆             ┆        │\n",
       "│ 254 ┆ Yankee Grey  ┆ Another Nine ┆ 2000-04-29  ┆ 74          ┆ 8         ┆ 83.125      ┆ 135.0  │\n",
       "│     ┆              ┆ Minutes      ┆             ┆             ┆           ┆             ┆        │\n",
       "│ 277 ┆ Yearwood,    ┆ Real Live    ┆ 2000-04-01  ┆ 81          ┆ 6         ┆ 84.166667   ┆ 95.0   │\n",
       "│     ┆ Trisha       ┆ Woman        ┆             ┆             ┆           ┆             ┆        │\n",
       "│ 251 ┆ Ying Yang    ┆ Whistle      ┆ 2000-03-18  ┆ 74          ┆ 14        ┆ 88.857143   ┆ 156.0  │\n",
       "│     ┆ Twins        ┆ While You    ┆             ┆             ┆           ┆             ┆        │\n",
       "│     ┆              ┆ Twurk        ┆             ┆             ┆           ┆             ┆        │\n",
       "│ 314 ┆ Zombie       ┆ Kernkraft    ┆ 2000-09-02  ┆ 99          ┆ 2         ┆ 99.0        ┆ 2.0    │\n",
       "│     ┆ Nation       ┆ 400          ┆             ┆             ┆           ┆             ┆        │\n",
       "└─────┴──────────────┴──────────────┴─────────────┴─────────────┴───────────┴─────────────┴────────┘"
      ]
     },
     "execution_count": 36,
     "metadata": {},
     "output_type": "execute_result"
    }
   ],
   "source": [
    "scored_billboard.sort(by=pl.col(\"artist\").str.to_lowercase())"
   ]
  },
  {
   "cell_type": "code",
   "execution_count": 37,
   "id": "805b0b56",
   "metadata": {},
   "outputs": [
    {
     "data": {
      "text/html": [
       "<div><style>\n",
       ".dataframe > thead > tr,\n",
       ".dataframe > tbody > tr {\n",
       "  text-align: right;\n",
       "  white-space: pre-wrap;\n",
       "}\n",
       "</style>\n",
       "<small>shape: (317, 8)</small><table border=\"1\" class=\"dataframe\"><thead><tr><th>id</th><th>artist</th><th>track</th><th>date_entered</th><th>peak_position</th><th>num_weeks</th><th>avg_position</th><th>score</th></tr><tr><td>i64</td><td>str</td><td>str</td><td>date</td><td>i64</td><td>u32</td><td>f64</td><td>f64</td></tr></thead><tbody><tr><td>46</td><td>&quot;Creed&quot;</td><td>&quot;Higher&quot;</td><td>1999-09-11</td><td>7</td><td>57</td><td>36.859649</td><td>3599.0</td></tr><tr><td>9</td><td>&quot;Lonestar&quot;</td><td>&quot;Amazed&quot;</td><td>1999-06-05</td><td>1</td><td>55</td><td>26.727273</td><td>4030.0</td></tr><tr><td>24</td><td>&quot;3 Doors Down&quot;</td><td>&quot;Kryptonite&quot;</td><td>2000-04-08</td><td>3</td><td>53</td><td>26.471698</td><td>3897.0</td></tr><tr><td>17</td><td>&quot;Hill, Faith&quot;</td><td>&quot;Breathe&quot;</td><td>1999-11-06</td><td>2</td><td>53</td><td>23.018868</td><td>4080.0</td></tr><tr><td>13</td><td>&quot;Creed&quot;</td><td>&quot;With Arms Wide Open&quot;</td><td>2000-05-13</td><td>1</td><td>47</td><td>33.829787</td><td>3110.0</td></tr><tr><td>&hellip;</td><td>&hellip;</td><td>&hellip;</td><td>&hellip;</td><td>&hellip;</td><td>&hellip;</td><td>&hellip;</td><td>&hellip;</td></tr><tr><td>315</td><td>&quot;Eastsidaz, The&quot;</td><td>&quot;Got Beef&quot;</td><td>2000-07-01</td><td>99</td><td>2</td><td>99.0</td><td>2.0</td></tr><tr><td>271</td><td>&quot;Estefan, Gloria&quot;</td><td>&quot;No Me Dejes De Querer&quot;</td><td>2000-06-10</td><td>77</td><td>1</td><td>77.0</td><td>23.0</td></tr><tr><td>312</td><td>&quot;Ghostface Killah&quot;</td><td>&quot;Cherchez LaGhost&quot;</td><td>2000-08-05</td><td>98</td><td>1</td><td>98.0</td><td>2.0</td></tr><tr><td>316</td><td>&quot;Fragma&quot;</td><td>&quot;Toca&#x27;s Miracle&quot;</td><td>2000-10-28</td><td>99</td><td>1</td><td>99.0</td><td>1.0</td></tr><tr><td>311</td><td>&quot;Master P&quot;</td><td>&quot;Souljas&quot;</td><td>2000-11-18</td><td>98</td><td>1</td><td>98.0</td><td>2.0</td></tr></tbody></table></div>"
      ],
      "text/plain": [
       "shape: (317, 8)\n",
       "┌─────┬──────────────┬──────────────┬─────────────┬─────────────┬───────────┬─────────────┬────────┐\n",
       "│ id  ┆ artist       ┆ track        ┆ date_entere ┆ peak_positi ┆ num_weeks ┆ avg_positio ┆ score  │\n",
       "│ --- ┆ ---          ┆ ---          ┆ d           ┆ on          ┆ ---       ┆ n           ┆ ---    │\n",
       "│ i64 ┆ str          ┆ str          ┆ ---         ┆ ---         ┆ u32       ┆ ---         ┆ f64    │\n",
       "│     ┆              ┆              ┆ date        ┆ i64         ┆           ┆ f64         ┆        │\n",
       "╞═════╪══════════════╪══════════════╪═════════════╪═════════════╪═══════════╪═════════════╪════════╡\n",
       "│ 46  ┆ Creed        ┆ Higher       ┆ 1999-09-11  ┆ 7           ┆ 57        ┆ 36.859649   ┆ 3599.0 │\n",
       "│ 9   ┆ Lonestar     ┆ Amazed       ┆ 1999-06-05  ┆ 1           ┆ 55        ┆ 26.727273   ┆ 4030.0 │\n",
       "│ 24  ┆ 3 Doors Down ┆ Kryptonite   ┆ 2000-04-08  ┆ 3           ┆ 53        ┆ 26.471698   ┆ 3897.0 │\n",
       "│ 17  ┆ Hill, Faith  ┆ Breathe      ┆ 1999-11-06  ┆ 2           ┆ 53        ┆ 23.018868   ┆ 4080.0 │\n",
       "│ 13  ┆ Creed        ┆ With Arms    ┆ 2000-05-13  ┆ 1           ┆ 47        ┆ 33.829787   ┆ 3110.0 │\n",
       "│     ┆              ┆ Wide Open    ┆             ┆             ┆           ┆             ┆        │\n",
       "│ …   ┆ …            ┆ …            ┆ …           ┆ …           ┆ …         ┆ …           ┆ …      │\n",
       "│ 315 ┆ Eastsidaz,   ┆ Got Beef     ┆ 2000-07-01  ┆ 99          ┆ 2         ┆ 99.0        ┆ 2.0    │\n",
       "│     ┆ The          ┆              ┆             ┆             ┆           ┆             ┆        │\n",
       "│ 271 ┆ Estefan,     ┆ No Me Dejes  ┆ 2000-06-10  ┆ 77          ┆ 1         ┆ 77.0        ┆ 23.0   │\n",
       "│     ┆ Gloria       ┆ De Querer    ┆             ┆             ┆           ┆             ┆        │\n",
       "│ 312 ┆ Ghostface    ┆ Cherchez     ┆ 2000-08-05  ┆ 98          ┆ 1         ┆ 98.0        ┆ 2.0    │\n",
       "│     ┆ Killah       ┆ LaGhost      ┆             ┆             ┆           ┆             ┆        │\n",
       "│ 316 ┆ Fragma       ┆ Toca's       ┆ 2000-10-28  ┆ 99          ┆ 1         ┆ 99.0        ┆ 1.0    │\n",
       "│     ┆              ┆ Miracle      ┆             ┆             ┆           ┆             ┆        │\n",
       "│ 311 ┆ Master P     ┆ Souljas      ┆ 2000-11-18  ┆ 98          ┆ 1         ┆ 98.0        ┆ 2.0    │\n",
       "└─────┴──────────────┴──────────────┴─────────────┴─────────────┴───────────┴─────────────┴────────┘"
      ]
     },
     "execution_count": 37,
     "metadata": {},
     "output_type": "execute_result"
    }
   ],
   "source": [
    "scored_billboard.sort(by=\"num_weeks\", descending=True)"
   ]
  },
  {
   "cell_type": "code",
   "execution_count": 38,
   "id": "cbb54d55",
   "metadata": {},
   "outputs": [
    {
     "data": {
      "text/html": [
       "<div><style>\n",
       ".dataframe > thead > tr,\n",
       ".dataframe > tbody > tr {\n",
       "  text-align: right;\n",
       "  white-space: pre-wrap;\n",
       "}\n",
       "</style>\n",
       "<small>shape: (317, 8)</small><table border=\"1\" class=\"dataframe\"><thead><tr><th>id</th><th>artist</th><th>track</th><th>date_entered</th><th>peak_position</th><th>num_weeks</th><th>avg_position</th><th>score</th></tr><tr><td>i64</td><td>str</td><td>str</td><td>date</td><td>i64</td><td>u32</td><td>f64</td><td>f64</td></tr></thead><tbody><tr><td>9</td><td>&quot;Lonestar&quot;</td><td>&quot;Amazed&quot;</td><td>1999-06-05</td><td>1</td><td>55</td><td>26.727273</td><td>4030.0</td></tr><tr><td>13</td><td>&quot;Creed&quot;</td><td>&quot;With Arms Wide Open&quot;</td><td>2000-05-13</td><td>1</td><td>47</td><td>33.829787</td><td>3110.0</td></tr><tr><td>12</td><td>&quot;Vertical Horizon&quot;</td><td>&quot;Everything You Want&quot;</td><td>2000-01-22</td><td>1</td><td>41</td><td>21.439024</td><td>3221.0</td></tr><tr><td>15</td><td>&quot;matchbox twenty&quot;</td><td>&quot;Bent&quot;</td><td>2000-04-29</td><td>1</td><td>39</td><td>18.641026</td><td>3173.0</td></tr><tr><td>2</td><td>&quot;Savage Garden&quot;</td><td>&quot;I Knew I Loved You&quot;</td><td>1999-10-23</td><td>1</td><td>33</td><td>17.363636</td><td>2727.0</td></tr><tr><td>&hellip;</td><td>&hellip;</td><td>&hellip;</td><td>&hellip;</td><td>&hellip;</td><td>&hellip;</td><td>&hellip;</td><td>&hellip;</td></tr><tr><td>311</td><td>&quot;Master P&quot;</td><td>&quot;Souljas&quot;</td><td>2000-11-18</td><td>98</td><td>1</td><td>98.0</td><td>2.0</td></tr><tr><td>313</td><td>&quot;Smith, Will&quot;</td><td>&quot;Freakin&#x27; It&quot;</td><td>2000-02-12</td><td>99</td><td>4</td><td>99.0</td><td>4.0</td></tr><tr><td>314</td><td>&quot;Zombie Nation&quot;</td><td>&quot;Kernkraft 400&quot;</td><td>2000-09-02</td><td>99</td><td>2</td><td>99.0</td><td>2.0</td></tr><tr><td>315</td><td>&quot;Eastsidaz, The&quot;</td><td>&quot;Got Beef&quot;</td><td>2000-07-01</td><td>99</td><td>2</td><td>99.0</td><td>2.0</td></tr><tr><td>316</td><td>&quot;Fragma&quot;</td><td>&quot;Toca&#x27;s Miracle&quot;</td><td>2000-10-28</td><td>99</td><td>1</td><td>99.0</td><td>1.0</td></tr></tbody></table></div>"
      ],
      "text/plain": [
       "shape: (317, 8)\n",
       "┌─────┬──────────────┬──────────────┬─────────────┬─────────────┬───────────┬─────────────┬────────┐\n",
       "│ id  ┆ artist       ┆ track        ┆ date_entere ┆ peak_positi ┆ num_weeks ┆ avg_positio ┆ score  │\n",
       "│ --- ┆ ---          ┆ ---          ┆ d           ┆ on          ┆ ---       ┆ n           ┆ ---    │\n",
       "│ i64 ┆ str          ┆ str          ┆ ---         ┆ ---         ┆ u32       ┆ ---         ┆ f64    │\n",
       "│     ┆              ┆              ┆ date        ┆ i64         ┆           ┆ f64         ┆        │\n",
       "╞═════╪══════════════╪══════════════╪═════════════╪═════════════╪═══════════╪═════════════╪════════╡\n",
       "│ 9   ┆ Lonestar     ┆ Amazed       ┆ 1999-06-05  ┆ 1           ┆ 55        ┆ 26.727273   ┆ 4030.0 │\n",
       "│ 13  ┆ Creed        ┆ With Arms    ┆ 2000-05-13  ┆ 1           ┆ 47        ┆ 33.829787   ┆ 3110.0 │\n",
       "│     ┆              ┆ Wide Open    ┆             ┆             ┆           ┆             ┆        │\n",
       "│ 12  ┆ Vertical     ┆ Everything   ┆ 2000-01-22  ┆ 1           ┆ 41        ┆ 21.439024   ┆ 3221.0 │\n",
       "│     ┆ Horizon      ┆ You Want     ┆             ┆             ┆           ┆             ┆        │\n",
       "│ 15  ┆ matchbox     ┆ Bent         ┆ 2000-04-29  ┆ 1           ┆ 39        ┆ 18.641026   ┆ 3173.0 │\n",
       "│     ┆ twenty       ┆              ┆             ┆             ┆           ┆             ┆        │\n",
       "│ 2   ┆ Savage       ┆ I Knew I     ┆ 1999-10-23  ┆ 1           ┆ 33        ┆ 17.363636   ┆ 2727.0 │\n",
       "│     ┆ Garden       ┆ Loved You    ┆             ┆             ┆           ┆             ┆        │\n",
       "│ …   ┆ …            ┆ …            ┆ …           ┆ …           ┆ …         ┆ …           ┆ …      │\n",
       "│ 311 ┆ Master P     ┆ Souljas      ┆ 2000-11-18  ┆ 98          ┆ 1         ┆ 98.0        ┆ 2.0    │\n",
       "│ 313 ┆ Smith, Will  ┆ Freakin' It  ┆ 2000-02-12  ┆ 99          ┆ 4         ┆ 99.0        ┆ 4.0    │\n",
       "│ 314 ┆ Zombie       ┆ Kernkraft    ┆ 2000-09-02  ┆ 99          ┆ 2         ┆ 99.0        ┆ 2.0    │\n",
       "│     ┆ Nation       ┆ 400          ┆             ┆             ┆           ┆             ┆        │\n",
       "│ 315 ┆ Eastsidaz,   ┆ Got Beef     ┆ 2000-07-01  ┆ 99          ┆ 2         ┆ 99.0        ┆ 2.0    │\n",
       "│     ┆ The          ┆              ┆             ┆             ┆           ┆             ┆        │\n",
       "│ 316 ┆ Fragma       ┆ Toca's       ┆ 2000-10-28  ┆ 99          ┆ 1         ┆ 99.0        ┆ 1.0    │\n",
       "│     ┆              ┆ Miracle      ┆             ┆             ┆           ┆             ┆        │\n",
       "└─────┴──────────────┴──────────────┴─────────────┴─────────────┴───────────┴─────────────┴────────┘"
      ]
     },
     "execution_count": 38,
     "metadata": {},
     "output_type": "execute_result"
    }
   ],
   "source": [
    "scored_billboard.sort(by=[\"peak_position\", \"num_weeks\"], descending=[False, True])"
   ]
  },
  {
   "cell_type": "code",
   "execution_count": 39,
   "id": "da32ed37",
   "metadata": {},
   "outputs": [
    {
     "data": {
      "text/html": [
       "<div><style>\n",
       ".dataframe > thead > tr,\n",
       ".dataframe > tbody > tr {\n",
       "  text-align: right;\n",
       "  white-space: pre-wrap;\n",
       "}\n",
       "</style>\n",
       "<small>shape: (317, 8)</small><table border=\"1\" class=\"dataframe\"><thead><tr><th>id</th><th>artist</th><th>track</th><th>date_entered</th><th>peak_position</th><th>num_weeks</th><th>avg_position</th><th>score</th></tr><tr><td>i64</td><td>str</td><td>str</td><td>date</td><td>i64</td><td>u32</td><td>f64</td><td>f64</td></tr></thead><tbody><tr><td>17</td><td>&quot;Hill, Faith&quot;</td><td>&quot;Breathe&quot;</td><td>1999-11-06</td><td>2</td><td>53</td><td>23.018868</td><td>4080.0</td></tr><tr><td>9</td><td>&quot;Lonestar&quot;</td><td>&quot;Amazed&quot;</td><td>1999-06-05</td><td>1</td><td>55</td><td>26.727273</td><td>4030.0</td></tr><tr><td>24</td><td>&quot;3 Doors Down&quot;</td><td>&quot;Kryptonite&quot;</td><td>2000-04-08</td><td>3</td><td>53</td><td>26.471698</td><td>3897.0</td></tr><tr><td>46</td><td>&quot;Creed&quot;</td><td>&quot;Higher&quot;</td><td>1999-09-11</td><td>7</td><td>57</td><td>36.859649</td><td>3599.0</td></tr><tr><td>28</td><td>&quot;Joe&quot;</td><td>&quot;I Wanna Know&quot;</td><td>2000-01-01</td><td>4</td><td>44</td><td>21.204545</td><td>3467.0</td></tr><tr><td>&hellip;</td><td>&hellip;</td><td>&hellip;</td><td>&hellip;</td><td>&hellip;</td><td>&hellip;</td><td>&hellip;</td><td>&hellip;</td></tr><tr><td>312</td><td>&quot;Ghostface Killah&quot;</td><td>&quot;Cherchez LaGhost&quot;</td><td>2000-08-05</td><td>98</td><td>1</td><td>98.0</td><td>2.0</td></tr><tr><td>314</td><td>&quot;Zombie Nation&quot;</td><td>&quot;Kernkraft 400&quot;</td><td>2000-09-02</td><td>99</td><td>2</td><td>99.0</td><td>2.0</td></tr><tr><td>311</td><td>&quot;Master P&quot;</td><td>&quot;Souljas&quot;</td><td>2000-11-18</td><td>98</td><td>1</td><td>98.0</td><td>2.0</td></tr><tr><td>315</td><td>&quot;Eastsidaz, The&quot;</td><td>&quot;Got Beef&quot;</td><td>2000-07-01</td><td>99</td><td>2</td><td>99.0</td><td>2.0</td></tr><tr><td>316</td><td>&quot;Fragma&quot;</td><td>&quot;Toca&#x27;s Miracle&quot;</td><td>2000-10-28</td><td>99</td><td>1</td><td>99.0</td><td>1.0</td></tr></tbody></table></div>"
      ],
      "text/plain": [
       "shape: (317, 8)\n",
       "┌─────┬──────────────┬──────────────┬─────────────┬─────────────┬───────────┬─────────────┬────────┐\n",
       "│ id  ┆ artist       ┆ track        ┆ date_entere ┆ peak_positi ┆ num_weeks ┆ avg_positio ┆ score  │\n",
       "│ --- ┆ ---          ┆ ---          ┆ d           ┆ on          ┆ ---       ┆ n           ┆ ---    │\n",
       "│ i64 ┆ str          ┆ str          ┆ ---         ┆ ---         ┆ u32       ┆ ---         ┆ f64    │\n",
       "│     ┆              ┆              ┆ date        ┆ i64         ┆           ┆ f64         ┆        │\n",
       "╞═════╪══════════════╪══════════════╪═════════════╪═════════════╪═══════════╪═════════════╪════════╡\n",
       "│ 17  ┆ Hill, Faith  ┆ Breathe      ┆ 1999-11-06  ┆ 2           ┆ 53        ┆ 23.018868   ┆ 4080.0 │\n",
       "│ 9   ┆ Lonestar     ┆ Amazed       ┆ 1999-06-05  ┆ 1           ┆ 55        ┆ 26.727273   ┆ 4030.0 │\n",
       "│ 24  ┆ 3 Doors Down ┆ Kryptonite   ┆ 2000-04-08  ┆ 3           ┆ 53        ┆ 26.471698   ┆ 3897.0 │\n",
       "│ 46  ┆ Creed        ┆ Higher       ┆ 1999-09-11  ┆ 7           ┆ 57        ┆ 36.859649   ┆ 3599.0 │\n",
       "│ 28  ┆ Joe          ┆ I Wanna Know ┆ 2000-01-01  ┆ 4           ┆ 44        ┆ 21.204545   ┆ 3467.0 │\n",
       "│ …   ┆ …            ┆ …            ┆ …           ┆ …           ┆ …         ┆ …           ┆ …      │\n",
       "│ 312 ┆ Ghostface    ┆ Cherchez     ┆ 2000-08-05  ┆ 98          ┆ 1         ┆ 98.0        ┆ 2.0    │\n",
       "│     ┆ Killah       ┆ LaGhost      ┆             ┆             ┆           ┆             ┆        │\n",
       "│ 314 ┆ Zombie       ┆ Kernkraft    ┆ 2000-09-02  ┆ 99          ┆ 2         ┆ 99.0        ┆ 2.0    │\n",
       "│     ┆ Nation       ┆ 400          ┆             ┆             ┆           ┆             ┆        │\n",
       "│ 311 ┆ Master P     ┆ Souljas      ┆ 2000-11-18  ┆ 98          ┆ 1         ┆ 98.0        ┆ 2.0    │\n",
       "│ 315 ┆ Eastsidaz,   ┆ Got Beef     ┆ 2000-07-01  ┆ 99          ┆ 2         ┆ 99.0        ┆ 2.0    │\n",
       "│     ┆ The          ┆              ┆             ┆             ┆           ┆             ┆        │\n",
       "│ 316 ┆ Fragma       ┆ Toca's       ┆ 2000-10-28  ┆ 99          ┆ 1         ┆ 99.0        ┆ 1.0    │\n",
       "│     ┆              ┆ Miracle      ┆             ┆             ┆           ┆             ┆        │\n",
       "└─────┴──────────────┴──────────────┴─────────────┴─────────────┴───────────┴─────────────┴────────┘"
      ]
     },
     "execution_count": 39,
     "metadata": {},
     "output_type": "execute_result"
    }
   ],
   "source": [
    "scored_billboard.sort(by=pl.col(\"score\"), descending=True)"
   ]
  },
  {
   "cell_type": "markdown",
   "id": "b39e9caa",
   "metadata": {},
   "source": [
    "## Share Results and Insights\n",
    "\n",
    "When you want to share your insights, you often want to **untidy** your data again:"
   ]
  },
  {
   "cell_type": "code",
   "execution_count": 40,
   "id": "d5d2648f",
   "metadata": {},
   "outputs": [
    {
     "data": {
      "text/html": [
       "<div><style>\n",
       ".dataframe > thead > tr,\n",
       ".dataframe > tbody > tr {\n",
       "  text-align: right;\n",
       "  white-space: pre-wrap;\n",
       "}\n",
       "</style>\n",
       "<small>shape: (8, 3)</small><table border=\"1\" class=\"dataframe\"><thead><tr><th>timestamp</th><th>6</th><th>5</th></tr><tr><td>datetime[μs]</td><td>str</td><td>str</td></tr></thead><tbody><tr><td>2024-08-26 09:00:00</td><td>&quot;Introduction to Python&quot;</td><td>&quot;What is the magic of magic met…</td></tr><tr><td>2024-08-26 11:00:00</td><td>&quot;Introduction to NumPy&quot;</td><td>&quot;Decorators - A deep dive&quot;</td></tr><tr><td>2024-08-26 14:00:00</td><td>&quot;Introduction to matplotlib for…</td><td>&quot;Probabilistic classification a…</td></tr><tr><td>2024-08-26 16:00:00</td><td>&quot;Image Analysis in Python with …</td><td>&quot;Using the Array API to write c…</td></tr><tr><td>2024-08-27 09:00:00</td><td>&quot;Introduction to Polars: Fast a…</td><td>&quot;Building robust workflows with…</td></tr><tr><td>2024-08-27 11:00:00</td><td>&quot;Using Wikipedia as a language …</td><td>&quot;Combining Python and Rust to c…</td></tr><tr><td>2024-08-27 14:00:00</td><td>&quot;Introduction to machine learni…</td><td>&quot;Multi-dimensional arrays with …</td></tr><tr><td>2024-08-27 16:00:00</td><td>&quot;A hitchhiker&#x27;s guide to contri…</td><td>&quot;sktime - Python toolbox for ti…</td></tr></tbody></table></div>"
      ],
      "text/plain": [
       "shape: (8, 3)\n",
       "┌─────────────────────┬─────────────────────────────────┬─────────────────────────────────┐\n",
       "│ timestamp           ┆ 6                               ┆ 5                               │\n",
       "│ ---                 ┆ ---                             ┆ ---                             │\n",
       "│ datetime[μs]        ┆ str                             ┆ str                             │\n",
       "╞═════════════════════╪═════════════════════════════════╪═════════════════════════════════╡\n",
       "│ 2024-08-26 09:00:00 ┆ Introduction to Python          ┆ What is the magic of magic met… │\n",
       "│ 2024-08-26 11:00:00 ┆ Introduction to NumPy           ┆ Decorators - A deep dive        │\n",
       "│ 2024-08-26 14:00:00 ┆ Introduction to matplotlib for… ┆ Probabilistic classification a… │\n",
       "│ 2024-08-26 16:00:00 ┆ Image Analysis in Python with … ┆ Using the Array API to write c… │\n",
       "│ 2024-08-27 09:00:00 ┆ Introduction to Polars: Fast a… ┆ Building robust workflows with… │\n",
       "│ 2024-08-27 11:00:00 ┆ Using Wikipedia as a language … ┆ Combining Python and Rust to c… │\n",
       "│ 2024-08-27 14:00:00 ┆ Introduction to machine learni… ┆ Multi-dimensional arrays with … │\n",
       "│ 2024-08-27 16:00:00 ┆ A hitchhiker's guide to contri… ┆ sktime - Python toolbox for ti… │\n",
       "└─────────────────────┴─────────────────────────────────┴─────────────────────────────────┘"
      ]
     },
     "execution_count": 40,
     "metadata": {},
     "output_type": "execute_result"
    }
   ],
   "source": [
    "schedule.pivot(on=\"room\", index=\"timestamp\", values=\"title\")"
   ]
  },
  {
   "cell_type": "markdown",
   "id": "98065c87",
   "metadata": {},
   "source": [
    "In the same way you can use Polars to read from many different data sources, you can also write to many different outputs, both in memory and on file."
   ]
  },
  {
   "cell_type": "code",
   "execution_count": 41,
   "id": "11e60aaf",
   "metadata": {},
   "outputs": [
    {
     "data": {
      "text/plain": [
       "['to_arrow',\n",
       " 'to_dict',\n",
       " 'to_dicts',\n",
       " 'to_dummies',\n",
       " 'to_init_repr',\n",
       " 'to_jax',\n",
       " 'to_numpy',\n",
       " 'to_pandas',\n",
       " 'to_series',\n",
       " 'to_struct',\n",
       " 'to_torch',\n",
       " 'write_avro',\n",
       " 'write_clipboard',\n",
       " 'write_csv',\n",
       " 'write_database',\n",
       " 'write_delta',\n",
       " 'write_excel',\n",
       " 'write_ipc',\n",
       " 'write_ipc_stream',\n",
       " 'write_json',\n",
       " 'write_ndjson',\n",
       " 'write_parquet']"
      ]
     },
     "execution_count": 41,
     "metadata": {},
     "output_type": "execute_result"
    }
   ],
   "source": [
    "[\n",
    "    method\n",
    "    for method in dir(schedule)\n",
    "    if method.startswith(\"to_\") or method.startswith(\"write_\")\n",
    "]"
   ]
  },
  {
   "cell_type": "code",
   "execution_count": 42,
   "id": "8c20aada",
   "metadata": {},
   "outputs": [],
   "source": [
    "(\n",
    "    scored_billboard.sort(by=\"score\", descending=True)\n",
    "    .head(10)\n",
    "    .select(pl.col(\"artist\", \"track\", \"num_weeks\"))\n",
    "    .write_csv(\"top_songs_2000.csv\")\n",
    ")"
   ]
  },
  {
   "cell_type": "code",
   "execution_count": 43,
   "id": "87d15e9e",
   "metadata": {},
   "outputs": [
    {
     "data": {
      "application/javascript": [
       "(function(root) {\n",
       "  function now() {\n",
       "    return new Date();\n",
       "  }\n",
       "\n",
       "  var force = true;\n",
       "  var py_version = '3.4.3'.replace('rc', '-rc.').replace('.dev', '-dev.');\n",
       "  var reloading = false;\n",
       "  var Bokeh = root.Bokeh;\n",
       "\n",
       "  if (typeof (root._bokeh_timeout) === \"undefined\" || force) {\n",
       "    root._bokeh_timeout = Date.now() + 5000;\n",
       "    root._bokeh_failed_load = false;\n",
       "  }\n",
       "\n",
       "  function run_callbacks() {\n",
       "    try {\n",
       "      root._bokeh_onload_callbacks.forEach(function(callback) {\n",
       "        if (callback != null)\n",
       "          callback();\n",
       "      });\n",
       "    } finally {\n",
       "      delete root._bokeh_onload_callbacks;\n",
       "    }\n",
       "    console.debug(\"Bokeh: all callbacks have finished\");\n",
       "  }\n",
       "\n",
       "  function load_libs(css_urls, js_urls, js_modules, js_exports, callback) {\n",
       "    if (css_urls == null) css_urls = [];\n",
       "    if (js_urls == null) js_urls = [];\n",
       "    if (js_modules == null) js_modules = [];\n",
       "    if (js_exports == null) js_exports = {};\n",
       "\n",
       "    root._bokeh_onload_callbacks.push(callback);\n",
       "\n",
       "    if (root._bokeh_is_loading > 0) {\n",
       "      console.debug(\"Bokeh: BokehJS is being loaded, scheduling callback at\", now());\n",
       "      return null;\n",
       "    }\n",
       "    if (js_urls.length === 0 && js_modules.length === 0 && Object.keys(js_exports).length === 0) {\n",
       "      run_callbacks();\n",
       "      return null;\n",
       "    }\n",
       "    if (!reloading) {\n",
       "      console.debug(\"Bokeh: BokehJS not loaded, scheduling load and callback at\", now());\n",
       "    }\n",
       "\n",
       "    function on_load() {\n",
       "      root._bokeh_is_loading--;\n",
       "      if (root._bokeh_is_loading === 0) {\n",
       "        console.debug(\"Bokeh: all BokehJS libraries/stylesheets loaded\");\n",
       "        run_callbacks()\n",
       "      }\n",
       "    }\n",
       "    window._bokeh_on_load = on_load\n",
       "\n",
       "    function on_error() {\n",
       "      console.error(\"failed to load \" + url);\n",
       "    }\n",
       "\n",
       "    var skip = [];\n",
       "    if (window.requirejs) {\n",
       "      window.requirejs.config({'packages': {}, 'paths': {}, 'shim': {}});\n",
       "      root._bokeh_is_loading = css_urls.length + 0;\n",
       "    } else {\n",
       "      root._bokeh_is_loading = css_urls.length + js_urls.length + js_modules.length + Object.keys(js_exports).length;\n",
       "    }\n",
       "\n",
       "    var existing_stylesheets = []\n",
       "    var links = document.getElementsByTagName('link')\n",
       "    for (var i = 0; i < links.length; i++) {\n",
       "      var link = links[i]\n",
       "      if (link.href != null) {\n",
       "\texisting_stylesheets.push(link.href)\n",
       "      }\n",
       "    }\n",
       "    for (var i = 0; i < css_urls.length; i++) {\n",
       "      var url = css_urls[i];\n",
       "      if (existing_stylesheets.indexOf(url) !== -1) {\n",
       "\ton_load()\n",
       "\tcontinue;\n",
       "      }\n",
       "      const element = document.createElement(\"link\");\n",
       "      element.onload = on_load;\n",
       "      element.onerror = on_error;\n",
       "      element.rel = \"stylesheet\";\n",
       "      element.type = \"text/css\";\n",
       "      element.href = url;\n",
       "      console.debug(\"Bokeh: injecting link tag for BokehJS stylesheet: \", url);\n",
       "      document.body.appendChild(element);\n",
       "    }    var existing_scripts = []\n",
       "    var scripts = document.getElementsByTagName('script')\n",
       "    for (var i = 0; i < scripts.length; i++) {\n",
       "      var script = scripts[i]\n",
       "      if (script.src != null) {\n",
       "\texisting_scripts.push(script.src)\n",
       "      }\n",
       "    }\n",
       "    for (var i = 0; i < js_urls.length; i++) {\n",
       "      var url = js_urls[i];\n",
       "      if (skip.indexOf(url) !== -1 || existing_scripts.indexOf(url) !== -1) {\n",
       "\tif (!window.requirejs) {\n",
       "\t  on_load();\n",
       "\t}\n",
       "\tcontinue;\n",
       "      }\n",
       "      var element = document.createElement('script');\n",
       "      element.onload = on_load;\n",
       "      element.onerror = on_error;\n",
       "      element.async = false;\n",
       "      element.src = url;\n",
       "      console.debug(\"Bokeh: injecting script tag for BokehJS library: \", url);\n",
       "      document.head.appendChild(element);\n",
       "    }\n",
       "    for (var i = 0; i < js_modules.length; i++) {\n",
       "      var url = js_modules[i];\n",
       "      if (skip.indexOf(url) !== -1 || existing_scripts.indexOf(url) !== -1) {\n",
       "\tif (!window.requirejs) {\n",
       "\t  on_load();\n",
       "\t}\n",
       "\tcontinue;\n",
       "      }\n",
       "      var element = document.createElement('script');\n",
       "      element.onload = on_load;\n",
       "      element.onerror = on_error;\n",
       "      element.async = false;\n",
       "      element.src = url;\n",
       "      element.type = \"module\";\n",
       "      console.debug(\"Bokeh: injecting script tag for BokehJS library: \", url);\n",
       "      document.head.appendChild(element);\n",
       "    }\n",
       "    for (const name in js_exports) {\n",
       "      var url = js_exports[name];\n",
       "      if (skip.indexOf(url) >= 0 || root[name] != null) {\n",
       "\tif (!window.requirejs) {\n",
       "\t  on_load();\n",
       "\t}\n",
       "\tcontinue;\n",
       "      }\n",
       "      var element = document.createElement('script');\n",
       "      element.onerror = on_error;\n",
       "      element.async = false;\n",
       "      element.type = \"module\";\n",
       "      console.debug(\"Bokeh: injecting script tag for BokehJS library: \", url);\n",
       "      element.textContent = `\n",
       "      import ${name} from \"${url}\"\n",
       "      window.${name} = ${name}\n",
       "      window._bokeh_on_load()\n",
       "      `\n",
       "      document.head.appendChild(element);\n",
       "    }\n",
       "    if (!js_urls.length && !js_modules.length) {\n",
       "      on_load()\n",
       "    }\n",
       "  };\n",
       "\n",
       "  function inject_raw_css(css) {\n",
       "    const element = document.createElement(\"style\");\n",
       "    element.appendChild(document.createTextNode(css));\n",
       "    document.body.appendChild(element);\n",
       "  }\n",
       "\n",
       "  var js_urls = [\"https://cdn.bokeh.org/bokeh/release/bokeh-3.4.3.min.js\", \"https://cdn.bokeh.org/bokeh/release/bokeh-gl-3.4.3.min.js\", \"https://cdn.bokeh.org/bokeh/release/bokeh-widgets-3.4.3.min.js\", \"https://cdn.bokeh.org/bokeh/release/bokeh-tables-3.4.3.min.js\", \"https://cdn.holoviz.org/panel/1.4.5/dist/panel.min.js\"];\n",
       "  var js_modules = [];\n",
       "  var js_exports = {};\n",
       "  var css_urls = [];\n",
       "  var inline_js = [    function(Bokeh) {\n",
       "      Bokeh.set_log_level(\"info\");\n",
       "    },\n",
       "function(Bokeh) {} // ensure no trailing comma for IE\n",
       "  ];\n",
       "\n",
       "  function run_inline_js() {\n",
       "    if ((root.Bokeh !== undefined) || (force === true)) {\n",
       "      for (var i = 0; i < inline_js.length; i++) {\n",
       "\ttry {\n",
       "          inline_js[i].call(root, root.Bokeh);\n",
       "\t} catch(e) {\n",
       "\t  if (!reloading) {\n",
       "\t    throw e;\n",
       "\t  }\n",
       "\t}\n",
       "      }\n",
       "      // Cache old bokeh versions\n",
       "      if (Bokeh != undefined && !reloading) {\n",
       "\tvar NewBokeh = root.Bokeh;\n",
       "\tif (Bokeh.versions === undefined) {\n",
       "\t  Bokeh.versions = new Map();\n",
       "\t}\n",
       "\tif (NewBokeh.version !== Bokeh.version) {\n",
       "\t  Bokeh.versions.set(NewBokeh.version, NewBokeh)\n",
       "\t}\n",
       "\troot.Bokeh = Bokeh;\n",
       "      }} else if (Date.now() < root._bokeh_timeout) {\n",
       "      setTimeout(run_inline_js, 100);\n",
       "    } else if (!root._bokeh_failed_load) {\n",
       "      console.log(\"Bokeh: BokehJS failed to load within specified timeout.\");\n",
       "      root._bokeh_failed_load = true;\n",
       "    }\n",
       "    root._bokeh_is_initializing = false\n",
       "  }\n",
       "\n",
       "  function load_or_wait() {\n",
       "    // Implement a backoff loop that tries to ensure we do not load multiple\n",
       "    // versions of Bokeh and its dependencies at the same time.\n",
       "    // In recent versions we use the root._bokeh_is_initializing flag\n",
       "    // to determine whether there is an ongoing attempt to initialize\n",
       "    // bokeh, however for backward compatibility we also try to ensure\n",
       "    // that we do not start loading a newer (Panel>=1.0 and Bokeh>3) version\n",
       "    // before older versions are fully initialized.\n",
       "    if (root._bokeh_is_initializing && Date.now() > root._bokeh_timeout) {\n",
       "      root._bokeh_is_initializing = false;\n",
       "      root._bokeh_onload_callbacks = undefined;\n",
       "      console.log(\"Bokeh: BokehJS was loaded multiple times but one version failed to initialize.\");\n",
       "      load_or_wait();\n",
       "    } else if (root._bokeh_is_initializing || (typeof root._bokeh_is_initializing === \"undefined\" && root._bokeh_onload_callbacks !== undefined)) {\n",
       "      setTimeout(load_or_wait, 100);\n",
       "    } else {\n",
       "      root._bokeh_is_initializing = true\n",
       "      root._bokeh_onload_callbacks = []\n",
       "      var bokeh_loaded = Bokeh != null && (Bokeh.version === py_version || (Bokeh.versions !== undefined && Bokeh.versions.has(py_version)));\n",
       "      if (!reloading && !bokeh_loaded) {\n",
       "\troot.Bokeh = undefined;\n",
       "      }\n",
       "      load_libs(css_urls, js_urls, js_modules, js_exports, function() {\n",
       "\tconsole.debug(\"Bokeh: BokehJS plotting callback run at\", now());\n",
       "\trun_inline_js();\n",
       "      });\n",
       "    }\n",
       "  }\n",
       "  // Give older versions of the autoload script a head-start to ensure\n",
       "  // they initialize before we start loading newer version.\n",
       "  setTimeout(load_or_wait, 100)\n",
       "}(window));"
      ],
      "application/vnd.holoviews_load.v0+json": "(function(root) {\n  function now() {\n    return new Date();\n  }\n\n  var force = true;\n  var py_version = '3.4.3'.replace('rc', '-rc.').replace('.dev', '-dev.');\n  var reloading = false;\n  var Bokeh = root.Bokeh;\n\n  if (typeof (root._bokeh_timeout) === \"undefined\" || force) {\n    root._bokeh_timeout = Date.now() + 5000;\n    root._bokeh_failed_load = false;\n  }\n\n  function run_callbacks() {\n    try {\n      root._bokeh_onload_callbacks.forEach(function(callback) {\n        if (callback != null)\n          callback();\n      });\n    } finally {\n      delete root._bokeh_onload_callbacks;\n    }\n    console.debug(\"Bokeh: all callbacks have finished\");\n  }\n\n  function load_libs(css_urls, js_urls, js_modules, js_exports, callback) {\n    if (css_urls == null) css_urls = [];\n    if (js_urls == null) js_urls = [];\n    if (js_modules == null) js_modules = [];\n    if (js_exports == null) js_exports = {};\n\n    root._bokeh_onload_callbacks.push(callback);\n\n    if (root._bokeh_is_loading > 0) {\n      console.debug(\"Bokeh: BokehJS is being loaded, scheduling callback at\", now());\n      return null;\n    }\n    if (js_urls.length === 0 && js_modules.length === 0 && Object.keys(js_exports).length === 0) {\n      run_callbacks();\n      return null;\n    }\n    if (!reloading) {\n      console.debug(\"Bokeh: BokehJS not loaded, scheduling load and callback at\", now());\n    }\n\n    function on_load() {\n      root._bokeh_is_loading--;\n      if (root._bokeh_is_loading === 0) {\n        console.debug(\"Bokeh: all BokehJS libraries/stylesheets loaded\");\n        run_callbacks()\n      }\n    }\n    window._bokeh_on_load = on_load\n\n    function on_error() {\n      console.error(\"failed to load \" + url);\n    }\n\n    var skip = [];\n    if (window.requirejs) {\n      window.requirejs.config({'packages': {}, 'paths': {}, 'shim': {}});\n      root._bokeh_is_loading = css_urls.length + 0;\n    } else {\n      root._bokeh_is_loading = css_urls.length + js_urls.length + js_modules.length + Object.keys(js_exports).length;\n    }\n\n    var existing_stylesheets = []\n    var links = document.getElementsByTagName('link')\n    for (var i = 0; i < links.length; i++) {\n      var link = links[i]\n      if (link.href != null) {\n\texisting_stylesheets.push(link.href)\n      }\n    }\n    for (var i = 0; i < css_urls.length; i++) {\n      var url = css_urls[i];\n      if (existing_stylesheets.indexOf(url) !== -1) {\n\ton_load()\n\tcontinue;\n      }\n      const element = document.createElement(\"link\");\n      element.onload = on_load;\n      element.onerror = on_error;\n      element.rel = \"stylesheet\";\n      element.type = \"text/css\";\n      element.href = url;\n      console.debug(\"Bokeh: injecting link tag for BokehJS stylesheet: \", url);\n      document.body.appendChild(element);\n    }    var existing_scripts = []\n    var scripts = document.getElementsByTagName('script')\n    for (var i = 0; i < scripts.length; i++) {\n      var script = scripts[i]\n      if (script.src != null) {\n\texisting_scripts.push(script.src)\n      }\n    }\n    for (var i = 0; i < js_urls.length; i++) {\n      var url = js_urls[i];\n      if (skip.indexOf(url) !== -1 || existing_scripts.indexOf(url) !== -1) {\n\tif (!window.requirejs) {\n\t  on_load();\n\t}\n\tcontinue;\n      }\n      var element = document.createElement('script');\n      element.onload = on_load;\n      element.onerror = on_error;\n      element.async = false;\n      element.src = url;\n      console.debug(\"Bokeh: injecting script tag for BokehJS library: \", url);\n      document.head.appendChild(element);\n    }\n    for (var i = 0; i < js_modules.length; i++) {\n      var url = js_modules[i];\n      if (skip.indexOf(url) !== -1 || existing_scripts.indexOf(url) !== -1) {\n\tif (!window.requirejs) {\n\t  on_load();\n\t}\n\tcontinue;\n      }\n      var element = document.createElement('script');\n      element.onload = on_load;\n      element.onerror = on_error;\n      element.async = false;\n      element.src = url;\n      element.type = \"module\";\n      console.debug(\"Bokeh: injecting script tag for BokehJS library: \", url);\n      document.head.appendChild(element);\n    }\n    for (const name in js_exports) {\n      var url = js_exports[name];\n      if (skip.indexOf(url) >= 0 || root[name] != null) {\n\tif (!window.requirejs) {\n\t  on_load();\n\t}\n\tcontinue;\n      }\n      var element = document.createElement('script');\n      element.onerror = on_error;\n      element.async = false;\n      element.type = \"module\";\n      console.debug(\"Bokeh: injecting script tag for BokehJS library: \", url);\n      element.textContent = `\n      import ${name} from \"${url}\"\n      window.${name} = ${name}\n      window._bokeh_on_load()\n      `\n      document.head.appendChild(element);\n    }\n    if (!js_urls.length && !js_modules.length) {\n      on_load()\n    }\n  };\n\n  function inject_raw_css(css) {\n    const element = document.createElement(\"style\");\n    element.appendChild(document.createTextNode(css));\n    document.body.appendChild(element);\n  }\n\n  var js_urls = [\"https://cdn.bokeh.org/bokeh/release/bokeh-3.4.3.min.js\", \"https://cdn.bokeh.org/bokeh/release/bokeh-gl-3.4.3.min.js\", \"https://cdn.bokeh.org/bokeh/release/bokeh-widgets-3.4.3.min.js\", \"https://cdn.bokeh.org/bokeh/release/bokeh-tables-3.4.3.min.js\", \"https://cdn.holoviz.org/panel/1.4.5/dist/panel.min.js\"];\n  var js_modules = [];\n  var js_exports = {};\n  var css_urls = [];\n  var inline_js = [    function(Bokeh) {\n      Bokeh.set_log_level(\"info\");\n    },\nfunction(Bokeh) {} // ensure no trailing comma for IE\n  ];\n\n  function run_inline_js() {\n    if ((root.Bokeh !== undefined) || (force === true)) {\n      for (var i = 0; i < inline_js.length; i++) {\n\ttry {\n          inline_js[i].call(root, root.Bokeh);\n\t} catch(e) {\n\t  if (!reloading) {\n\t    throw e;\n\t  }\n\t}\n      }\n      // Cache old bokeh versions\n      if (Bokeh != undefined && !reloading) {\n\tvar NewBokeh = root.Bokeh;\n\tif (Bokeh.versions === undefined) {\n\t  Bokeh.versions = new Map();\n\t}\n\tif (NewBokeh.version !== Bokeh.version) {\n\t  Bokeh.versions.set(NewBokeh.version, NewBokeh)\n\t}\n\troot.Bokeh = Bokeh;\n      }} else if (Date.now() < root._bokeh_timeout) {\n      setTimeout(run_inline_js, 100);\n    } else if (!root._bokeh_failed_load) {\n      console.log(\"Bokeh: BokehJS failed to load within specified timeout.\");\n      root._bokeh_failed_load = true;\n    }\n    root._bokeh_is_initializing = false\n  }\n\n  function load_or_wait() {\n    // Implement a backoff loop that tries to ensure we do not load multiple\n    // versions of Bokeh and its dependencies at the same time.\n    // In recent versions we use the root._bokeh_is_initializing flag\n    // to determine whether there is an ongoing attempt to initialize\n    // bokeh, however for backward compatibility we also try to ensure\n    // that we do not start loading a newer (Panel>=1.0 and Bokeh>3) version\n    // before older versions are fully initialized.\n    if (root._bokeh_is_initializing && Date.now() > root._bokeh_timeout) {\n      root._bokeh_is_initializing = false;\n      root._bokeh_onload_callbacks = undefined;\n      console.log(\"Bokeh: BokehJS was loaded multiple times but one version failed to initialize.\");\n      load_or_wait();\n    } else if (root._bokeh_is_initializing || (typeof root._bokeh_is_initializing === \"undefined\" && root._bokeh_onload_callbacks !== undefined)) {\n      setTimeout(load_or_wait, 100);\n    } else {\n      root._bokeh_is_initializing = true\n      root._bokeh_onload_callbacks = []\n      var bokeh_loaded = Bokeh != null && (Bokeh.version === py_version || (Bokeh.versions !== undefined && Bokeh.versions.has(py_version)));\n      if (!reloading && !bokeh_loaded) {\n\troot.Bokeh = undefined;\n      }\n      load_libs(css_urls, js_urls, js_modules, js_exports, function() {\n\tconsole.debug(\"Bokeh: BokehJS plotting callback run at\", now());\n\trun_inline_js();\n      });\n    }\n  }\n  // Give older versions of the autoload script a head-start to ensure\n  // they initialize before we start loading newer version.\n  setTimeout(load_or_wait, 100)\n}(window));"
     },
     "metadata": {},
     "output_type": "display_data"
    },
    {
     "data": {
      "application/javascript": [
       "\n",
       "if ((window.PyViz === undefined) || (window.PyViz instanceof HTMLElement)) {\n",
       "  window.PyViz = {comms: {}, comm_status:{}, kernels:{}, receivers: {}, plot_index: []}\n",
       "}\n",
       "\n",
       "\n",
       "    function JupyterCommManager() {\n",
       "    }\n",
       "\n",
       "    JupyterCommManager.prototype.register_target = function(plot_id, comm_id, msg_handler) {\n",
       "      if (window.comm_manager || ((window.Jupyter !== undefined) && (Jupyter.notebook.kernel != null))) {\n",
       "        var comm_manager = window.comm_manager || Jupyter.notebook.kernel.comm_manager;\n",
       "        comm_manager.register_target(comm_id, function(comm) {\n",
       "          comm.on_msg(msg_handler);\n",
       "        });\n",
       "      } else if ((plot_id in window.PyViz.kernels) && (window.PyViz.kernels[plot_id])) {\n",
       "        window.PyViz.kernels[plot_id].registerCommTarget(comm_id, function(comm) {\n",
       "          comm.onMsg = msg_handler;\n",
       "        });\n",
       "      } else if (typeof google != 'undefined' && google.colab.kernel != null) {\n",
       "        google.colab.kernel.comms.registerTarget(comm_id, (comm) => {\n",
       "          var messages = comm.messages[Symbol.asyncIterator]();\n",
       "          function processIteratorResult(result) {\n",
       "            var message = result.value;\n",
       "            console.log(message)\n",
       "            var content = {data: message.data, comm_id};\n",
       "            var buffers = []\n",
       "            for (var buffer of message.buffers || []) {\n",
       "              buffers.push(new DataView(buffer))\n",
       "            }\n",
       "            var metadata = message.metadata || {};\n",
       "            var msg = {content, buffers, metadata}\n",
       "            msg_handler(msg);\n",
       "            return messages.next().then(processIteratorResult);\n",
       "          }\n",
       "          return messages.next().then(processIteratorResult);\n",
       "        })\n",
       "      }\n",
       "    }\n",
       "\n",
       "    JupyterCommManager.prototype.get_client_comm = function(plot_id, comm_id, msg_handler) {\n",
       "      if (comm_id in window.PyViz.comms) {\n",
       "        return window.PyViz.comms[comm_id];\n",
       "      } else if (window.comm_manager || ((window.Jupyter !== undefined) && (Jupyter.notebook.kernel != null))) {\n",
       "        var comm_manager = window.comm_manager || Jupyter.notebook.kernel.comm_manager;\n",
       "        var comm = comm_manager.new_comm(comm_id, {}, {}, {}, comm_id);\n",
       "        if (msg_handler) {\n",
       "          comm.on_msg(msg_handler);\n",
       "        }\n",
       "      } else if ((plot_id in window.PyViz.kernels) && (window.PyViz.kernels[plot_id])) {\n",
       "        var comm = window.PyViz.kernels[plot_id].connectToComm(comm_id);\n",
       "        comm.open();\n",
       "        if (msg_handler) {\n",
       "          comm.onMsg = msg_handler;\n",
       "        }\n",
       "      } else if (typeof google != 'undefined' && google.colab.kernel != null) {\n",
       "        var comm_promise = google.colab.kernel.comms.open(comm_id)\n",
       "        comm_promise.then((comm) => {\n",
       "          window.PyViz.comms[comm_id] = comm;\n",
       "          if (msg_handler) {\n",
       "            var messages = comm.messages[Symbol.asyncIterator]();\n",
       "            function processIteratorResult(result) {\n",
       "              var message = result.value;\n",
       "              var content = {data: message.data};\n",
       "              var metadata = message.metadata || {comm_id};\n",
       "              var msg = {content, metadata}\n",
       "              msg_handler(msg);\n",
       "              return messages.next().then(processIteratorResult);\n",
       "            }\n",
       "            return messages.next().then(processIteratorResult);\n",
       "          }\n",
       "        }) \n",
       "        var sendClosure = (data, metadata, buffers, disposeOnDone) => {\n",
       "          return comm_promise.then((comm) => {\n",
       "            comm.send(data, metadata, buffers, disposeOnDone);\n",
       "          });\n",
       "        };\n",
       "        var comm = {\n",
       "          send: sendClosure\n",
       "        };\n",
       "      }\n",
       "      window.PyViz.comms[comm_id] = comm;\n",
       "      return comm;\n",
       "    }\n",
       "    window.PyViz.comm_manager = new JupyterCommManager();\n",
       "    \n",
       "\n",
       "\n",
       "var JS_MIME_TYPE = 'application/javascript';\n",
       "var HTML_MIME_TYPE = 'text/html';\n",
       "var EXEC_MIME_TYPE = 'application/vnd.holoviews_exec.v0+json';\n",
       "var CLASS_NAME = 'output';\n",
       "\n",
       "/**\n",
       " * Render data to the DOM node\n",
       " */\n",
       "function render(props, node) {\n",
       "  var div = document.createElement(\"div\");\n",
       "  var script = document.createElement(\"script\");\n",
       "  node.appendChild(div);\n",
       "  node.appendChild(script);\n",
       "}\n",
       "\n",
       "/**\n",
       " * Handle when a new output is added\n",
       " */\n",
       "function handle_add_output(event, handle) {\n",
       "  var output_area = handle.output_area;\n",
       "  var output = handle.output;\n",
       "  if ((output.data == undefined) || (!output.data.hasOwnProperty(EXEC_MIME_TYPE))) {\n",
       "    return\n",
       "  }\n",
       "  var id = output.metadata[EXEC_MIME_TYPE][\"id\"];\n",
       "  var toinsert = output_area.element.find(\".\" + CLASS_NAME.split(' ')[0]);\n",
       "  if (id !== undefined) {\n",
       "    var nchildren = toinsert.length;\n",
       "    var html_node = toinsert[nchildren-1].children[0];\n",
       "    html_node.innerHTML = output.data[HTML_MIME_TYPE];\n",
       "    var scripts = [];\n",
       "    var nodelist = html_node.querySelectorAll(\"script\");\n",
       "    for (var i in nodelist) {\n",
       "      if (nodelist.hasOwnProperty(i)) {\n",
       "        scripts.push(nodelist[i])\n",
       "      }\n",
       "    }\n",
       "\n",
       "    scripts.forEach( function (oldScript) {\n",
       "      var newScript = document.createElement(\"script\");\n",
       "      var attrs = [];\n",
       "      var nodemap = oldScript.attributes;\n",
       "      for (var j in nodemap) {\n",
       "        if (nodemap.hasOwnProperty(j)) {\n",
       "          attrs.push(nodemap[j])\n",
       "        }\n",
       "      }\n",
       "      attrs.forEach(function(attr) { newScript.setAttribute(attr.name, attr.value) });\n",
       "      newScript.appendChild(document.createTextNode(oldScript.innerHTML));\n",
       "      oldScript.parentNode.replaceChild(newScript, oldScript);\n",
       "    });\n",
       "    if (JS_MIME_TYPE in output.data) {\n",
       "      toinsert[nchildren-1].children[1].textContent = output.data[JS_MIME_TYPE];\n",
       "    }\n",
       "    output_area._hv_plot_id = id;\n",
       "    if ((window.Bokeh !== undefined) && (id in Bokeh.index)) {\n",
       "      window.PyViz.plot_index[id] = Bokeh.index[id];\n",
       "    } else {\n",
       "      window.PyViz.plot_index[id] = null;\n",
       "    }\n",
       "  } else if (output.metadata[EXEC_MIME_TYPE][\"server_id\"] !== undefined) {\n",
       "    var bk_div = document.createElement(\"div\");\n",
       "    bk_div.innerHTML = output.data[HTML_MIME_TYPE];\n",
       "    var script_attrs = bk_div.children[0].attributes;\n",
       "    for (var i = 0; i < script_attrs.length; i++) {\n",
       "      toinsert[toinsert.length - 1].childNodes[1].setAttribute(script_attrs[i].name, script_attrs[i].value);\n",
       "    }\n",
       "    // store reference to server id on output_area\n",
       "    output_area._bokeh_server_id = output.metadata[EXEC_MIME_TYPE][\"server_id\"];\n",
       "  }\n",
       "}\n",
       "\n",
       "/**\n",
       " * Handle when an output is cleared or removed\n",
       " */\n",
       "function handle_clear_output(event, handle) {\n",
       "  var id = handle.cell.output_area._hv_plot_id;\n",
       "  var server_id = handle.cell.output_area._bokeh_server_id;\n",
       "  if (((id === undefined) || !(id in PyViz.plot_index)) && (server_id !== undefined)) { return; }\n",
       "  var comm = window.PyViz.comm_manager.get_client_comm(\"hv-extension-comm\", \"hv-extension-comm\", function () {});\n",
       "  if (server_id !== null) {\n",
       "    comm.send({event_type: 'server_delete', 'id': server_id});\n",
       "    return;\n",
       "  } else if (comm !== null) {\n",
       "    comm.send({event_type: 'delete', 'id': id});\n",
       "  }\n",
       "  delete PyViz.plot_index[id];\n",
       "  if ((window.Bokeh !== undefined) & (id in window.Bokeh.index)) {\n",
       "    var doc = window.Bokeh.index[id].model.document\n",
       "    doc.clear();\n",
       "    const i = window.Bokeh.documents.indexOf(doc);\n",
       "    if (i > -1) {\n",
       "      window.Bokeh.documents.splice(i, 1);\n",
       "    }\n",
       "  }\n",
       "}\n",
       "\n",
       "/**\n",
       " * Handle kernel restart event\n",
       " */\n",
       "function handle_kernel_cleanup(event, handle) {\n",
       "  delete PyViz.comms[\"hv-extension-comm\"];\n",
       "  window.PyViz.plot_index = {}\n",
       "}\n",
       "\n",
       "/**\n",
       " * Handle update_display_data messages\n",
       " */\n",
       "function handle_update_output(event, handle) {\n",
       "  handle_clear_output(event, {cell: {output_area: handle.output_area}})\n",
       "  handle_add_output(event, handle)\n",
       "}\n",
       "\n",
       "function register_renderer(events, OutputArea) {\n",
       "  function append_mime(data, metadata, element) {\n",
       "    // create a DOM node to render to\n",
       "    var toinsert = this.create_output_subarea(\n",
       "    metadata,\n",
       "    CLASS_NAME,\n",
       "    EXEC_MIME_TYPE\n",
       "    );\n",
       "    this.keyboard_manager.register_events(toinsert);\n",
       "    // Render to node\n",
       "    var props = {data: data, metadata: metadata[EXEC_MIME_TYPE]};\n",
       "    render(props, toinsert[0]);\n",
       "    element.append(toinsert);\n",
       "    return toinsert\n",
       "  }\n",
       "\n",
       "  events.on('output_added.OutputArea', handle_add_output);\n",
       "  events.on('output_updated.OutputArea', handle_update_output);\n",
       "  events.on('clear_output.CodeCell', handle_clear_output);\n",
       "  events.on('delete.Cell', handle_clear_output);\n",
       "  events.on('kernel_ready.Kernel', handle_kernel_cleanup);\n",
       "\n",
       "  OutputArea.prototype.register_mime_type(EXEC_MIME_TYPE, append_mime, {\n",
       "    safe: true,\n",
       "    index: 0\n",
       "  });\n",
       "}\n",
       "\n",
       "if (window.Jupyter !== undefined) {\n",
       "  try {\n",
       "    var events = require('base/js/events');\n",
       "    var OutputArea = require('notebook/js/outputarea').OutputArea;\n",
       "    if (OutputArea.prototype.mime_types().indexOf(EXEC_MIME_TYPE) == -1) {\n",
       "      register_renderer(events, OutputArea);\n",
       "    }\n",
       "  } catch(err) {\n",
       "  }\n",
       "}\n"
      ],
      "application/vnd.holoviews_load.v0+json": "\nif ((window.PyViz === undefined) || (window.PyViz instanceof HTMLElement)) {\n  window.PyViz = {comms: {}, comm_status:{}, kernels:{}, receivers: {}, plot_index: []}\n}\n\n\n    function JupyterCommManager() {\n    }\n\n    JupyterCommManager.prototype.register_target = function(plot_id, comm_id, msg_handler) {\n      if (window.comm_manager || ((window.Jupyter !== undefined) && (Jupyter.notebook.kernel != null))) {\n        var comm_manager = window.comm_manager || Jupyter.notebook.kernel.comm_manager;\n        comm_manager.register_target(comm_id, function(comm) {\n          comm.on_msg(msg_handler);\n        });\n      } else if ((plot_id in window.PyViz.kernels) && (window.PyViz.kernels[plot_id])) {\n        window.PyViz.kernels[plot_id].registerCommTarget(comm_id, function(comm) {\n          comm.onMsg = msg_handler;\n        });\n      } else if (typeof google != 'undefined' && google.colab.kernel != null) {\n        google.colab.kernel.comms.registerTarget(comm_id, (comm) => {\n          var messages = comm.messages[Symbol.asyncIterator]();\n          function processIteratorResult(result) {\n            var message = result.value;\n            console.log(message)\n            var content = {data: message.data, comm_id};\n            var buffers = []\n            for (var buffer of message.buffers || []) {\n              buffers.push(new DataView(buffer))\n            }\n            var metadata = message.metadata || {};\n            var msg = {content, buffers, metadata}\n            msg_handler(msg);\n            return messages.next().then(processIteratorResult);\n          }\n          return messages.next().then(processIteratorResult);\n        })\n      }\n    }\n\n    JupyterCommManager.prototype.get_client_comm = function(plot_id, comm_id, msg_handler) {\n      if (comm_id in window.PyViz.comms) {\n        return window.PyViz.comms[comm_id];\n      } else if (window.comm_manager || ((window.Jupyter !== undefined) && (Jupyter.notebook.kernel != null))) {\n        var comm_manager = window.comm_manager || Jupyter.notebook.kernel.comm_manager;\n        var comm = comm_manager.new_comm(comm_id, {}, {}, {}, comm_id);\n        if (msg_handler) {\n          comm.on_msg(msg_handler);\n        }\n      } else if ((plot_id in window.PyViz.kernels) && (window.PyViz.kernels[plot_id])) {\n        var comm = window.PyViz.kernels[plot_id].connectToComm(comm_id);\n        comm.open();\n        if (msg_handler) {\n          comm.onMsg = msg_handler;\n        }\n      } else if (typeof google != 'undefined' && google.colab.kernel != null) {\n        var comm_promise = google.colab.kernel.comms.open(comm_id)\n        comm_promise.then((comm) => {\n          window.PyViz.comms[comm_id] = comm;\n          if (msg_handler) {\n            var messages = comm.messages[Symbol.asyncIterator]();\n            function processIteratorResult(result) {\n              var message = result.value;\n              var content = {data: message.data};\n              var metadata = message.metadata || {comm_id};\n              var msg = {content, metadata}\n              msg_handler(msg);\n              return messages.next().then(processIteratorResult);\n            }\n            return messages.next().then(processIteratorResult);\n          }\n        }) \n        var sendClosure = (data, metadata, buffers, disposeOnDone) => {\n          return comm_promise.then((comm) => {\n            comm.send(data, metadata, buffers, disposeOnDone);\n          });\n        };\n        var comm = {\n          send: sendClosure\n        };\n      }\n      window.PyViz.comms[comm_id] = comm;\n      return comm;\n    }\n    window.PyViz.comm_manager = new JupyterCommManager();\n    \n\n\nvar JS_MIME_TYPE = 'application/javascript';\nvar HTML_MIME_TYPE = 'text/html';\nvar EXEC_MIME_TYPE = 'application/vnd.holoviews_exec.v0+json';\nvar CLASS_NAME = 'output';\n\n/**\n * Render data to the DOM node\n */\nfunction render(props, node) {\n  var div = document.createElement(\"div\");\n  var script = document.createElement(\"script\");\n  node.appendChild(div);\n  node.appendChild(script);\n}\n\n/**\n * Handle when a new output is added\n */\nfunction handle_add_output(event, handle) {\n  var output_area = handle.output_area;\n  var output = handle.output;\n  if ((output.data == undefined) || (!output.data.hasOwnProperty(EXEC_MIME_TYPE))) {\n    return\n  }\n  var id = output.metadata[EXEC_MIME_TYPE][\"id\"];\n  var toinsert = output_area.element.find(\".\" + CLASS_NAME.split(' ')[0]);\n  if (id !== undefined) {\n    var nchildren = toinsert.length;\n    var html_node = toinsert[nchildren-1].children[0];\n    html_node.innerHTML = output.data[HTML_MIME_TYPE];\n    var scripts = [];\n    var nodelist = html_node.querySelectorAll(\"script\");\n    for (var i in nodelist) {\n      if (nodelist.hasOwnProperty(i)) {\n        scripts.push(nodelist[i])\n      }\n    }\n\n    scripts.forEach( function (oldScript) {\n      var newScript = document.createElement(\"script\");\n      var attrs = [];\n      var nodemap = oldScript.attributes;\n      for (var j in nodemap) {\n        if (nodemap.hasOwnProperty(j)) {\n          attrs.push(nodemap[j])\n        }\n      }\n      attrs.forEach(function(attr) { newScript.setAttribute(attr.name, attr.value) });\n      newScript.appendChild(document.createTextNode(oldScript.innerHTML));\n      oldScript.parentNode.replaceChild(newScript, oldScript);\n    });\n    if (JS_MIME_TYPE in output.data) {\n      toinsert[nchildren-1].children[1].textContent = output.data[JS_MIME_TYPE];\n    }\n    output_area._hv_plot_id = id;\n    if ((window.Bokeh !== undefined) && (id in Bokeh.index)) {\n      window.PyViz.plot_index[id] = Bokeh.index[id];\n    } else {\n      window.PyViz.plot_index[id] = null;\n    }\n  } else if (output.metadata[EXEC_MIME_TYPE][\"server_id\"] !== undefined) {\n    var bk_div = document.createElement(\"div\");\n    bk_div.innerHTML = output.data[HTML_MIME_TYPE];\n    var script_attrs = bk_div.children[0].attributes;\n    for (var i = 0; i < script_attrs.length; i++) {\n      toinsert[toinsert.length - 1].childNodes[1].setAttribute(script_attrs[i].name, script_attrs[i].value);\n    }\n    // store reference to server id on output_area\n    output_area._bokeh_server_id = output.metadata[EXEC_MIME_TYPE][\"server_id\"];\n  }\n}\n\n/**\n * Handle when an output is cleared or removed\n */\nfunction handle_clear_output(event, handle) {\n  var id = handle.cell.output_area._hv_plot_id;\n  var server_id = handle.cell.output_area._bokeh_server_id;\n  if (((id === undefined) || !(id in PyViz.plot_index)) && (server_id !== undefined)) { return; }\n  var comm = window.PyViz.comm_manager.get_client_comm(\"hv-extension-comm\", \"hv-extension-comm\", function () {});\n  if (server_id !== null) {\n    comm.send({event_type: 'server_delete', 'id': server_id});\n    return;\n  } else if (comm !== null) {\n    comm.send({event_type: 'delete', 'id': id});\n  }\n  delete PyViz.plot_index[id];\n  if ((window.Bokeh !== undefined) & (id in window.Bokeh.index)) {\n    var doc = window.Bokeh.index[id].model.document\n    doc.clear();\n    const i = window.Bokeh.documents.indexOf(doc);\n    if (i > -1) {\n      window.Bokeh.documents.splice(i, 1);\n    }\n  }\n}\n\n/**\n * Handle kernel restart event\n */\nfunction handle_kernel_cleanup(event, handle) {\n  delete PyViz.comms[\"hv-extension-comm\"];\n  window.PyViz.plot_index = {}\n}\n\n/**\n * Handle update_display_data messages\n */\nfunction handle_update_output(event, handle) {\n  handle_clear_output(event, {cell: {output_area: handle.output_area}})\n  handle_add_output(event, handle)\n}\n\nfunction register_renderer(events, OutputArea) {\n  function append_mime(data, metadata, element) {\n    // create a DOM node to render to\n    var toinsert = this.create_output_subarea(\n    metadata,\n    CLASS_NAME,\n    EXEC_MIME_TYPE\n    );\n    this.keyboard_manager.register_events(toinsert);\n    // Render to node\n    var props = {data: data, metadata: metadata[EXEC_MIME_TYPE]};\n    render(props, toinsert[0]);\n    element.append(toinsert);\n    return toinsert\n  }\n\n  events.on('output_added.OutputArea', handle_add_output);\n  events.on('output_updated.OutputArea', handle_update_output);\n  events.on('clear_output.CodeCell', handle_clear_output);\n  events.on('delete.Cell', handle_clear_output);\n  events.on('kernel_ready.Kernel', handle_kernel_cleanup);\n\n  OutputArea.prototype.register_mime_type(EXEC_MIME_TYPE, append_mime, {\n    safe: true,\n    index: 0\n  });\n}\n\nif (window.Jupyter !== undefined) {\n  try {\n    var events = require('base/js/events');\n    var OutputArea = require('notebook/js/outputarea').OutputArea;\n    if (OutputArea.prototype.mime_types().indexOf(EXEC_MIME_TYPE) == -1) {\n      register_renderer(events, OutputArea);\n    }\n  } catch(err) {\n  }\n}\n"
     },
     "metadata": {},
     "output_type": "display_data"
    },
    {
     "data": {
      "text/html": [
       "<style>*[data-root-id],\n",
       "*[data-root-id] > * {\n",
       "  box-sizing: border-box;\n",
       "  font-family: var(--jp-ui-font-family);\n",
       "  font-size: var(--jp-ui-font-size1);\n",
       "  color: var(--vscode-editor-foreground, var(--jp-ui-font-color1));\n",
       "}\n",
       "\n",
       "/* Override VSCode background color */\n",
       ".cell-output-ipywidget-background:has(\n",
       "    > .cell-output-ipywidget-background > .lm-Widget > *[data-root-id]\n",
       "  ),\n",
       ".cell-output-ipywidget-background:has(> .lm-Widget > *[data-root-id]) {\n",
       "  background-color: transparent !important;\n",
       "}\n",
       "</style>"
      ]
     },
     "metadata": {},
     "output_type": "display_data"
    },
    {
     "data": {
      "application/vnd.holoviews_exec.v0+json": "",
      "text/html": [
       "<div id='p1002'>\n",
       "  <div id=\"b14a9c16-b28e-427f-adaf-a531743f0b17\" data-root-id=\"p1002\" style=\"display: contents;\"></div>\n",
       "</div>\n",
       "<script type=\"application/javascript\">(function(root) {\n",
       "  var docs_json = {\"4710389a-dd26-4e6a-b333-f75e3e5eae6a\":{\"version\":\"3.4.3\",\"title\":\"Bokeh Application\",\"roots\":[{\"type\":\"object\",\"name\":\"panel.models.browser.BrowserInfo\",\"id\":\"p1002\"},{\"type\":\"object\",\"name\":\"panel.models.comm_manager.CommManager\",\"id\":\"p1003\",\"attributes\":{\"plot_id\":\"p1002\",\"comm_id\":\"b519148c43764d0bb93280bf6cbe60fc\",\"client_comm_id\":\"030c2621bafe43b6810b670ca93e650a\"}}],\"defs\":[{\"type\":\"model\",\"name\":\"ReactiveHTML1\"},{\"type\":\"model\",\"name\":\"FlexBox1\",\"properties\":[{\"name\":\"align_content\",\"kind\":\"Any\",\"default\":\"flex-start\"},{\"name\":\"align_items\",\"kind\":\"Any\",\"default\":\"flex-start\"},{\"name\":\"flex_direction\",\"kind\":\"Any\",\"default\":\"row\"},{\"name\":\"flex_wrap\",\"kind\":\"Any\",\"default\":\"wrap\"},{\"name\":\"gap\",\"kind\":\"Any\",\"default\":\"\"},{\"name\":\"justify_content\",\"kind\":\"Any\",\"default\":\"flex-start\"}]},{\"type\":\"model\",\"name\":\"FloatPanel1\",\"properties\":[{\"name\":\"config\",\"kind\":\"Any\",\"default\":{\"type\":\"map\"}},{\"name\":\"contained\",\"kind\":\"Any\",\"default\":true},{\"name\":\"position\",\"kind\":\"Any\",\"default\":\"right-top\"},{\"name\":\"offsetx\",\"kind\":\"Any\",\"default\":null},{\"name\":\"offsety\",\"kind\":\"Any\",\"default\":null},{\"name\":\"theme\",\"kind\":\"Any\",\"default\":\"primary\"},{\"name\":\"status\",\"kind\":\"Any\",\"default\":\"normalized\"}]},{\"type\":\"model\",\"name\":\"GridStack1\",\"properties\":[{\"name\":\"mode\",\"kind\":\"Any\",\"default\":\"warn\"},{\"name\":\"ncols\",\"kind\":\"Any\",\"default\":null},{\"name\":\"nrows\",\"kind\":\"Any\",\"default\":null},{\"name\":\"allow_resize\",\"kind\":\"Any\",\"default\":true},{\"name\":\"allow_drag\",\"kind\":\"Any\",\"default\":true},{\"name\":\"state\",\"kind\":\"Any\",\"default\":[]}]},{\"type\":\"model\",\"name\":\"drag1\",\"properties\":[{\"name\":\"slider_width\",\"kind\":\"Any\",\"default\":5},{\"name\":\"slider_color\",\"kind\":\"Any\",\"default\":\"black\"},{\"name\":\"value\",\"kind\":\"Any\",\"default\":50}]},{\"type\":\"model\",\"name\":\"click1\",\"properties\":[{\"name\":\"terminal_output\",\"kind\":\"Any\",\"default\":\"\"},{\"name\":\"debug_name\",\"kind\":\"Any\",\"default\":\"\"},{\"name\":\"clears\",\"kind\":\"Any\",\"default\":0}]},{\"type\":\"model\",\"name\":\"FastWrapper1\",\"properties\":[{\"name\":\"object\",\"kind\":\"Any\",\"default\":null},{\"name\":\"style\",\"kind\":\"Any\",\"default\":null}]},{\"type\":\"model\",\"name\":\"NotificationAreaBase1\",\"properties\":[{\"name\":\"js_events\",\"kind\":\"Any\",\"default\":{\"type\":\"map\"}},{\"name\":\"position\",\"kind\":\"Any\",\"default\":\"bottom-right\"},{\"name\":\"_clear\",\"kind\":\"Any\",\"default\":0}]},{\"type\":\"model\",\"name\":\"NotificationArea1\",\"properties\":[{\"name\":\"js_events\",\"kind\":\"Any\",\"default\":{\"type\":\"map\"}},{\"name\":\"notifications\",\"kind\":\"Any\",\"default\":[]},{\"name\":\"position\",\"kind\":\"Any\",\"default\":\"bottom-right\"},{\"name\":\"_clear\",\"kind\":\"Any\",\"default\":0},{\"name\":\"types\",\"kind\":\"Any\",\"default\":[{\"type\":\"map\",\"entries\":[[\"type\",\"warning\"],[\"background\",\"#ffc107\"],[\"icon\",{\"type\":\"map\",\"entries\":[[\"className\",\"fas fa-exclamation-triangle\"],[\"tagName\",\"i\"],[\"color\",\"white\"]]}]]},{\"type\":\"map\",\"entries\":[[\"type\",\"info\"],[\"background\",\"#007bff\"],[\"icon\",{\"type\":\"map\",\"entries\":[[\"className\",\"fas fa-info-circle\"],[\"tagName\",\"i\"],[\"color\",\"white\"]]}]]}]}]},{\"type\":\"model\",\"name\":\"Notification\",\"properties\":[{\"name\":\"background\",\"kind\":\"Any\",\"default\":null},{\"name\":\"duration\",\"kind\":\"Any\",\"default\":3000},{\"name\":\"icon\",\"kind\":\"Any\",\"default\":null},{\"name\":\"message\",\"kind\":\"Any\",\"default\":\"\"},{\"name\":\"notification_type\",\"kind\":\"Any\",\"default\":null},{\"name\":\"_destroyed\",\"kind\":\"Any\",\"default\":false}]},{\"type\":\"model\",\"name\":\"TemplateActions1\",\"properties\":[{\"name\":\"open_modal\",\"kind\":\"Any\",\"default\":0},{\"name\":\"close_modal\",\"kind\":\"Any\",\"default\":0}]},{\"type\":\"model\",\"name\":\"BootstrapTemplateActions1\",\"properties\":[{\"name\":\"open_modal\",\"kind\":\"Any\",\"default\":0},{\"name\":\"close_modal\",\"kind\":\"Any\",\"default\":0}]},{\"type\":\"model\",\"name\":\"TemplateEditor1\",\"properties\":[{\"name\":\"layout\",\"kind\":\"Any\",\"default\":[]}]},{\"type\":\"model\",\"name\":\"MaterialTemplateActions1\",\"properties\":[{\"name\":\"open_modal\",\"kind\":\"Any\",\"default\":0},{\"name\":\"close_modal\",\"kind\":\"Any\",\"default\":0}]},{\"type\":\"model\",\"name\":\"copy_to_clipboard1\",\"properties\":[{\"name\":\"fill\",\"kind\":\"Any\",\"default\":\"none\"},{\"name\":\"value\",\"kind\":\"Any\",\"default\":null}]}]}};\n",
       "  var render_items = [{\"docid\":\"4710389a-dd26-4e6a-b333-f75e3e5eae6a\",\"roots\":{\"p1002\":\"b14a9c16-b28e-427f-adaf-a531743f0b17\"},\"root_ids\":[\"p1002\"]}];\n",
       "  var docs = Object.values(docs_json)\n",
       "  if (!docs) {\n",
       "    return\n",
       "  }\n",
       "  const py_version = docs[0].version.replace('rc', '-rc.').replace('.dev', '-dev.')\n",
       "  async function embed_document(root) {\n",
       "    var Bokeh = get_bokeh(root)\n",
       "    await Bokeh.embed.embed_items_notebook(docs_json, render_items);\n",
       "    for (const render_item of render_items) {\n",
       "      for (const root_id of render_item.root_ids) {\n",
       "\tconst id_el = document.getElementById(root_id)\n",
       "\tif (id_el.children.length && id_el.children[0].hasAttribute('data-root-id')) {\n",
       "\t  const root_el = id_el.children[0]\n",
       "\t  root_el.id = root_el.id + '-rendered'\n",
       "\t  for (const child of root_el.children) {\n",
       "            // Ensure JupyterLab does not capture keyboard shortcuts\n",
       "            // see: https://jupyterlab.readthedocs.io/en/4.1.x/extension/notebook.html#keyboard-interaction-model\n",
       "\t    child.setAttribute('data-lm-suppress-shortcuts', 'true')\n",
       "\t  }\n",
       "\t}\n",
       "      }\n",
       "    }\n",
       "  }\n",
       "  function get_bokeh(root) {\n",
       "    if (root.Bokeh === undefined) {\n",
       "      return null\n",
       "    } else if (root.Bokeh.version !== py_version) {\n",
       "      if (root.Bokeh.versions === undefined || !root.Bokeh.versions.has(py_version)) {\n",
       "\treturn null\n",
       "      }\n",
       "      return root.Bokeh.versions.get(py_version);\n",
       "    } else if (root.Bokeh.version === py_version) {\n",
       "      return root.Bokeh\n",
       "    }\n",
       "    return null\n",
       "  }\n",
       "  function is_loaded(root) {\n",
       "    var Bokeh = get_bokeh(root)\n",
       "    return (Bokeh != null && Bokeh.Panel !== undefined)\n",
       "  }\n",
       "  if (is_loaded(root)) {\n",
       "    embed_document(root);\n",
       "  } else {\n",
       "    var attempts = 0;\n",
       "    var timer = setInterval(function(root) {\n",
       "      if (is_loaded(root)) {\n",
       "        clearInterval(timer);\n",
       "        embed_document(root);\n",
       "      } else if (document.readyState == \"complete\") {\n",
       "        attempts++;\n",
       "        if (attempts > 200) {\n",
       "          clearInterval(timer);\n",
       "\t  var Bokeh = get_bokeh(root)\n",
       "\t  if (Bokeh == null || Bokeh.Panel == null) {\n",
       "            console.warn(\"Panel: ERROR: Unable to run Panel code because Bokeh or Panel library is missing\");\n",
       "\t  } else {\n",
       "\t    console.warn(\"Panel: WARNING: Attempting to render but not all required libraries could be resolved.\")\n",
       "\t    embed_document(root)\n",
       "\t  }\n",
       "        }\n",
       "      }\n",
       "    }, 25, root)\n",
       "  }\n",
       "})(window);</script>"
      ]
     },
     "metadata": {
      "application/vnd.holoviews_exec.v0+json": {
       "id": "p1002"
      }
     },
     "output_type": "display_data"
    },
    {
     "data": {},
     "metadata": {},
     "output_type": "display_data"
    },
    {
     "data": {
      "application/vnd.holoviews_exec.v0+json": "",
      "text/html": [
       "<div id='p1004'>\n",
       "  <div id=\"cf0c44ac-43ea-4793-b935-ba5e2b6025ba\" data-root-id=\"p1004\" style=\"display: contents;\"></div>\n",
       "</div>\n",
       "<script type=\"application/javascript\">(function(root) {\n",
       "  var docs_json = {\"7b641ffd-3921-4d52-bb68-ede2cd2f369c\":{\"version\":\"3.4.3\",\"title\":\"Bokeh Application\",\"roots\":[{\"type\":\"object\",\"name\":\"Row\",\"id\":\"p1004\",\"attributes\":{\"name\":\"Row00940\",\"tags\":[\"embedded\"],\"stylesheets\":[\"\\n:host(.pn-loading):before, .pn-loading:before {\\n  background-color: #c3c3c3;\\n  mask-size: auto calc(min(50%, 400px));\\n  -webkit-mask-size: auto calc(min(50%, 400px));\\n}\",{\"type\":\"object\",\"name\":\"ImportedStyleSheet\",\"id\":\"p1007\",\"attributes\":{\"url\":\"https://cdn.holoviz.org/panel/1.4.5/dist/css/loading.css\"}},{\"type\":\"object\",\"name\":\"ImportedStyleSheet\",\"id\":\"p1075\",\"attributes\":{\"url\":\"https://cdn.holoviz.org/panel/1.4.5/dist/css/listpanel.css\"}},{\"type\":\"object\",\"name\":\"ImportedStyleSheet\",\"id\":\"p1005\",\"attributes\":{\"url\":\"https://cdn.holoviz.org/panel/1.4.5/dist/bundled/theme/default.css\"}},{\"type\":\"object\",\"name\":\"ImportedStyleSheet\",\"id\":\"p1006\",\"attributes\":{\"url\":\"https://cdn.holoviz.org/panel/1.4.5/dist/bundled/theme/native.css\"}}],\"min_width\":700,\"margin\":0,\"sizing_mode\":\"stretch_width\",\"align\":\"start\",\"children\":[{\"type\":\"object\",\"name\":\"Spacer\",\"id\":\"p1008\",\"attributes\":{\"name\":\"HSpacer00947\",\"stylesheets\":[\"\\n:host(.pn-loading):before, .pn-loading:before {\\n  background-color: #c3c3c3;\\n  mask-size: auto calc(min(50%, 400px));\\n  -webkit-mask-size: auto calc(min(50%, 400px));\\n}\",{\"id\":\"p1007\"},{\"id\":\"p1005\"},{\"id\":\"p1006\"}],\"margin\":0,\"sizing_mode\":\"stretch_width\",\"align\":\"start\"}},{\"type\":\"object\",\"name\":\"Figure\",\"id\":\"p1016\",\"attributes\":{\"width\":700,\"height\":300,\"margin\":[5,10],\"sizing_mode\":\"fixed\",\"align\":\"start\",\"x_range\":{\"type\":\"object\",\"name\":\"Range1d\",\"id\":\"p1009\",\"attributes\":{\"tags\":[[[\"date\",null]],[]],\"start\":926052480000.0,\"end\":989089920000.0,\"reset_start\":926052480000.0,\"reset_end\":989089920000.0}},\"y_range\":{\"type\":\"object\",\"name\":\"Range1d\",\"id\":\"p1010\",\"attributes\":{\"tags\":[[[\"rank\",null]],{\"type\":\"map\",\"entries\":[[\"invert_yaxis\",false],[\"autorange\",false]]}],\"start\":-8.9,\"end\":109.9,\"reset_start\":-8.9,\"reset_end\":109.9}},\"x_scale\":{\"type\":\"object\",\"name\":\"LinearScale\",\"id\":\"p1026\"},\"y_scale\":{\"type\":\"object\",\"name\":\"LinearScale\",\"id\":\"p1027\"},\"title\":{\"type\":\"object\",\"name\":\"Title\",\"id\":\"p1019\",\"attributes\":{\"text_color\":\"black\",\"text_font_size\":\"12pt\"}},\"renderers\":[{\"type\":\"object\",\"name\":\"GlyphRenderer\",\"id\":\"p1068\",\"attributes\":{\"data_source\":{\"type\":\"object\",\"name\":\"ColumnDataSource\",\"id\":\"p1059\",\"attributes\":{\"selected\":{\"type\":\"object\",\"name\":\"Selection\",\"id\":\"p1060\",\"attributes\":{\"indices\":[],\"line_indices\":[]}},\"selection_policy\":{\"type\":\"object\",\"name\":\"UnionRenderers\",\"id\":\"p1061\"},\"data\":{\"type\":\"map\",\"entries\":[[\"date\",{\"type\":\"ndarray\",\"array\":{\"type\":\"bytes\",\"data\":\"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\"},\"shape\":[5307],\"dtype\":\"float64\",\"order\":\"little\"}],[\"rank\",{\"type\":\"ndarray\",\"array\":{\"type\":\"bytes\",\"data\":\"UQAAADYAAAAsAAAAJwAAACYAAAAhAAAAYwAAAB0AAABjAAAAHQAAAGAAAAAgAAAAGwAAAGAAAAAaAAAAZAAAABgAAABdAAAAGwAAAF0AAAAgAAAAUQAAAGAAAABRAAAARAAAACEAAAAsAAAAIwAAAE0AAABjAAAAIwAAABAAAABJAAAAKAAAAAsAAAA/AAAAYAAAAEwAAAArAAAAVAAAAD0AAAAJAAAAUAAAAEcAAABgAAAACAAAAD0AAAA6AAAAQwAAADIAAABFAAAALQAAADsAAAA4AAAANAAAAEcAAABJAAAAXAAAAAcAAABjAAAACAAAADQAAAA2AAAAPwAAAEQAAABQAAAAMwAAACsAAABiAAAAWAAAAFMAAAAwAAAASAAAAFQAAAA4AAAAOwAAAEwAAAAzAAAAUQAAACsAAAAwAAAAMgAAAGIAAAAHAAAAKAAAAD8AAAA5AAAAXgAAADMAAAAtAAAAOAAAAEQAAABGAAAAUwAAAEUAAABKAAAAJgAAAB8AAABHAAAAPAAAAE8AAAAIAAAAKgAAAEMAAAAkAAAALgAAAD4AAAAUAAAAXwAAAF4AAABHAAAAGAAAADkAAABIAAAAUAAAACgAAABEAAAAXAAAADQAAABJAAAAMAAAAFUAAABCAAAACAAAAEoAAAA1AAAAYwAAAE8AAAAzAAAAJAAAABMAAABHAAAATQAAAEwAAABeAAAARgAAABsAAABBAAAAKgAAAB8AAAAGAAAAKQAAAD0AAAANAAAAWwAAAFAAAAAgAAAAOQAAAFgAAABFAAAAPAAAAEIAAABVAAAAFQAAAAYAAABkAAAARQAAABcAAABMAAAAXgAAADMAAAAuAAAASQAAAGMAAAA5AAAAGgAAADEAAABbAAAAVgAAACAAAABZAAAAKgAAAFcAAABUAAAAQAAAADQAAAA+AAAASwAAAEgAAABYAAAAIgAAAAcAAAARAAAAWgAAADYAAABfAAAAPwAAAEoAAAAlAAAAPwAAAFkAAAAeAAAASwAAACcAAAAiAAAABQAAAB0AAAArAAAAXgAAAE0AAABfAAAAYgAAAA4AAAANAAAARQAAAEYAAAA2AAAAUgAAAEcAAAA6AAAARAAAACMAAABdAAAAWwAAAC4AAAA5AAAATwAAACUAAAAcAAAAQgAAAEwAAABYAAAALAAAAEAAAAA4AAAAQwAAABgAAAATAAAABgAAAFQAAAAiAAAAIwAAADIAAAAZAAAAGgAAAE8AAAAwAAAAWQAAAFwAAABNAAAACwAAAF4AAABAAAAAJgAAABIAAAA8AAAAFgAAABwAAAAuAAAATAAAAE0AAAAQAAAAQwAAAB0AAABUAAAAMwAAACAAAABaAAAAYwAAACcAAAA9AAAARAAAAEUAAABJAAAAVQAAADkAAAAJAAAAKAAAADQAAAAFAAAANgAAAAQAAAA+AAAAVgAAADcAAAAOAAAAYAAAAB4AAABZAAAABwAAAEsAAAAdAAAALAAAAEcAAABfAAAADQAAAGEAAAAcAAAAOwAAAFMAAAA4AAAAXgAAADAAAAAaAAAAJgAAAAUAAAAuAAAAYwAAACoAAABUAAAALQAAAFMAAABAAAAATwAAADIAAAARAAAAQwAAAE4AAABQAAAACQAAABgAAAAnAAAANgAAAD0AAAAVAAAAFgAAAEUAAAAQAAAANAAAACQAAAAjAAAAPwAAAAQAAAAyAAAAVAAAAFIAAAAkAAAAQAAAAC4AAAAWAAAAEAAAAEoAAAA9AAAAXwAAAFkAAABGAAAABAAAAGMAAAA7AAAAVgAAAGIAAAA4AAAAHgAAAAcAAAA0AAAAYAAAABEAAABDAAAAGAAAAF4AAABQAAAAUwAAABwAAAA2AAAADQAAAD0AAABHAAAAEwAAABUAAABdAAAACQAAAA4AAABeAAAARQAAACMAAAAwAAAAPwAAADcAAAAtAAAABQAAACwAAAAnAAAATgAAACYAAAAqAAAAFwAAAE8AAAAPAAAASQAAADwAAAAJAAAARQAAACwAAAApAAAANgAAABEAAAA0AAAAYgAAACsAAAA1AAAAXwAAAFAAAAA+AAAAKAAAAC4AAAAnAAAACwAAABAAAAA/AAAASwAAACAAAAA7AAAAVgAAABgAAAA3AAAAOQAAAE0AAABhAAAAIgAAAC0AAABGAAAAQQAAAEgAAAAaAAAABgAAABcAAABkAAAAFgAAAF4AAAAUAAAAFQAAAAUAAAAHAAAAYwAAAFIAAAANAAAABAAAADMAAABAAAAAMAAAAB4AAABKAAAAWwAAABQAAAASAAAAWQAAAD4AAAA8AAAAKQAAAAgAAAAvAAAABAAAAEMAAABCAAAAMQAAAB4AAAAkAAAAWwAAABwAAAATAAAAFQAAAFQAAABAAAAAJQAAADgAAAA6AAAADgAAACEAAABNAAAAYgAAAGAAAAA/AAAAHwAAAEoAAAAjAAAAJgAAAFwAAABBAAAACgAAADYAAAAXAAAAKwAAAA8AAABSAAAAHQAAAAEAAABRAAAACwAAADQAAABfAAAAMgAAAAYAAABaAAAARgAAAAcAAAA3AAAAZAAAAFwAAABFAAAALgAAACcAAABhAAAAQwAAAEsAAAA/AAAALAAAADkAAABKAAAAHwAAADwAAAAZAAAAGwAAAFkAAAAwAAAAOwAAAAsAAAASAAAASAAAADcAAAArAAAALwAAAAIAAABMAAAABwAAAFwAAABgAAAAQAAAABMAAABNAAAARgAAAD0AAABCAAAACgAAAEQAAABTAAAAIwAAAFEAAABWAAAACQAAAAEAAAAUAAAAYwAAAA8AAAAuAAAADAAAADYAAAA4AAAAGgAAADIAAAAdAAAAWgAAACYAAABHAAAAOgAAABUAAAAoAAAAPgAAAEEAAAAXAAAABQAAACAAAAARAAAANQAAACEAAABQAAAAEAAAAEwAAAABAAAAVAAAAFUAAAA4AAAARwAAAF4AAAAqAAAAPQAAAGIAAAAsAAAAGQAAAFsAAAAxAAAAHAAAAF8AAABFAAAAEwAAAAYAAABRAAAANwAAACkAAAAOAAAAOgAAAA8AAAAuAAAACwAAAEsAAAAVAAAAVgAAAEkAAABTAAAAUAAAAAoAAABKAAAAIAAAAAIAAAAfAAAAGgAAADYAAABaAAAANAAAAE8AAABDAAAAOQAAABAAAABEAAAAFwAAAAUAAABIAAAAMAAAAE4AAABhAAAAXQAAABsAAAAIAAAAHQAAACsAAAAtAAAAPAAAAEAAAAASAAAAMwAAACYAAAAWAAAALwAAAA0AAABcAAAAPgAAAE0AAAAUAAAABwAAAEwAAABGAAAAQQAAADUAAAAiAAAAEgAAABEAAABMAAAAIAAAAFsAAAAdAAAACAAAABkAAABJAAAAFgAAAEQAAAAbAAAAAQAAADMAAAA2AAAAOwAAAEoAAAArAAAAHAAAAAkAAAA+AAAAUwAAACYAAABUAAAADAAAAEUAAAAHAAAAXgAAAEcAAABPAAAAUQAAABoAAABAAAAAKgAAACEAAAA/AAAASAAAADgAAAAwAAAAOQAAAA4AAAAFAAAAXAAAAC4AAAA9AAAASwAAAAIAAABBAAAAIwAAAB4AAABhAAAAOgAAAFIAAAANAAAACwAAADcAAABXAAAATgAAAC8AAAAfAAAAMQAAABQAAABiAAAATQAAAFgAAABDAAAAGAAAACwAAABVAAAABgAAACgAAAAVAAAADwAAABAAAABiAAAAQgAAADQAAAAjAAAATQAAAE8AAABDAAAAIQAAAB4AAABTAAAAEgAAACIAAABLAAAAAQAAACAAAAAJAAAAVgAAAGEAAABGAAAAMwAAAAcAAABRAAAACwAAADsAAABjAAAATgAAAFAAAAAtAAAASgAAAFkAAAARAAAAVQAAABcAAAAKAAAAZAAAABAAAAAIAAAADwAAAC8AAAACAAAAGwAAAAwAAABgAAAAMgAAABkAAAA8AAAARQAAAEkAAAAxAAAAJQAAABUAAAAuAAAAJwAAAD0AAABBAAAAFgAAAA0AAABSAAAANwAAADYAAABYAAAAVwAAAD8AAAAmAAAAOgAAABgAAAApAAAAGgAAAEwAAAAEAAAAKgAAAF8AAABHAAAAFAAAACQAAAADAAAAKAAAACsAAAATAAAAHAAAAEQAAAAcAAAAGgAAAC8AAAAyAAAAQQAAAAgAAABjAAAAOAAAAAsAAAAhAAAAFgAAACAAAAA8AAAAVwAAAF8AAABUAAAASAAAABQAAAAlAAAAEAAAAEUAAAAJAAAATQAAADMAAABGAAAAIwAAAEMAAAAYAAAAOQAAAFYAAAAHAAAAUwAAAEQAAAA0AAAAHQAAAA0AAABRAAAAEgAAAFwAAAArAAAAVQAAADcAAAAwAAAAQAAAABcAAABMAAAAAwAAAD0AAABiAAAAKAAAAAEAAAAKAAAAWQAAAB8AAAAkAAAAIgAAAE8AAAAOAAAASQAAAB4AAAAtAAAALgAAADsAAAAGAAAABAAAAA8AAAA/AAAALAAAACkAAABkAAAARwAAAFoAAAAVAAAAEwAAAF4AAABdAAAAJgAAAAIAAABYAAAAYAAAADUAAAAnAAAAGQAAAE4AAABLAAAASAAAADQAAABHAAAAEwAAAFIAAABeAAAAWQAAAAcAAAAkAAAAXwAAAAwAAAAKAAAADQAAACAAAABXAAAACwAAAAgAAAAuAAAADwAAAD8AAAAwAAAAMwAAADoAAABOAAAAEQAAACIAAAAWAAAAFAAAAGAAAAArAAAAPgAAAEwAAAA9AAAABAAAAEIAAAAeAAAAJwAAAAEAAAA4AAAAMgAAAAYAAABNAAAAVgAAAAUAAAAXAAAAIQAAAF0AAABBAAAALQAAAGQAAABJAAAAUQAAAEsAAABcAAAAJQAAADEAAABFAAAAWAAAABgAAABDAAAAUwAAAFsAAAACAAAAEgAAACwAAAA3AAAADgAAABkAAAAmAAAARgAAAB0AAAAjAAAAKAAAADsAAAADAAAAKgAAADwAAAAbAAAATwAAAGMAAAAcAAAAHwAAABoAAAAvAAAAYgAAAFsAAABAAAAAUwAAABcAAAAvAAAAOQAAAAQAAABXAAAAEQAAABoAAAAfAAAAPAAAACwAAAAdAAAAAwAAAGMAAABfAAAALgAAAEwAAABJAAAANAAAABgAAAAbAAAADwAAACAAAAAiAAAARwAAABUAAABIAAAAPgAAAAgAAAArAAAARgAAACgAAAA1AAAAJQAAADEAAAA/AAAARAAAAAsAAAAJAAAATgAAAEoAAABQAAAASwAAADoAAAAzAAAANwAAAFIAAAAMAAAAIwAAAAIAAAAeAAAAEAAAAFwAAAAnAAAAIQAAAGAAAAAHAAAAKgAAAAEAAAA7AAAATQAAAAUAAAAGAAAAZAAAADYAAABBAAAAMgAAAAoAAAAOAAAAJAAAAFEAAAAZAAAAXQAAAGEAAAAwAAAAVQAAACYAAABCAAAAKQAAAE8AAABWAAAAHAAAABMAAABYAAAAWgAAABYAAAA9AAAAPAAAAAcAAAA9AAAAVQAAACgAAABMAAAAEQAAAGQAAAAdAAAAAQAAAFIAAAAYAAAACwAAAFwAAAAkAAAAMwAAACYAAABDAAAAIgAAAAwAAAAVAAAAMAAAACoAAAAOAAAAGgAAAEIAAAA6AAAATQAAAEsAAAAbAAAADwAAAE8AAABfAAAALgAAAAYAAABRAAAANQAAAEAAAAAfAAAASAAAAFsAAABaAAAAHAAAAGMAAAAtAAAABAAAAE4AAAACAAAABQAAADEAAABHAAAAVwAAABQAAAA0AAAANwAAAEUAAAA2AAAAIwAAAGEAAAAeAAAACAAAACcAAAAyAAAAYAAAABAAAAArAAAAAwAAABkAAAASAAAAQQAAAAkAAABGAAAALwAAACUAAABJAAAAKQAAAD4AAABYAAAASgAAAFkAAABEAAAAIAAAADsAAAANAAAAOQAAABYAAABTAAAALAAAACEAAAA/AAAAOAAAAEAAAAAbAAAARgAAAAsAAAAGAAAAYQAAACoAAABeAAAAFwAAAAEAAAA9AAAAUwAAACQAAAAIAAAAIQAAAEMAAABkAAAAKQAAAAMAAABOAAAAWAAAAAcAAABQAAAAMQAAACAAAABMAAAAWwAAAB8AAAAvAAAASwAAAAQAAAAOAAAALQAAACwAAABRAAAAJQAAABUAAABSAAAAWgAAAGIAAAA1AAAASgAAAE0AAABZAAAAGgAAAF0AAAAQAAAANwAAADQAAAA2AAAAJgAAADkAAAAdAAAAIwAAACsAAAAJAAAAKAAAAFYAAAA+AAAASAAAADIAAAAFAAAAOAAAAF8AAABPAAAAPwAAADAAAABJAAAAHAAAADoAAABUAAAAFgAAAEcAAAAeAAAAEwAAAFUAAAAiAAAADwAAAEIAAAA8AAAAYwAAABkAAABBAAAAMwAAAFwAAABFAAAAOwAAAC4AAAAMAAAAJwAAAA0AAAACAAAAEQAAABgAAAAaAAAALAAAAD4AAAAqAAAAIQAAACsAAAA9AAAAXgAAAEEAAABhAAAADgAAAFYAAAAYAAAAHwAAAFwAAAAdAAAADAAAAAsAAABFAAAAEAAAADIAAABJAAAAUwAAACgAAABfAAAAMwAAACIAAABNAAAAHAAAAE8AAABYAAAAEgAAAFQAAAAlAAAAVwAAACYAAABIAAAANQAAAAQAAAANAAAAGwAAABMAAAAgAAAAUAAAAFoAAAARAAAARgAAAA8AAAAFAAAAMQAAADkAAAA2AAAAQAAAADAAAAAXAAAAIwAAAFEAAABdAAAAYwAAACQAAAABAAAACQAAADgAAABEAAAAYAAAAEcAAABDAAAANAAAACcAAAAUAAAABgAAAEwAAAAIAAAAWwAAAC8AAAA6AAAASgAAAFUAAABLAAAAKQAAAC4AAAACAAAAUgAAAAMAAAA8AAAABwAAABkAAAA3AAAAPwAAAGIAAAAtAAAAOwAAAGQAAABZAAAAHgAAAE4AAABDAAAAGgAAAC4AAAAoAAAAQgAAADcAAAAxAAAAAQAAAC0AAAAvAAAABAAAAFUAAAA5AAAAJwAAACkAAABLAAAATAAAAE8AAABgAAAARwAAAA0AAABUAAAAMAAAAD0AAAA6AAAATQAAADUAAABBAAAAKwAAABkAAAA/AAAATgAAACQAAAAjAAAAAwAAAEgAAABEAAAAZAAAAB0AAAAzAAAAGwAAABQAAAAKAAAAXgAAABcAAAAPAAAASgAAAFMAAAARAAAAVgAAACIAAAAqAAAAYgAAADgAAAA0AAAARQAAAEkAAABZAAAAWAAAAAwAAAAGAAAAJQAAAA4AAAACAAAAEAAAAEAAAAAeAAAAMgAAAFoAAAAJAAAAPAAAAFcAAAAfAAAACwAAAFwAAABdAAAABwAAADsAAABbAAAAYwAAABwAAABGAAAABQAAABIAAAAYAAAAIAAAAFIAAABRAAAAIQAAAFAAAAAsAAAAXwAAAGEAAAA2AAAAEwAAACYAAAAsAAAAJgAAABsAAABPAAAALgAAACQAAABUAAAAEAAAAEUAAAANAAAAYgAAAEEAAABhAAAAVQAAADkAAAADAAAAHAAAABQAAAAgAAAAXAAAAEgAAABQAAAAOwAAAE0AAAAvAAAARwAAACkAAAAPAAAABAAAAFIAAABJAAAABwAAACoAAABgAAAAHwAAAFoAAAAFAAAAXwAAABgAAAAJAAAARgAAABEAAAAjAAAASgAAAFcAAAAGAAAAEwAAAB4AAAAMAAAATAAAAAoAAABeAAAAMgAAABIAAAAwAAAAAQAAAAgAAABWAAAAZAAAAEIAAABAAAAAPAAAACEAAAAoAAAAWwAAAGMAAAAOAAAAIgAAADMAAABTAAAAHQAAAC0AAAAXAAAANQAAABUAAAA3AAAATgAAADQAAABYAAAAJwAAABoAAABEAAAAMQAAAD4AAABDAAAAOgAAAF0AAAAlAAAASwAAAFEAAABZAAAANgAAAAIAAAArAAAAPQAAAD8AAABRAAAADQAAAC8AAAAQAAAAMAAAAAEAAAA1AAAAJAAAAAUAAABfAAAAAgAAABEAAABYAAAAKQAAACEAAAA0AAAANgAAADgAAAA8AAAAIgAAAB4AAABhAAAALAAAAC0AAAAfAAAAXgAAAEEAAAA9AAAAMgAAAAYAAAAcAAAAXAAAAFMAAAAqAAAARgAAAA8AAAA6AAAALgAAAEgAAABiAAAAEwAAABgAAAASAAAAPwAAAGMAAAAlAAAASwAAABQAAAAKAAAADgAAAFYAAABCAAAAKAAAABcAAAAnAAAACQAAAD4AAABKAAAATAAAAF0AAABgAAAACAAAACYAAAAWAAAABwAAAEkAAABNAAAABAAAAE4AAAAjAAAAVwAAACsAAABQAAAAUgAAAEcAAABaAAAAQwAAAFsAAAALAAAAWQAAABUAAAAzAAAARAAAAFUAAAAaAAAARQAAAB0AAAA5AAAAZAAAAE8AAAAgAAAAQAAAADcAAAA7AAAAVAAAAAMAAAAjAAAASwAAABsAAAA0AAAATgAAAB8AAABUAAAAFgAAACAAAAAdAAAAKQAAADcAAABaAAAAWwAAABEAAABkAAAAYAAAABwAAABCAAAASgAAAEUAAABMAAAAIgAAACQAAABNAAAAEwAAADUAAABRAAAAXgAAAGMAAAArAAAAJgAAADMAAABHAAAANgAAAFAAAAA4AAAATwAAAFcAAAAUAAAASQAAAFMAAABhAAAAPAAAAEYAAABDAAAAAwAAAEQAAAAoAAAADgAAAF8AAAAGAAAAAgAAAFkAAAA9AAAALgAAAC8AAAAIAAAAOQAAAAoAAAAaAAAAKgAAABUAAABBAAAAPgAAAC0AAAAEAAAADwAAADAAAAAsAAAAYgAAAAkAAAAHAAAAGAAAAA0AAAA6AAAAFwAAAEAAAABSAAAAVQAAAAwAAABYAAAAXQAAACEAAAAFAAAAOwAAAEgAAAAZAAAAAQAAABIAAAAQAAAAVgAAAFwAAAAyAAAAJwAAAD8AAABdAAAABgAAACMAAABRAAAAPQAAACcAAAA+AAAACQAAAA8AAABcAAAANgAAADUAAABZAAAAHQAAAB4AAAALAAAAEgAAAF8AAAAwAAAABAAAAF4AAABLAAAAMwAAADsAAABCAAAANwAAABoAAABbAAAANAAAACkAAAAFAAAADgAAAFAAAAARAAAAFAAAAEcAAAAXAAAAFQAAACsAAABNAAAARgAAABMAAAAcAAAALQAAAEoAAABSAAAALAAAAGEAAAA5AAAAJgAAAFgAAAAlAAAABwAAAAoAAABiAAAAGQAAAFoAAAAIAAAAFgAAACAAAAAyAAAAYAAAAGQAAAABAAAAJAAAADgAAABMAAAAIgAAAAMAAABXAAAAGAAAAAIAAABBAAAAVAAAAEQAAAAvAAAAPAAAAE4AAAAbAAAAOgAAAFYAAABjAAAADQAAAC4AAABIAAAARQAAADEAAABDAAAAQAAAAEkAAABPAAAAVQAAACEAAABTAAAAPwAAABAAAAAiAAAAYAAAABYAAAArAAAAPwAAABEAAABeAAAASQAAAGMAAAAHAAAACgAAAAkAAAAqAAAANQAAABkAAAA8AAAAUwAAABoAAABSAAAAKAAAAEQAAABKAAAAQQAAAAMAAABFAAAATQAAACcAAAAfAAAADwAAAE8AAAABAAAATAAAAFkAAAAuAAAALwAAAAwAAABRAAAAMQAAAEMAAABXAAAABQAAAEsAAABVAAAAFwAAABMAAAACAAAAWgAAABgAAABhAAAAFAAAAEgAAAA5AAAAQAAAADQAAAAmAAAAPgAAADsAAAAcAAAACAAAAEIAAAA4AAAAEgAAAB4AAAAVAAAAVAAAADoAAABfAAAAZAAAADcAAAA9AAAAUAAAAB0AAAA2AAAALQAAAAsAAAAhAAAAXAAAAAYAAAAgAAAAWAAAAFYAAABdAAAAWwAAAA0AAAAkAAAATgAAAEcAAAAOAAAAMwAAADIAAAAbAAAALAAAAEYAAAAlAAAAYgAAAAQAAAAJAAAAAwAAADkAAAAeAAAAJAAAAFgAAAAoAAAAMgAAABAAAAAMAAAAIwAAAGQAAAAPAAAASQAAABUAAABZAAAAXgAAADgAAAAEAAAAYQAAAD4AAAAmAAAAXQAAAEAAAAAKAAAABwAAAEoAAABbAAAAHAAAAB0AAAAGAAAAGwAAACoAAAANAAAAPQAAAEgAAAA1AAAAIAAAAEYAAABjAAAALQAAAC8AAABaAAAAOgAAAB8AAAAsAAAATAAAAD8AAAAOAAAAQwAAAFQAAAAIAAAAMwAAADYAAABHAAAAGgAAABcAAAACAAAAUAAAADsAAABXAAAAFAAAABgAAAARAAAAMAAAADQAAABBAAAAMQAAACcAAABNAAAAFgAAACEAAAALAAAAVQAAAFIAAAABAAAAVgAAAC4AAAATAAAAUQAAAEQAAAA3AAAAYAAAACsAAAA8AAAAYgAAAFwAAAAFAAAAXwAAAE4AAABLAAAAIgAAAEIAAABFAAAAGQAAAE8AAAAJAAAAAQAAADgAAABRAAAALwAAABQAAABZAAAAMwAAAAUAAAA1AAAAWAAAABYAAAA6AAAANwAAAFAAAABbAAAAVwAAAFoAAAAfAAAADAAAAF8AAAAhAAAAAgAAAA4AAABEAAAADwAAAC0AAAASAAAABAAAACsAAAAKAAAAVQAAADYAAAAyAAAAPgAAAEsAAAAaAAAASgAAACUAAAAjAAAASQAAAEcAAAAYAAAAGwAAAA0AAAA0AAAASAAAADkAAABhAAAAYwAAAFwAAABkAAAAHgAAADAAAABdAAAABgAAAAsAAAAgAAAAQAAAAGAAAABDAAAATgAAABcAAAAiAAAAKAAAABkAAAATAAAAVAAAAFIAAAADAAAAJwAAADsAAABTAAAABwAAAEYAAABeAAAAPwAAAD0AAAARAAAATAAAAE8AAAAQAAAATQAAAGIAAAA8AAAAQQAAADEAAAApAAAAQgAAABwAAAAIAAAAKgAAACwAAAAdAAAALgAAAFYAAABMAAAADgAAACgAAAAdAAAANAAAAFkAAAA8AAAAGgAAAEoAAAATAAAATwAAAFoAAAAlAAAACgAAAAwAAABAAAAAAQAAADMAAAALAAAAGQAAADsAAAAqAAAABAAAACsAAAAsAAAAZAAAAAcAAAAhAAAAGwAAAFIAAAAIAAAAEgAAABgAAABGAAAAHwAAADAAAAApAAAAQQAAAEkAAAAWAAAAHAAAACYAAABdAAAABQAAACAAAABEAAAALgAAAFsAAAA3AAAAQwAAAFgAAAAQAAAAUwAAAAMAAABgAAAATQAAAF8AAAAUAAAAXAAAAE4AAABUAAAAMQAAAAkAAAA1AAAAMgAAADYAAABWAAAAUQAAAGEAAAA/AAAABgAAABEAAABLAAAAFQAAADkAAAAnAAAAYwAAAFcAAABFAAAAOAAAAC0AAABIAAAAXgAAADoAAABQAAAAAgAAACIAAABiAAAAQgAAAA8AAAAeAAAAPgAAAFUAAABHAAAAJAAAAA0AAABEAAAAYgAAAE0AAABWAAAAMQAAAFcAAABhAAAAWgAAABQAAAAQAAAAHwAAAB4AAABAAAAAWQAAAEoAAAAhAAAAUAAAAAYAAAARAAAAAwAAAE8AAABRAAAAWAAAABoAAAAEAAAAQwAAADMAAABfAAAAPgAAACYAAAAkAAAAFQAAAFsAAAAcAAAARQAAADsAAAAtAAAAAgAAACwAAABCAAAAOQAAAC4AAAAiAAAAOAAAAF0AAAAOAAAACAAAADUAAABMAAAAOgAAAGMAAAAlAAAAKgAAAFMAAAAvAAAAPQAAABgAAAAdAAAAVQAAABYAAABeAAAAKAAAACcAAAAyAAAANgAAADwAAAAKAAAAQQAAAGAAAAAFAAAABwAAABMAAAAPAAAAEgAAAA0AAAArAAAASwAAADQAAABUAAAAUgAAACAAAAABAAAAGQAAAAkAAABJAAAATgAAAAsAAAAMAAAAGwAAAGQAAABcAAAARgAAACMAAABIAAAARwAAAD8AAABVAAAAUgAAABIAAAA3AAAAOAAAAB0AAAAaAAAAZAAAAE0AAABeAAAAQQAAAC8AAAA0AAAASgAAAEAAAABWAAAAHwAAADYAAABfAAAAGQAAACAAAABUAAAARwAAACkAAABZAAAAHAAAAEQAAAAhAAAATgAAADkAAAAuAAAACQAAABcAAAAlAAAALAAAAGMAAABcAAAAMgAAABQAAAAiAAAADQAAAAcAAAACAAAADgAAACoAAAATAAAAMwAAAFcAAABgAAAAQwAAAAgAAABJAAAAXQAAAFMAAAA/AAAALQAAAAwAAABYAAAAAwAAAEYAAABLAAAAOwAAAAQAAABRAAAATwAAAAoAAAAnAAAABQAAABEAAAAWAAAASAAAABAAAABaAAAAQgAAACYAAAAGAAAAPgAAAB4AAAA9AAAAIwAAABgAAAABAAAAYQAAAFsAAAArAAAACwAAADoAAAA8AAAATAAAAFAAAAA1AAAAKAAAABUAAAAPAAAARQAAAFEAAABfAAAAQAAAAAwAAAA2AAAARwAAAGIAAABOAAAAMAAAAFsAAAACAAAAHQAAAEUAAABZAAAAOAAAAEYAAABLAAAAIQAAABAAAABBAAAACAAAACwAAAAFAAAABgAAABQAAAA7AAAAEgAAAFwAAABSAAAAGwAAADEAAABjAAAAHAAAADwAAABKAAAAEwAAAC0AAAADAAAAVwAAAFYAAAAmAAAASAAAAAkAAAAaAAAANAAAACgAAAAXAAAAXgAAAD0AAAA5AAAADwAAADcAAAAlAAAACwAAAB8AAABNAAAAFgAAABkAAABCAAAAKwAAAGEAAAAKAAAAMwAAAD4AAAABAAAAVAAAAE8AAABgAAAAGAAAAD8AAAA6AAAAFQAAACIAAAANAAAAXQAAAFoAAABVAAAASQAAACkAAABQAAAAZAAAACoAAAAjAAAAJAAAACAAAAAuAAAARAAAADUAAAAEAAAADgAAAEwAAAAHAAAAUwAAAEMAAAARAAAAMgAAAEcAAAABAAAAMAAAAE0AAABLAAAAFwAAAEMAAAAFAAAAQgAAADYAAABIAAAAKgAAAEkAAAACAAAAWAAAAA0AAAAPAAAAWQAAAFsAAABBAAAAYQAAAFoAAABKAAAAJQAAAAMAAABcAAAAUAAAADQAAABkAAAACQAAABkAAAAfAAAANQAAABwAAABfAAAAIwAAACYAAAAkAAAAPAAAABYAAAALAAAAPwAAAFIAAAA5AAAAOwAAAGIAAAAMAAAANwAAABAAAAA9AAAAOgAAADEAAABeAAAAEQAAACAAAAAaAAAABwAAADMAAAAnAAAAQAAAAE8AAAAuAAAAEwAAAAoAAAAGAAAAUwAAAFUAAAAIAAAATAAAAFYAAAAeAAAAUQAAAEUAAAAoAAAARAAAAC0AAAAbAAAAVAAAAB0AAAA4AAAAYAAAAAQAAAASAAAAIgAAAEYAAAA+AAAAFAAAABgAAABOAAAAKwAAAA4AAABXAAAALAAAAFgAAAAyAAAAFQAAAA0AAABKAAAAWQAAACIAAAAEAAAATQAAAD4AAAAVAAAAPQAAADwAAABBAAAATAAAABAAAABAAAAAXgAAACkAAABQAAAAFwAAAGIAAAA0AAAAJAAAADUAAAAGAAAAKgAAABQAAABCAAAAFgAAAAoAAAAjAAAAJwAAACgAAABkAAAAEQAAAAsAAAADAAAAGwAAABkAAABOAAAAPwAAAAEAAAAhAAAASwAAAAcAAAAFAAAAXQAAAFYAAAAtAAAAVAAAAAkAAAAYAAAADAAAADoAAAAdAAAANgAAAGAAAAA7AAAAGgAAAA8AAAA4AAAAMwAAAFgAAABfAAAARAAAAEUAAAATAAAASQAAABwAAABjAAAARwAAAFoAAABdAAAAUQAAAAgAAABTAAAAMgAAAE8AAAAwAAAAEgAAAEMAAABIAAAAOQAAAFsAAAAlAAAAYQAAAC8AAABVAAAARgAAAFIAAAAfAAAAKwAAAC4AAAAOAAAAHgAAADEAAAAsAAAAVwAAAAIAAAA+AAAANAAAAE4AAAAcAAAAGQAAAFwAAABcAAAAKAAAAFgAAAANAAAAMAAAADgAAABhAAAAWQAAAEYAAAAmAAAASwAAABAAAAAYAAAAQAAAABoAAABSAAAAPQAAABMAAABMAAAAJQAAAAkAAAA6AAAAUQAAADwAAAAtAAAATQAAAEgAAABkAAAAXQAAAFQAAAAPAAAAOwAAADYAAAAqAAAAYAAAAB4AAABEAAAAEgAAAAEAAABDAAAAIgAAAEkAAAAVAAAAFAAAAB0AAAAnAAAASgAAAAoAAAAgAAAAHwAAAAIAAAAsAAAACwAAAFAAAAAIAAAAWwAAAF8AAAAbAAAAWgAAACkAAAAFAAAAOQAAAAYAAABBAAAAVgAAAD8AAAArAAAAYgAAAFcAAAAxAAAAEQAAAAMAAAAXAAAAMwAAAGMAAABeAAAALwAAAA4AAABFAAAABAAAAEcAAAA3AAAAUwAAAE8AAAAWAAAABwAAADUAAAAuAAAADAAAACEAAAAyAAAAOwAAAB4AAABcAAAASgAAABQAAAA3AAAAVAAAAD8AAAAuAAAAWwAAABgAAAAMAAAAGgAAAFYAAAA0AAAATQAAAGAAAAA6AAAALwAAAE4AAAAwAAAADgAAABYAAAASAAAAMQAAAAIAAAAdAAAAJgAAAEwAAABfAAAAYwAAAFMAAAApAAAAFQAAABsAAABLAAAAMgAAAC0AAABFAAAAQQAAACsAAAA1AAAAEQAAADwAAAAkAAAAMwAAAFEAAAA9AAAAUgAAAAsAAAANAAAAVwAAAFoAAAAqAAAAXgAAAAUAAAAsAAAAXQAAAGEAAAAZAAAAQAAAAD4AAAAIAAAAEwAAAGIAAABCAAAARwAAADgAAABPAAAASQAAABcAAAAQAAAAZAAAACAAAABGAAAAHwAAAFUAAAAGAAAABwAAAAoAAAAlAAAACQAAADkAAABEAAAAWAAAADYAAAAPAAAAWQAAACgAAAAcAAAAJwAAAAEAAAAEAAAAAwAAACMAAABIAAAAUAAAADUAAABLAAAAMAAAACQAAABIAAAAEgAAAFUAAAAPAAAARQAAAEkAAAAgAAAAJgAAAF0AAABDAAAAWAAAAFUAAAAhAAAAQgAAADIAAABiAAAAKgAAAFkAAAAzAAAADgAAADsAAABEAAAADAAAAGAAAABfAAAALgAAAEoAAABXAAAAUwAAACcAAAAFAAAACwAAACgAAAACAAAARwAAAD0AAAAIAAAAPwAAACsAAAAKAAAABwAAAAEAAAAiAAAAWwAAAD4AAAAeAAAAUAAAACUAAAAVAAAATwAAAGMAAABMAAAACQAAAAYAAABNAAAAQQAAAB0AAAAEAAAALAAAAFEAAABaAAAAEQAAAC0AAAAbAAAAXgAAADcAAAA2AAAAFgAAABkAAAADAAAAVgAAAE4AAAAaAAAAGAAAABMAAAAvAAAADQAAADwAAAAUAAAANAAAADoAAAAfAAAAOQAAABAAAABhAAAAMQAAAFwAAABSAAAAHAAAADgAAAAXAAAARgAAAGMAAAA4AAAAXAAAAEMAAABZAAAALgAAAGAAAAAmAAAAQgAAACQAAABRAAAARgAAADEAAAA/AAAAKAAAAEcAAABWAAAANgAAACEAAAACAAAANAAAABkAAABTAAAAYgAAAEAAAABJAAAALQAAAE8AAAAdAAAAEAAAABcAAAADAAAAAQAAACoAAAA6AAAANwAAADMAAAAOAAAAOQAAAC8AAAAfAAAALAAAAA8AAAA+AAAATQAAAB4AAABLAAAAHAAAABIAAAA1AAAAGgAAAFUAAAAFAAAABgAAABEAAAArAAAAYQAAAAkAAAAWAAAABwAAABUAAAAIAAAASgAAABgAAAAjAAAAFAAAAFIAAAAlAAAAMgAAABsAAABOAAAAVAAAAGQAAAALAAAACgAAAFcAAABdAAAAPAAAAA0AAABYAAAAOwAAABMAAABeAAAABAAAAAwAAAAwAAAAIgAAAFoAAABIAAAAJwAAAFQAAAA9AAAAQQAAAEUAAABEAAAAXwAAAEwAAABSAAAADwAAAAcAAAAFAAAAFwAAAEMAAAAtAAAAAwAAACsAAABIAAAAFgAAAB0AAABaAAAACAAAACwAAABbAAAAWQAAAEkAAAAkAAAAOAAAAEsAAAAqAAAAKAAAAAEAAABPAAAAHgAAABoAAAAvAAAABAAAAFMAAABRAAAAGwAAAE0AAABUAAAAMgAAABMAAAAZAAAAXAAAACUAAABiAAAAIgAAACEAAABXAAAAFAAAADcAAAAxAAAAQAAAABUAAABKAAAAYAAAABEAAAAGAAAACQAAAEEAAAASAAAADQAAACkAAABOAAAALgAAAEYAAABdAAAAEAAAAFUAAAA0AAAAMAAAAAwAAABkAAAAYwAAAD0AAABFAAAACwAAAA4AAABMAAAAUAAAADwAAAA/AAAAOwAAAEQAAAA1AAAAHwAAABgAAAAKAAAAAgAAAF4AAAA5AAAAOgAAAEcAAAAmAAAAWAAAADMAAABCAAAAXwAAACAAAABhAAAAHAAAAD4AAAA2AAAAZAAAAEgAAAAFAAAACgAAACMAAABUAAAAFwAAABkAAABiAAAAFgAAAFgAAABHAAAAFQAAACgAAAAsAAAALgAAAAIAAABMAAAAVQAAABgAAAA4AAAATQAAACcAAABXAAAAJQAAADsAAABPAAAASQAAADQAAABjAAAAQQAAADYAAAA6AAAADgAAAA8AAABaAAAAHgAAAFsAAAAvAAAAUAAAACIAAABdAAAAYAAAAA0AAAATAAAACwAAAF8AAAAGAAAAJgAAAEUAAAAaAAAAXAAAADkAAABhAAAAEgAAADUAAAAbAAAAUwAAAD0AAABWAAAAXgAAAAMAAAAQAAAAKQAAAEsAAAA/AAAAMAAAAB0AAAA8AAAAFAAAAAgAAAA+AAAABwAAAFEAAAABAAAAHAAAADMAAAAfAAAAIAAAAE4AAAAJAAAADAAAAFkAAABEAAAANwAAADEAAABAAAAAMgAAAC0AAAARAAAARgAAAEIAAAAqAAAASgAAACsAAAAEAAAAQwAAAC0AAAAqAAAABwAAAAoAAAAdAAAATgAAAF4AAABGAAAASQAAAFAAAABHAAAAXQAAABEAAABfAAAAGgAAABMAAAANAAAARQAAAC4AAAAzAAAAVAAAAA8AAABjAAAANAAAAFUAAAA+AAAAZAAAADkAAAAZAAAALAAAAAMAAAAMAAAALwAAAFsAAABPAAAAHAAAABQAAAAYAAAASwAAAGEAAABYAAAADgAAAGIAAAAmAAAAQwAAAAsAAABEAAAAOgAAADcAAABSAAAAQAAAAGAAAAAxAAAAKAAAAFoAAAAGAAAAIwAAAAgAAABNAAAAIgAAAAIAAAA2AAAABQAAADAAAAAVAAAAJwAAAEwAAAAXAAAAAQAAAFcAAAA1AAAAMgAAAEIAAAApAAAAJQAAAAQAAAAgAAAAUQAAAAkAAAAfAAAAPwAAADsAAAA8AAAAFgAAACEAAABIAAAAOAAAABAAAAASAAAAGwAAAFYAAAA9AAAAHgAAAFwAAABTAAAAWQAAAEEAAAAMAAAARQAAAB4AAAAKAAAANQAAAD8AAABWAAAASgAAAFcAAABhAAAALQAAABYAAABPAAAAQAAAAAQAAAAQAAAAXAAAACEAAABUAAAABgAAAFgAAAAwAAAABwAAADEAAABQAAAAZAAAAAIAAAAfAAAAQwAAACgAAAAcAAAAMwAAAB0AAAA7AAAAXwAAACAAAABHAAAAJQAAADoAAAAUAAAAYwAAAAgAAABOAAAAPQAAAD4AAAAbAAAADgAAABEAAAAaAAAARAAAACsAAAA0AAAAKgAAADkAAAADAAAAIwAAAF4AAAAVAAAASAAAACQAAAABAAAAUgAAAC8AAABdAAAAKQAAABcAAABTAAAAYAAAACYAAABJAAAAOAAAAGIAAAA2AAAAGAAAAFAAAAASAAAATQAAADwAAAAFAAAACwAAAFkAAAAyAAAAWwAAAA8AAABBAAAAQgAAACIAAAAZAAAAEwAAACcAAAA3AAAAVQAAAEwAAAANAAAACQAAAFoAAABRAAAAWAAAAAYAAABgAAAABwAAAGMAAABhAAAADgAAAEAAAABRAAAAPAAAABcAAAABAAAALgAAAAIAAAAKAAAAEgAAAC0AAAArAAAAXAAAAAQAAAAeAAAANAAAAFoAAABbAAAALwAAAFYAAAAPAAAASAAAADgAAAAdAAAAIgAAAAMAAAANAAAAJAAAAEwAAAAIAAAASwAAACwAAAAWAAAAYgAAABoAAAAmAAAAOQAAACgAAABeAAAAMQAAAF0AAABXAAAACwAAADUAAAAQAAAAHwAAACAAAAAcAAAARQAAAEEAAAARAAAAVQAAACUAAAAyAAAAVAAAABgAAAApAAAANwAAAEYAAAAbAAAAFAAAAEsAAAAVAAAAOwAAABkAAAAMAAAAUgAAAEoAAAATAAAAPwAAAE0AAAAFAAAAIQAAAF8AAABJAAAAUAAAAE8AAAAzAAAAQwAAAAkAAABEAAAAPgAAACMAAAA9AAAAUwAAAEIAAABHAAAAZAAAAFkAAAAqAAAAJwAAABgAAAAvAAAAHwAAAEoAAAAdAAAAYAAAAGMAAAAhAAAAMAAAACUAAAA1AAAAJgAAAFQAAAAOAAAAFgAAABsAAABkAAAAJAAAAEwAAABQAAAAAgAAAB4AAAAUAAAAYQAAABIAAAAcAAAAQQAAADEAAAABAAAARwAAAE8AAABEAAAAUgAAACoAAABZAAAAWwAAABMAAAArAAAALAAAAEkAAAA7AAAABAAAADQAAAAXAAAATgAAAEYAAAAuAAAASwAAADkAAAANAAAAMwAAAEAAAAA9AAAAUQAAAAUAAAAgAAAADAAAABUAAABOAAAAWgAAAD8AAAALAAAAEAAAAAYAAAA3AAAAKQAAAEIAAABIAAAAPAAAAD4AAABeAAAAXwAAACgAAAADAAAAIwAAACcAAAARAAAABwAAAFwAAAAaAAAAUwAAABkAAAAyAAAACgAAAFgAAAAJAAAAYgAAAF0AAAAtAAAAOgAAAFUAAABDAAAAIgAAAEUAAAAPAAAACAAAAFcAAABNAAAAHgAAAAMAAAALAAAAJQAAAAEAAABiAAAAPQAAACcAAAARAAAAAgAAACIAAABbAAAAWgAAAEUAAABLAAAANgAAAEIAAABdAAAAIAAAAAgAAAAtAAAAVAAAADkAAAA/AAAAOAAAAE4AAAA8AAAASQAAAFAAAABGAAAAUgAAAAwAAAAGAAAATwAAADoAAAAJAAAASAAAADAAAAA7AAAAXwAAAFcAAABYAAAAMQAAAEcAAAAWAAAABwAAABMAAABgAAAAYQAAAC4AAABWAAAAMwAAACYAAAAXAAAAUQAAABAAAAAUAAAAKwAAABkAAAAEAAAAZAAAAFYAAABcAAAAKAAAAB8AAABKAAAAGAAAABIAAAAqAAAANAAAAEwAAABBAAAADgAAAA0AAAApAAAAUwAAACQAAAAaAAAAXgAAAB0AAAAKAAAAQwAAACEAAAAFAAAANwAAACwAAABZAAAALwAAABwAAAAVAAAAVQAAAE0AAAAPAAAAIwAAADUAAABEAAAAGwAAAD4AAABaAAAAPAAAAFEAAABEAAAAQgAAAFMAAABkAAAASQAAAFcAAAA/AAAAMQAAADoAAAA3AAAARwAAADsAAABOAAAAEQAAACQAAAAQAAAASgAAABkAAABfAAAADAAAAFAAAAAHAAAAFQAAAFsAAABAAAAAKQAAACoAAAAOAAAACgAAAEEAAAAjAAAAXgAAAGEAAABDAAAADwAAAFIAAABcAAAAYwAAAC8AAABZAAAAFgAAACcAAAAcAAAAXQAAAE0AAABPAAAAIQAAAEwAAAAeAAAAMgAAAEYAAAA4AAAAJQAAABsAAAAtAAAAOQAAAFUAAAAUAAAAKwAAABoAAABFAAAAIAAAAFQAAAAiAAAAGAAAAAgAAAA+AAAACwAAADQAAABYAAAADQAAAAIAAAA2AAAACQAAAB8AAAAoAAAAMwAAAGAAAAASAAAAJgAAADUAAAABAAAALAAAAB0AAAAGAAAAYgAAABcAAAADAAAAEwAAAD0AAAAFAAAAVgAAAAQAAABjAAAASwAAAEkAAAAUAAAALQAAACQAAAAHAAAAWQAAAB4AAAAXAAAAUgAAADsAAAA/AAAAIAAAAEMAAABAAAAAXQAAAF4AAAAcAAAAQgAAACgAAABkAAAANAAAAFMAAAAfAAAAGQAAABsAAAADAAAAAQAAAAkAAAAGAAAACgAAADcAAAASAAAALAAAACMAAAAMAAAARAAAADEAAAAiAAAAAgAAADwAAABiAAAAYQAAAA0AAAAEAAAADgAAAFoAAABUAAAAEAAAABEAAAAuAAAADwAAABYAAABfAAAAHQAAAAUAAAATAAAAJwAAAFYAAAA9AAAAGAAAABUAAABYAAAAYwAAAE4AAAAIAAAAGgAAAAsAAABFAAAAVwAAAEoAAAAvAAAANQAAADAAAABGAAAAMgAAAE0AAAA+AAAAUQAAAEgAAAAlAAAAQQAAAE8AAAA4AAAAOQAAAFsAAAA2AAAAUAAAACEAAABgAAAATAAAADoAAAAmAAAAXAAAADMAAABLAAAAKwAAAFUAAAAGAAAAPgAAADcAAAAaAAAAIQAAAC0AAAABAAAAWgAAAE4AAAAOAAAAHwAAAD8AAAAsAAAAWwAAAB0AAAAyAAAAYgAAACQAAABeAAAAFQAAADEAAAAnAAAAIgAAAA0AAAAZAAAASAAAAD0AAABMAAAACgAAACUAAABPAAAAKwAAADsAAAACAAAANAAAAC4AAAATAAAAZAAAACgAAAAcAAAANQAAAF8AAAASAAAALwAAAAcAAAAqAAAACQAAAFwAAABJAAAACAAAAFUAAAA5AAAACwAAAGEAAAAMAAAAAwAAAFEAAABYAAAAEAAAAEAAAABWAAAAJgAAAFIAAABNAAAABAAAADgAAAAFAAAARAAAAA8AAAARAAAARgAAAEIAAAA6AAAAMwAAAGAAAAA8AAAAIAAAAB4AAAAbAAAAMAAAAEEAAABDAAAAFAAAAFQAAABTAAAASgAAABgAAABQAAAARQAAAGMAAAAjAAAAVwAAABYAAABdAAAAWQAAAAUAAABTAAAASgAAADIAAAA4AAAABgAAADMAAABDAAAASwAAAFQAAAAEAAAAUAAAADAAAAAfAAAAFAAAAEwAAAA/AAAACAAAAFwAAAA6AAAAWgAAAE8AAAA3AAAAWwAAAEUAAAAhAAAAYAAAADwAAABYAAAAYQAAAAIAAAA+AAAAUgAAACQAAAAHAAAAVgAAAAwAAAAtAAAARAAAADEAAAA0AAAAEQAAAF0AAAADAAAASAAAAE4AAABRAAAAAQAAAEAAAABjAAAAYgAAAC4AAAAXAAAAHQAAAF8AAAAaAAAAJgAAACsAAAAKAAAAXgAAACAAAAA7AAAAIwAAAEcAAAAVAAAAJQAAABgAAAAnAAAARgAAAFcAAAAqAAAAHgAAAD0AAAAbAAAAIgAAAAkAAAA2AAAADQAAABAAAAA1AAAAQQAAAA4AAABNAAAAGQAAABYAAABkAAAAKQAAAFkAAABCAAAAEwAAAAsAAAAPAAAALwAAABwAAABVAAAAAwAAACoAAABNAAAAWQAAAE8AAAAxAAAAGQAAAEUAAAArAAAAEAAAAGQAAABCAAAADQAAAEsAAAAUAAAACgAAAC8AAABRAAAAFQAAAC4AAAA5AAAAQQAAAA4AAABdAAAAFwAAAD8AAAACAAAAWgAAADUAAAALAAAAGAAAAAEAAAA4AAAAHgAAAAgAAABjAAAAWAAAABYAAABGAAAAMAAAAEkAAAAaAAAAIwAAADwAAAARAAAAKAAAAGIAAAA9AAAABwAAAFAAAAAtAAAABAAAAFMAAABMAAAAUgAAAEgAAAAmAAAAQwAAAD4AAAAgAAAASgAAAAUAAABbAAAAEwAAABsAAAAzAAAAKQAAADYAAABgAAAADwAAAFQAAAA3AAAAXwAAAF4AAAAkAAAAVQAAAAwAAAA7AAAAVgAAACcAAABOAAAALAAAAB0AAAAcAAAARAAAACEAAABXAAAACQAAAGEAAABcAAAABgAAAB8AAAA6AAAAQAAAADsAAABKAAAAWwAAAFoAAABVAAAAOQAAAFIAAABPAAAAPAAAAGAAAABTAAAAYgAAAF0AAABOAAAAVgAAAF4AAABcAAAASQAAAEsAAABXAAAAQAAAAFgAAABfAAAAYwAAACQAAAAbAAAAJwAAAC8AAAAcAAAAKgAAABEAAAAwAAAAWQAAAAwAAAATAAAAGAAAAAMAAAAyAAAAZAAAADYAAABDAAAAEgAAAAkAAABhAAAAUQAAAEgAAAAlAAAAFgAAAAcAAAApAAAAHgAAAC0AAAA0AAAALAAAAAUAAAAuAAAAPQAAAFQAAABQAAAACgAAAAsAAAAEAAAANQAAAEYAAAA3AAAAFwAAACEAAAAaAAAAMQAAACMAAAAGAAAACAAAAB0AAAA4AAAAKAAAAEEAAAA6AAAAMwAAABkAAAAiAAAAPwAAAA0AAAABAAAATAAAAEUAAAA+AAAADgAAABQAAABCAAAAAgAAAA8AAABHAAAAFQAAAGEAAAA7AAAAWwAAACgAAAAkAAAASwAAAAsAAAASAAAAWgAAAAIAAAAwAAAAJwAAABUAAABDAAAAZAAAABcAAAAjAAAACAAAADgAAABSAAAABwAAADwAAABJAAAAVAAAAA0AAAA0AAAAIgAAAD4AAAApAAAAVQAAAAUAAAAzAAAAJQAAAEYAAAA1AAAAWQAAAAQAAABiAAAAVgAAAEEAAAAJAAAAHwAAAE0AAAAGAAAARAAAAC4AAABCAAAAIQAAAF4AAAA3AAAATgAAABEAAAAyAAAAFAAAAEcAAAAtAAAATAAAAAMAAAAeAAAASAAAADYAAAAPAAAAPQAAAFEAAAAcAAAADgAAAFgAAABfAAAAGgAAAD8AAAAZAAAAEAAAABMAAABXAAAAXQAAABYAAAABAAAAUwAAACsAAAAqAAAAXAAAAE8AAABAAAAAYwAAADEAAAAKAAAAUAAAAB0AAAAvAAAALAAAAFkAAAAGAAAATQAAABkAAAAjAAAALwAAACEAAAAQAAAADwAAAA4AAABYAAAAGAAAAA0AAAAqAAAASgAAAFcAAAAkAAAAUAAAAC0AAAAwAAAABwAAACsAAAA6AAAAOQAAAEEAAAASAAAACAAAABMAAAApAAAAMQAAACwAAAAoAAAAUwAAAAwAAAA2AAAASwAAACYAAABIAAAAFwAAAEMAAAA1AAAAAQAAABQAAAAuAAAAZAAAABsAAAAJAAAAWgAAACAAAABPAAAAIgAAAB0AAABfAAAACgAAAGIAAABJAAAAEQAAAF0AAABjAAAAQgAAAEQAAAA+AAAABQAAAGAAAAACAAAATgAAADsAAABMAAAAXQAAAEUAAABbAAAAJQAAADQAAABcAAAAOAAAAAQAAABUAAAAPAAAAFEAAABWAAAAQAAAAEcAAABSAAAAHAAAAGEAAAAzAAAAHwAAAD8AAAADAAAAKwAAABwAAAADAAAAXAAAAFQAAAAoAAAAQwAAAAsAAAAuAAAAPgAAAAUAAABkAAAASQAAACoAAAAnAAAAFAAAABAAAABZAAAAIQAAAEQAAAAHAAAACAAAADgAAAARAAAAQAAAAFcAAAAtAAAADQAAAD0AAABYAAAAUgAAAE8AAABbAAAANgAAAGIAAABfAAAAMwAAAEEAAABKAAAAGgAAAEwAAAAEAAAAIgAAAAwAAAABAAAANwAAADEAAAA0AAAAMgAAAAkAAABGAAAAYQAAABkAAAATAAAARwAAACYAAAA8AAAAGwAAAE4AAAAVAAAAKQAAAF0AAAA/AAAAJAAAACAAAAAPAAAATQAAADUAAABeAAAAYwAAAFUAAABaAAAAOwAAAEIAAAACAAAAUwAAAFYAAAA6AAAAJQAAAAYAAAAYAAAAFwAAAGAAAAAfAAAAOQAAAFAAAAAwAAAAWQAAACIAAAA9AAAANAAAADEAAABMAAAAWwAAAEkAAAAcAAAAHgAAAEoAAABaAAAAIwAAAB8AAABHAAAALgAAACgAAAAnAAAAIAAAAA8AAABcAAAAEwAAABgAAABYAAAAYgAAADYAAABdAAAAVwAAAFIAAAAvAAAAPAAAAAMAAABOAAAAXgAAADgAAABWAAAAUAAAACYAAABVAAAAMAAAAE0AAAASAAAAQAAAAEMAAAABAAAAYwAAAFEAAAAIAAAADAAAAEEAAABfAAAAPwAAACkAAAAZAAAANwAAAAIAAAA5AAAAHQAAAAcAAAAEAAAABQAAAEUAAABLAAAACgAAAAsAAAA1AAAAIQAAAFMAAABPAAAAMgAAAEQAAAAtAAAAGgAAABcAAAAqAAAAFgAAADMAAAA6AAAADQAAACQAAAArAAAAVAAAAAYAAABIAAAAZAAAAGIAAAADAAAAGgAAAAwAAABIAAAAYwAAAAsAAAArAAAAHwAAAFoAAAAOAAAAEwAAAEsAAABbAAAAFgAAAAEAAABMAAAAYAAAAAkAAAAGAAAAGQAAAFAAAABRAAAABQAAAF8AAABFAAAABAAAABgAAABTAAAAFwAAABwAAAAdAAAADwAAADEAAABXAAAAHgAAACAAAABPAAAAQwAAACUAAAAHAAAAEgAAAAIAAAAmAAAAJwAAADkAAAAbAAAAPwAAAD0AAABYAAAAQAAAADIAAABCAAAANAAAAEQAAABHAAAAJAAAAC8AAABVAAAALgAAADgAAABWAAAANwAAADMAAAAiAAAAKgAAACkAAABKAAAAYQAAAE4AAABkAAAAXQAAAFkAAAA2AAAAOwAAACwAAABcAAAAIwAAAD4AAABUAAAALQAAAFoAAABcAAAAAwAAADAAAAApAAAATwAAABYAAABZAAAATAAAAGIAAAARAAAAQQAAAB0AAAAeAAAAIgAAAEcAAABkAAAATQAAACgAAAAjAAAAYwAAABMAAAAUAAAABQAAAGAAAAAxAAAANgAAABAAAAAOAAAAXgAAAFMAAABEAAAAVAAAAFAAAAAsAAAAQgAAAF8AAAAGAAAAGAAAABoAAAAXAAAAWwAAAGEAAAAkAAAAHwAAAEYAAAAvAAAALQAAAFkAAAAZAAAAOQAAAFUAAABXAAAAQAAAAAQAAAALAAAACgAAADIAAAA9AAAAIQAAACYAAAA/AAAASAAAACsAAAACAAAAAQAAADMAAAAlAAAAOwAAABsAAAA8AAAAIAAAAFEAAAAIAAAABgAAAF0AAAA5AAAAXgAAABYAAAAFAAAATAAAACEAAABFAAAAKQAAAAcAAAAsAAAADgAAACgAAABBAAAAEgAAAE8AAAA+AAAAXwAAAFAAAAAuAAAASwAAAAsAAAAmAAAAAwAAAFYAAABOAAAAJAAAACsAAAAxAAAAVQAAABQAAABkAAAARAAAAAwAAAAqAAAAVwAAAB0AAAAlAAAAVgAAABUAAAAvAAAAXAAAAAEAAAAeAAAACAAAAFQAAABiAAAAWAAAAFsAAAAZAAAAUQAAAEYAAAAbAAAAWgAAABMAAAAjAAAAMwAAAFMAAAAiAAAAQwAAAC0AAAACAAAAYQAAAD0AAAAaAAAAOgAAACcAAAAfAAAAMgAAADEAAABVAAAAQwAAAAEAAAA5AAAAEgAAAD0AAABTAAAAIQAAAA4AAAA6AAAAEQAAACAAAAAsAAAACgAAAAMAAABbAAAAGgAAAEsAAAA/AAAANgAAACYAAABZAAAAZAAAAAcAAABHAAAALgAAAB4AAAA4AAAAIgAAAAUAAABGAAAAKQAAABsAAABNAAAAJQAAAF0AAAAkAAAAHQAAAFYAAAAZAAAACQAAAB8AAAAYAAAAFAAAAGMAAAAtAAAAVwAAAF4AAAAEAAAAWAAAACcAAABSAAAADQAAAEUAAABiAAAANAAAAGAAAABQAAAAXAAAAD4AAAAfAAAAXwAAAAwAAAAkAAAAQgAAAAUAAAAEAAAAKAAAABYAAABhAAAAKwAAAGMAAAAJAAAADQAAACEAAAAaAAAAXQAAAEsAAABOAAAAYAAAAFQAAAAvAAAATwAAADkAAABJAAAASgAAABsAAAALAAAAWQAAACoAAABYAAAAAQAAACUAAAA3AAAAGAAAADUAAABSAAAAYgAAAFsAAAAVAAAALQAAABMAAABWAAAAAgAAABwAAAAiAAAAMwAAAF4AAAAOAAAALgAAAD0AAABkAAAAMQAAAD0AAAA6AAAAYwAAAEUAAAAmAAAAEQAAAFQAAABGAAAAAgAAADUAAAAFAAAADwAAABAAAAA+AAAABAAAABgAAAAxAAAAHQAAABsAAAA3AAAAAQAAAEoAAAAUAAAAZAAAAFYAAAAsAAAAIwAAAFMAAAAeAAAANgAAADsAAAAMAAAALgAAAGIAAABZAAAAYAAAAFsAAABPAAAAXAAAAF4AAAAwAAAAHwAAAC0AAAAkAAAAWgAAAAsAAAAoAAAABQAAACQAAAA9AAAAYQAAAAwAAABeAAAAIgAAADQAAAApAAAAIAAAAA4AAABXAAAAUQAAABUAAAAxAAAAAQAAAD8AAABkAAAANQAAAAMAAAAbAAAAMAAAACYAAABMAAAAIQAAAFkAAABKAAAANwAAABEAAABjAAAAHQAAAB4AAABCAAAAKgAAAFsAAAAaAAAALAAAAAQAAABWAAAAUgAAAFUAAAASAAAAOgAAAE4AAABFAAAACQAAACQAAABcAAAAIgAAAFAAAAABAAAAOQAAAFkAAAADAAAAGAAAABkAAABUAAAAXwAAABUAAAA/AAAAIQAAAEMAAAAtAAAARAAAAF0AAABgAAAAYwAAAE0AAAAEAAAADAAAAFEAAAAFAAAADQAAACoAAABCAAAAXgAAAEoAAAAxAAAAVQAAAB8AAAALAAAAFwAAADAAAAAsAAAAKQAAAEkAAABbAAAAIwAAAB0AAAA8AAAACAAAACYAAAA0AAAAAwAAAAwAAABaAAAAYAAAACcAAABVAAAADwAAAA4AAAA1AAAAAQAAAFwAAABIAAAAKQAAAFgAAABdAAAAUAAAAFYAAAAlAAAALAAAABoAAABkAAAAIgAAAAkAAABjAAAAHwAAAEYAAABfAAAATQAAAEAAAAAqAAAAPAAAAAIAAAAMAAAAXQAAAEwAAAAUAAAAWwAAADQAAAALAAAANQAAAFYAAABgAAAADwAAACQAAAAnAAAAZAAAAEYAAAAHAAAAMAAAABAAAAArAAAASgAAAEgAAAAgAAAAKAAAACYAAABVAAAAWQAAAFwAAAAuAAAATwAAABYAAABkAAAADwAAAD8AAABgAAAAEwAAAAMAAAA2AAAASwAAADMAAABUAAAAIwAAADAAAAA0AAAAOgAAAFsAAABSAAAACQAAAD4AAAARAAAAYwAAAA0AAABdAAAAQwAAAFgAAAA2AAAASgAAAFMAAAAHAAAARQAAACkAAAA6AAAACgAAAD4AAAANAAAAFQAAADUAAAAYAAAAEwAAADkAAAAaAAAACgAAAEQAAAAcAAAAVgAAAGAAAABFAAAALwAAADoAAAAYAAAACwAAAEkAAABAAAAAHgAAABEAAABZAAAARgAAAFEAAAAWAAAAPwAAAFwAAAA+AAAAVgAAAAoAAAAeAAAADAAAABYAAABJAAAAFwAAAB0AAABGAAAAGAAAAGQAAAAPAAAAJwAAAB4AAABRAAAAGgAAACMAAAATAAAAHAAAAEwAAAApAAAAFgAAAFcAAAAcAAAAKAAAAE8AAAAhAAAAFwAAABwAAABSAAAAJQAAAB0AAAAqAAAAMQAAACkAAAAfAAAAWwAAACYAAAAqAAAALgAAADEAAABjAAAA\"},\"shape\":[5307],\"dtype\":\"int32\",\"order\":\"little\"}]]}}},\"view\":{\"type\":\"object\",\"name\":\"CDSView\",\"id\":\"p1069\",\"attributes\":{\"filter\":{\"type\":\"object\",\"name\":\"AllIndices\",\"id\":\"p1070\"}}},\"glyph\":{\"type\":\"object\",\"name\":\"Scatter\",\"id\":\"p1065\",\"attributes\":{\"tags\":[\"apply_ranges\"],\"x\":{\"type\":\"field\",\"field\":\"date\"},\"y\":{\"type\":\"field\",\"field\":\"rank\"},\"size\":{\"type\":\"value\",\"value\":5.477225575051661},\"line_color\":{\"type\":\"value\",\"value\":\"#30a2da\"},\"line_alpha\":{\"type\":\"value\",\"value\":0.4},\"fill_color\":{\"type\":\"value\",\"value\":\"#30a2da\"},\"fill_alpha\":{\"type\":\"value\",\"value\":0.4},\"hatch_color\":{\"type\":\"value\",\"value\":\"#30a2da\"},\"hatch_alpha\":{\"type\":\"value\",\"value\":0.4}}},\"selection_glyph\":{\"type\":\"object\",\"name\":\"Scatter\",\"id\":\"p1071\",\"attributes\":{\"tags\":[\"apply_ranges\"],\"x\":{\"type\":\"field\",\"field\":\"date\"},\"y\":{\"type\":\"field\",\"field\":\"rank\"},\"size\":{\"type\":\"value\",\"value\":5.477225575051661},\"angle\":{\"type\":\"value\",\"value\":0.0},\"line_color\":{\"type\":\"value\",\"value\":\"#30a2da\"},\"line_alpha\":{\"type\":\"value\",\"value\":0.4},\"line_width\":{\"type\":\"value\",\"value\":1},\"line_join\":{\"type\":\"value\",\"value\":\"bevel\"},\"line_cap\":{\"type\":\"value\",\"value\":\"butt\"},\"line_dash\":{\"type\":\"value\",\"value\":[]},\"line_dash_offset\":{\"type\":\"value\",\"value\":0},\"fill_color\":{\"type\":\"value\",\"value\":\"#30a2da\"},\"fill_alpha\":{\"type\":\"value\",\"value\":0.4},\"hatch_color\":{\"type\":\"value\",\"value\":\"#30a2da\"},\"hatch_alpha\":{\"type\":\"value\",\"value\":0.4},\"hatch_scale\":{\"type\":\"value\",\"value\":12.0},\"hatch_pattern\":{\"type\":\"value\",\"value\":null},\"hatch_weight\":{\"type\":\"value\",\"value\":1.0},\"marker\":{\"type\":\"value\",\"value\":\"circle\"}}},\"nonselection_glyph\":{\"type\":\"object\",\"name\":\"Scatter\",\"id\":\"p1066\",\"attributes\":{\"tags\":[\"apply_ranges\"],\"x\":{\"type\":\"field\",\"field\":\"date\"},\"y\":{\"type\":\"field\",\"field\":\"rank\"},\"size\":{\"type\":\"value\",\"value\":5.477225575051661},\"line_color\":{\"type\":\"value\",\"value\":\"#30a2da\"},\"line_alpha\":{\"type\":\"value\",\"value\":0.4},\"fill_color\":{\"type\":\"value\",\"value\":\"#30a2da\"},\"fill_alpha\":{\"type\":\"value\",\"value\":0.4},\"hatch_color\":{\"type\":\"value\",\"value\":\"#30a2da\"},\"hatch_alpha\":{\"type\":\"value\",\"value\":0.1}}},\"muted_glyph\":{\"type\":\"object\",\"name\":\"Scatter\",\"id\":\"p1067\",\"attributes\":{\"tags\":[\"apply_ranges\"],\"x\":{\"type\":\"field\",\"field\":\"date\"},\"y\":{\"type\":\"field\",\"field\":\"rank\"},\"size\":{\"type\":\"value\",\"value\":5.477225575051661},\"line_color\":{\"type\":\"value\",\"value\":\"#30a2da\"},\"line_alpha\":{\"type\":\"value\",\"value\":0.2},\"fill_color\":{\"type\":\"value\",\"value\":\"#30a2da\"},\"fill_alpha\":{\"type\":\"value\",\"value\":0.2},\"hatch_color\":{\"type\":\"value\",\"value\":\"#30a2da\"},\"hatch_alpha\":{\"type\":\"value\",\"value\":0.2}}}}}],\"toolbar\":{\"type\":\"object\",\"name\":\"Toolbar\",\"id\":\"p1025\",\"attributes\":{\"tools\":[{\"type\":\"object\",\"name\":\"WheelZoomTool\",\"id\":\"p1014\",\"attributes\":{\"tags\":[\"hv_created\"],\"renderers\":\"auto\",\"zoom_together\":\"none\"}},{\"type\":\"object\",\"name\":\"HoverTool\",\"id\":\"p1015\",\"attributes\":{\"tags\":[\"hv_created\"],\"renderers\":[{\"id\":\"p1068\"}],\"tooltips\":[[\"date\",\"@{date}{%F %T}\"],[\"rank\",\"@{rank}\"]],\"formatters\":{\"type\":\"map\",\"entries\":[[\"@{date}\",\"datetime\"]]}}},{\"type\":\"object\",\"name\":\"SaveTool\",\"id\":\"p1050\"},{\"type\":\"object\",\"name\":\"PanTool\",\"id\":\"p1051\"},{\"type\":\"object\",\"name\":\"BoxZoomTool\",\"id\":\"p1052\",\"attributes\":{\"overlay\":{\"type\":\"object\",\"name\":\"BoxAnnotation\",\"id\":\"p1053\",\"attributes\":{\"syncable\":false,\"level\":\"overlay\",\"visible\":false,\"left\":{\"type\":\"number\",\"value\":\"nan\"},\"right\":{\"type\":\"number\",\"value\":\"nan\"},\"top\":{\"type\":\"number\",\"value\":\"nan\"},\"bottom\":{\"type\":\"number\",\"value\":\"nan\"},\"left_units\":\"canvas\",\"right_units\":\"canvas\",\"top_units\":\"canvas\",\"bottom_units\":\"canvas\",\"line_color\":\"black\",\"line_alpha\":1.0,\"line_width\":2,\"line_dash\":[4,4],\"fill_color\":\"lightgrey\",\"fill_alpha\":0.5}}}},{\"type\":\"object\",\"name\":\"ResetTool\",\"id\":\"p1058\"}],\"active_drag\":{\"id\":\"p1051\"},\"active_scroll\":{\"id\":\"p1014\"}}},\"left\":[{\"type\":\"object\",\"name\":\"LinearAxis\",\"id\":\"p1045\",\"attributes\":{\"ticker\":{\"type\":\"object\",\"name\":\"BasicTicker\",\"id\":\"p1046\",\"attributes\":{\"mantissas\":[1,2,5]}},\"formatter\":{\"type\":\"object\",\"name\":\"BasicTickFormatter\",\"id\":\"p1047\"},\"axis_label\":\"rank\",\"major_label_policy\":{\"type\":\"object\",\"name\":\"AllLabels\",\"id\":\"p1048\"}}}],\"below\":[{\"type\":\"object\",\"name\":\"DatetimeAxis\",\"id\":\"p1028\",\"attributes\":{\"ticker\":{\"type\":\"object\",\"name\":\"DatetimeTicker\",\"id\":\"p1029\",\"attributes\":{\"num_minor_ticks\":5,\"tickers\":[{\"type\":\"object\",\"name\":\"AdaptiveTicker\",\"id\":\"p1030\",\"attributes\":{\"num_minor_ticks\":0,\"mantissas\":[1,2,5],\"max_interval\":500.0}},{\"type\":\"object\",\"name\":\"AdaptiveTicker\",\"id\":\"p1031\",\"attributes\":{\"num_minor_ticks\":0,\"base\":60,\"mantissas\":[1,2,5,10,15,20,30],\"min_interval\":1000.0,\"max_interval\":1800000.0}},{\"type\":\"object\",\"name\":\"AdaptiveTicker\",\"id\":\"p1032\",\"attributes\":{\"num_minor_ticks\":0,\"base\":24,\"mantissas\":[1,2,4,6,8,12],\"min_interval\":3600000.0,\"max_interval\":43200000.0}},{\"type\":\"object\",\"name\":\"DaysTicker\",\"id\":\"p1033\",\"attributes\":{\"days\":[1,2,3,4,5,6,7,8,9,10,11,12,13,14,15,16,17,18,19,20,21,22,23,24,25,26,27,28,29,30,31]}},{\"type\":\"object\",\"name\":\"DaysTicker\",\"id\":\"p1034\",\"attributes\":{\"days\":[1,4,7,10,13,16,19,22,25,28]}},{\"type\":\"object\",\"name\":\"DaysTicker\",\"id\":\"p1035\",\"attributes\":{\"days\":[1,8,15,22]}},{\"type\":\"object\",\"name\":\"DaysTicker\",\"id\":\"p1036\",\"attributes\":{\"days\":[1,15]}},{\"type\":\"object\",\"name\":\"MonthsTicker\",\"id\":\"p1037\",\"attributes\":{\"months\":[0,1,2,3,4,5,6,7,8,9,10,11]}},{\"type\":\"object\",\"name\":\"MonthsTicker\",\"id\":\"p1038\",\"attributes\":{\"months\":[0,2,4,6,8,10]}},{\"type\":\"object\",\"name\":\"MonthsTicker\",\"id\":\"p1039\",\"attributes\":{\"months\":[0,4,8]}},{\"type\":\"object\",\"name\":\"MonthsTicker\",\"id\":\"p1040\",\"attributes\":{\"months\":[0,6]}},{\"type\":\"object\",\"name\":\"YearsTicker\",\"id\":\"p1041\"}]}},\"formatter\":{\"type\":\"object\",\"name\":\"DatetimeTickFormatter\",\"id\":\"p1042\"},\"axis_label\":\"date\",\"major_label_policy\":{\"type\":\"object\",\"name\":\"AllLabels\",\"id\":\"p1043\"}}}],\"center\":[{\"type\":\"object\",\"name\":\"Grid\",\"id\":\"p1044\",\"attributes\":{\"axis\":{\"id\":\"p1028\"},\"grid_line_color\":null}},{\"type\":\"object\",\"name\":\"Grid\",\"id\":\"p1049\",\"attributes\":{\"dimension\":1,\"axis\":{\"id\":\"p1045\"},\"grid_line_color\":null}}],\"min_border_top\":10,\"min_border_bottom\":10,\"min_border_left\":10,\"min_border_right\":10,\"output_backend\":\"webgl\"}},{\"type\":\"object\",\"name\":\"Spacer\",\"id\":\"p1073\",\"attributes\":{\"name\":\"HSpacer00948\",\"stylesheets\":[\"\\n:host(.pn-loading):before, .pn-loading:before {\\n  background-color: #c3c3c3;\\n  mask-size: auto calc(min(50%, 400px));\\n  -webkit-mask-size: auto calc(min(50%, 400px));\\n}\",{\"id\":\"p1007\"},{\"id\":\"p1005\"},{\"id\":\"p1006\"}],\"margin\":0,\"sizing_mode\":\"stretch_width\",\"align\":\"start\"}}]}}],\"defs\":[{\"type\":\"model\",\"name\":\"ReactiveHTML1\"},{\"type\":\"model\",\"name\":\"FlexBox1\",\"properties\":[{\"name\":\"align_content\",\"kind\":\"Any\",\"default\":\"flex-start\"},{\"name\":\"align_items\",\"kind\":\"Any\",\"default\":\"flex-start\"},{\"name\":\"flex_direction\",\"kind\":\"Any\",\"default\":\"row\"},{\"name\":\"flex_wrap\",\"kind\":\"Any\",\"default\":\"wrap\"},{\"name\":\"gap\",\"kind\":\"Any\",\"default\":\"\"},{\"name\":\"justify_content\",\"kind\":\"Any\",\"default\":\"flex-start\"}]},{\"type\":\"model\",\"name\":\"FloatPanel1\",\"properties\":[{\"name\":\"config\",\"kind\":\"Any\",\"default\":{\"type\":\"map\"}},{\"name\":\"contained\",\"kind\":\"Any\",\"default\":true},{\"name\":\"position\",\"kind\":\"Any\",\"default\":\"right-top\"},{\"name\":\"offsetx\",\"kind\":\"Any\",\"default\":null},{\"name\":\"offsety\",\"kind\":\"Any\",\"default\":null},{\"name\":\"theme\",\"kind\":\"Any\",\"default\":\"primary\"},{\"name\":\"status\",\"kind\":\"Any\",\"default\":\"normalized\"}]},{\"type\":\"model\",\"name\":\"GridStack1\",\"properties\":[{\"name\":\"mode\",\"kind\":\"Any\",\"default\":\"warn\"},{\"name\":\"ncols\",\"kind\":\"Any\",\"default\":null},{\"name\":\"nrows\",\"kind\":\"Any\",\"default\":null},{\"name\":\"allow_resize\",\"kind\":\"Any\",\"default\":true},{\"name\":\"allow_drag\",\"kind\":\"Any\",\"default\":true},{\"name\":\"state\",\"kind\":\"Any\",\"default\":[]}]},{\"type\":\"model\",\"name\":\"drag1\",\"properties\":[{\"name\":\"slider_width\",\"kind\":\"Any\",\"default\":5},{\"name\":\"slider_color\",\"kind\":\"Any\",\"default\":\"black\"},{\"name\":\"value\",\"kind\":\"Any\",\"default\":50}]},{\"type\":\"model\",\"name\":\"click1\",\"properties\":[{\"name\":\"terminal_output\",\"kind\":\"Any\",\"default\":\"\"},{\"name\":\"debug_name\",\"kind\":\"Any\",\"default\":\"\"},{\"name\":\"clears\",\"kind\":\"Any\",\"default\":0}]},{\"type\":\"model\",\"name\":\"FastWrapper1\",\"properties\":[{\"name\":\"object\",\"kind\":\"Any\",\"default\":null},{\"name\":\"style\",\"kind\":\"Any\",\"default\":null}]},{\"type\":\"model\",\"name\":\"NotificationAreaBase1\",\"properties\":[{\"name\":\"js_events\",\"kind\":\"Any\",\"default\":{\"type\":\"map\"}},{\"name\":\"position\",\"kind\":\"Any\",\"default\":\"bottom-right\"},{\"name\":\"_clear\",\"kind\":\"Any\",\"default\":0}]},{\"type\":\"model\",\"name\":\"NotificationArea1\",\"properties\":[{\"name\":\"js_events\",\"kind\":\"Any\",\"default\":{\"type\":\"map\"}},{\"name\":\"notifications\",\"kind\":\"Any\",\"default\":[]},{\"name\":\"position\",\"kind\":\"Any\",\"default\":\"bottom-right\"},{\"name\":\"_clear\",\"kind\":\"Any\",\"default\":0},{\"name\":\"types\",\"kind\":\"Any\",\"default\":[{\"type\":\"map\",\"entries\":[[\"type\",\"warning\"],[\"background\",\"#ffc107\"],[\"icon\",{\"type\":\"map\",\"entries\":[[\"className\",\"fas fa-exclamation-triangle\"],[\"tagName\",\"i\"],[\"color\",\"white\"]]}]]},{\"type\":\"map\",\"entries\":[[\"type\",\"info\"],[\"background\",\"#007bff\"],[\"icon\",{\"type\":\"map\",\"entries\":[[\"className\",\"fas fa-info-circle\"],[\"tagName\",\"i\"],[\"color\",\"white\"]]}]]}]}]},{\"type\":\"model\",\"name\":\"Notification\",\"properties\":[{\"name\":\"background\",\"kind\":\"Any\",\"default\":null},{\"name\":\"duration\",\"kind\":\"Any\",\"default\":3000},{\"name\":\"icon\",\"kind\":\"Any\",\"default\":null},{\"name\":\"message\",\"kind\":\"Any\",\"default\":\"\"},{\"name\":\"notification_type\",\"kind\":\"Any\",\"default\":null},{\"name\":\"_destroyed\",\"kind\":\"Any\",\"default\":false}]},{\"type\":\"model\",\"name\":\"TemplateActions1\",\"properties\":[{\"name\":\"open_modal\",\"kind\":\"Any\",\"default\":0},{\"name\":\"close_modal\",\"kind\":\"Any\",\"default\":0}]},{\"type\":\"model\",\"name\":\"BootstrapTemplateActions1\",\"properties\":[{\"name\":\"open_modal\",\"kind\":\"Any\",\"default\":0},{\"name\":\"close_modal\",\"kind\":\"Any\",\"default\":0}]},{\"type\":\"model\",\"name\":\"TemplateEditor1\",\"properties\":[{\"name\":\"layout\",\"kind\":\"Any\",\"default\":[]}]},{\"type\":\"model\",\"name\":\"MaterialTemplateActions1\",\"properties\":[{\"name\":\"open_modal\",\"kind\":\"Any\",\"default\":0},{\"name\":\"close_modal\",\"kind\":\"Any\",\"default\":0}]},{\"type\":\"model\",\"name\":\"copy_to_clipboard1\",\"properties\":[{\"name\":\"fill\",\"kind\":\"Any\",\"default\":\"none\"},{\"name\":\"value\",\"kind\":\"Any\",\"default\":null}]}]}};\n",
       "  var render_items = [{\"docid\":\"7b641ffd-3921-4d52-bb68-ede2cd2f369c\",\"roots\":{\"p1004\":\"cf0c44ac-43ea-4793-b935-ba5e2b6025ba\"},\"root_ids\":[\"p1004\"]}];\n",
       "  var docs = Object.values(docs_json)\n",
       "  if (!docs) {\n",
       "    return\n",
       "  }\n",
       "  const py_version = docs[0].version.replace('rc', '-rc.').replace('.dev', '-dev.')\n",
       "  async function embed_document(root) {\n",
       "    var Bokeh = get_bokeh(root)\n",
       "    await Bokeh.embed.embed_items_notebook(docs_json, render_items);\n",
       "    for (const render_item of render_items) {\n",
       "      for (const root_id of render_item.root_ids) {\n",
       "\tconst id_el = document.getElementById(root_id)\n",
       "\tif (id_el.children.length && id_el.children[0].hasAttribute('data-root-id')) {\n",
       "\t  const root_el = id_el.children[0]\n",
       "\t  root_el.id = root_el.id + '-rendered'\n",
       "\t  for (const child of root_el.children) {\n",
       "            // Ensure JupyterLab does not capture keyboard shortcuts\n",
       "            // see: https://jupyterlab.readthedocs.io/en/4.1.x/extension/notebook.html#keyboard-interaction-model\n",
       "\t    child.setAttribute('data-lm-suppress-shortcuts', 'true')\n",
       "\t  }\n",
       "\t}\n",
       "      }\n",
       "    }\n",
       "  }\n",
       "  function get_bokeh(root) {\n",
       "    if (root.Bokeh === undefined) {\n",
       "      return null\n",
       "    } else if (root.Bokeh.version !== py_version) {\n",
       "      if (root.Bokeh.versions === undefined || !root.Bokeh.versions.has(py_version)) {\n",
       "\treturn null\n",
       "      }\n",
       "      return root.Bokeh.versions.get(py_version);\n",
       "    } else if (root.Bokeh.version === py_version) {\n",
       "      return root.Bokeh\n",
       "    }\n",
       "    return null\n",
       "  }\n",
       "  function is_loaded(root) {\n",
       "    var Bokeh = get_bokeh(root)\n",
       "    return (Bokeh != null && Bokeh.Panel !== undefined)\n",
       "  }\n",
       "  if (is_loaded(root)) {\n",
       "    embed_document(root);\n",
       "  } else {\n",
       "    var attempts = 0;\n",
       "    var timer = setInterval(function(root) {\n",
       "      if (is_loaded(root)) {\n",
       "        clearInterval(timer);\n",
       "        embed_document(root);\n",
       "      } else if (document.readyState == \"complete\") {\n",
       "        attempts++;\n",
       "        if (attempts > 200) {\n",
       "          clearInterval(timer);\n",
       "\t  var Bokeh = get_bokeh(root)\n",
       "\t  if (Bokeh == null || Bokeh.Panel == null) {\n",
       "            console.warn(\"Panel: ERROR: Unable to run Panel code because Bokeh or Panel library is missing\");\n",
       "\t  } else {\n",
       "\t    console.warn(\"Panel: WARNING: Attempting to render but not all required libraries could be resolved.\")\n",
       "\t    embed_document(root)\n",
       "\t  }\n",
       "        }\n",
       "      }\n",
       "    }, 25, root)\n",
       "  }\n",
       "})(window);</script>"
      ],
      "text/plain": [
       ":Scatter   [date]   (rank)"
      ]
     },
     "execution_count": 43,
     "metadata": {
      "application/vnd.holoviews_exec.v0+json": {
       "id": "p1004"
      }
     },
     "output_type": "execute_result"
    }
   ],
   "source": [
    "ranks.plot.scatter(x=\"date\", y=\"rank\", alpha=0.4)"
   ]
  },
  {
   "cell_type": "code",
   "execution_count": 44,
   "id": "8545fde9",
   "metadata": {},
   "outputs": [
    {
     "data": {},
     "metadata": {},
     "output_type": "display_data"
    },
    {
     "data": {
      "application/vnd.holoviews_exec.v0+json": "",
      "text/html": [
       "<div id='p1079'>\n",
       "  <div id=\"e492f579-6518-4b84-b79f-7747d0bf6d1e\" data-root-id=\"p1079\" style=\"display: contents;\"></div>\n",
       "</div>\n",
       "<script type=\"application/javascript\">(function(root) {\n",
       "  var docs_json = {\"316533cd-1dfb-4ebd-ad29-15325da9da94\":{\"version\":\"3.4.3\",\"title\":\"Bokeh Application\",\"roots\":[{\"type\":\"object\",\"name\":\"Row\",\"id\":\"p1079\",\"attributes\":{\"name\":\"Row01134\",\"tags\":[\"embedded\"],\"stylesheets\":[\"\\n:host(.pn-loading):before, .pn-loading:before {\\n  background-color: #c3c3c3;\\n  mask-size: auto calc(min(50%, 400px));\\n  -webkit-mask-size: auto calc(min(50%, 400px));\\n}\",{\"type\":\"object\",\"name\":\"ImportedStyleSheet\",\"id\":\"p1082\",\"attributes\":{\"url\":\"https://cdn.holoviz.org/panel/1.4.5/dist/css/loading.css\"}},{\"type\":\"object\",\"name\":\"ImportedStyleSheet\",\"id\":\"p1166\",\"attributes\":{\"url\":\"https://cdn.holoviz.org/panel/1.4.5/dist/css/listpanel.css\"}},{\"type\":\"object\",\"name\":\"ImportedStyleSheet\",\"id\":\"p1080\",\"attributes\":{\"url\":\"https://cdn.holoviz.org/panel/1.4.5/dist/bundled/theme/default.css\"}},{\"type\":\"object\",\"name\":\"ImportedStyleSheet\",\"id\":\"p1081\",\"attributes\":{\"url\":\"https://cdn.holoviz.org/panel/1.4.5/dist/bundled/theme/native.css\"}}],\"min_width\":700,\"margin\":0,\"sizing_mode\":\"stretch_width\",\"align\":\"start\",\"children\":[{\"type\":\"object\",\"name\":\"Spacer\",\"id\":\"p1083\",\"attributes\":{\"name\":\"HSpacer01140\",\"stylesheets\":[\"\\n:host(.pn-loading):before, .pn-loading:before {\\n  background-color: #c3c3c3;\\n  mask-size: auto calc(min(50%, 400px));\\n  -webkit-mask-size: auto calc(min(50%, 400px));\\n}\",{\"id\":\"p1082\"},{\"id\":\"p1080\"},{\"id\":\"p1081\"}],\"margin\":0,\"sizing_mode\":\"stretch_width\",\"align\":\"start\"}},{\"type\":\"object\",\"name\":\"Figure\",\"id\":\"p1094\",\"attributes\":{\"width\":700,\"height\":300,\"margin\":[5,10],\"sizing_mode\":\"fixed\",\"align\":\"start\",\"x_range\":{\"type\":\"object\",\"name\":\"Range1d\",\"id\":\"p1084\",\"attributes\":{\"tags\":[[[\"date\",null]],[]],\"start\":969667200000.0,\"end\":985996800000.0,\"reset_start\":969667200000.0,\"reset_end\":985996800000.0}},\"y_range\":{\"type\":\"object\",\"name\":\"Range1d\",\"id\":\"p1085\",\"attributes\":{\"tags\":[[[\"rank\",null]],{\"type\":\"map\",\"entries\":[[\"invert_yaxis\",false],[\"autorange\",false]]}],\"start\":-6.7,\"end\":85.7,\"reset_start\":-6.7,\"reset_end\":85.7}},\"x_scale\":{\"type\":\"object\",\"name\":\"LinearScale\",\"id\":\"p1104\"},\"y_scale\":{\"type\":\"object\",\"name\":\"LinearScale\",\"id\":\"p1105\"},\"title\":{\"type\":\"object\",\"name\":\"Title\",\"id\":\"p1097\",\"attributes\":{\"text\":\"Destiny's Child - Independent Women Part I\",\"text_color\":\"black\",\"text_font_size\":\"12pt\"}},\"renderers\":[{\"type\":\"object\",\"name\":\"GlyphRenderer\",\"id\":\"p1146\",\"attributes\":{\"data_source\":{\"type\":\"object\",\"name\":\"ColumnDataSource\",\"id\":\"p1137\",\"attributes\":{\"selected\":{\"type\":\"object\",\"name\":\"Selection\",\"id\":\"p1138\",\"attributes\":{\"indices\":[],\"line_indices\":[]}},\"selection_policy\":{\"type\":\"object\",\"name\":\"UnionRenderers\",\"id\":\"p1139\"},\"data\":{\"type\":\"map\",\"entries\":[[\"date\",{\"type\":\"ndarray\",\"array\":{\"type\":\"bytes\",\"data\":\"AACAaJU4bEIAAAD5Fj1sQgAAgImYQWxCAAAAGhpGbEIAAICqm0psQgAAADsdT2xCAACAy55TbEIAAABcIFhsQgAAgOyhXGxCAAAAfSNhbEIAAIANpWVsQgAAAJ4mamxCAACALqhubEIAAAC/KXNsQgAAgE+rd2xCAAAA4Cx8bEIAAIBwroBsQgAAAAEwhWxCAACAkbGJbEIAAAAiM45sQgAAgLK0kmxCAAAAQzaXbEIAAIDTt5tsQgAAAGQ5oGxCAACA9LqkbEIAAACFPKlsQgAAgBW+rWxCAAAApj+ybEI=\"},\"shape\":[28],\"dtype\":\"float64\",\"order\":\"little\"}],[\"rank\",{\"type\":\"ndarray\",\"array\":{\"type\":\"bytes\",\"data\":\"TgAAAD8AAAAxAAAAIQAAABcAAAAPAAAABwAAAAUAAAABAAAAAQAAAAEAAAABAAAAAQAAAAEAAAABAAAAAQAAAAEAAAABAAAAAQAAAAIAAAADAAAABwAAAAoAAAAMAAAADwAAABYAAAAdAAAAHwAAAA==\"},\"shape\":[28],\"dtype\":\"int32\",\"order\":\"little\"}]]}}},\"view\":{\"type\":\"object\",\"name\":\"CDSView\",\"id\":\"p1147\",\"attributes\":{\"filter\":{\"type\":\"object\",\"name\":\"AllIndices\",\"id\":\"p1148\"}}},\"glyph\":{\"type\":\"object\",\"name\":\"Line\",\"id\":\"p1143\",\"attributes\":{\"tags\":[\"apply_ranges\"],\"x\":{\"type\":\"field\",\"field\":\"date\"},\"y\":{\"type\":\"field\",\"field\":\"rank\"},\"line_color\":\"#30a2da\",\"line_width\":2}},\"selection_glyph\":{\"type\":\"object\",\"name\":\"Line\",\"id\":\"p1149\",\"attributes\":{\"tags\":[\"apply_ranges\"],\"x\":{\"type\":\"field\",\"field\":\"date\"},\"y\":{\"type\":\"field\",\"field\":\"rank\"},\"line_color\":\"#30a2da\",\"line_width\":2}},\"nonselection_glyph\":{\"type\":\"object\",\"name\":\"Line\",\"id\":\"p1144\",\"attributes\":{\"tags\":[\"apply_ranges\"],\"x\":{\"type\":\"field\",\"field\":\"date\"},\"y\":{\"type\":\"field\",\"field\":\"rank\"},\"line_color\":\"#30a2da\",\"line_alpha\":0.1,\"line_width\":2}},\"muted_glyph\":{\"type\":\"object\",\"name\":\"Line\",\"id\":\"p1145\",\"attributes\":{\"tags\":[\"apply_ranges\"],\"x\":{\"type\":\"field\",\"field\":\"date\"},\"y\":{\"type\":\"field\",\"field\":\"rank\"},\"line_color\":\"#30a2da\",\"line_alpha\":0.2,\"line_width\":2}}}},{\"type\":\"object\",\"name\":\"GlyphRenderer\",\"id\":\"p1159\",\"attributes\":{\"data_source\":{\"type\":\"object\",\"name\":\"ColumnDataSource\",\"id\":\"p1150\",\"attributes\":{\"selected\":{\"type\":\"object\",\"name\":\"Selection\",\"id\":\"p1151\",\"attributes\":{\"indices\":[],\"line_indices\":[]}},\"selection_policy\":{\"type\":\"object\",\"name\":\"UnionRenderers\",\"id\":\"p1152\"},\"data\":{\"type\":\"map\",\"entries\":[[\"date\",{\"type\":\"ndarray\",\"array\":{\"type\":\"bytes\",\"data\":\"AACAaJU4bEIAAAD5Fj1sQgAAgImYQWxCAAAAGhpGbEIAAICqm0psQgAAADsdT2xCAACAy55TbEIAAABcIFhsQgAAgOyhXGxCAAAAfSNhbEIAAIANpWVsQgAAAJ4mamxCAACALqhubEIAAAC/KXNsQgAAgE+rd2xCAAAA4Cx8bEIAAIBwroBsQgAAAAEwhWxCAACAkbGJbEIAAAAiM45sQgAAgLK0kmxCAAAAQzaXbEIAAIDTt5tsQgAAAGQ5oGxCAACA9LqkbEIAAACFPKlsQgAAgBW+rWxCAAAApj+ybEI=\"},\"shape\":[28],\"dtype\":\"float64\",\"order\":\"little\"}],[\"rank\",{\"type\":\"ndarray\",\"array\":{\"type\":\"bytes\",\"data\":\"TgAAAD8AAAAxAAAAIQAAABcAAAAPAAAABwAAAAUAAAABAAAAAQAAAAEAAAABAAAAAQAAAAEAAAABAAAAAQAAAAEAAAABAAAAAQAAAAIAAAADAAAABwAAAAoAAAAMAAAADwAAABYAAAAdAAAAHwAAAA==\"},\"shape\":[28],\"dtype\":\"int32\",\"order\":\"little\"}]]}}},\"view\":{\"type\":\"object\",\"name\":\"CDSView\",\"id\":\"p1160\",\"attributes\":{\"filter\":{\"type\":\"object\",\"name\":\"AllIndices\",\"id\":\"p1161\"}}},\"glyph\":{\"type\":\"object\",\"name\":\"Scatter\",\"id\":\"p1156\",\"attributes\":{\"tags\":[\"apply_ranges\"],\"x\":{\"type\":\"field\",\"field\":\"date\"},\"y\":{\"type\":\"field\",\"field\":\"rank\"},\"size\":{\"type\":\"value\",\"value\":5.477225575051661},\"line_color\":{\"type\":\"value\",\"value\":\"#30a2da\"},\"fill_color\":{\"type\":\"value\",\"value\":\"#30a2da\"},\"hatch_color\":{\"type\":\"value\",\"value\":\"#30a2da\"},\"marker\":{\"type\":\"value\",\"value\":\"cross\"}}},\"selection_glyph\":{\"type\":\"object\",\"name\":\"Scatter\",\"id\":\"p1162\",\"attributes\":{\"tags\":[\"apply_ranges\"],\"x\":{\"type\":\"field\",\"field\":\"date\"},\"y\":{\"type\":\"field\",\"field\":\"rank\"},\"size\":{\"type\":\"value\",\"value\":5.477225575051661},\"angle\":{\"type\":\"value\",\"value\":0.0},\"line_color\":{\"type\":\"value\",\"value\":\"#30a2da\"},\"line_alpha\":{\"type\":\"value\",\"value\":1.0},\"line_width\":{\"type\":\"value\",\"value\":1},\"line_join\":{\"type\":\"value\",\"value\":\"bevel\"},\"line_cap\":{\"type\":\"value\",\"value\":\"butt\"},\"line_dash\":{\"type\":\"value\",\"value\":[]},\"line_dash_offset\":{\"type\":\"value\",\"value\":0},\"fill_color\":{\"type\":\"value\",\"value\":\"#30a2da\"},\"fill_alpha\":{\"type\":\"value\",\"value\":1.0},\"hatch_color\":{\"type\":\"value\",\"value\":\"#30a2da\"},\"hatch_alpha\":{\"type\":\"value\",\"value\":1.0},\"hatch_scale\":{\"type\":\"value\",\"value\":12.0},\"hatch_pattern\":{\"type\":\"value\",\"value\":null},\"hatch_weight\":{\"type\":\"value\",\"value\":1.0},\"marker\":{\"type\":\"value\",\"value\":\"cross\"}}},\"nonselection_glyph\":{\"type\":\"object\",\"name\":\"Scatter\",\"id\":\"p1157\",\"attributes\":{\"tags\":[\"apply_ranges\"],\"x\":{\"type\":\"field\",\"field\":\"date\"},\"y\":{\"type\":\"field\",\"field\":\"rank\"},\"size\":{\"type\":\"value\",\"value\":5.477225575051661},\"line_color\":{\"type\":\"value\",\"value\":\"#30a2da\"},\"line_alpha\":{\"type\":\"value\",\"value\":0.1},\"fill_color\":{\"type\":\"value\",\"value\":\"#30a2da\"},\"fill_alpha\":{\"type\":\"value\",\"value\":0.1},\"hatch_color\":{\"type\":\"value\",\"value\":\"#30a2da\"},\"hatch_alpha\":{\"type\":\"value\",\"value\":0.1},\"marker\":{\"type\":\"value\",\"value\":\"cross\"}}},\"muted_glyph\":{\"type\":\"object\",\"name\":\"Scatter\",\"id\":\"p1158\",\"attributes\":{\"tags\":[\"apply_ranges\"],\"x\":{\"type\":\"field\",\"field\":\"date\"},\"y\":{\"type\":\"field\",\"field\":\"rank\"},\"size\":{\"type\":\"value\",\"value\":5.477225575051661},\"line_color\":{\"type\":\"value\",\"value\":\"#30a2da\"},\"line_alpha\":{\"type\":\"value\",\"value\":0.2},\"fill_color\":{\"type\":\"value\",\"value\":\"#30a2da\"},\"fill_alpha\":{\"type\":\"value\",\"value\":0.2},\"hatch_color\":{\"type\":\"value\",\"value\":\"#30a2da\"},\"hatch_alpha\":{\"type\":\"value\",\"value\":0.2},\"marker\":{\"type\":\"value\",\"value\":\"cross\"}}}}}],\"toolbar\":{\"type\":\"object\",\"name\":\"Toolbar\",\"id\":\"p1103\",\"attributes\":{\"tools\":[{\"type\":\"object\",\"name\":\"WheelZoomTool\",\"id\":\"p1089\",\"attributes\":{\"tags\":[\"hv_created\"],\"renderers\":\"auto\",\"zoom_together\":\"none\"}},{\"type\":\"object\",\"name\":\"HoverTool\",\"id\":\"p1090\",\"attributes\":{\"tags\":[\"hv_created\"],\"renderers\":[{\"id\":\"p1146\"},{\"id\":\"p1159\"}],\"tooltips\":[[\"date\",\"@{date}{%F %T}\"],[\"rank\",\"@{rank}\"]],\"formatters\":{\"type\":\"map\",\"entries\":[[\"@{date}\",\"datetime\"]]}}},{\"type\":\"object\",\"name\":\"SaveTool\",\"id\":\"p1128\"},{\"type\":\"object\",\"name\":\"PanTool\",\"id\":\"p1129\"},{\"type\":\"object\",\"name\":\"BoxZoomTool\",\"id\":\"p1130\",\"attributes\":{\"overlay\":{\"type\":\"object\",\"name\":\"BoxAnnotation\",\"id\":\"p1131\",\"attributes\":{\"syncable\":false,\"level\":\"overlay\",\"visible\":false,\"left\":{\"type\":\"number\",\"value\":\"nan\"},\"right\":{\"type\":\"number\",\"value\":\"nan\"},\"top\":{\"type\":\"number\",\"value\":\"nan\"},\"bottom\":{\"type\":\"number\",\"value\":\"nan\"},\"left_units\":\"canvas\",\"right_units\":\"canvas\",\"top_units\":\"canvas\",\"bottom_units\":\"canvas\",\"line_color\":\"black\",\"line_alpha\":1.0,\"line_width\":2,\"line_dash\":[4,4],\"fill_color\":\"lightgrey\",\"fill_alpha\":0.5}}}},{\"type\":\"object\",\"name\":\"ResetTool\",\"id\":\"p1136\"}],\"active_drag\":{\"id\":\"p1129\"},\"active_scroll\":{\"id\":\"p1089\"}}},\"left\":[{\"type\":\"object\",\"name\":\"LinearAxis\",\"id\":\"p1123\",\"attributes\":{\"ticker\":{\"type\":\"object\",\"name\":\"BasicTicker\",\"id\":\"p1124\",\"attributes\":{\"mantissas\":[1,2,5]}},\"formatter\":{\"type\":\"object\",\"name\":\"BasicTickFormatter\",\"id\":\"p1125\"},\"axis_label\":\"rank\",\"major_label_policy\":{\"type\":\"object\",\"name\":\"AllLabels\",\"id\":\"p1126\"}}}],\"below\":[{\"type\":\"object\",\"name\":\"DatetimeAxis\",\"id\":\"p1106\",\"attributes\":{\"ticker\":{\"type\":\"object\",\"name\":\"DatetimeTicker\",\"id\":\"p1107\",\"attributes\":{\"num_minor_ticks\":5,\"tickers\":[{\"type\":\"object\",\"name\":\"AdaptiveTicker\",\"id\":\"p1108\",\"attributes\":{\"num_minor_ticks\":0,\"mantissas\":[1,2,5],\"max_interval\":500.0}},{\"type\":\"object\",\"name\":\"AdaptiveTicker\",\"id\":\"p1109\",\"attributes\":{\"num_minor_ticks\":0,\"base\":60,\"mantissas\":[1,2,5,10,15,20,30],\"min_interval\":1000.0,\"max_interval\":1800000.0}},{\"type\":\"object\",\"name\":\"AdaptiveTicker\",\"id\":\"p1110\",\"attributes\":{\"num_minor_ticks\":0,\"base\":24,\"mantissas\":[1,2,4,6,8,12],\"min_interval\":3600000.0,\"max_interval\":43200000.0}},{\"type\":\"object\",\"name\":\"DaysTicker\",\"id\":\"p1111\",\"attributes\":{\"days\":[1,2,3,4,5,6,7,8,9,10,11,12,13,14,15,16,17,18,19,20,21,22,23,24,25,26,27,28,29,30,31]}},{\"type\":\"object\",\"name\":\"DaysTicker\",\"id\":\"p1112\",\"attributes\":{\"days\":[1,4,7,10,13,16,19,22,25,28]}},{\"type\":\"object\",\"name\":\"DaysTicker\",\"id\":\"p1113\",\"attributes\":{\"days\":[1,8,15,22]}},{\"type\":\"object\",\"name\":\"DaysTicker\",\"id\":\"p1114\",\"attributes\":{\"days\":[1,15]}},{\"type\":\"object\",\"name\":\"MonthsTicker\",\"id\":\"p1115\",\"attributes\":{\"months\":[0,1,2,3,4,5,6,7,8,9,10,11]}},{\"type\":\"object\",\"name\":\"MonthsTicker\",\"id\":\"p1116\",\"attributes\":{\"months\":[0,2,4,6,8,10]}},{\"type\":\"object\",\"name\":\"MonthsTicker\",\"id\":\"p1117\",\"attributes\":{\"months\":[0,4,8]}},{\"type\":\"object\",\"name\":\"MonthsTicker\",\"id\":\"p1118\",\"attributes\":{\"months\":[0,6]}},{\"type\":\"object\",\"name\":\"YearsTicker\",\"id\":\"p1119\"}]}},\"formatter\":{\"type\":\"object\",\"name\":\"DatetimeTickFormatter\",\"id\":\"p1120\"},\"axis_label\":\"date\",\"major_label_policy\":{\"type\":\"object\",\"name\":\"AllLabels\",\"id\":\"p1121\"}}}],\"center\":[{\"type\":\"object\",\"name\":\"Grid\",\"id\":\"p1122\",\"attributes\":{\"axis\":{\"id\":\"p1106\"},\"grid_line_color\":null}},{\"type\":\"object\",\"name\":\"Grid\",\"id\":\"p1127\",\"attributes\":{\"dimension\":1,\"axis\":{\"id\":\"p1123\"},\"grid_line_color\":null}}],\"min_border_top\":10,\"min_border_bottom\":10,\"min_border_left\":10,\"min_border_right\":10,\"output_backend\":\"webgl\"}},{\"type\":\"object\",\"name\":\"Spacer\",\"id\":\"p1164\",\"attributes\":{\"name\":\"HSpacer01141\",\"stylesheets\":[\"\\n:host(.pn-loading):before, .pn-loading:before {\\n  background-color: #c3c3c3;\\n  mask-size: auto calc(min(50%, 400px));\\n  -webkit-mask-size: auto calc(min(50%, 400px));\\n}\",{\"id\":\"p1082\"},{\"id\":\"p1080\"},{\"id\":\"p1081\"}],\"margin\":0,\"sizing_mode\":\"stretch_width\",\"align\":\"start\"}}]}}],\"defs\":[{\"type\":\"model\",\"name\":\"ReactiveHTML1\"},{\"type\":\"model\",\"name\":\"FlexBox1\",\"properties\":[{\"name\":\"align_content\",\"kind\":\"Any\",\"default\":\"flex-start\"},{\"name\":\"align_items\",\"kind\":\"Any\",\"default\":\"flex-start\"},{\"name\":\"flex_direction\",\"kind\":\"Any\",\"default\":\"row\"},{\"name\":\"flex_wrap\",\"kind\":\"Any\",\"default\":\"wrap\"},{\"name\":\"gap\",\"kind\":\"Any\",\"default\":\"\"},{\"name\":\"justify_content\",\"kind\":\"Any\",\"default\":\"flex-start\"}]},{\"type\":\"model\",\"name\":\"FloatPanel1\",\"properties\":[{\"name\":\"config\",\"kind\":\"Any\",\"default\":{\"type\":\"map\"}},{\"name\":\"contained\",\"kind\":\"Any\",\"default\":true},{\"name\":\"position\",\"kind\":\"Any\",\"default\":\"right-top\"},{\"name\":\"offsetx\",\"kind\":\"Any\",\"default\":null},{\"name\":\"offsety\",\"kind\":\"Any\",\"default\":null},{\"name\":\"theme\",\"kind\":\"Any\",\"default\":\"primary\"},{\"name\":\"status\",\"kind\":\"Any\",\"default\":\"normalized\"}]},{\"type\":\"model\",\"name\":\"GridStack1\",\"properties\":[{\"name\":\"mode\",\"kind\":\"Any\",\"default\":\"warn\"},{\"name\":\"ncols\",\"kind\":\"Any\",\"default\":null},{\"name\":\"nrows\",\"kind\":\"Any\",\"default\":null},{\"name\":\"allow_resize\",\"kind\":\"Any\",\"default\":true},{\"name\":\"allow_drag\",\"kind\":\"Any\",\"default\":true},{\"name\":\"state\",\"kind\":\"Any\",\"default\":[]}]},{\"type\":\"model\",\"name\":\"drag1\",\"properties\":[{\"name\":\"slider_width\",\"kind\":\"Any\",\"default\":5},{\"name\":\"slider_color\",\"kind\":\"Any\",\"default\":\"black\"},{\"name\":\"value\",\"kind\":\"Any\",\"default\":50}]},{\"type\":\"model\",\"name\":\"click1\",\"properties\":[{\"name\":\"terminal_output\",\"kind\":\"Any\",\"default\":\"\"},{\"name\":\"debug_name\",\"kind\":\"Any\",\"default\":\"\"},{\"name\":\"clears\",\"kind\":\"Any\",\"default\":0}]},{\"type\":\"model\",\"name\":\"FastWrapper1\",\"properties\":[{\"name\":\"object\",\"kind\":\"Any\",\"default\":null},{\"name\":\"style\",\"kind\":\"Any\",\"default\":null}]},{\"type\":\"model\",\"name\":\"NotificationAreaBase1\",\"properties\":[{\"name\":\"js_events\",\"kind\":\"Any\",\"default\":{\"type\":\"map\"}},{\"name\":\"position\",\"kind\":\"Any\",\"default\":\"bottom-right\"},{\"name\":\"_clear\",\"kind\":\"Any\",\"default\":0}]},{\"type\":\"model\",\"name\":\"NotificationArea1\",\"properties\":[{\"name\":\"js_events\",\"kind\":\"Any\",\"default\":{\"type\":\"map\"}},{\"name\":\"notifications\",\"kind\":\"Any\",\"default\":[]},{\"name\":\"position\",\"kind\":\"Any\",\"default\":\"bottom-right\"},{\"name\":\"_clear\",\"kind\":\"Any\",\"default\":0},{\"name\":\"types\",\"kind\":\"Any\",\"default\":[{\"type\":\"map\",\"entries\":[[\"type\",\"warning\"],[\"background\",\"#ffc107\"],[\"icon\",{\"type\":\"map\",\"entries\":[[\"className\",\"fas fa-exclamation-triangle\"],[\"tagName\",\"i\"],[\"color\",\"white\"]]}]]},{\"type\":\"map\",\"entries\":[[\"type\",\"info\"],[\"background\",\"#007bff\"],[\"icon\",{\"type\":\"map\",\"entries\":[[\"className\",\"fas fa-info-circle\"],[\"tagName\",\"i\"],[\"color\",\"white\"]]}]]}]}]},{\"type\":\"model\",\"name\":\"Notification\",\"properties\":[{\"name\":\"background\",\"kind\":\"Any\",\"default\":null},{\"name\":\"duration\",\"kind\":\"Any\",\"default\":3000},{\"name\":\"icon\",\"kind\":\"Any\",\"default\":null},{\"name\":\"message\",\"kind\":\"Any\",\"default\":\"\"},{\"name\":\"notification_type\",\"kind\":\"Any\",\"default\":null},{\"name\":\"_destroyed\",\"kind\":\"Any\",\"default\":false}]},{\"type\":\"model\",\"name\":\"TemplateActions1\",\"properties\":[{\"name\":\"open_modal\",\"kind\":\"Any\",\"default\":0},{\"name\":\"close_modal\",\"kind\":\"Any\",\"default\":0}]},{\"type\":\"model\",\"name\":\"BootstrapTemplateActions1\",\"properties\":[{\"name\":\"open_modal\",\"kind\":\"Any\",\"default\":0},{\"name\":\"close_modal\",\"kind\":\"Any\",\"default\":0}]},{\"type\":\"model\",\"name\":\"TemplateEditor1\",\"properties\":[{\"name\":\"layout\",\"kind\":\"Any\",\"default\":[]}]},{\"type\":\"model\",\"name\":\"MaterialTemplateActions1\",\"properties\":[{\"name\":\"open_modal\",\"kind\":\"Any\",\"default\":0},{\"name\":\"close_modal\",\"kind\":\"Any\",\"default\":0}]},{\"type\":\"model\",\"name\":\"copy_to_clipboard1\",\"properties\":[{\"name\":\"fill\",\"kind\":\"Any\",\"default\":\"none\"},{\"name\":\"value\",\"kind\":\"Any\",\"default\":null}]}]}};\n",
       "  var render_items = [{\"docid\":\"316533cd-1dfb-4ebd-ad29-15325da9da94\",\"roots\":{\"p1079\":\"e492f579-6518-4b84-b79f-7747d0bf6d1e\"},\"root_ids\":[\"p1079\"]}];\n",
       "  var docs = Object.values(docs_json)\n",
       "  if (!docs) {\n",
       "    return\n",
       "  }\n",
       "  const py_version = docs[0].version.replace('rc', '-rc.').replace('.dev', '-dev.')\n",
       "  async function embed_document(root) {\n",
       "    var Bokeh = get_bokeh(root)\n",
       "    await Bokeh.embed.embed_items_notebook(docs_json, render_items);\n",
       "    for (const render_item of render_items) {\n",
       "      for (const root_id of render_item.root_ids) {\n",
       "\tconst id_el = document.getElementById(root_id)\n",
       "\tif (id_el.children.length && id_el.children[0].hasAttribute('data-root-id')) {\n",
       "\t  const root_el = id_el.children[0]\n",
       "\t  root_el.id = root_el.id + '-rendered'\n",
       "\t  for (const child of root_el.children) {\n",
       "            // Ensure JupyterLab does not capture keyboard shortcuts\n",
       "            // see: https://jupyterlab.readthedocs.io/en/4.1.x/extension/notebook.html#keyboard-interaction-model\n",
       "\t    child.setAttribute('data-lm-suppress-shortcuts', 'true')\n",
       "\t  }\n",
       "\t}\n",
       "      }\n",
       "    }\n",
       "  }\n",
       "  function get_bokeh(root) {\n",
       "    if (root.Bokeh === undefined) {\n",
       "      return null\n",
       "    } else if (root.Bokeh.version !== py_version) {\n",
       "      if (root.Bokeh.versions === undefined || !root.Bokeh.versions.has(py_version)) {\n",
       "\treturn null\n",
       "      }\n",
       "      return root.Bokeh.versions.get(py_version);\n",
       "    } else if (root.Bokeh.version === py_version) {\n",
       "      return root.Bokeh\n",
       "    }\n",
       "    return null\n",
       "  }\n",
       "  function is_loaded(root) {\n",
       "    var Bokeh = get_bokeh(root)\n",
       "    return (Bokeh != null && Bokeh.Panel !== undefined)\n",
       "  }\n",
       "  if (is_loaded(root)) {\n",
       "    embed_document(root);\n",
       "  } else {\n",
       "    var attempts = 0;\n",
       "    var timer = setInterval(function(root) {\n",
       "      if (is_loaded(root)) {\n",
       "        clearInterval(timer);\n",
       "        embed_document(root);\n",
       "      } else if (document.readyState == \"complete\") {\n",
       "        attempts++;\n",
       "        if (attempts > 200) {\n",
       "          clearInterval(timer);\n",
       "\t  var Bokeh = get_bokeh(root)\n",
       "\t  if (Bokeh == null || Bokeh.Panel == null) {\n",
       "            console.warn(\"Panel: ERROR: Unable to run Panel code because Bokeh or Panel library is missing\");\n",
       "\t  } else {\n",
       "\t    console.warn(\"Panel: WARNING: Attempting to render but not all required libraries could be resolved.\")\n",
       "\t    embed_document(root)\n",
       "\t  }\n",
       "        }\n",
       "      }\n",
       "    }, 25, root)\n",
       "  }\n",
       "})(window);</script>"
      ],
      "text/plain": [
       ":Overlay\n",
       "   .Curve.I   :Curve   [date]   (rank)\n",
       "   .Scatter.I :Scatter   [date]   (rank)"
      ]
     },
     "metadata": {
      "application/vnd.holoviews_exec.v0+json": {
       "id": "p1079"
      }
     },
     "output_type": "display_data"
    },
    {
     "data": {},
     "metadata": {},
     "output_type": "display_data"
    },
    {
     "data": {
      "application/vnd.holoviews_exec.v0+json": "",
      "text/html": [
       "<div id='p1172'>\n",
       "  <div id=\"dca5309b-d0fe-408d-829d-a4aea2bedf68\" data-root-id=\"p1172\" style=\"display: contents;\"></div>\n",
       "</div>\n",
       "<script type=\"application/javascript\">(function(root) {\n",
       "  var docs_json = {\"2becb3ce-2701-45e7-8c96-5bb865e38a12\":{\"version\":\"3.4.3\",\"title\":\"Bokeh Application\",\"roots\":[{\"type\":\"object\",\"name\":\"Row\",\"id\":\"p1172\",\"attributes\":{\"name\":\"Row01355\",\"tags\":[\"embedded\"],\"stylesheets\":[\"\\n:host(.pn-loading):before, .pn-loading:before {\\n  background-color: #c3c3c3;\\n  mask-size: auto calc(min(50%, 400px));\\n  -webkit-mask-size: auto calc(min(50%, 400px));\\n}\",{\"type\":\"object\",\"name\":\"ImportedStyleSheet\",\"id\":\"p1175\",\"attributes\":{\"url\":\"https://cdn.holoviz.org/panel/1.4.5/dist/css/loading.css\"}},{\"type\":\"object\",\"name\":\"ImportedStyleSheet\",\"id\":\"p1259\",\"attributes\":{\"url\":\"https://cdn.holoviz.org/panel/1.4.5/dist/css/listpanel.css\"}},{\"type\":\"object\",\"name\":\"ImportedStyleSheet\",\"id\":\"p1173\",\"attributes\":{\"url\":\"https://cdn.holoviz.org/panel/1.4.5/dist/bundled/theme/default.css\"}},{\"type\":\"object\",\"name\":\"ImportedStyleSheet\",\"id\":\"p1174\",\"attributes\":{\"url\":\"https://cdn.holoviz.org/panel/1.4.5/dist/bundled/theme/native.css\"}}],\"min_width\":700,\"margin\":0,\"sizing_mode\":\"stretch_width\",\"align\":\"start\",\"children\":[{\"type\":\"object\",\"name\":\"Spacer\",\"id\":\"p1176\",\"attributes\":{\"name\":\"HSpacer01361\",\"stylesheets\":[\"\\n:host(.pn-loading):before, .pn-loading:before {\\n  background-color: #c3c3c3;\\n  mask-size: auto calc(min(50%, 400px));\\n  -webkit-mask-size: auto calc(min(50%, 400px));\\n}\",{\"id\":\"p1175\"},{\"id\":\"p1173\"},{\"id\":\"p1174\"}],\"margin\":0,\"sizing_mode\":\"stretch_width\",\"align\":\"start\"}},{\"type\":\"object\",\"name\":\"Figure\",\"id\":\"p1187\",\"attributes\":{\"width\":700,\"height\":300,\"margin\":[5,10],\"sizing_mode\":\"fixed\",\"align\":\"start\",\"x_range\":{\"type\":\"object\",\"name\":\"Range1d\",\"id\":\"p1177\",\"attributes\":{\"tags\":[[[\"date\",null]],[]],\"start\":950313600000.0,\"end\":965433600000.0,\"reset_start\":950313600000.0,\"reset_end\":965433600000.0}},\"y_range\":{\"type\":\"object\",\"name\":\"Range1d\",\"id\":\"p1178\",\"attributes\":{\"tags\":[[[\"rank\",null]],{\"type\":\"map\",\"entries\":[[\"invert_yaxis\",false],[\"autorange\",false]]}],\"start\":-3.7,\"end\":52.7,\"reset_start\":-3.7,\"reset_end\":52.7}},\"x_scale\":{\"type\":\"object\",\"name\":\"LinearScale\",\"id\":\"p1197\"},\"y_scale\":{\"type\":\"object\",\"name\":\"LinearScale\",\"id\":\"p1198\"},\"title\":{\"type\":\"object\",\"name\":\"Title\",\"id\":\"p1190\",\"attributes\":{\"text\":\"Santana - Maria, Maria\",\"text_color\":\"black\",\"text_font_size\":\"12pt\"}},\"renderers\":[{\"type\":\"object\",\"name\":\"GlyphRenderer\",\"id\":\"p1239\",\"attributes\":{\"data_source\":{\"type\":\"object\",\"name\":\"ColumnDataSource\",\"id\":\"p1230\",\"attributes\":{\"selected\":{\"type\":\"object\",\"name\":\"Selection\",\"id\":\"p1231\",\"attributes\":{\"indices\":[],\"line_indices\":[]}},\"selection_policy\":{\"type\":\"object\",\"name\":\"UnionRenderers\",\"id\":\"p1232\"},\"data\":{\"type\":\"map\",\"entries\":[[\"date\",{\"type\":\"ndarray\",\"array\":{\"type\":\"bytes\",\"data\":\"AACAWGOoa0IAAADp5KxrQgAAgHlmsWtCAAAACui1a0IAAICaabprQgAAACvrvmtCAACAu2zDa0IAAABM7sdrQgAAgNxvzGtCAAAAbfHQa0IAAID9ctVrQgAAAI702WtCAACAHnbea0IAAACv9+JrQgAAgD9552tCAAAA0Prra0IAAIBgfPBrQgAAAPH99GtCAACAgX/5a0IAAAASAf5rQgAAgKKCAmxCAAAAMwQHbEIAAIDDhQtsQgAAAFQHEGxCAACA5IgUbEIAAAB1ChlsQg==\"},\"shape\":[26],\"dtype\":\"float64\",\"order\":\"little\"}],[\"rank\",{\"type\":\"ndarray\",\"array\":{\"type\":\"bytes\",\"data\":\"DwAAAAgAAAAGAAAABQAAAAIAAAADAAAAAgAAAAIAAAABAAAAAQAAAAEAAAABAAAAAQAAAAEAAAABAAAAAQAAAAEAAAABAAAACAAAAA8AAAATAAAAFQAAABoAAAAkAAAAMAAAAC8AAAA=\"},\"shape\":[26],\"dtype\":\"int32\",\"order\":\"little\"}]]}}},\"view\":{\"type\":\"object\",\"name\":\"CDSView\",\"id\":\"p1240\",\"attributes\":{\"filter\":{\"type\":\"object\",\"name\":\"AllIndices\",\"id\":\"p1241\"}}},\"glyph\":{\"type\":\"object\",\"name\":\"Line\",\"id\":\"p1236\",\"attributes\":{\"tags\":[\"apply_ranges\"],\"x\":{\"type\":\"field\",\"field\":\"date\"},\"y\":{\"type\":\"field\",\"field\":\"rank\"},\"line_color\":\"#30a2da\",\"line_width\":2}},\"selection_glyph\":{\"type\":\"object\",\"name\":\"Line\",\"id\":\"p1242\",\"attributes\":{\"tags\":[\"apply_ranges\"],\"x\":{\"type\":\"field\",\"field\":\"date\"},\"y\":{\"type\":\"field\",\"field\":\"rank\"},\"line_color\":\"#30a2da\",\"line_width\":2}},\"nonselection_glyph\":{\"type\":\"object\",\"name\":\"Line\",\"id\":\"p1237\",\"attributes\":{\"tags\":[\"apply_ranges\"],\"x\":{\"type\":\"field\",\"field\":\"date\"},\"y\":{\"type\":\"field\",\"field\":\"rank\"},\"line_color\":\"#30a2da\",\"line_alpha\":0.1,\"line_width\":2}},\"muted_glyph\":{\"type\":\"object\",\"name\":\"Line\",\"id\":\"p1238\",\"attributes\":{\"tags\":[\"apply_ranges\"],\"x\":{\"type\":\"field\",\"field\":\"date\"},\"y\":{\"type\":\"field\",\"field\":\"rank\"},\"line_color\":\"#30a2da\",\"line_alpha\":0.2,\"line_width\":2}}}},{\"type\":\"object\",\"name\":\"GlyphRenderer\",\"id\":\"p1252\",\"attributes\":{\"data_source\":{\"type\":\"object\",\"name\":\"ColumnDataSource\",\"id\":\"p1243\",\"attributes\":{\"selected\":{\"type\":\"object\",\"name\":\"Selection\",\"id\":\"p1244\",\"attributes\":{\"indices\":[],\"line_indices\":[]}},\"selection_policy\":{\"type\":\"object\",\"name\":\"UnionRenderers\",\"id\":\"p1245\"},\"data\":{\"type\":\"map\",\"entries\":[[\"date\",{\"type\":\"ndarray\",\"array\":{\"type\":\"bytes\",\"data\":\"AACAWGOoa0IAAADp5KxrQgAAgHlmsWtCAAAACui1a0IAAICaabprQgAAACvrvmtCAACAu2zDa0IAAABM7sdrQgAAgNxvzGtCAAAAbfHQa0IAAID9ctVrQgAAAI702WtCAACAHnbea0IAAACv9+JrQgAAgD9552tCAAAA0Prra0IAAIBgfPBrQgAAAPH99GtCAACAgX/5a0IAAAASAf5rQgAAgKKCAmxCAAAAMwQHbEIAAIDDhQtsQgAAAFQHEGxCAACA5IgUbEIAAAB1ChlsQg==\"},\"shape\":[26],\"dtype\":\"float64\",\"order\":\"little\"}],[\"rank\",{\"type\":\"ndarray\",\"array\":{\"type\":\"bytes\",\"data\":\"DwAAAAgAAAAGAAAABQAAAAIAAAADAAAAAgAAAAIAAAABAAAAAQAAAAEAAAABAAAAAQAAAAEAAAABAAAAAQAAAAEAAAABAAAACAAAAA8AAAATAAAAFQAAABoAAAAkAAAAMAAAAC8AAAA=\"},\"shape\":[26],\"dtype\":\"int32\",\"order\":\"little\"}]]}}},\"view\":{\"type\":\"object\",\"name\":\"CDSView\",\"id\":\"p1253\",\"attributes\":{\"filter\":{\"type\":\"object\",\"name\":\"AllIndices\",\"id\":\"p1254\"}}},\"glyph\":{\"type\":\"object\",\"name\":\"Scatter\",\"id\":\"p1249\",\"attributes\":{\"tags\":[\"apply_ranges\"],\"x\":{\"type\":\"field\",\"field\":\"date\"},\"y\":{\"type\":\"field\",\"field\":\"rank\"},\"size\":{\"type\":\"value\",\"value\":5.477225575051661},\"line_color\":{\"type\":\"value\",\"value\":\"#30a2da\"},\"fill_color\":{\"type\":\"value\",\"value\":\"#30a2da\"},\"hatch_color\":{\"type\":\"value\",\"value\":\"#30a2da\"},\"marker\":{\"type\":\"value\",\"value\":\"cross\"}}},\"selection_glyph\":{\"type\":\"object\",\"name\":\"Scatter\",\"id\":\"p1255\",\"attributes\":{\"tags\":[\"apply_ranges\"],\"x\":{\"type\":\"field\",\"field\":\"date\"},\"y\":{\"type\":\"field\",\"field\":\"rank\"},\"size\":{\"type\":\"value\",\"value\":5.477225575051661},\"angle\":{\"type\":\"value\",\"value\":0.0},\"line_color\":{\"type\":\"value\",\"value\":\"#30a2da\"},\"line_alpha\":{\"type\":\"value\",\"value\":1.0},\"line_width\":{\"type\":\"value\",\"value\":1},\"line_join\":{\"type\":\"value\",\"value\":\"bevel\"},\"line_cap\":{\"type\":\"value\",\"value\":\"butt\"},\"line_dash\":{\"type\":\"value\",\"value\":[]},\"line_dash_offset\":{\"type\":\"value\",\"value\":0},\"fill_color\":{\"type\":\"value\",\"value\":\"#30a2da\"},\"fill_alpha\":{\"type\":\"value\",\"value\":1.0},\"hatch_color\":{\"type\":\"value\",\"value\":\"#30a2da\"},\"hatch_alpha\":{\"type\":\"value\",\"value\":1.0},\"hatch_scale\":{\"type\":\"value\",\"value\":12.0},\"hatch_pattern\":{\"type\":\"value\",\"value\":null},\"hatch_weight\":{\"type\":\"value\",\"value\":1.0},\"marker\":{\"type\":\"value\",\"value\":\"cross\"}}},\"nonselection_glyph\":{\"type\":\"object\",\"name\":\"Scatter\",\"id\":\"p1250\",\"attributes\":{\"tags\":[\"apply_ranges\"],\"x\":{\"type\":\"field\",\"field\":\"date\"},\"y\":{\"type\":\"field\",\"field\":\"rank\"},\"size\":{\"type\":\"value\",\"value\":5.477225575051661},\"line_color\":{\"type\":\"value\",\"value\":\"#30a2da\"},\"line_alpha\":{\"type\":\"value\",\"value\":0.1},\"fill_color\":{\"type\":\"value\",\"value\":\"#30a2da\"},\"fill_alpha\":{\"type\":\"value\",\"value\":0.1},\"hatch_color\":{\"type\":\"value\",\"value\":\"#30a2da\"},\"hatch_alpha\":{\"type\":\"value\",\"value\":0.1},\"marker\":{\"type\":\"value\",\"value\":\"cross\"}}},\"muted_glyph\":{\"type\":\"object\",\"name\":\"Scatter\",\"id\":\"p1251\",\"attributes\":{\"tags\":[\"apply_ranges\"],\"x\":{\"type\":\"field\",\"field\":\"date\"},\"y\":{\"type\":\"field\",\"field\":\"rank\"},\"size\":{\"type\":\"value\",\"value\":5.477225575051661},\"line_color\":{\"type\":\"value\",\"value\":\"#30a2da\"},\"line_alpha\":{\"type\":\"value\",\"value\":0.2},\"fill_color\":{\"type\":\"value\",\"value\":\"#30a2da\"},\"fill_alpha\":{\"type\":\"value\",\"value\":0.2},\"hatch_color\":{\"type\":\"value\",\"value\":\"#30a2da\"},\"hatch_alpha\":{\"type\":\"value\",\"value\":0.2},\"marker\":{\"type\":\"value\",\"value\":\"cross\"}}}}}],\"toolbar\":{\"type\":\"object\",\"name\":\"Toolbar\",\"id\":\"p1196\",\"attributes\":{\"tools\":[{\"type\":\"object\",\"name\":\"WheelZoomTool\",\"id\":\"p1182\",\"attributes\":{\"tags\":[\"hv_created\"],\"renderers\":\"auto\",\"zoom_together\":\"none\"}},{\"type\":\"object\",\"name\":\"HoverTool\",\"id\":\"p1183\",\"attributes\":{\"tags\":[\"hv_created\"],\"renderers\":[{\"id\":\"p1239\"},{\"id\":\"p1252\"}],\"tooltips\":[[\"date\",\"@{date}{%F %T}\"],[\"rank\",\"@{rank}\"]],\"formatters\":{\"type\":\"map\",\"entries\":[[\"@{date}\",\"datetime\"]]}}},{\"type\":\"object\",\"name\":\"SaveTool\",\"id\":\"p1221\"},{\"type\":\"object\",\"name\":\"PanTool\",\"id\":\"p1222\"},{\"type\":\"object\",\"name\":\"BoxZoomTool\",\"id\":\"p1223\",\"attributes\":{\"overlay\":{\"type\":\"object\",\"name\":\"BoxAnnotation\",\"id\":\"p1224\",\"attributes\":{\"syncable\":false,\"level\":\"overlay\",\"visible\":false,\"left\":{\"type\":\"number\",\"value\":\"nan\"},\"right\":{\"type\":\"number\",\"value\":\"nan\"},\"top\":{\"type\":\"number\",\"value\":\"nan\"},\"bottom\":{\"type\":\"number\",\"value\":\"nan\"},\"left_units\":\"canvas\",\"right_units\":\"canvas\",\"top_units\":\"canvas\",\"bottom_units\":\"canvas\",\"line_color\":\"black\",\"line_alpha\":1.0,\"line_width\":2,\"line_dash\":[4,4],\"fill_color\":\"lightgrey\",\"fill_alpha\":0.5}}}},{\"type\":\"object\",\"name\":\"ResetTool\",\"id\":\"p1229\"}],\"active_drag\":{\"id\":\"p1222\"},\"active_scroll\":{\"id\":\"p1182\"}}},\"left\":[{\"type\":\"object\",\"name\":\"LinearAxis\",\"id\":\"p1216\",\"attributes\":{\"ticker\":{\"type\":\"object\",\"name\":\"BasicTicker\",\"id\":\"p1217\",\"attributes\":{\"mantissas\":[1,2,5]}},\"formatter\":{\"type\":\"object\",\"name\":\"BasicTickFormatter\",\"id\":\"p1218\"},\"axis_label\":\"rank\",\"major_label_policy\":{\"type\":\"object\",\"name\":\"AllLabels\",\"id\":\"p1219\"}}}],\"below\":[{\"type\":\"object\",\"name\":\"DatetimeAxis\",\"id\":\"p1199\",\"attributes\":{\"ticker\":{\"type\":\"object\",\"name\":\"DatetimeTicker\",\"id\":\"p1200\",\"attributes\":{\"num_minor_ticks\":5,\"tickers\":[{\"type\":\"object\",\"name\":\"AdaptiveTicker\",\"id\":\"p1201\",\"attributes\":{\"num_minor_ticks\":0,\"mantissas\":[1,2,5],\"max_interval\":500.0}},{\"type\":\"object\",\"name\":\"AdaptiveTicker\",\"id\":\"p1202\",\"attributes\":{\"num_minor_ticks\":0,\"base\":60,\"mantissas\":[1,2,5,10,15,20,30],\"min_interval\":1000.0,\"max_interval\":1800000.0}},{\"type\":\"object\",\"name\":\"AdaptiveTicker\",\"id\":\"p1203\",\"attributes\":{\"num_minor_ticks\":0,\"base\":24,\"mantissas\":[1,2,4,6,8,12],\"min_interval\":3600000.0,\"max_interval\":43200000.0}},{\"type\":\"object\",\"name\":\"DaysTicker\",\"id\":\"p1204\",\"attributes\":{\"days\":[1,2,3,4,5,6,7,8,9,10,11,12,13,14,15,16,17,18,19,20,21,22,23,24,25,26,27,28,29,30,31]}},{\"type\":\"object\",\"name\":\"DaysTicker\",\"id\":\"p1205\",\"attributes\":{\"days\":[1,4,7,10,13,16,19,22,25,28]}},{\"type\":\"object\",\"name\":\"DaysTicker\",\"id\":\"p1206\",\"attributes\":{\"days\":[1,8,15,22]}},{\"type\":\"object\",\"name\":\"DaysTicker\",\"id\":\"p1207\",\"attributes\":{\"days\":[1,15]}},{\"type\":\"object\",\"name\":\"MonthsTicker\",\"id\":\"p1208\",\"attributes\":{\"months\":[0,1,2,3,4,5,6,7,8,9,10,11]}},{\"type\":\"object\",\"name\":\"MonthsTicker\",\"id\":\"p1209\",\"attributes\":{\"months\":[0,2,4,6,8,10]}},{\"type\":\"object\",\"name\":\"MonthsTicker\",\"id\":\"p1210\",\"attributes\":{\"months\":[0,4,8]}},{\"type\":\"object\",\"name\":\"MonthsTicker\",\"id\":\"p1211\",\"attributes\":{\"months\":[0,6]}},{\"type\":\"object\",\"name\":\"YearsTicker\",\"id\":\"p1212\"}]}},\"formatter\":{\"type\":\"object\",\"name\":\"DatetimeTickFormatter\",\"id\":\"p1213\"},\"axis_label\":\"date\",\"major_label_policy\":{\"type\":\"object\",\"name\":\"AllLabels\",\"id\":\"p1214\"}}}],\"center\":[{\"type\":\"object\",\"name\":\"Grid\",\"id\":\"p1215\",\"attributes\":{\"axis\":{\"id\":\"p1199\"},\"grid_line_color\":null}},{\"type\":\"object\",\"name\":\"Grid\",\"id\":\"p1220\",\"attributes\":{\"dimension\":1,\"axis\":{\"id\":\"p1216\"},\"grid_line_color\":null}}],\"min_border_top\":10,\"min_border_bottom\":10,\"min_border_left\":10,\"min_border_right\":10,\"output_backend\":\"webgl\"}},{\"type\":\"object\",\"name\":\"Spacer\",\"id\":\"p1257\",\"attributes\":{\"name\":\"HSpacer01362\",\"stylesheets\":[\"\\n:host(.pn-loading):before, .pn-loading:before {\\n  background-color: #c3c3c3;\\n  mask-size: auto calc(min(50%, 400px));\\n  -webkit-mask-size: auto calc(min(50%, 400px));\\n}\",{\"id\":\"p1175\"},{\"id\":\"p1173\"},{\"id\":\"p1174\"}],\"margin\":0,\"sizing_mode\":\"stretch_width\",\"align\":\"start\"}}]}}],\"defs\":[{\"type\":\"model\",\"name\":\"ReactiveHTML1\"},{\"type\":\"model\",\"name\":\"FlexBox1\",\"properties\":[{\"name\":\"align_content\",\"kind\":\"Any\",\"default\":\"flex-start\"},{\"name\":\"align_items\",\"kind\":\"Any\",\"default\":\"flex-start\"},{\"name\":\"flex_direction\",\"kind\":\"Any\",\"default\":\"row\"},{\"name\":\"flex_wrap\",\"kind\":\"Any\",\"default\":\"wrap\"},{\"name\":\"gap\",\"kind\":\"Any\",\"default\":\"\"},{\"name\":\"justify_content\",\"kind\":\"Any\",\"default\":\"flex-start\"}]},{\"type\":\"model\",\"name\":\"FloatPanel1\",\"properties\":[{\"name\":\"config\",\"kind\":\"Any\",\"default\":{\"type\":\"map\"}},{\"name\":\"contained\",\"kind\":\"Any\",\"default\":true},{\"name\":\"position\",\"kind\":\"Any\",\"default\":\"right-top\"},{\"name\":\"offsetx\",\"kind\":\"Any\",\"default\":null},{\"name\":\"offsety\",\"kind\":\"Any\",\"default\":null},{\"name\":\"theme\",\"kind\":\"Any\",\"default\":\"primary\"},{\"name\":\"status\",\"kind\":\"Any\",\"default\":\"normalized\"}]},{\"type\":\"model\",\"name\":\"GridStack1\",\"properties\":[{\"name\":\"mode\",\"kind\":\"Any\",\"default\":\"warn\"},{\"name\":\"ncols\",\"kind\":\"Any\",\"default\":null},{\"name\":\"nrows\",\"kind\":\"Any\",\"default\":null},{\"name\":\"allow_resize\",\"kind\":\"Any\",\"default\":true},{\"name\":\"allow_drag\",\"kind\":\"Any\",\"default\":true},{\"name\":\"state\",\"kind\":\"Any\",\"default\":[]}]},{\"type\":\"model\",\"name\":\"drag1\",\"properties\":[{\"name\":\"slider_width\",\"kind\":\"Any\",\"default\":5},{\"name\":\"slider_color\",\"kind\":\"Any\",\"default\":\"black\"},{\"name\":\"value\",\"kind\":\"Any\",\"default\":50}]},{\"type\":\"model\",\"name\":\"click1\",\"properties\":[{\"name\":\"terminal_output\",\"kind\":\"Any\",\"default\":\"\"},{\"name\":\"debug_name\",\"kind\":\"Any\",\"default\":\"\"},{\"name\":\"clears\",\"kind\":\"Any\",\"default\":0}]},{\"type\":\"model\",\"name\":\"FastWrapper1\",\"properties\":[{\"name\":\"object\",\"kind\":\"Any\",\"default\":null},{\"name\":\"style\",\"kind\":\"Any\",\"default\":null}]},{\"type\":\"model\",\"name\":\"NotificationAreaBase1\",\"properties\":[{\"name\":\"js_events\",\"kind\":\"Any\",\"default\":{\"type\":\"map\"}},{\"name\":\"position\",\"kind\":\"Any\",\"default\":\"bottom-right\"},{\"name\":\"_clear\",\"kind\":\"Any\",\"default\":0}]},{\"type\":\"model\",\"name\":\"NotificationArea1\",\"properties\":[{\"name\":\"js_events\",\"kind\":\"Any\",\"default\":{\"type\":\"map\"}},{\"name\":\"notifications\",\"kind\":\"Any\",\"default\":[]},{\"name\":\"position\",\"kind\":\"Any\",\"default\":\"bottom-right\"},{\"name\":\"_clear\",\"kind\":\"Any\",\"default\":0},{\"name\":\"types\",\"kind\":\"Any\",\"default\":[{\"type\":\"map\",\"entries\":[[\"type\",\"warning\"],[\"background\",\"#ffc107\"],[\"icon\",{\"type\":\"map\",\"entries\":[[\"className\",\"fas fa-exclamation-triangle\"],[\"tagName\",\"i\"],[\"color\",\"white\"]]}]]},{\"type\":\"map\",\"entries\":[[\"type\",\"info\"],[\"background\",\"#007bff\"],[\"icon\",{\"type\":\"map\",\"entries\":[[\"className\",\"fas fa-info-circle\"],[\"tagName\",\"i\"],[\"color\",\"white\"]]}]]}]}]},{\"type\":\"model\",\"name\":\"Notification\",\"properties\":[{\"name\":\"background\",\"kind\":\"Any\",\"default\":null},{\"name\":\"duration\",\"kind\":\"Any\",\"default\":3000},{\"name\":\"icon\",\"kind\":\"Any\",\"default\":null},{\"name\":\"message\",\"kind\":\"Any\",\"default\":\"\"},{\"name\":\"notification_type\",\"kind\":\"Any\",\"default\":null},{\"name\":\"_destroyed\",\"kind\":\"Any\",\"default\":false}]},{\"type\":\"model\",\"name\":\"TemplateActions1\",\"properties\":[{\"name\":\"open_modal\",\"kind\":\"Any\",\"default\":0},{\"name\":\"close_modal\",\"kind\":\"Any\",\"default\":0}]},{\"type\":\"model\",\"name\":\"BootstrapTemplateActions1\",\"properties\":[{\"name\":\"open_modal\",\"kind\":\"Any\",\"default\":0},{\"name\":\"close_modal\",\"kind\":\"Any\",\"default\":0}]},{\"type\":\"model\",\"name\":\"TemplateEditor1\",\"properties\":[{\"name\":\"layout\",\"kind\":\"Any\",\"default\":[]}]},{\"type\":\"model\",\"name\":\"MaterialTemplateActions1\",\"properties\":[{\"name\":\"open_modal\",\"kind\":\"Any\",\"default\":0},{\"name\":\"close_modal\",\"kind\":\"Any\",\"default\":0}]},{\"type\":\"model\",\"name\":\"copy_to_clipboard1\",\"properties\":[{\"name\":\"fill\",\"kind\":\"Any\",\"default\":\"none\"},{\"name\":\"value\",\"kind\":\"Any\",\"default\":null}]}]}};\n",
       "  var render_items = [{\"docid\":\"2becb3ce-2701-45e7-8c96-5bb865e38a12\",\"roots\":{\"p1172\":\"dca5309b-d0fe-408d-829d-a4aea2bedf68\"},\"root_ids\":[\"p1172\"]}];\n",
       "  var docs = Object.values(docs_json)\n",
       "  if (!docs) {\n",
       "    return\n",
       "  }\n",
       "  const py_version = docs[0].version.replace('rc', '-rc.').replace('.dev', '-dev.')\n",
       "  async function embed_document(root) {\n",
       "    var Bokeh = get_bokeh(root)\n",
       "    await Bokeh.embed.embed_items_notebook(docs_json, render_items);\n",
       "    for (const render_item of render_items) {\n",
       "      for (const root_id of render_item.root_ids) {\n",
       "\tconst id_el = document.getElementById(root_id)\n",
       "\tif (id_el.children.length && id_el.children[0].hasAttribute('data-root-id')) {\n",
       "\t  const root_el = id_el.children[0]\n",
       "\t  root_el.id = root_el.id + '-rendered'\n",
       "\t  for (const child of root_el.children) {\n",
       "            // Ensure JupyterLab does not capture keyboard shortcuts\n",
       "            // see: https://jupyterlab.readthedocs.io/en/4.1.x/extension/notebook.html#keyboard-interaction-model\n",
       "\t    child.setAttribute('data-lm-suppress-shortcuts', 'true')\n",
       "\t  }\n",
       "\t}\n",
       "      }\n",
       "    }\n",
       "  }\n",
       "  function get_bokeh(root) {\n",
       "    if (root.Bokeh === undefined) {\n",
       "      return null\n",
       "    } else if (root.Bokeh.version !== py_version) {\n",
       "      if (root.Bokeh.versions === undefined || !root.Bokeh.versions.has(py_version)) {\n",
       "\treturn null\n",
       "      }\n",
       "      return root.Bokeh.versions.get(py_version);\n",
       "    } else if (root.Bokeh.version === py_version) {\n",
       "      return root.Bokeh\n",
       "    }\n",
       "    return null\n",
       "  }\n",
       "  function is_loaded(root) {\n",
       "    var Bokeh = get_bokeh(root)\n",
       "    return (Bokeh != null && Bokeh.Panel !== undefined)\n",
       "  }\n",
       "  if (is_loaded(root)) {\n",
       "    embed_document(root);\n",
       "  } else {\n",
       "    var attempts = 0;\n",
       "    var timer = setInterval(function(root) {\n",
       "      if (is_loaded(root)) {\n",
       "        clearInterval(timer);\n",
       "        embed_document(root);\n",
       "      } else if (document.readyState == \"complete\") {\n",
       "        attempts++;\n",
       "        if (attempts > 200) {\n",
       "          clearInterval(timer);\n",
       "\t  var Bokeh = get_bokeh(root)\n",
       "\t  if (Bokeh == null || Bokeh.Panel == null) {\n",
       "            console.warn(\"Panel: ERROR: Unable to run Panel code because Bokeh or Panel library is missing\");\n",
       "\t  } else {\n",
       "\t    console.warn(\"Panel: WARNING: Attempting to render but not all required libraries could be resolved.\")\n",
       "\t    embed_document(root)\n",
       "\t  }\n",
       "        }\n",
       "      }\n",
       "    }, 25, root)\n",
       "  }\n",
       "})(window);</script>"
      ],
      "text/plain": [
       ":Overlay\n",
       "   .Curve.I   :Curve   [date]   (rank)\n",
       "   .Scatter.I :Scatter   [date]   (rank)"
      ]
     },
     "metadata": {
      "application/vnd.holoviews_exec.v0+json": {
       "id": "p1172"
      }
     },
     "output_type": "display_data"
    },
    {
     "data": {},
     "metadata": {},
     "output_type": "display_data"
    },
    {
     "data": {
      "application/vnd.holoviews_exec.v0+json": "",
      "text/html": [
       "<div id='p1265'>\n",
       "  <div id=\"ea3e0042-918a-4835-8f00-a971175dd1d9\" data-root-id=\"p1265\" style=\"display: contents;\"></div>\n",
       "</div>\n",
       "<script type=\"application/javascript\">(function(root) {\n",
       "  var docs_json = {\"74ee92ca-aede-4138-a6b8-e652827be8e1\":{\"version\":\"3.4.3\",\"title\":\"Bokeh Application\",\"roots\":[{\"type\":\"object\",\"name\":\"Row\",\"id\":\"p1265\",\"attributes\":{\"name\":\"Row01576\",\"tags\":[\"embedded\"],\"stylesheets\":[\"\\n:host(.pn-loading):before, .pn-loading:before {\\n  background-color: #c3c3c3;\\n  mask-size: auto calc(min(50%, 400px));\\n  -webkit-mask-size: auto calc(min(50%, 400px));\\n}\",{\"type\":\"object\",\"name\":\"ImportedStyleSheet\",\"id\":\"p1268\",\"attributes\":{\"url\":\"https://cdn.holoviz.org/panel/1.4.5/dist/css/loading.css\"}},{\"type\":\"object\",\"name\":\"ImportedStyleSheet\",\"id\":\"p1352\",\"attributes\":{\"url\":\"https://cdn.holoviz.org/panel/1.4.5/dist/css/listpanel.css\"}},{\"type\":\"object\",\"name\":\"ImportedStyleSheet\",\"id\":\"p1266\",\"attributes\":{\"url\":\"https://cdn.holoviz.org/panel/1.4.5/dist/bundled/theme/default.css\"}},{\"type\":\"object\",\"name\":\"ImportedStyleSheet\",\"id\":\"p1267\",\"attributes\":{\"url\":\"https://cdn.holoviz.org/panel/1.4.5/dist/bundled/theme/native.css\"}}],\"min_width\":700,\"margin\":0,\"sizing_mode\":\"stretch_width\",\"align\":\"start\",\"children\":[{\"type\":\"object\",\"name\":\"Spacer\",\"id\":\"p1269\",\"attributes\":{\"name\":\"HSpacer01582\",\"stylesheets\":[\"\\n:host(.pn-loading):before, .pn-loading:before {\\n  background-color: #c3c3c3;\\n  mask-size: auto calc(min(50%, 400px));\\n  -webkit-mask-size: auto calc(min(50%, 400px));\\n}\",{\"id\":\"p1268\"},{\"id\":\"p1266\"},{\"id\":\"p1267\"}],\"margin\":0,\"sizing_mode\":\"stretch_width\",\"align\":\"start\"}},{\"type\":\"object\",\"name\":\"Figure\",\"id\":\"p1280\",\"attributes\":{\"width\":700,\"height\":300,\"margin\":[5,10],\"sizing_mode\":\"fixed\",\"align\":\"start\",\"x_range\":{\"type\":\"object\",\"name\":\"Range1d\",\"id\":\"p1270\",\"attributes\":{\"tags\":[[[\"date\",null]],[]],\"start\":940636800000.0,\"end\":959990400000.0,\"reset_start\":940636800000.0,\"reset_end\":959990400000.0}},\"y_range\":{\"type\":\"object\",\"name\":\"Range1d\",\"id\":\"p1271\",\"attributes\":{\"tags\":[[[\"rank\",null]],{\"type\":\"map\",\"entries\":[[\"invert_yaxis\",false],[\"autorange\",false]]}],\"start\":-6.0,\"end\":78.0,\"reset_start\":-6.0,\"reset_end\":78.0}},\"x_scale\":{\"type\":\"object\",\"name\":\"LinearScale\",\"id\":\"p1290\"},\"y_scale\":{\"type\":\"object\",\"name\":\"LinearScale\",\"id\":\"p1291\"},\"title\":{\"type\":\"object\",\"name\":\"Title\",\"id\":\"p1283\",\"attributes\":{\"text\":\"Savage Garden - I Knew I Loved You\",\"text_color\":\"black\",\"text_font_size\":\"12pt\"}},\"renderers\":[{\"type\":\"object\",\"name\":\"GlyphRenderer\",\"id\":\"p1332\",\"attributes\":{\"data_source\":{\"type\":\"object\",\"name\":\"ColumnDataSource\",\"id\":\"p1323\",\"attributes\":{\"selected\":{\"type\":\"object\",\"name\":\"Selection\",\"id\":\"p1324\",\"attributes\":{\"indices\":[],\"line_indices\":[]}},\"selection_policy\":{\"type\":\"object\",\"name\":\"UnionRenderers\",\"id\":\"p1325\"},\"data\":{\"type\":\"map\",\"entries\":[[\"date\",{\"type\":\"ndarray\",\"array\":{\"type\":\"bytes\",\"data\":\"AACAUEpga0IAAADhy2RrQgAAgHFNaWtCAAAAAs9ta0IAAICSUHJrQgAAACPSdmtCAACAs1N7a0IAAABE1X9rQgAAgNRWhGtCAAAAZdiIa0IAAID1WY1rQgAAAIbbkWtCAACAFl2Wa0IAAACn3pprQgAAgDdgn2tCAAAAyOGja0IAAIBYY6hrQgAAAOnkrGtCAACAeWaxa0IAAAAK6LVrQgAAgJppumtCAAAAK+u+a0IAAIC7bMNrQgAAAEzux2tCAACA3G/Ma0IAAABt8dBrQgAAgP1y1WtCAAAAjvTZa0IAAIAedt5rQgAAAK/34mtCAACAP3nna0IAAADQ+utrQgAAgGB88GtC\"},\"shape\":[33],\"dtype\":\"float64\",\"order\":\"little\"}],[\"rank\",{\"type\":\"ndarray\",\"array\":{\"type\":\"bytes\",\"data\":\"RwAAADAAAAArAAAAHwAAABQAAAANAAAABwAAAAYAAAAEAAAABAAAAAQAAAAGAAAABAAAAAIAAAABAAAAAQAAAAEAAAACAAAAAQAAAAIAAAAEAAAACAAAAAgAAAAMAAAADgAAABEAAAAVAAAAGAAAAB4AAAAiAAAAJQAAAC4AAAAvAAAA\"},\"shape\":[33],\"dtype\":\"int32\",\"order\":\"little\"}]]}}},\"view\":{\"type\":\"object\",\"name\":\"CDSView\",\"id\":\"p1333\",\"attributes\":{\"filter\":{\"type\":\"object\",\"name\":\"AllIndices\",\"id\":\"p1334\"}}},\"glyph\":{\"type\":\"object\",\"name\":\"Line\",\"id\":\"p1329\",\"attributes\":{\"tags\":[\"apply_ranges\"],\"x\":{\"type\":\"field\",\"field\":\"date\"},\"y\":{\"type\":\"field\",\"field\":\"rank\"},\"line_color\":\"#30a2da\",\"line_width\":2}},\"selection_glyph\":{\"type\":\"object\",\"name\":\"Line\",\"id\":\"p1335\",\"attributes\":{\"tags\":[\"apply_ranges\"],\"x\":{\"type\":\"field\",\"field\":\"date\"},\"y\":{\"type\":\"field\",\"field\":\"rank\"},\"line_color\":\"#30a2da\",\"line_width\":2}},\"nonselection_glyph\":{\"type\":\"object\",\"name\":\"Line\",\"id\":\"p1330\",\"attributes\":{\"tags\":[\"apply_ranges\"],\"x\":{\"type\":\"field\",\"field\":\"date\"},\"y\":{\"type\":\"field\",\"field\":\"rank\"},\"line_color\":\"#30a2da\",\"line_alpha\":0.1,\"line_width\":2}},\"muted_glyph\":{\"type\":\"object\",\"name\":\"Line\",\"id\":\"p1331\",\"attributes\":{\"tags\":[\"apply_ranges\"],\"x\":{\"type\":\"field\",\"field\":\"date\"},\"y\":{\"type\":\"field\",\"field\":\"rank\"},\"line_color\":\"#30a2da\",\"line_alpha\":0.2,\"line_width\":2}}}},{\"type\":\"object\",\"name\":\"GlyphRenderer\",\"id\":\"p1345\",\"attributes\":{\"data_source\":{\"type\":\"object\",\"name\":\"ColumnDataSource\",\"id\":\"p1336\",\"attributes\":{\"selected\":{\"type\":\"object\",\"name\":\"Selection\",\"id\":\"p1337\",\"attributes\":{\"indices\":[],\"line_indices\":[]}},\"selection_policy\":{\"type\":\"object\",\"name\":\"UnionRenderers\",\"id\":\"p1338\"},\"data\":{\"type\":\"map\",\"entries\":[[\"date\",{\"type\":\"ndarray\",\"array\":{\"type\":\"bytes\",\"data\":\"AACAUEpga0IAAADhy2RrQgAAgHFNaWtCAAAAAs9ta0IAAICSUHJrQgAAACPSdmtCAACAs1N7a0IAAABE1X9rQgAAgNRWhGtCAAAAZdiIa0IAAID1WY1rQgAAAIbbkWtCAACAFl2Wa0IAAACn3pprQgAAgDdgn2tCAAAAyOGja0IAAIBYY6hrQgAAAOnkrGtCAACAeWaxa0IAAAAK6LVrQgAAgJppumtCAAAAK+u+a0IAAIC7bMNrQgAAAEzux2tCAACA3G/Ma0IAAABt8dBrQgAAgP1y1WtCAAAAjvTZa0IAAIAedt5rQgAAAK/34mtCAACAP3nna0IAAADQ+utrQgAAgGB88GtC\"},\"shape\":[33],\"dtype\":\"float64\",\"order\":\"little\"}],[\"rank\",{\"type\":\"ndarray\",\"array\":{\"type\":\"bytes\",\"data\":\"RwAAADAAAAArAAAAHwAAABQAAAANAAAABwAAAAYAAAAEAAAABAAAAAQAAAAGAAAABAAAAAIAAAABAAAAAQAAAAEAAAACAAAAAQAAAAIAAAAEAAAACAAAAAgAAAAMAAAADgAAABEAAAAVAAAAGAAAAB4AAAAiAAAAJQAAAC4AAAAvAAAA\"},\"shape\":[33],\"dtype\":\"int32\",\"order\":\"little\"}]]}}},\"view\":{\"type\":\"object\",\"name\":\"CDSView\",\"id\":\"p1346\",\"attributes\":{\"filter\":{\"type\":\"object\",\"name\":\"AllIndices\",\"id\":\"p1347\"}}},\"glyph\":{\"type\":\"object\",\"name\":\"Scatter\",\"id\":\"p1342\",\"attributes\":{\"tags\":[\"apply_ranges\"],\"x\":{\"type\":\"field\",\"field\":\"date\"},\"y\":{\"type\":\"field\",\"field\":\"rank\"},\"size\":{\"type\":\"value\",\"value\":5.477225575051661},\"line_color\":{\"type\":\"value\",\"value\":\"#30a2da\"},\"fill_color\":{\"type\":\"value\",\"value\":\"#30a2da\"},\"hatch_color\":{\"type\":\"value\",\"value\":\"#30a2da\"},\"marker\":{\"type\":\"value\",\"value\":\"cross\"}}},\"selection_glyph\":{\"type\":\"object\",\"name\":\"Scatter\",\"id\":\"p1348\",\"attributes\":{\"tags\":[\"apply_ranges\"],\"x\":{\"type\":\"field\",\"field\":\"date\"},\"y\":{\"type\":\"field\",\"field\":\"rank\"},\"size\":{\"type\":\"value\",\"value\":5.477225575051661},\"angle\":{\"type\":\"value\",\"value\":0.0},\"line_color\":{\"type\":\"value\",\"value\":\"#30a2da\"},\"line_alpha\":{\"type\":\"value\",\"value\":1.0},\"line_width\":{\"type\":\"value\",\"value\":1},\"line_join\":{\"type\":\"value\",\"value\":\"bevel\"},\"line_cap\":{\"type\":\"value\",\"value\":\"butt\"},\"line_dash\":{\"type\":\"value\",\"value\":[]},\"line_dash_offset\":{\"type\":\"value\",\"value\":0},\"fill_color\":{\"type\":\"value\",\"value\":\"#30a2da\"},\"fill_alpha\":{\"type\":\"value\",\"value\":1.0},\"hatch_color\":{\"type\":\"value\",\"value\":\"#30a2da\"},\"hatch_alpha\":{\"type\":\"value\",\"value\":1.0},\"hatch_scale\":{\"type\":\"value\",\"value\":12.0},\"hatch_pattern\":{\"type\":\"value\",\"value\":null},\"hatch_weight\":{\"type\":\"value\",\"value\":1.0},\"marker\":{\"type\":\"value\",\"value\":\"cross\"}}},\"nonselection_glyph\":{\"type\":\"object\",\"name\":\"Scatter\",\"id\":\"p1343\",\"attributes\":{\"tags\":[\"apply_ranges\"],\"x\":{\"type\":\"field\",\"field\":\"date\"},\"y\":{\"type\":\"field\",\"field\":\"rank\"},\"size\":{\"type\":\"value\",\"value\":5.477225575051661},\"line_color\":{\"type\":\"value\",\"value\":\"#30a2da\"},\"line_alpha\":{\"type\":\"value\",\"value\":0.1},\"fill_color\":{\"type\":\"value\",\"value\":\"#30a2da\"},\"fill_alpha\":{\"type\":\"value\",\"value\":0.1},\"hatch_color\":{\"type\":\"value\",\"value\":\"#30a2da\"},\"hatch_alpha\":{\"type\":\"value\",\"value\":0.1},\"marker\":{\"type\":\"value\",\"value\":\"cross\"}}},\"muted_glyph\":{\"type\":\"object\",\"name\":\"Scatter\",\"id\":\"p1344\",\"attributes\":{\"tags\":[\"apply_ranges\"],\"x\":{\"type\":\"field\",\"field\":\"date\"},\"y\":{\"type\":\"field\",\"field\":\"rank\"},\"size\":{\"type\":\"value\",\"value\":5.477225575051661},\"line_color\":{\"type\":\"value\",\"value\":\"#30a2da\"},\"line_alpha\":{\"type\":\"value\",\"value\":0.2},\"fill_color\":{\"type\":\"value\",\"value\":\"#30a2da\"},\"fill_alpha\":{\"type\":\"value\",\"value\":0.2},\"hatch_color\":{\"type\":\"value\",\"value\":\"#30a2da\"},\"hatch_alpha\":{\"type\":\"value\",\"value\":0.2},\"marker\":{\"type\":\"value\",\"value\":\"cross\"}}}}}],\"toolbar\":{\"type\":\"object\",\"name\":\"Toolbar\",\"id\":\"p1289\",\"attributes\":{\"tools\":[{\"type\":\"object\",\"name\":\"WheelZoomTool\",\"id\":\"p1275\",\"attributes\":{\"tags\":[\"hv_created\"],\"renderers\":\"auto\",\"zoom_together\":\"none\"}},{\"type\":\"object\",\"name\":\"HoverTool\",\"id\":\"p1276\",\"attributes\":{\"tags\":[\"hv_created\"],\"renderers\":[{\"id\":\"p1332\"},{\"id\":\"p1345\"}],\"tooltips\":[[\"date\",\"@{date}{%F %T}\"],[\"rank\",\"@{rank}\"]],\"formatters\":{\"type\":\"map\",\"entries\":[[\"@{date}\",\"datetime\"]]}}},{\"type\":\"object\",\"name\":\"SaveTool\",\"id\":\"p1314\"},{\"type\":\"object\",\"name\":\"PanTool\",\"id\":\"p1315\"},{\"type\":\"object\",\"name\":\"BoxZoomTool\",\"id\":\"p1316\",\"attributes\":{\"overlay\":{\"type\":\"object\",\"name\":\"BoxAnnotation\",\"id\":\"p1317\",\"attributes\":{\"syncable\":false,\"level\":\"overlay\",\"visible\":false,\"left\":{\"type\":\"number\",\"value\":\"nan\"},\"right\":{\"type\":\"number\",\"value\":\"nan\"},\"top\":{\"type\":\"number\",\"value\":\"nan\"},\"bottom\":{\"type\":\"number\",\"value\":\"nan\"},\"left_units\":\"canvas\",\"right_units\":\"canvas\",\"top_units\":\"canvas\",\"bottom_units\":\"canvas\",\"line_color\":\"black\",\"line_alpha\":1.0,\"line_width\":2,\"line_dash\":[4,4],\"fill_color\":\"lightgrey\",\"fill_alpha\":0.5}}}},{\"type\":\"object\",\"name\":\"ResetTool\",\"id\":\"p1322\"}],\"active_drag\":{\"id\":\"p1315\"},\"active_scroll\":{\"id\":\"p1275\"}}},\"left\":[{\"type\":\"object\",\"name\":\"LinearAxis\",\"id\":\"p1309\",\"attributes\":{\"ticker\":{\"type\":\"object\",\"name\":\"BasicTicker\",\"id\":\"p1310\",\"attributes\":{\"mantissas\":[1,2,5]}},\"formatter\":{\"type\":\"object\",\"name\":\"BasicTickFormatter\",\"id\":\"p1311\"},\"axis_label\":\"rank\",\"major_label_policy\":{\"type\":\"object\",\"name\":\"AllLabels\",\"id\":\"p1312\"}}}],\"below\":[{\"type\":\"object\",\"name\":\"DatetimeAxis\",\"id\":\"p1292\",\"attributes\":{\"ticker\":{\"type\":\"object\",\"name\":\"DatetimeTicker\",\"id\":\"p1293\",\"attributes\":{\"num_minor_ticks\":5,\"tickers\":[{\"type\":\"object\",\"name\":\"AdaptiveTicker\",\"id\":\"p1294\",\"attributes\":{\"num_minor_ticks\":0,\"mantissas\":[1,2,5],\"max_interval\":500.0}},{\"type\":\"object\",\"name\":\"AdaptiveTicker\",\"id\":\"p1295\",\"attributes\":{\"num_minor_ticks\":0,\"base\":60,\"mantissas\":[1,2,5,10,15,20,30],\"min_interval\":1000.0,\"max_interval\":1800000.0}},{\"type\":\"object\",\"name\":\"AdaptiveTicker\",\"id\":\"p1296\",\"attributes\":{\"num_minor_ticks\":0,\"base\":24,\"mantissas\":[1,2,4,6,8,12],\"min_interval\":3600000.0,\"max_interval\":43200000.0}},{\"type\":\"object\",\"name\":\"DaysTicker\",\"id\":\"p1297\",\"attributes\":{\"days\":[1,2,3,4,5,6,7,8,9,10,11,12,13,14,15,16,17,18,19,20,21,22,23,24,25,26,27,28,29,30,31]}},{\"type\":\"object\",\"name\":\"DaysTicker\",\"id\":\"p1298\",\"attributes\":{\"days\":[1,4,7,10,13,16,19,22,25,28]}},{\"type\":\"object\",\"name\":\"DaysTicker\",\"id\":\"p1299\",\"attributes\":{\"days\":[1,8,15,22]}},{\"type\":\"object\",\"name\":\"DaysTicker\",\"id\":\"p1300\",\"attributes\":{\"days\":[1,15]}},{\"type\":\"object\",\"name\":\"MonthsTicker\",\"id\":\"p1301\",\"attributes\":{\"months\":[0,1,2,3,4,5,6,7,8,9,10,11]}},{\"type\":\"object\",\"name\":\"MonthsTicker\",\"id\":\"p1302\",\"attributes\":{\"months\":[0,2,4,6,8,10]}},{\"type\":\"object\",\"name\":\"MonthsTicker\",\"id\":\"p1303\",\"attributes\":{\"months\":[0,4,8]}},{\"type\":\"object\",\"name\":\"MonthsTicker\",\"id\":\"p1304\",\"attributes\":{\"months\":[0,6]}},{\"type\":\"object\",\"name\":\"YearsTicker\",\"id\":\"p1305\"}]}},\"formatter\":{\"type\":\"object\",\"name\":\"DatetimeTickFormatter\",\"id\":\"p1306\"},\"axis_label\":\"date\",\"major_label_policy\":{\"type\":\"object\",\"name\":\"AllLabels\",\"id\":\"p1307\"}}}],\"center\":[{\"type\":\"object\",\"name\":\"Grid\",\"id\":\"p1308\",\"attributes\":{\"axis\":{\"id\":\"p1292\"},\"grid_line_color\":null}},{\"type\":\"object\",\"name\":\"Grid\",\"id\":\"p1313\",\"attributes\":{\"dimension\":1,\"axis\":{\"id\":\"p1309\"},\"grid_line_color\":null}}],\"min_border_top\":10,\"min_border_bottom\":10,\"min_border_left\":10,\"min_border_right\":10,\"output_backend\":\"webgl\"}},{\"type\":\"object\",\"name\":\"Spacer\",\"id\":\"p1350\",\"attributes\":{\"name\":\"HSpacer01583\",\"stylesheets\":[\"\\n:host(.pn-loading):before, .pn-loading:before {\\n  background-color: #c3c3c3;\\n  mask-size: auto calc(min(50%, 400px));\\n  -webkit-mask-size: auto calc(min(50%, 400px));\\n}\",{\"id\":\"p1268\"},{\"id\":\"p1266\"},{\"id\":\"p1267\"}],\"margin\":0,\"sizing_mode\":\"stretch_width\",\"align\":\"start\"}}]}}],\"defs\":[{\"type\":\"model\",\"name\":\"ReactiveHTML1\"},{\"type\":\"model\",\"name\":\"FlexBox1\",\"properties\":[{\"name\":\"align_content\",\"kind\":\"Any\",\"default\":\"flex-start\"},{\"name\":\"align_items\",\"kind\":\"Any\",\"default\":\"flex-start\"},{\"name\":\"flex_direction\",\"kind\":\"Any\",\"default\":\"row\"},{\"name\":\"flex_wrap\",\"kind\":\"Any\",\"default\":\"wrap\"},{\"name\":\"gap\",\"kind\":\"Any\",\"default\":\"\"},{\"name\":\"justify_content\",\"kind\":\"Any\",\"default\":\"flex-start\"}]},{\"type\":\"model\",\"name\":\"FloatPanel1\",\"properties\":[{\"name\":\"config\",\"kind\":\"Any\",\"default\":{\"type\":\"map\"}},{\"name\":\"contained\",\"kind\":\"Any\",\"default\":true},{\"name\":\"position\",\"kind\":\"Any\",\"default\":\"right-top\"},{\"name\":\"offsetx\",\"kind\":\"Any\",\"default\":null},{\"name\":\"offsety\",\"kind\":\"Any\",\"default\":null},{\"name\":\"theme\",\"kind\":\"Any\",\"default\":\"primary\"},{\"name\":\"status\",\"kind\":\"Any\",\"default\":\"normalized\"}]},{\"type\":\"model\",\"name\":\"GridStack1\",\"properties\":[{\"name\":\"mode\",\"kind\":\"Any\",\"default\":\"warn\"},{\"name\":\"ncols\",\"kind\":\"Any\",\"default\":null},{\"name\":\"nrows\",\"kind\":\"Any\",\"default\":null},{\"name\":\"allow_resize\",\"kind\":\"Any\",\"default\":true},{\"name\":\"allow_drag\",\"kind\":\"Any\",\"default\":true},{\"name\":\"state\",\"kind\":\"Any\",\"default\":[]}]},{\"type\":\"model\",\"name\":\"drag1\",\"properties\":[{\"name\":\"slider_width\",\"kind\":\"Any\",\"default\":5},{\"name\":\"slider_color\",\"kind\":\"Any\",\"default\":\"black\"},{\"name\":\"value\",\"kind\":\"Any\",\"default\":50}]},{\"type\":\"model\",\"name\":\"click1\",\"properties\":[{\"name\":\"terminal_output\",\"kind\":\"Any\",\"default\":\"\"},{\"name\":\"debug_name\",\"kind\":\"Any\",\"default\":\"\"},{\"name\":\"clears\",\"kind\":\"Any\",\"default\":0}]},{\"type\":\"model\",\"name\":\"FastWrapper1\",\"properties\":[{\"name\":\"object\",\"kind\":\"Any\",\"default\":null},{\"name\":\"style\",\"kind\":\"Any\",\"default\":null}]},{\"type\":\"model\",\"name\":\"NotificationAreaBase1\",\"properties\":[{\"name\":\"js_events\",\"kind\":\"Any\",\"default\":{\"type\":\"map\"}},{\"name\":\"position\",\"kind\":\"Any\",\"default\":\"bottom-right\"},{\"name\":\"_clear\",\"kind\":\"Any\",\"default\":0}]},{\"type\":\"model\",\"name\":\"NotificationArea1\",\"properties\":[{\"name\":\"js_events\",\"kind\":\"Any\",\"default\":{\"type\":\"map\"}},{\"name\":\"notifications\",\"kind\":\"Any\",\"default\":[]},{\"name\":\"position\",\"kind\":\"Any\",\"default\":\"bottom-right\"},{\"name\":\"_clear\",\"kind\":\"Any\",\"default\":0},{\"name\":\"types\",\"kind\":\"Any\",\"default\":[{\"type\":\"map\",\"entries\":[[\"type\",\"warning\"],[\"background\",\"#ffc107\"],[\"icon\",{\"type\":\"map\",\"entries\":[[\"className\",\"fas fa-exclamation-triangle\"],[\"tagName\",\"i\"],[\"color\",\"white\"]]}]]},{\"type\":\"map\",\"entries\":[[\"type\",\"info\"],[\"background\",\"#007bff\"],[\"icon\",{\"type\":\"map\",\"entries\":[[\"className\",\"fas fa-info-circle\"],[\"tagName\",\"i\"],[\"color\",\"white\"]]}]]}]}]},{\"type\":\"model\",\"name\":\"Notification\",\"properties\":[{\"name\":\"background\",\"kind\":\"Any\",\"default\":null},{\"name\":\"duration\",\"kind\":\"Any\",\"default\":3000},{\"name\":\"icon\",\"kind\":\"Any\",\"default\":null},{\"name\":\"message\",\"kind\":\"Any\",\"default\":\"\"},{\"name\":\"notification_type\",\"kind\":\"Any\",\"default\":null},{\"name\":\"_destroyed\",\"kind\":\"Any\",\"default\":false}]},{\"type\":\"model\",\"name\":\"TemplateActions1\",\"properties\":[{\"name\":\"open_modal\",\"kind\":\"Any\",\"default\":0},{\"name\":\"close_modal\",\"kind\":\"Any\",\"default\":0}]},{\"type\":\"model\",\"name\":\"BootstrapTemplateActions1\",\"properties\":[{\"name\":\"open_modal\",\"kind\":\"Any\",\"default\":0},{\"name\":\"close_modal\",\"kind\":\"Any\",\"default\":0}]},{\"type\":\"model\",\"name\":\"TemplateEditor1\",\"properties\":[{\"name\":\"layout\",\"kind\":\"Any\",\"default\":[]}]},{\"type\":\"model\",\"name\":\"MaterialTemplateActions1\",\"properties\":[{\"name\":\"open_modal\",\"kind\":\"Any\",\"default\":0},{\"name\":\"close_modal\",\"kind\":\"Any\",\"default\":0}]},{\"type\":\"model\",\"name\":\"copy_to_clipboard1\",\"properties\":[{\"name\":\"fill\",\"kind\":\"Any\",\"default\":\"none\"},{\"name\":\"value\",\"kind\":\"Any\",\"default\":null}]}]}};\n",
       "  var render_items = [{\"docid\":\"74ee92ca-aede-4138-a6b8-e652827be8e1\",\"roots\":{\"p1265\":\"ea3e0042-918a-4835-8f00-a971175dd1d9\"},\"root_ids\":[\"p1265\"]}];\n",
       "  var docs = Object.values(docs_json)\n",
       "  if (!docs) {\n",
       "    return\n",
       "  }\n",
       "  const py_version = docs[0].version.replace('rc', '-rc.').replace('.dev', '-dev.')\n",
       "  async function embed_document(root) {\n",
       "    var Bokeh = get_bokeh(root)\n",
       "    await Bokeh.embed.embed_items_notebook(docs_json, render_items);\n",
       "    for (const render_item of render_items) {\n",
       "      for (const root_id of render_item.root_ids) {\n",
       "\tconst id_el = document.getElementById(root_id)\n",
       "\tif (id_el.children.length && id_el.children[0].hasAttribute('data-root-id')) {\n",
       "\t  const root_el = id_el.children[0]\n",
       "\t  root_el.id = root_el.id + '-rendered'\n",
       "\t  for (const child of root_el.children) {\n",
       "            // Ensure JupyterLab does not capture keyboard shortcuts\n",
       "            // see: https://jupyterlab.readthedocs.io/en/4.1.x/extension/notebook.html#keyboard-interaction-model\n",
       "\t    child.setAttribute('data-lm-suppress-shortcuts', 'true')\n",
       "\t  }\n",
       "\t}\n",
       "      }\n",
       "    }\n",
       "  }\n",
       "  function get_bokeh(root) {\n",
       "    if (root.Bokeh === undefined) {\n",
       "      return null\n",
       "    } else if (root.Bokeh.version !== py_version) {\n",
       "      if (root.Bokeh.versions === undefined || !root.Bokeh.versions.has(py_version)) {\n",
       "\treturn null\n",
       "      }\n",
       "      return root.Bokeh.versions.get(py_version);\n",
       "    } else if (root.Bokeh.version === py_version) {\n",
       "      return root.Bokeh\n",
       "    }\n",
       "    return null\n",
       "  }\n",
       "  function is_loaded(root) {\n",
       "    var Bokeh = get_bokeh(root)\n",
       "    return (Bokeh != null && Bokeh.Panel !== undefined)\n",
       "  }\n",
       "  if (is_loaded(root)) {\n",
       "    embed_document(root);\n",
       "  } else {\n",
       "    var attempts = 0;\n",
       "    var timer = setInterval(function(root) {\n",
       "      if (is_loaded(root)) {\n",
       "        clearInterval(timer);\n",
       "        embed_document(root);\n",
       "      } else if (document.readyState == \"complete\") {\n",
       "        attempts++;\n",
       "        if (attempts > 200) {\n",
       "          clearInterval(timer);\n",
       "\t  var Bokeh = get_bokeh(root)\n",
       "\t  if (Bokeh == null || Bokeh.Panel == null) {\n",
       "            console.warn(\"Panel: ERROR: Unable to run Panel code because Bokeh or Panel library is missing\");\n",
       "\t  } else {\n",
       "\t    console.warn(\"Panel: WARNING: Attempting to render but not all required libraries could be resolved.\")\n",
       "\t    embed_document(root)\n",
       "\t  }\n",
       "        }\n",
       "      }\n",
       "    }, 25, root)\n",
       "  }\n",
       "})(window);</script>"
      ],
      "text/plain": [
       ":Overlay\n",
       "   .Curve.I   :Curve   [date]   (rank)\n",
       "   .Scatter.I :Scatter   [date]   (rank)"
      ]
     },
     "metadata": {
      "application/vnd.holoviews_exec.v0+json": {
       "id": "p1265"
      }
     },
     "output_type": "display_data"
    },
    {
     "data": {},
     "metadata": {},
     "output_type": "display_data"
    },
    {
     "data": {
      "application/vnd.holoviews_exec.v0+json": "",
      "text/html": [
       "<div id='p1358'>\n",
       "  <div id=\"d9eb6a30-4ff6-4add-b089-213c8ef8d785\" data-root-id=\"p1358\" style=\"display: contents;\"></div>\n",
       "</div>\n",
       "<script type=\"application/javascript\">(function(root) {\n",
       "  var docs_json = {\"c0228f94-bad1-4091-8a25-12542610cd8a\":{\"version\":\"3.4.3\",\"title\":\"Bokeh Application\",\"roots\":[{\"type\":\"object\",\"name\":\"Row\",\"id\":\"p1358\",\"attributes\":{\"name\":\"Row01797\",\"tags\":[\"embedded\"],\"stylesheets\":[\"\\n:host(.pn-loading):before, .pn-loading:before {\\n  background-color: #c3c3c3;\\n  mask-size: auto calc(min(50%, 400px));\\n  -webkit-mask-size: auto calc(min(50%, 400px));\\n}\",{\"type\":\"object\",\"name\":\"ImportedStyleSheet\",\"id\":\"p1361\",\"attributes\":{\"url\":\"https://cdn.holoviz.org/panel/1.4.5/dist/css/loading.css\"}},{\"type\":\"object\",\"name\":\"ImportedStyleSheet\",\"id\":\"p1445\",\"attributes\":{\"url\":\"https://cdn.holoviz.org/panel/1.4.5/dist/css/listpanel.css\"}},{\"type\":\"object\",\"name\":\"ImportedStyleSheet\",\"id\":\"p1359\",\"attributes\":{\"url\":\"https://cdn.holoviz.org/panel/1.4.5/dist/bundled/theme/default.css\"}},{\"type\":\"object\",\"name\":\"ImportedStyleSheet\",\"id\":\"p1360\",\"attributes\":{\"url\":\"https://cdn.holoviz.org/panel/1.4.5/dist/bundled/theme/native.css\"}}],\"min_width\":700,\"margin\":0,\"sizing_mode\":\"stretch_width\",\"align\":\"start\",\"children\":[{\"type\":\"object\",\"name\":\"Spacer\",\"id\":\"p1362\",\"attributes\":{\"name\":\"HSpacer01803\",\"stylesheets\":[\"\\n:host(.pn-loading):before, .pn-loading:before {\\n  background-color: #c3c3c3;\\n  mask-size: auto calc(min(50%, 400px));\\n  -webkit-mask-size: auto calc(min(50%, 400px));\\n}\",{\"id\":\"p1361\"},{\"id\":\"p1359\"},{\"id\":\"p1360\"}],\"margin\":0,\"sizing_mode\":\"stretch_width\",\"align\":\"start\"}},{\"type\":\"object\",\"name\":\"Figure\",\"id\":\"p1373\",\"attributes\":{\"width\":700,\"height\":300,\"margin\":[5,10],\"sizing_mode\":\"fixed\",\"align\":\"start\",\"x_range\":{\"type\":\"object\",\"name\":\"Range1d\",\"id\":\"p1363\",\"attributes\":{\"tags\":[[[\"date\",null]],[]],\"start\":966038400000.0,\"end\":979948800000.0,\"reset_start\":966038400000.0,\"reset_end\":979948800000.0}},\"y_range\":{\"type\":\"object\",\"name\":\"Range1d\",\"id\":\"p1364\",\"attributes\":{\"tags\":[[[\"rank\",null]],{\"type\":\"map\",\"entries\":[[\"invert_yaxis\",false],[\"autorange\",false]]}],\"start\":-3.3,\"end\":48.3,\"reset_start\":-3.3,\"reset_end\":48.3}},\"x_scale\":{\"type\":\"object\",\"name\":\"LinearScale\",\"id\":\"p1383\"},\"y_scale\":{\"type\":\"object\",\"name\":\"LinearScale\",\"id\":\"p1384\"},\"title\":{\"type\":\"object\",\"name\":\"Title\",\"id\":\"p1376\",\"attributes\":{\"text\":\"Madonna - Music\",\"text_color\":\"black\",\"text_font_size\":\"12pt\"}},\"renderers\":[{\"type\":\"object\",\"name\":\"GlyphRenderer\",\"id\":\"p1425\",\"attributes\":{\"data_source\":{\"type\":\"object\",\"name\":\"ColumnDataSource\",\"id\":\"p1416\",\"attributes\":{\"selected\":{\"type\":\"object\",\"name\":\"Selection\",\"id\":\"p1417\",\"attributes\":{\"indices\":[],\"line_indices\":[]}},\"selection_policy\":{\"type\":\"object\",\"name\":\"UnionRenderers\",\"id\":\"p1418\"},\"data\":{\"type\":\"map\",\"entries\":[[\"date\",{\"type\":\"ndarray\",\"array\":{\"type\":\"bytes\",\"data\":\"AACABYwdbEIAAACWDSJsQgAAgCaPJmxCAAAAtxArbEIAAIBHki9sQgAAANgTNGxCAACAaJU4bEIAAAD5Fj1sQgAAgImYQWxCAAAAGhpGbEIAAICqm0psQgAAADsdT2xCAACAy55TbEIAAABcIFhsQgAAgOyhXGxCAAAAfSNhbEIAAIANpWVsQgAAAJ4mamxCAACALqhubEIAAAC/KXNsQgAAgE+rd2xCAAAA4Cx8bEIAAIBwroBsQgAAAAEwhWxC\"},\"shape\":[24],\"dtype\":\"float64\",\"order\":\"little\"}],[\"rank\",{\"type\":\"ndarray\",\"array\":{\"type\":\"bytes\",\"data\":\"KQAAABcAAAASAAAADgAAAAIAAAABAAAAAQAAAAEAAAABAAAAAgAAAAIAAAACAAAAAgAAAAIAAAAEAAAACAAAAAsAAAAQAAAAFAAAABkAAAAbAAAAGwAAAB0AAAAsAAAA\"},\"shape\":[24],\"dtype\":\"int32\",\"order\":\"little\"}]]}}},\"view\":{\"type\":\"object\",\"name\":\"CDSView\",\"id\":\"p1426\",\"attributes\":{\"filter\":{\"type\":\"object\",\"name\":\"AllIndices\",\"id\":\"p1427\"}}},\"glyph\":{\"type\":\"object\",\"name\":\"Line\",\"id\":\"p1422\",\"attributes\":{\"tags\":[\"apply_ranges\"],\"x\":{\"type\":\"field\",\"field\":\"date\"},\"y\":{\"type\":\"field\",\"field\":\"rank\"},\"line_color\":\"#30a2da\",\"line_width\":2}},\"selection_glyph\":{\"type\":\"object\",\"name\":\"Line\",\"id\":\"p1428\",\"attributes\":{\"tags\":[\"apply_ranges\"],\"x\":{\"type\":\"field\",\"field\":\"date\"},\"y\":{\"type\":\"field\",\"field\":\"rank\"},\"line_color\":\"#30a2da\",\"line_width\":2}},\"nonselection_glyph\":{\"type\":\"object\",\"name\":\"Line\",\"id\":\"p1423\",\"attributes\":{\"tags\":[\"apply_ranges\"],\"x\":{\"type\":\"field\",\"field\":\"date\"},\"y\":{\"type\":\"field\",\"field\":\"rank\"},\"line_color\":\"#30a2da\",\"line_alpha\":0.1,\"line_width\":2}},\"muted_glyph\":{\"type\":\"object\",\"name\":\"Line\",\"id\":\"p1424\",\"attributes\":{\"tags\":[\"apply_ranges\"],\"x\":{\"type\":\"field\",\"field\":\"date\"},\"y\":{\"type\":\"field\",\"field\":\"rank\"},\"line_color\":\"#30a2da\",\"line_alpha\":0.2,\"line_width\":2}}}},{\"type\":\"object\",\"name\":\"GlyphRenderer\",\"id\":\"p1438\",\"attributes\":{\"data_source\":{\"type\":\"object\",\"name\":\"ColumnDataSource\",\"id\":\"p1429\",\"attributes\":{\"selected\":{\"type\":\"object\",\"name\":\"Selection\",\"id\":\"p1430\",\"attributes\":{\"indices\":[],\"line_indices\":[]}},\"selection_policy\":{\"type\":\"object\",\"name\":\"UnionRenderers\",\"id\":\"p1431\"},\"data\":{\"type\":\"map\",\"entries\":[[\"date\",{\"type\":\"ndarray\",\"array\":{\"type\":\"bytes\",\"data\":\"AACABYwdbEIAAACWDSJsQgAAgCaPJmxCAAAAtxArbEIAAIBHki9sQgAAANgTNGxCAACAaJU4bEIAAAD5Fj1sQgAAgImYQWxCAAAAGhpGbEIAAICqm0psQgAAADsdT2xCAACAy55TbEIAAABcIFhsQgAAgOyhXGxCAAAAfSNhbEIAAIANpWVsQgAAAJ4mamxCAACALqhubEIAAAC/KXNsQgAAgE+rd2xCAAAA4Cx8bEIAAIBwroBsQgAAAAEwhWxC\"},\"shape\":[24],\"dtype\":\"float64\",\"order\":\"little\"}],[\"rank\",{\"type\":\"ndarray\",\"array\":{\"type\":\"bytes\",\"data\":\"KQAAABcAAAASAAAADgAAAAIAAAABAAAAAQAAAAEAAAABAAAAAgAAAAIAAAACAAAAAgAAAAIAAAAEAAAACAAAAAsAAAAQAAAAFAAAABkAAAAbAAAAGwAAAB0AAAAsAAAA\"},\"shape\":[24],\"dtype\":\"int32\",\"order\":\"little\"}]]}}},\"view\":{\"type\":\"object\",\"name\":\"CDSView\",\"id\":\"p1439\",\"attributes\":{\"filter\":{\"type\":\"object\",\"name\":\"AllIndices\",\"id\":\"p1440\"}}},\"glyph\":{\"type\":\"object\",\"name\":\"Scatter\",\"id\":\"p1435\",\"attributes\":{\"tags\":[\"apply_ranges\"],\"x\":{\"type\":\"field\",\"field\":\"date\"},\"y\":{\"type\":\"field\",\"field\":\"rank\"},\"size\":{\"type\":\"value\",\"value\":5.477225575051661},\"line_color\":{\"type\":\"value\",\"value\":\"#30a2da\"},\"fill_color\":{\"type\":\"value\",\"value\":\"#30a2da\"},\"hatch_color\":{\"type\":\"value\",\"value\":\"#30a2da\"},\"marker\":{\"type\":\"value\",\"value\":\"cross\"}}},\"selection_glyph\":{\"type\":\"object\",\"name\":\"Scatter\",\"id\":\"p1441\",\"attributes\":{\"tags\":[\"apply_ranges\"],\"x\":{\"type\":\"field\",\"field\":\"date\"},\"y\":{\"type\":\"field\",\"field\":\"rank\"},\"size\":{\"type\":\"value\",\"value\":5.477225575051661},\"angle\":{\"type\":\"value\",\"value\":0.0},\"line_color\":{\"type\":\"value\",\"value\":\"#30a2da\"},\"line_alpha\":{\"type\":\"value\",\"value\":1.0},\"line_width\":{\"type\":\"value\",\"value\":1},\"line_join\":{\"type\":\"value\",\"value\":\"bevel\"},\"line_cap\":{\"type\":\"value\",\"value\":\"butt\"},\"line_dash\":{\"type\":\"value\",\"value\":[]},\"line_dash_offset\":{\"type\":\"value\",\"value\":0},\"fill_color\":{\"type\":\"value\",\"value\":\"#30a2da\"},\"fill_alpha\":{\"type\":\"value\",\"value\":1.0},\"hatch_color\":{\"type\":\"value\",\"value\":\"#30a2da\"},\"hatch_alpha\":{\"type\":\"value\",\"value\":1.0},\"hatch_scale\":{\"type\":\"value\",\"value\":12.0},\"hatch_pattern\":{\"type\":\"value\",\"value\":null},\"hatch_weight\":{\"type\":\"value\",\"value\":1.0},\"marker\":{\"type\":\"value\",\"value\":\"cross\"}}},\"nonselection_glyph\":{\"type\":\"object\",\"name\":\"Scatter\",\"id\":\"p1436\",\"attributes\":{\"tags\":[\"apply_ranges\"],\"x\":{\"type\":\"field\",\"field\":\"date\"},\"y\":{\"type\":\"field\",\"field\":\"rank\"},\"size\":{\"type\":\"value\",\"value\":5.477225575051661},\"line_color\":{\"type\":\"value\",\"value\":\"#30a2da\"},\"line_alpha\":{\"type\":\"value\",\"value\":0.1},\"fill_color\":{\"type\":\"value\",\"value\":\"#30a2da\"},\"fill_alpha\":{\"type\":\"value\",\"value\":0.1},\"hatch_color\":{\"type\":\"value\",\"value\":\"#30a2da\"},\"hatch_alpha\":{\"type\":\"value\",\"value\":0.1},\"marker\":{\"type\":\"value\",\"value\":\"cross\"}}},\"muted_glyph\":{\"type\":\"object\",\"name\":\"Scatter\",\"id\":\"p1437\",\"attributes\":{\"tags\":[\"apply_ranges\"],\"x\":{\"type\":\"field\",\"field\":\"date\"},\"y\":{\"type\":\"field\",\"field\":\"rank\"},\"size\":{\"type\":\"value\",\"value\":5.477225575051661},\"line_color\":{\"type\":\"value\",\"value\":\"#30a2da\"},\"line_alpha\":{\"type\":\"value\",\"value\":0.2},\"fill_color\":{\"type\":\"value\",\"value\":\"#30a2da\"},\"fill_alpha\":{\"type\":\"value\",\"value\":0.2},\"hatch_color\":{\"type\":\"value\",\"value\":\"#30a2da\"},\"hatch_alpha\":{\"type\":\"value\",\"value\":0.2},\"marker\":{\"type\":\"value\",\"value\":\"cross\"}}}}}],\"toolbar\":{\"type\":\"object\",\"name\":\"Toolbar\",\"id\":\"p1382\",\"attributes\":{\"tools\":[{\"type\":\"object\",\"name\":\"WheelZoomTool\",\"id\":\"p1368\",\"attributes\":{\"tags\":[\"hv_created\"],\"renderers\":\"auto\",\"zoom_together\":\"none\"}},{\"type\":\"object\",\"name\":\"HoverTool\",\"id\":\"p1369\",\"attributes\":{\"tags\":[\"hv_created\"],\"renderers\":[{\"id\":\"p1425\"},{\"id\":\"p1438\"}],\"tooltips\":[[\"date\",\"@{date}{%F %T}\"],[\"rank\",\"@{rank}\"]],\"formatters\":{\"type\":\"map\",\"entries\":[[\"@{date}\",\"datetime\"]]}}},{\"type\":\"object\",\"name\":\"SaveTool\",\"id\":\"p1407\"},{\"type\":\"object\",\"name\":\"PanTool\",\"id\":\"p1408\"},{\"type\":\"object\",\"name\":\"BoxZoomTool\",\"id\":\"p1409\",\"attributes\":{\"overlay\":{\"type\":\"object\",\"name\":\"BoxAnnotation\",\"id\":\"p1410\",\"attributes\":{\"syncable\":false,\"level\":\"overlay\",\"visible\":false,\"left\":{\"type\":\"number\",\"value\":\"nan\"},\"right\":{\"type\":\"number\",\"value\":\"nan\"},\"top\":{\"type\":\"number\",\"value\":\"nan\"},\"bottom\":{\"type\":\"number\",\"value\":\"nan\"},\"left_units\":\"canvas\",\"right_units\":\"canvas\",\"top_units\":\"canvas\",\"bottom_units\":\"canvas\",\"line_color\":\"black\",\"line_alpha\":1.0,\"line_width\":2,\"line_dash\":[4,4],\"fill_color\":\"lightgrey\",\"fill_alpha\":0.5}}}},{\"type\":\"object\",\"name\":\"ResetTool\",\"id\":\"p1415\"}],\"active_drag\":{\"id\":\"p1408\"},\"active_scroll\":{\"id\":\"p1368\"}}},\"left\":[{\"type\":\"object\",\"name\":\"LinearAxis\",\"id\":\"p1402\",\"attributes\":{\"ticker\":{\"type\":\"object\",\"name\":\"BasicTicker\",\"id\":\"p1403\",\"attributes\":{\"mantissas\":[1,2,5]}},\"formatter\":{\"type\":\"object\",\"name\":\"BasicTickFormatter\",\"id\":\"p1404\"},\"axis_label\":\"rank\",\"major_label_policy\":{\"type\":\"object\",\"name\":\"AllLabels\",\"id\":\"p1405\"}}}],\"below\":[{\"type\":\"object\",\"name\":\"DatetimeAxis\",\"id\":\"p1385\",\"attributes\":{\"ticker\":{\"type\":\"object\",\"name\":\"DatetimeTicker\",\"id\":\"p1386\",\"attributes\":{\"num_minor_ticks\":5,\"tickers\":[{\"type\":\"object\",\"name\":\"AdaptiveTicker\",\"id\":\"p1387\",\"attributes\":{\"num_minor_ticks\":0,\"mantissas\":[1,2,5],\"max_interval\":500.0}},{\"type\":\"object\",\"name\":\"AdaptiveTicker\",\"id\":\"p1388\",\"attributes\":{\"num_minor_ticks\":0,\"base\":60,\"mantissas\":[1,2,5,10,15,20,30],\"min_interval\":1000.0,\"max_interval\":1800000.0}},{\"type\":\"object\",\"name\":\"AdaptiveTicker\",\"id\":\"p1389\",\"attributes\":{\"num_minor_ticks\":0,\"base\":24,\"mantissas\":[1,2,4,6,8,12],\"min_interval\":3600000.0,\"max_interval\":43200000.0}},{\"type\":\"object\",\"name\":\"DaysTicker\",\"id\":\"p1390\",\"attributes\":{\"days\":[1,2,3,4,5,6,7,8,9,10,11,12,13,14,15,16,17,18,19,20,21,22,23,24,25,26,27,28,29,30,31]}},{\"type\":\"object\",\"name\":\"DaysTicker\",\"id\":\"p1391\",\"attributes\":{\"days\":[1,4,7,10,13,16,19,22,25,28]}},{\"type\":\"object\",\"name\":\"DaysTicker\",\"id\":\"p1392\",\"attributes\":{\"days\":[1,8,15,22]}},{\"type\":\"object\",\"name\":\"DaysTicker\",\"id\":\"p1393\",\"attributes\":{\"days\":[1,15]}},{\"type\":\"object\",\"name\":\"MonthsTicker\",\"id\":\"p1394\",\"attributes\":{\"months\":[0,1,2,3,4,5,6,7,8,9,10,11]}},{\"type\":\"object\",\"name\":\"MonthsTicker\",\"id\":\"p1395\",\"attributes\":{\"months\":[0,2,4,6,8,10]}},{\"type\":\"object\",\"name\":\"MonthsTicker\",\"id\":\"p1396\",\"attributes\":{\"months\":[0,4,8]}},{\"type\":\"object\",\"name\":\"MonthsTicker\",\"id\":\"p1397\",\"attributes\":{\"months\":[0,6]}},{\"type\":\"object\",\"name\":\"YearsTicker\",\"id\":\"p1398\"}]}},\"formatter\":{\"type\":\"object\",\"name\":\"DatetimeTickFormatter\",\"id\":\"p1399\"},\"axis_label\":\"date\",\"major_label_policy\":{\"type\":\"object\",\"name\":\"AllLabels\",\"id\":\"p1400\"}}}],\"center\":[{\"type\":\"object\",\"name\":\"Grid\",\"id\":\"p1401\",\"attributes\":{\"axis\":{\"id\":\"p1385\"},\"grid_line_color\":null}},{\"type\":\"object\",\"name\":\"Grid\",\"id\":\"p1406\",\"attributes\":{\"dimension\":1,\"axis\":{\"id\":\"p1402\"},\"grid_line_color\":null}}],\"min_border_top\":10,\"min_border_bottom\":10,\"min_border_left\":10,\"min_border_right\":10,\"output_backend\":\"webgl\"}},{\"type\":\"object\",\"name\":\"Spacer\",\"id\":\"p1443\",\"attributes\":{\"name\":\"HSpacer01804\",\"stylesheets\":[\"\\n:host(.pn-loading):before, .pn-loading:before {\\n  background-color: #c3c3c3;\\n  mask-size: auto calc(min(50%, 400px));\\n  -webkit-mask-size: auto calc(min(50%, 400px));\\n}\",{\"id\":\"p1361\"},{\"id\":\"p1359\"},{\"id\":\"p1360\"}],\"margin\":0,\"sizing_mode\":\"stretch_width\",\"align\":\"start\"}}]}}],\"defs\":[{\"type\":\"model\",\"name\":\"ReactiveHTML1\"},{\"type\":\"model\",\"name\":\"FlexBox1\",\"properties\":[{\"name\":\"align_content\",\"kind\":\"Any\",\"default\":\"flex-start\"},{\"name\":\"align_items\",\"kind\":\"Any\",\"default\":\"flex-start\"},{\"name\":\"flex_direction\",\"kind\":\"Any\",\"default\":\"row\"},{\"name\":\"flex_wrap\",\"kind\":\"Any\",\"default\":\"wrap\"},{\"name\":\"gap\",\"kind\":\"Any\",\"default\":\"\"},{\"name\":\"justify_content\",\"kind\":\"Any\",\"default\":\"flex-start\"}]},{\"type\":\"model\",\"name\":\"FloatPanel1\",\"properties\":[{\"name\":\"config\",\"kind\":\"Any\",\"default\":{\"type\":\"map\"}},{\"name\":\"contained\",\"kind\":\"Any\",\"default\":true},{\"name\":\"position\",\"kind\":\"Any\",\"default\":\"right-top\"},{\"name\":\"offsetx\",\"kind\":\"Any\",\"default\":null},{\"name\":\"offsety\",\"kind\":\"Any\",\"default\":null},{\"name\":\"theme\",\"kind\":\"Any\",\"default\":\"primary\"},{\"name\":\"status\",\"kind\":\"Any\",\"default\":\"normalized\"}]},{\"type\":\"model\",\"name\":\"GridStack1\",\"properties\":[{\"name\":\"mode\",\"kind\":\"Any\",\"default\":\"warn\"},{\"name\":\"ncols\",\"kind\":\"Any\",\"default\":null},{\"name\":\"nrows\",\"kind\":\"Any\",\"default\":null},{\"name\":\"allow_resize\",\"kind\":\"Any\",\"default\":true},{\"name\":\"allow_drag\",\"kind\":\"Any\",\"default\":true},{\"name\":\"state\",\"kind\":\"Any\",\"default\":[]}]},{\"type\":\"model\",\"name\":\"drag1\",\"properties\":[{\"name\":\"slider_width\",\"kind\":\"Any\",\"default\":5},{\"name\":\"slider_color\",\"kind\":\"Any\",\"default\":\"black\"},{\"name\":\"value\",\"kind\":\"Any\",\"default\":50}]},{\"type\":\"model\",\"name\":\"click1\",\"properties\":[{\"name\":\"terminal_output\",\"kind\":\"Any\",\"default\":\"\"},{\"name\":\"debug_name\",\"kind\":\"Any\",\"default\":\"\"},{\"name\":\"clears\",\"kind\":\"Any\",\"default\":0}]},{\"type\":\"model\",\"name\":\"FastWrapper1\",\"properties\":[{\"name\":\"object\",\"kind\":\"Any\",\"default\":null},{\"name\":\"style\",\"kind\":\"Any\",\"default\":null}]},{\"type\":\"model\",\"name\":\"NotificationAreaBase1\",\"properties\":[{\"name\":\"js_events\",\"kind\":\"Any\",\"default\":{\"type\":\"map\"}},{\"name\":\"position\",\"kind\":\"Any\",\"default\":\"bottom-right\"},{\"name\":\"_clear\",\"kind\":\"Any\",\"default\":0}]},{\"type\":\"model\",\"name\":\"NotificationArea1\",\"properties\":[{\"name\":\"js_events\",\"kind\":\"Any\",\"default\":{\"type\":\"map\"}},{\"name\":\"notifications\",\"kind\":\"Any\",\"default\":[]},{\"name\":\"position\",\"kind\":\"Any\",\"default\":\"bottom-right\"},{\"name\":\"_clear\",\"kind\":\"Any\",\"default\":0},{\"name\":\"types\",\"kind\":\"Any\",\"default\":[{\"type\":\"map\",\"entries\":[[\"type\",\"warning\"],[\"background\",\"#ffc107\"],[\"icon\",{\"type\":\"map\",\"entries\":[[\"className\",\"fas fa-exclamation-triangle\"],[\"tagName\",\"i\"],[\"color\",\"white\"]]}]]},{\"type\":\"map\",\"entries\":[[\"type\",\"info\"],[\"background\",\"#007bff\"],[\"icon\",{\"type\":\"map\",\"entries\":[[\"className\",\"fas fa-info-circle\"],[\"tagName\",\"i\"],[\"color\",\"white\"]]}]]}]}]},{\"type\":\"model\",\"name\":\"Notification\",\"properties\":[{\"name\":\"background\",\"kind\":\"Any\",\"default\":null},{\"name\":\"duration\",\"kind\":\"Any\",\"default\":3000},{\"name\":\"icon\",\"kind\":\"Any\",\"default\":null},{\"name\":\"message\",\"kind\":\"Any\",\"default\":\"\"},{\"name\":\"notification_type\",\"kind\":\"Any\",\"default\":null},{\"name\":\"_destroyed\",\"kind\":\"Any\",\"default\":false}]},{\"type\":\"model\",\"name\":\"TemplateActions1\",\"properties\":[{\"name\":\"open_modal\",\"kind\":\"Any\",\"default\":0},{\"name\":\"close_modal\",\"kind\":\"Any\",\"default\":0}]},{\"type\":\"model\",\"name\":\"BootstrapTemplateActions1\",\"properties\":[{\"name\":\"open_modal\",\"kind\":\"Any\",\"default\":0},{\"name\":\"close_modal\",\"kind\":\"Any\",\"default\":0}]},{\"type\":\"model\",\"name\":\"TemplateEditor1\",\"properties\":[{\"name\":\"layout\",\"kind\":\"Any\",\"default\":[]}]},{\"type\":\"model\",\"name\":\"MaterialTemplateActions1\",\"properties\":[{\"name\":\"open_modal\",\"kind\":\"Any\",\"default\":0},{\"name\":\"close_modal\",\"kind\":\"Any\",\"default\":0}]},{\"type\":\"model\",\"name\":\"copy_to_clipboard1\",\"properties\":[{\"name\":\"fill\",\"kind\":\"Any\",\"default\":\"none\"},{\"name\":\"value\",\"kind\":\"Any\",\"default\":null}]}]}};\n",
       "  var render_items = [{\"docid\":\"c0228f94-bad1-4091-8a25-12542610cd8a\",\"roots\":{\"p1358\":\"d9eb6a30-4ff6-4add-b089-213c8ef8d785\"},\"root_ids\":[\"p1358\"]}];\n",
       "  var docs = Object.values(docs_json)\n",
       "  if (!docs) {\n",
       "    return\n",
       "  }\n",
       "  const py_version = docs[0].version.replace('rc', '-rc.').replace('.dev', '-dev.')\n",
       "  async function embed_document(root) {\n",
       "    var Bokeh = get_bokeh(root)\n",
       "    await Bokeh.embed.embed_items_notebook(docs_json, render_items);\n",
       "    for (const render_item of render_items) {\n",
       "      for (const root_id of render_item.root_ids) {\n",
       "\tconst id_el = document.getElementById(root_id)\n",
       "\tif (id_el.children.length && id_el.children[0].hasAttribute('data-root-id')) {\n",
       "\t  const root_el = id_el.children[0]\n",
       "\t  root_el.id = root_el.id + '-rendered'\n",
       "\t  for (const child of root_el.children) {\n",
       "            // Ensure JupyterLab does not capture keyboard shortcuts\n",
       "            // see: https://jupyterlab.readthedocs.io/en/4.1.x/extension/notebook.html#keyboard-interaction-model\n",
       "\t    child.setAttribute('data-lm-suppress-shortcuts', 'true')\n",
       "\t  }\n",
       "\t}\n",
       "      }\n",
       "    }\n",
       "  }\n",
       "  function get_bokeh(root) {\n",
       "    if (root.Bokeh === undefined) {\n",
       "      return null\n",
       "    } else if (root.Bokeh.version !== py_version) {\n",
       "      if (root.Bokeh.versions === undefined || !root.Bokeh.versions.has(py_version)) {\n",
       "\treturn null\n",
       "      }\n",
       "      return root.Bokeh.versions.get(py_version);\n",
       "    } else if (root.Bokeh.version === py_version) {\n",
       "      return root.Bokeh\n",
       "    }\n",
       "    return null\n",
       "  }\n",
       "  function is_loaded(root) {\n",
       "    var Bokeh = get_bokeh(root)\n",
       "    return (Bokeh != null && Bokeh.Panel !== undefined)\n",
       "  }\n",
       "  if (is_loaded(root)) {\n",
       "    embed_document(root);\n",
       "  } else {\n",
       "    var attempts = 0;\n",
       "    var timer = setInterval(function(root) {\n",
       "      if (is_loaded(root)) {\n",
       "        clearInterval(timer);\n",
       "        embed_document(root);\n",
       "      } else if (document.readyState == \"complete\") {\n",
       "        attempts++;\n",
       "        if (attempts > 200) {\n",
       "          clearInterval(timer);\n",
       "\t  var Bokeh = get_bokeh(root)\n",
       "\t  if (Bokeh == null || Bokeh.Panel == null) {\n",
       "            console.warn(\"Panel: ERROR: Unable to run Panel code because Bokeh or Panel library is missing\");\n",
       "\t  } else {\n",
       "\t    console.warn(\"Panel: WARNING: Attempting to render but not all required libraries could be resolved.\")\n",
       "\t    embed_document(root)\n",
       "\t  }\n",
       "        }\n",
       "      }\n",
       "    }, 25, root)\n",
       "  }\n",
       "})(window);</script>"
      ],
      "text/plain": [
       ":Overlay\n",
       "   .Curve.I   :Curve   [date]   (rank)\n",
       "   .Scatter.I :Scatter   [date]   (rank)"
      ]
     },
     "metadata": {
      "application/vnd.holoviews_exec.v0+json": {
       "id": "p1358"
      }
     },
     "output_type": "display_data"
    },
    {
     "data": {},
     "metadata": {},
     "output_type": "display_data"
    },
    {
     "data": {
      "application/vnd.holoviews_exec.v0+json": "",
      "text/html": [
       "<div id='p1451'>\n",
       "  <div id=\"e70b5fa8-fcf1-43a8-908f-3ad5197571c5\" data-root-id=\"p1451\" style=\"display: contents;\"></div>\n",
       "</div>\n",
       "<script type=\"application/javascript\">(function(root) {\n",
       "  var docs_json = {\"81b46c35-9bb4-4068-91b0-a8546c2441e7\":{\"version\":\"3.4.3\",\"title\":\"Bokeh Application\",\"roots\":[{\"type\":\"object\",\"name\":\"Row\",\"id\":\"p1451\",\"attributes\":{\"name\":\"Row02018\",\"tags\":[\"embedded\"],\"stylesheets\":[\"\\n:host(.pn-loading):before, .pn-loading:before {\\n  background-color: #c3c3c3;\\n  mask-size: auto calc(min(50%, 400px));\\n  -webkit-mask-size: auto calc(min(50%, 400px));\\n}\",{\"type\":\"object\",\"name\":\"ImportedStyleSheet\",\"id\":\"p1454\",\"attributes\":{\"url\":\"https://cdn.holoviz.org/panel/1.4.5/dist/css/loading.css\"}},{\"type\":\"object\",\"name\":\"ImportedStyleSheet\",\"id\":\"p1538\",\"attributes\":{\"url\":\"https://cdn.holoviz.org/panel/1.4.5/dist/css/listpanel.css\"}},{\"type\":\"object\",\"name\":\"ImportedStyleSheet\",\"id\":\"p1452\",\"attributes\":{\"url\":\"https://cdn.holoviz.org/panel/1.4.5/dist/bundled/theme/default.css\"}},{\"type\":\"object\",\"name\":\"ImportedStyleSheet\",\"id\":\"p1453\",\"attributes\":{\"url\":\"https://cdn.holoviz.org/panel/1.4.5/dist/bundled/theme/native.css\"}}],\"min_width\":700,\"margin\":0,\"sizing_mode\":\"stretch_width\",\"align\":\"start\",\"children\":[{\"type\":\"object\",\"name\":\"Spacer\",\"id\":\"p1455\",\"attributes\":{\"name\":\"HSpacer02024\",\"stylesheets\":[\"\\n:host(.pn-loading):before, .pn-loading:before {\\n  background-color: #c3c3c3;\\n  mask-size: auto calc(min(50%, 400px));\\n  -webkit-mask-size: auto calc(min(50%, 400px));\\n}\",{\"id\":\"p1454\"},{\"id\":\"p1452\"},{\"id\":\"p1453\"}],\"margin\":0,\"sizing_mode\":\"stretch_width\",\"align\":\"start\"}},{\"type\":\"object\",\"name\":\"Figure\",\"id\":\"p1466\",\"attributes\":{\"width\":700,\"height\":300,\"margin\":[5,10],\"sizing_mode\":\"fixed\",\"align\":\"start\",\"x_range\":{\"type\":\"object\",\"name\":\"Range1d\",\"id\":\"p1456\",\"attributes\":{\"tags\":[[[\"date\",null]],[]],\"start\":965433600000.0,\"end\":977529600000.0,\"reset_start\":965433600000.0,\"reset_end\":977529600000.0}},\"y_range\":{\"type\":\"object\",\"name\":\"Range1d\",\"id\":\"p1457\",\"attributes\":{\"tags\":[[[\"rank\",null]],{\"type\":\"map\",\"entries\":[[\"invert_yaxis\",false],[\"autorange\",false]]}],\"start\":-4.6000000000000005,\"end\":62.6,\"reset_start\":-4.6000000000000005,\"reset_end\":62.6}},\"x_scale\":{\"type\":\"object\",\"name\":\"LinearScale\",\"id\":\"p1476\"},\"y_scale\":{\"type\":\"object\",\"name\":\"LinearScale\",\"id\":\"p1477\"},\"title\":{\"type\":\"object\",\"name\":\"Title\",\"id\":\"p1469\",\"attributes\":{\"text\":\"Aguilera, Christina - Come On Over Baby (All I Want Is You)\",\"text_color\":\"black\",\"text_font_size\":\"12pt\"}},\"renderers\":[{\"type\":\"object\",\"name\":\"GlyphRenderer\",\"id\":\"p1518\",\"attributes\":{\"data_source\":{\"type\":\"object\",\"name\":\"ColumnDataSource\",\"id\":\"p1509\",\"attributes\":{\"selected\":{\"type\":\"object\",\"name\":\"Selection\",\"id\":\"p1510\",\"attributes\":{\"indices\":[],\"line_indices\":[]}},\"selection_policy\":{\"type\":\"object\",\"name\":\"UnionRenderers\",\"id\":\"p1511\"},\"data\":{\"type\":\"map\",\"entries\":[[\"date\",{\"type\":\"ndarray\",\"array\":{\"type\":\"bytes\",\"data\":\"AAAAdQoZbEIAAIAFjB1sQgAAAJYNImxCAACAJo8mbEIAAAC3ECtsQgAAgEeSL2xCAAAA2BM0bEIAAIBolThsQgAAAPkWPWxCAACAiZhBbEIAAAAaGkZsQgAAgKqbSmxCAAAAOx1PbEIAAIDLnlNsQgAAAFwgWGxCAACA7KFcbEIAAAB9I2FsQgAAgA2lZWxCAAAAniZqbEIAAIAuqG5sQgAAAL8pc2xC\"},\"shape\":[21],\"dtype\":\"float64\",\"order\":\"little\"}],[\"rank\",{\"type\":\"ndarray\",\"array\":{\"type\":\"bytes\",\"data\":\"OQAAAC8AAAAtAAAAHQAAABcAAAASAAAACwAAAAkAAAAJAAAACwAAAAEAAAABAAAAAQAAAAEAAAAEAAAACAAAAAwAAAAWAAAAFwAAACsAAAAsAAAA\"},\"shape\":[21],\"dtype\":\"int32\",\"order\":\"little\"}]]}}},\"view\":{\"type\":\"object\",\"name\":\"CDSView\",\"id\":\"p1519\",\"attributes\":{\"filter\":{\"type\":\"object\",\"name\":\"AllIndices\",\"id\":\"p1520\"}}},\"glyph\":{\"type\":\"object\",\"name\":\"Line\",\"id\":\"p1515\",\"attributes\":{\"tags\":[\"apply_ranges\"],\"x\":{\"type\":\"field\",\"field\":\"date\"},\"y\":{\"type\":\"field\",\"field\":\"rank\"},\"line_color\":\"#30a2da\",\"line_width\":2}},\"selection_glyph\":{\"type\":\"object\",\"name\":\"Line\",\"id\":\"p1521\",\"attributes\":{\"tags\":[\"apply_ranges\"],\"x\":{\"type\":\"field\",\"field\":\"date\"},\"y\":{\"type\":\"field\",\"field\":\"rank\"},\"line_color\":\"#30a2da\",\"line_width\":2}},\"nonselection_glyph\":{\"type\":\"object\",\"name\":\"Line\",\"id\":\"p1516\",\"attributes\":{\"tags\":[\"apply_ranges\"],\"x\":{\"type\":\"field\",\"field\":\"date\"},\"y\":{\"type\":\"field\",\"field\":\"rank\"},\"line_color\":\"#30a2da\",\"line_alpha\":0.1,\"line_width\":2}},\"muted_glyph\":{\"type\":\"object\",\"name\":\"Line\",\"id\":\"p1517\",\"attributes\":{\"tags\":[\"apply_ranges\"],\"x\":{\"type\":\"field\",\"field\":\"date\"},\"y\":{\"type\":\"field\",\"field\":\"rank\"},\"line_color\":\"#30a2da\",\"line_alpha\":0.2,\"line_width\":2}}}},{\"type\":\"object\",\"name\":\"GlyphRenderer\",\"id\":\"p1531\",\"attributes\":{\"data_source\":{\"type\":\"object\",\"name\":\"ColumnDataSource\",\"id\":\"p1522\",\"attributes\":{\"selected\":{\"type\":\"object\",\"name\":\"Selection\",\"id\":\"p1523\",\"attributes\":{\"indices\":[],\"line_indices\":[]}},\"selection_policy\":{\"type\":\"object\",\"name\":\"UnionRenderers\",\"id\":\"p1524\"},\"data\":{\"type\":\"map\",\"entries\":[[\"date\",{\"type\":\"ndarray\",\"array\":{\"type\":\"bytes\",\"data\":\"AAAAdQoZbEIAAIAFjB1sQgAAAJYNImxCAACAJo8mbEIAAAC3ECtsQgAAgEeSL2xCAAAA2BM0bEIAAIBolThsQgAAAPkWPWxCAACAiZhBbEIAAAAaGkZsQgAAgKqbSmxCAAAAOx1PbEIAAIDLnlNsQgAAAFwgWGxCAACA7KFcbEIAAAB9I2FsQgAAgA2lZWxCAAAAniZqbEIAAIAuqG5sQgAAAL8pc2xC\"},\"shape\":[21],\"dtype\":\"float64\",\"order\":\"little\"}],[\"rank\",{\"type\":\"ndarray\",\"array\":{\"type\":\"bytes\",\"data\":\"OQAAAC8AAAAtAAAAHQAAABcAAAASAAAACwAAAAkAAAAJAAAACwAAAAEAAAABAAAAAQAAAAEAAAAEAAAACAAAAAwAAAAWAAAAFwAAACsAAAAsAAAA\"},\"shape\":[21],\"dtype\":\"int32\",\"order\":\"little\"}]]}}},\"view\":{\"type\":\"object\",\"name\":\"CDSView\",\"id\":\"p1532\",\"attributes\":{\"filter\":{\"type\":\"object\",\"name\":\"AllIndices\",\"id\":\"p1533\"}}},\"glyph\":{\"type\":\"object\",\"name\":\"Scatter\",\"id\":\"p1528\",\"attributes\":{\"tags\":[\"apply_ranges\"],\"x\":{\"type\":\"field\",\"field\":\"date\"},\"y\":{\"type\":\"field\",\"field\":\"rank\"},\"size\":{\"type\":\"value\",\"value\":5.477225575051661},\"line_color\":{\"type\":\"value\",\"value\":\"#30a2da\"},\"fill_color\":{\"type\":\"value\",\"value\":\"#30a2da\"},\"hatch_color\":{\"type\":\"value\",\"value\":\"#30a2da\"},\"marker\":{\"type\":\"value\",\"value\":\"cross\"}}},\"selection_glyph\":{\"type\":\"object\",\"name\":\"Scatter\",\"id\":\"p1534\",\"attributes\":{\"tags\":[\"apply_ranges\"],\"x\":{\"type\":\"field\",\"field\":\"date\"},\"y\":{\"type\":\"field\",\"field\":\"rank\"},\"size\":{\"type\":\"value\",\"value\":5.477225575051661},\"angle\":{\"type\":\"value\",\"value\":0.0},\"line_color\":{\"type\":\"value\",\"value\":\"#30a2da\"},\"line_alpha\":{\"type\":\"value\",\"value\":1.0},\"line_width\":{\"type\":\"value\",\"value\":1},\"line_join\":{\"type\":\"value\",\"value\":\"bevel\"},\"line_cap\":{\"type\":\"value\",\"value\":\"butt\"},\"line_dash\":{\"type\":\"value\",\"value\":[]},\"line_dash_offset\":{\"type\":\"value\",\"value\":0},\"fill_color\":{\"type\":\"value\",\"value\":\"#30a2da\"},\"fill_alpha\":{\"type\":\"value\",\"value\":1.0},\"hatch_color\":{\"type\":\"value\",\"value\":\"#30a2da\"},\"hatch_alpha\":{\"type\":\"value\",\"value\":1.0},\"hatch_scale\":{\"type\":\"value\",\"value\":12.0},\"hatch_pattern\":{\"type\":\"value\",\"value\":null},\"hatch_weight\":{\"type\":\"value\",\"value\":1.0},\"marker\":{\"type\":\"value\",\"value\":\"cross\"}}},\"nonselection_glyph\":{\"type\":\"object\",\"name\":\"Scatter\",\"id\":\"p1529\",\"attributes\":{\"tags\":[\"apply_ranges\"],\"x\":{\"type\":\"field\",\"field\":\"date\"},\"y\":{\"type\":\"field\",\"field\":\"rank\"},\"size\":{\"type\":\"value\",\"value\":5.477225575051661},\"line_color\":{\"type\":\"value\",\"value\":\"#30a2da\"},\"line_alpha\":{\"type\":\"value\",\"value\":0.1},\"fill_color\":{\"type\":\"value\",\"value\":\"#30a2da\"},\"fill_alpha\":{\"type\":\"value\",\"value\":0.1},\"hatch_color\":{\"type\":\"value\",\"value\":\"#30a2da\"},\"hatch_alpha\":{\"type\":\"value\",\"value\":0.1},\"marker\":{\"type\":\"value\",\"value\":\"cross\"}}},\"muted_glyph\":{\"type\":\"object\",\"name\":\"Scatter\",\"id\":\"p1530\",\"attributes\":{\"tags\":[\"apply_ranges\"],\"x\":{\"type\":\"field\",\"field\":\"date\"},\"y\":{\"type\":\"field\",\"field\":\"rank\"},\"size\":{\"type\":\"value\",\"value\":5.477225575051661},\"line_color\":{\"type\":\"value\",\"value\":\"#30a2da\"},\"line_alpha\":{\"type\":\"value\",\"value\":0.2},\"fill_color\":{\"type\":\"value\",\"value\":\"#30a2da\"},\"fill_alpha\":{\"type\":\"value\",\"value\":0.2},\"hatch_color\":{\"type\":\"value\",\"value\":\"#30a2da\"},\"hatch_alpha\":{\"type\":\"value\",\"value\":0.2},\"marker\":{\"type\":\"value\",\"value\":\"cross\"}}}}}],\"toolbar\":{\"type\":\"object\",\"name\":\"Toolbar\",\"id\":\"p1475\",\"attributes\":{\"tools\":[{\"type\":\"object\",\"name\":\"WheelZoomTool\",\"id\":\"p1461\",\"attributes\":{\"tags\":[\"hv_created\"],\"renderers\":\"auto\",\"zoom_together\":\"none\"}},{\"type\":\"object\",\"name\":\"HoverTool\",\"id\":\"p1462\",\"attributes\":{\"tags\":[\"hv_created\"],\"renderers\":[{\"id\":\"p1518\"},{\"id\":\"p1531\"}],\"tooltips\":[[\"date\",\"@{date}{%F %T}\"],[\"rank\",\"@{rank}\"]],\"formatters\":{\"type\":\"map\",\"entries\":[[\"@{date}\",\"datetime\"]]}}},{\"type\":\"object\",\"name\":\"SaveTool\",\"id\":\"p1500\"},{\"type\":\"object\",\"name\":\"PanTool\",\"id\":\"p1501\"},{\"type\":\"object\",\"name\":\"BoxZoomTool\",\"id\":\"p1502\",\"attributes\":{\"overlay\":{\"type\":\"object\",\"name\":\"BoxAnnotation\",\"id\":\"p1503\",\"attributes\":{\"syncable\":false,\"level\":\"overlay\",\"visible\":false,\"left\":{\"type\":\"number\",\"value\":\"nan\"},\"right\":{\"type\":\"number\",\"value\":\"nan\"},\"top\":{\"type\":\"number\",\"value\":\"nan\"},\"bottom\":{\"type\":\"number\",\"value\":\"nan\"},\"left_units\":\"canvas\",\"right_units\":\"canvas\",\"top_units\":\"canvas\",\"bottom_units\":\"canvas\",\"line_color\":\"black\",\"line_alpha\":1.0,\"line_width\":2,\"line_dash\":[4,4],\"fill_color\":\"lightgrey\",\"fill_alpha\":0.5}}}},{\"type\":\"object\",\"name\":\"ResetTool\",\"id\":\"p1508\"}],\"active_drag\":{\"id\":\"p1501\"},\"active_scroll\":{\"id\":\"p1461\"}}},\"left\":[{\"type\":\"object\",\"name\":\"LinearAxis\",\"id\":\"p1495\",\"attributes\":{\"ticker\":{\"type\":\"object\",\"name\":\"BasicTicker\",\"id\":\"p1496\",\"attributes\":{\"mantissas\":[1,2,5]}},\"formatter\":{\"type\":\"object\",\"name\":\"BasicTickFormatter\",\"id\":\"p1497\"},\"axis_label\":\"rank\",\"major_label_policy\":{\"type\":\"object\",\"name\":\"AllLabels\",\"id\":\"p1498\"}}}],\"below\":[{\"type\":\"object\",\"name\":\"DatetimeAxis\",\"id\":\"p1478\",\"attributes\":{\"ticker\":{\"type\":\"object\",\"name\":\"DatetimeTicker\",\"id\":\"p1479\",\"attributes\":{\"num_minor_ticks\":5,\"tickers\":[{\"type\":\"object\",\"name\":\"AdaptiveTicker\",\"id\":\"p1480\",\"attributes\":{\"num_minor_ticks\":0,\"mantissas\":[1,2,5],\"max_interval\":500.0}},{\"type\":\"object\",\"name\":\"AdaptiveTicker\",\"id\":\"p1481\",\"attributes\":{\"num_minor_ticks\":0,\"base\":60,\"mantissas\":[1,2,5,10,15,20,30],\"min_interval\":1000.0,\"max_interval\":1800000.0}},{\"type\":\"object\",\"name\":\"AdaptiveTicker\",\"id\":\"p1482\",\"attributes\":{\"num_minor_ticks\":0,\"base\":24,\"mantissas\":[1,2,4,6,8,12],\"min_interval\":3600000.0,\"max_interval\":43200000.0}},{\"type\":\"object\",\"name\":\"DaysTicker\",\"id\":\"p1483\",\"attributes\":{\"days\":[1,2,3,4,5,6,7,8,9,10,11,12,13,14,15,16,17,18,19,20,21,22,23,24,25,26,27,28,29,30,31]}},{\"type\":\"object\",\"name\":\"DaysTicker\",\"id\":\"p1484\",\"attributes\":{\"days\":[1,4,7,10,13,16,19,22,25,28]}},{\"type\":\"object\",\"name\":\"DaysTicker\",\"id\":\"p1485\",\"attributes\":{\"days\":[1,8,15,22]}},{\"type\":\"object\",\"name\":\"DaysTicker\",\"id\":\"p1486\",\"attributes\":{\"days\":[1,15]}},{\"type\":\"object\",\"name\":\"MonthsTicker\",\"id\":\"p1487\",\"attributes\":{\"months\":[0,1,2,3,4,5,6,7,8,9,10,11]}},{\"type\":\"object\",\"name\":\"MonthsTicker\",\"id\":\"p1488\",\"attributes\":{\"months\":[0,2,4,6,8,10]}},{\"type\":\"object\",\"name\":\"MonthsTicker\",\"id\":\"p1489\",\"attributes\":{\"months\":[0,4,8]}},{\"type\":\"object\",\"name\":\"MonthsTicker\",\"id\":\"p1490\",\"attributes\":{\"months\":[0,6]}},{\"type\":\"object\",\"name\":\"YearsTicker\",\"id\":\"p1491\"}]}},\"formatter\":{\"type\":\"object\",\"name\":\"DatetimeTickFormatter\",\"id\":\"p1492\"},\"axis_label\":\"date\",\"major_label_policy\":{\"type\":\"object\",\"name\":\"AllLabels\",\"id\":\"p1493\"}}}],\"center\":[{\"type\":\"object\",\"name\":\"Grid\",\"id\":\"p1494\",\"attributes\":{\"axis\":{\"id\":\"p1478\"},\"grid_line_color\":null}},{\"type\":\"object\",\"name\":\"Grid\",\"id\":\"p1499\",\"attributes\":{\"dimension\":1,\"axis\":{\"id\":\"p1495\"},\"grid_line_color\":null}}],\"min_border_top\":10,\"min_border_bottom\":10,\"min_border_left\":10,\"min_border_right\":10,\"output_backend\":\"webgl\"}},{\"type\":\"object\",\"name\":\"Spacer\",\"id\":\"p1536\",\"attributes\":{\"name\":\"HSpacer02025\",\"stylesheets\":[\"\\n:host(.pn-loading):before, .pn-loading:before {\\n  background-color: #c3c3c3;\\n  mask-size: auto calc(min(50%, 400px));\\n  -webkit-mask-size: auto calc(min(50%, 400px));\\n}\",{\"id\":\"p1454\"},{\"id\":\"p1452\"},{\"id\":\"p1453\"}],\"margin\":0,\"sizing_mode\":\"stretch_width\",\"align\":\"start\"}}]}}],\"defs\":[{\"type\":\"model\",\"name\":\"ReactiveHTML1\"},{\"type\":\"model\",\"name\":\"FlexBox1\",\"properties\":[{\"name\":\"align_content\",\"kind\":\"Any\",\"default\":\"flex-start\"},{\"name\":\"align_items\",\"kind\":\"Any\",\"default\":\"flex-start\"},{\"name\":\"flex_direction\",\"kind\":\"Any\",\"default\":\"row\"},{\"name\":\"flex_wrap\",\"kind\":\"Any\",\"default\":\"wrap\"},{\"name\":\"gap\",\"kind\":\"Any\",\"default\":\"\"},{\"name\":\"justify_content\",\"kind\":\"Any\",\"default\":\"flex-start\"}]},{\"type\":\"model\",\"name\":\"FloatPanel1\",\"properties\":[{\"name\":\"config\",\"kind\":\"Any\",\"default\":{\"type\":\"map\"}},{\"name\":\"contained\",\"kind\":\"Any\",\"default\":true},{\"name\":\"position\",\"kind\":\"Any\",\"default\":\"right-top\"},{\"name\":\"offsetx\",\"kind\":\"Any\",\"default\":null},{\"name\":\"offsety\",\"kind\":\"Any\",\"default\":null},{\"name\":\"theme\",\"kind\":\"Any\",\"default\":\"primary\"},{\"name\":\"status\",\"kind\":\"Any\",\"default\":\"normalized\"}]},{\"type\":\"model\",\"name\":\"GridStack1\",\"properties\":[{\"name\":\"mode\",\"kind\":\"Any\",\"default\":\"warn\"},{\"name\":\"ncols\",\"kind\":\"Any\",\"default\":null},{\"name\":\"nrows\",\"kind\":\"Any\",\"default\":null},{\"name\":\"allow_resize\",\"kind\":\"Any\",\"default\":true},{\"name\":\"allow_drag\",\"kind\":\"Any\",\"default\":true},{\"name\":\"state\",\"kind\":\"Any\",\"default\":[]}]},{\"type\":\"model\",\"name\":\"drag1\",\"properties\":[{\"name\":\"slider_width\",\"kind\":\"Any\",\"default\":5},{\"name\":\"slider_color\",\"kind\":\"Any\",\"default\":\"black\"},{\"name\":\"value\",\"kind\":\"Any\",\"default\":50}]},{\"type\":\"model\",\"name\":\"click1\",\"properties\":[{\"name\":\"terminal_output\",\"kind\":\"Any\",\"default\":\"\"},{\"name\":\"debug_name\",\"kind\":\"Any\",\"default\":\"\"},{\"name\":\"clears\",\"kind\":\"Any\",\"default\":0}]},{\"type\":\"model\",\"name\":\"FastWrapper1\",\"properties\":[{\"name\":\"object\",\"kind\":\"Any\",\"default\":null},{\"name\":\"style\",\"kind\":\"Any\",\"default\":null}]},{\"type\":\"model\",\"name\":\"NotificationAreaBase1\",\"properties\":[{\"name\":\"js_events\",\"kind\":\"Any\",\"default\":{\"type\":\"map\"}},{\"name\":\"position\",\"kind\":\"Any\",\"default\":\"bottom-right\"},{\"name\":\"_clear\",\"kind\":\"Any\",\"default\":0}]},{\"type\":\"model\",\"name\":\"NotificationArea1\",\"properties\":[{\"name\":\"js_events\",\"kind\":\"Any\",\"default\":{\"type\":\"map\"}},{\"name\":\"notifications\",\"kind\":\"Any\",\"default\":[]},{\"name\":\"position\",\"kind\":\"Any\",\"default\":\"bottom-right\"},{\"name\":\"_clear\",\"kind\":\"Any\",\"default\":0},{\"name\":\"types\",\"kind\":\"Any\",\"default\":[{\"type\":\"map\",\"entries\":[[\"type\",\"warning\"],[\"background\",\"#ffc107\"],[\"icon\",{\"type\":\"map\",\"entries\":[[\"className\",\"fas fa-exclamation-triangle\"],[\"tagName\",\"i\"],[\"color\",\"white\"]]}]]},{\"type\":\"map\",\"entries\":[[\"type\",\"info\"],[\"background\",\"#007bff\"],[\"icon\",{\"type\":\"map\",\"entries\":[[\"className\",\"fas fa-info-circle\"],[\"tagName\",\"i\"],[\"color\",\"white\"]]}]]}]}]},{\"type\":\"model\",\"name\":\"Notification\",\"properties\":[{\"name\":\"background\",\"kind\":\"Any\",\"default\":null},{\"name\":\"duration\",\"kind\":\"Any\",\"default\":3000},{\"name\":\"icon\",\"kind\":\"Any\",\"default\":null},{\"name\":\"message\",\"kind\":\"Any\",\"default\":\"\"},{\"name\":\"notification_type\",\"kind\":\"Any\",\"default\":null},{\"name\":\"_destroyed\",\"kind\":\"Any\",\"default\":false}]},{\"type\":\"model\",\"name\":\"TemplateActions1\",\"properties\":[{\"name\":\"open_modal\",\"kind\":\"Any\",\"default\":0},{\"name\":\"close_modal\",\"kind\":\"Any\",\"default\":0}]},{\"type\":\"model\",\"name\":\"BootstrapTemplateActions1\",\"properties\":[{\"name\":\"open_modal\",\"kind\":\"Any\",\"default\":0},{\"name\":\"close_modal\",\"kind\":\"Any\",\"default\":0}]},{\"type\":\"model\",\"name\":\"TemplateEditor1\",\"properties\":[{\"name\":\"layout\",\"kind\":\"Any\",\"default\":[]}]},{\"type\":\"model\",\"name\":\"MaterialTemplateActions1\",\"properties\":[{\"name\":\"open_modal\",\"kind\":\"Any\",\"default\":0},{\"name\":\"close_modal\",\"kind\":\"Any\",\"default\":0}]},{\"type\":\"model\",\"name\":\"copy_to_clipboard1\",\"properties\":[{\"name\":\"fill\",\"kind\":\"Any\",\"default\":\"none\"},{\"name\":\"value\",\"kind\":\"Any\",\"default\":null}]}]}};\n",
       "  var render_items = [{\"docid\":\"81b46c35-9bb4-4068-91b0-a8546c2441e7\",\"roots\":{\"p1451\":\"e70b5fa8-fcf1-43a8-908f-3ad5197571c5\"},\"root_ids\":[\"p1451\"]}];\n",
       "  var docs = Object.values(docs_json)\n",
       "  if (!docs) {\n",
       "    return\n",
       "  }\n",
       "  const py_version = docs[0].version.replace('rc', '-rc.').replace('.dev', '-dev.')\n",
       "  async function embed_document(root) {\n",
       "    var Bokeh = get_bokeh(root)\n",
       "    await Bokeh.embed.embed_items_notebook(docs_json, render_items);\n",
       "    for (const render_item of render_items) {\n",
       "      for (const root_id of render_item.root_ids) {\n",
       "\tconst id_el = document.getElementById(root_id)\n",
       "\tif (id_el.children.length && id_el.children[0].hasAttribute('data-root-id')) {\n",
       "\t  const root_el = id_el.children[0]\n",
       "\t  root_el.id = root_el.id + '-rendered'\n",
       "\t  for (const child of root_el.children) {\n",
       "            // Ensure JupyterLab does not capture keyboard shortcuts\n",
       "            // see: https://jupyterlab.readthedocs.io/en/4.1.x/extension/notebook.html#keyboard-interaction-model\n",
       "\t    child.setAttribute('data-lm-suppress-shortcuts', 'true')\n",
       "\t  }\n",
       "\t}\n",
       "      }\n",
       "    }\n",
       "  }\n",
       "  function get_bokeh(root) {\n",
       "    if (root.Bokeh === undefined) {\n",
       "      return null\n",
       "    } else if (root.Bokeh.version !== py_version) {\n",
       "      if (root.Bokeh.versions === undefined || !root.Bokeh.versions.has(py_version)) {\n",
       "\treturn null\n",
       "      }\n",
       "      return root.Bokeh.versions.get(py_version);\n",
       "    } else if (root.Bokeh.version === py_version) {\n",
       "      return root.Bokeh\n",
       "    }\n",
       "    return null\n",
       "  }\n",
       "  function is_loaded(root) {\n",
       "    var Bokeh = get_bokeh(root)\n",
       "    return (Bokeh != null && Bokeh.Panel !== undefined)\n",
       "  }\n",
       "  if (is_loaded(root)) {\n",
       "    embed_document(root);\n",
       "  } else {\n",
       "    var attempts = 0;\n",
       "    var timer = setInterval(function(root) {\n",
       "      if (is_loaded(root)) {\n",
       "        clearInterval(timer);\n",
       "        embed_document(root);\n",
       "      } else if (document.readyState == \"complete\") {\n",
       "        attempts++;\n",
       "        if (attempts > 200) {\n",
       "          clearInterval(timer);\n",
       "\t  var Bokeh = get_bokeh(root)\n",
       "\t  if (Bokeh == null || Bokeh.Panel == null) {\n",
       "            console.warn(\"Panel: ERROR: Unable to run Panel code because Bokeh or Panel library is missing\");\n",
       "\t  } else {\n",
       "\t    console.warn(\"Panel: WARNING: Attempting to render but not all required libraries could be resolved.\")\n",
       "\t    embed_document(root)\n",
       "\t  }\n",
       "        }\n",
       "      }\n",
       "    }, 25, root)\n",
       "  }\n",
       "})(window);</script>"
      ],
      "text/plain": [
       ":Overlay\n",
       "   .Curve.I   :Curve   [date]   (rank)\n",
       "   .Scatter.I :Scatter   [date]   (rank)"
      ]
     },
     "metadata": {
      "application/vnd.holoviews_exec.v0+json": {
       "id": "p1451"
      }
     },
     "output_type": "display_data"
    }
   ],
   "source": [
    "from IPython.display import display\n",
    "\n",
    "for id, group in billboard.filter(pl.col(\"id\") < 5).group_by(\"id\", maintain_order=True):\n",
    "    display(\n",
    "        group.plot.line(x=\"date\", y=\"rank\", title=f\"{group.item(0, \"artist\")} - {group.item(0, \"track\")}\")\n",
    "        * group.plot.scatter(x=\"date\", y=\"rank\", marker=\"+\")\n",
    "    )"
   ]
  },
  {
   "cell_type": "markdown",
   "id": "51f326bd-e611-459e-bbd3-291819dc839c",
   "metadata": {
    "editable": true,
    "slideshow": {
     "slide_type": ""
    },
    "tags": []
   },
   "source": [
    "## Saving the Best for Last: Polars is Lazy!\n",
    "\n",
    "Polars fully supports so-called **lazy data frames** with `pl.LazyFrame()`. In a lazy data frame, no calculations are performed until necessary. This allows Polars to optimize the calculations and increase performance, often significantly.\n",
    "\n",
    "You should prefer lazy frames over eager frames in most cases! One notable exception is when you're doing exploratory work (or teaching a tutorial) where quickly iterating on your code is more important than the speed of calculations.\n",
    "\n",
    "To create a lazy data frame, you can do one of the following:\n",
    "\n",
    "- Read data with `scan_*()` instead of `read_*()`\n",
    "- Construct a data frame with `pl.LazyFrame()` instead of `pl.DataFrame()`\n",
    "- Convert an eager data frame by calling `.lazy()`"
   ]
  },
  {
   "cell_type": "code",
   "execution_count": 45,
   "id": "51cf446d-15cb-45d5-ac8a-be9d0ecf7c0c",
   "metadata": {},
   "outputs": [
    {
     "data": {
      "text/html": [
       "<h4>NAIVE QUERY PLAN</h4><p>run <b>LazyFrame.show_graph()</b> to see the optimized version</p><?xml version=\"1.0\" encoding=\"UTF-8\" standalone=\"no\"?>\n",
       "<!DOCTYPE svg PUBLIC \"-//W3C//DTD SVG 1.1//EN\"\n",
       " \"http://www.w3.org/Graphics/SVG/1.1/DTD/svg11.dtd\">\n",
       "<!-- Generated by graphviz version 2.43.0 (0)\n",
       " -->\n",
       "<!-- Title: polars_query Pages: 1 -->\n",
       "<svg width=\"239pt\" height=\"46pt\"\n",
       " viewBox=\"0.00 0.00 239.00 46.00\" xmlns=\"http://www.w3.org/2000/svg\" xmlns:xlink=\"http://www.w3.org/1999/xlink\">\n",
       "<g id=\"graph0\" class=\"graph\" transform=\"scale(1 1) rotate(0) translate(4 42)\">\n",
       "<title>polars_query</title>\n",
       "<polygon fill=\"white\" stroke=\"transparent\" points=\"-4,4 -4,-42 235,-42 235,4 -4,4\"/>\n",
       "<!-- p1 -->\n",
       "<g id=\"node1\" class=\"node\">\n",
       "<title>p1</title>\n",
       "<polygon fill=\"none\" stroke=\"black\" points=\"231,-38 0,-38 0,0 231,0 231,-38\"/>\n",
       "<text text-anchor=\"middle\" x=\"115.5\" y=\"-22.8\" font-family=\"Times,serif\" font-size=\"14.00\">Csv SCAN [data/schedule.csv]</text>\n",
       "<text text-anchor=\"middle\" x=\"115.5\" y=\"-7.8\" font-family=\"Times,serif\" font-size=\"14.00\">π */3;</text>\n",
       "</g>\n",
       "</g>\n",
       "</svg>\n"
      ],
      "text/plain": [
       "<LazyFrame at 0x7F17C5747A70>"
      ]
     },
     "execution_count": 45,
     "metadata": {},
     "output_type": "execute_result"
    }
   ],
   "source": [
    "pl.scan_csv(\"data/schedule.csv\")"
   ]
  },
  {
   "cell_type": "code",
   "execution_count": 46,
   "id": "bfff98e5-7a9d-493f-926b-2f908480eca7",
   "metadata": {},
   "outputs": [
    {
     "data": {
      "text/html": [
       "<h4>NAIVE QUERY PLAN</h4><p>run <b>LazyFrame.show_graph()</b> to see the optimized version</p><?xml version=\"1.0\" encoding=\"UTF-8\" standalone=\"no\"?>\n",
       "<!DOCTYPE svg PUBLIC \"-//W3C//DTD SVG 1.1//EN\"\n",
       " \"http://www.w3.org/Graphics/SVG/1.1/DTD/svg11.dtd\">\n",
       "<!-- Generated by graphviz version 2.43.0 (0)\n",
       " -->\n",
       "<!-- Title: polars_query Pages: 1 -->\n",
       "<svg width=\"76pt\" height=\"61pt\"\n",
       " viewBox=\"0.00 0.00 76.00 61.00\" xmlns=\"http://www.w3.org/2000/svg\" xmlns:xlink=\"http://www.w3.org/1999/xlink\">\n",
       "<g id=\"graph0\" class=\"graph\" transform=\"scale(1 1) rotate(0) translate(4 57)\">\n",
       "<title>polars_query</title>\n",
       "<polygon fill=\"white\" stroke=\"transparent\" points=\"-4,4 -4,-57 72,-57 72,4 -4,4\"/>\n",
       "<!-- p1 -->\n",
       "<g id=\"node1\" class=\"node\">\n",
       "<title>p1</title>\n",
       "<polygon fill=\"none\" stroke=\"black\" points=\"68,-53 0,-53 0,0 68,0 68,-53\"/>\n",
       "<text text-anchor=\"middle\" x=\"34\" y=\"-37.8\" font-family=\"Times,serif\" font-size=\"14.00\">TABLE</text>\n",
       "<text text-anchor=\"middle\" x=\"34\" y=\"-22.8\" font-family=\"Times,serif\" font-size=\"14.00\">π */3;</text>\n",
       "<text text-anchor=\"middle\" x=\"34\" y=\"-7.8\" font-family=\"Times,serif\" font-size=\"14.00\">σ None</text>\n",
       "</g>\n",
       "</g>\n",
       "</svg>\n"
      ],
      "text/plain": [
       "<LazyFrame at 0x7F17C56A75F0>"
      ]
     },
     "execution_count": 46,
     "metadata": {},
     "output_type": "execute_result"
    }
   ],
   "source": [
    "pl.LazyFrame(tutorials)"
   ]
  },
  {
   "cell_type": "code",
   "execution_count": 47,
   "id": "0b620347-7a3f-4077-bb3f-01a62b784de3",
   "metadata": {},
   "outputs": [
    {
     "data": {
      "text/html": [
       "<h4>NAIVE QUERY PLAN</h4><p>run <b>LazyFrame.show_graph()</b> to see the optimized version</p><?xml version=\"1.0\" encoding=\"UTF-8\" standalone=\"no\"?>\n",
       "<!DOCTYPE svg PUBLIC \"-//W3C//DTD SVG 1.1//EN\"\n",
       " \"http://www.w3.org/Graphics/SVG/1.1/DTD/svg11.dtd\">\n",
       "<!-- Generated by graphviz version 2.43.0 (0)\n",
       " -->\n",
       "<!-- Title: polars_query Pages: 1 -->\n",
       "<svg width=\"76pt\" height=\"61pt\"\n",
       " viewBox=\"0.00 0.00 76.00 61.00\" xmlns=\"http://www.w3.org/2000/svg\" xmlns:xlink=\"http://www.w3.org/1999/xlink\">\n",
       "<g id=\"graph0\" class=\"graph\" transform=\"scale(1 1) rotate(0) translate(4 57)\">\n",
       "<title>polars_query</title>\n",
       "<polygon fill=\"white\" stroke=\"transparent\" points=\"-4,4 -4,-57 72,-57 72,4 -4,4\"/>\n",
       "<!-- p1 -->\n",
       "<g id=\"node1\" class=\"node\">\n",
       "<title>p1</title>\n",
       "<polygon fill=\"none\" stroke=\"black\" points=\"68,-53 0,-53 0,0 68,0 68,-53\"/>\n",
       "<text text-anchor=\"middle\" x=\"34\" y=\"-37.8\" font-family=\"Times,serif\" font-size=\"14.00\">TABLE</text>\n",
       "<text text-anchor=\"middle\" x=\"34\" y=\"-22.8\" font-family=\"Times,serif\" font-size=\"14.00\">π */7;</text>\n",
       "<text text-anchor=\"middle\" x=\"34\" y=\"-7.8\" font-family=\"Times,serif\" font-size=\"14.00\">σ None</text>\n",
       "</g>\n",
       "</g>\n",
       "</svg>\n"
      ],
      "text/plain": [
       "<LazyFrame at 0x7F17C56A7B60>"
      ]
     },
     "execution_count": 47,
     "metadata": {},
     "output_type": "execute_result"
    }
   ],
   "source": [
    "billboard.lazy()"
   ]
  },
  {
   "cell_type": "markdown",
   "id": "4772784e-a21c-4726-a218-2f4560937b99",
   "metadata": {},
   "source": [
    "Look at some simple manipulation of the schedule:"
   ]
  },
  {
   "cell_type": "code",
   "execution_count": 48,
   "id": "749b9630-633a-44bf-969d-26546436b5d7",
   "metadata": {},
   "outputs": [],
   "source": [
    "tuesday_intro = (\n",
    "    pl.scan_csv(\"data/schedule.csv\")\n",
    "    .with_columns(title=pl.col(\"title\").str.to_uppercase())\n",
    "    .filter(pl.col(\"timestamp\") >= \"2024-08-27\")\n",
    ")"
   ]
  },
  {
   "cell_type": "markdown",
   "id": "d3e7ef26-ac80-4076-809f-21f51f895cda",
   "metadata": {},
   "source": [
    "At this point, no calculations have been made. The file hasn't even been read! You can explicitly tell Polars to run the query by calling `.collect()`:"
   ]
  },
  {
   "cell_type": "code",
   "execution_count": 49,
   "id": "321aaee0-3562-408c-802c-b2a7b0f7f80d",
   "metadata": {},
   "outputs": [
    {
     "data": {
      "text/html": [
       "<div><style>\n",
       ".dataframe > thead > tr,\n",
       ".dataframe > tbody > tr {\n",
       "  text-align: right;\n",
       "  white-space: pre-wrap;\n",
       "}\n",
       "</style>\n",
       "<small>shape: (8, 3)</small><table border=\"1\" class=\"dataframe\"><thead><tr><th>timestamp</th><th>room</th><th>title</th></tr><tr><td>str</td><td>i64</td><td>str</td></tr></thead><tbody><tr><td>&quot;2024-08-27T09:00&quot;</td><td>6</td><td>&quot;INTRODUCTION TO POLARS: FAST A…</td></tr><tr><td>&quot;2024-08-27T09:00&quot;</td><td>5</td><td>&quot;BUILDING ROBUST WORKFLOWS WITH…</td></tr><tr><td>&quot;2024-08-27T11:00&quot;</td><td>6</td><td>&quot;USING WIKIPEDIA AS A LANGUAGE …</td></tr><tr><td>&quot;2024-08-27T11:00&quot;</td><td>5</td><td>&quot;COMBINING PYTHON AND RUST TO C…</td></tr><tr><td>&quot;2024-08-27T14:00&quot;</td><td>6</td><td>&quot;INTRODUCTION TO MACHINE LEARNI…</td></tr><tr><td>&quot;2024-08-27T14:00&quot;</td><td>5</td><td>&quot;MULTI-DIMENSIONAL ARRAYS WITH …</td></tr><tr><td>&quot;2024-08-27T16:00&quot;</td><td>6</td><td>&quot;A HITCHHIKER&#x27;S GUIDE TO CONTRI…</td></tr><tr><td>&quot;2024-08-27T16:00&quot;</td><td>5</td><td>&quot;SKTIME - PYTHON TOOLBOX FOR TI…</td></tr></tbody></table></div>"
      ],
      "text/plain": [
       "shape: (8, 3)\n",
       "┌──────────────────┬──────┬─────────────────────────────────┐\n",
       "│ timestamp        ┆ room ┆ title                           │\n",
       "│ ---              ┆ ---  ┆ ---                             │\n",
       "│ str              ┆ i64  ┆ str                             │\n",
       "╞══════════════════╪══════╪═════════════════════════════════╡\n",
       "│ 2024-08-27T09:00 ┆ 6    ┆ INTRODUCTION TO POLARS: FAST A… │\n",
       "│ 2024-08-27T09:00 ┆ 5    ┆ BUILDING ROBUST WORKFLOWS WITH… │\n",
       "│ 2024-08-27T11:00 ┆ 6    ┆ USING WIKIPEDIA AS A LANGUAGE … │\n",
       "│ 2024-08-27T11:00 ┆ 5    ┆ COMBINING PYTHON AND RUST TO C… │\n",
       "│ 2024-08-27T14:00 ┆ 6    ┆ INTRODUCTION TO MACHINE LEARNI… │\n",
       "│ 2024-08-27T14:00 ┆ 5    ┆ MULTI-DIMENSIONAL ARRAYS WITH … │\n",
       "│ 2024-08-27T16:00 ┆ 6    ┆ A HITCHHIKER'S GUIDE TO CONTRI… │\n",
       "│ 2024-08-27T16:00 ┆ 5    ┆ SKTIME - PYTHON TOOLBOX FOR TI… │\n",
       "└──────────────────┴──────┴─────────────────────────────────┘"
      ]
     },
     "execution_count": 49,
     "metadata": {},
     "output_type": "execute_result"
    }
   ],
   "source": [
    "tuesday_intro.collect()"
   ]
  },
  {
   "cell_type": "markdown",
   "id": "20b99ea9-e2f0-4f06-a3a3-1ac9ba539c86",
   "metadata": {},
   "source": [
    "Look again at the lazy data frame. Jupyter displays a query plan, which describes which calculations that will be carried out. However, note the comment about an **optimized** query plan:"
   ]
  },
  {
   "cell_type": "code",
   "execution_count": 50,
   "id": "f26ee2a2-e3bf-4944-b34a-ffd329c63e58",
   "metadata": {},
   "outputs": [
    {
     "data": {
      "text/html": [
       "<h4>NAIVE QUERY PLAN</h4><p>run <b>LazyFrame.show_graph()</b> to see the optimized version</p><?xml version=\"1.0\" encoding=\"UTF-8\" standalone=\"no\"?>\n",
       "<!DOCTYPE svg PUBLIC \"-//W3C//DTD SVG 1.1//EN\"\n",
       " \"http://www.w3.org/Graphics/SVG/1.1/DTD/svg11.dtd\">\n",
       "<!-- Generated by graphviz version 2.43.0 (0)\n",
       " -->\n",
       "<!-- Title: polars_query Pages: 1 -->\n",
       "<svg width=\"439pt\" height=\"190pt\"\n",
       " viewBox=\"0.00 0.00 439.00 190.00\" xmlns=\"http://www.w3.org/2000/svg\" xmlns:xlink=\"http://www.w3.org/1999/xlink\">\n",
       "<g id=\"graph0\" class=\"graph\" transform=\"scale(1 1) rotate(0) translate(4 186)\">\n",
       "<title>polars_query</title>\n",
       "<polygon fill=\"white\" stroke=\"transparent\" points=\"-4,4 -4,-186 435,-186 435,4 -4,4\"/>\n",
       "<!-- p1 -->\n",
       "<g id=\"node1\" class=\"node\">\n",
       "<title>p1</title>\n",
       "<polygon fill=\"none\" stroke=\"black\" points=\"425,-182 6,-182 6,-146 425,-146 425,-182\"/>\n",
       "<text text-anchor=\"middle\" x=\"215.5\" y=\"-160.3\" font-family=\"Times,serif\" font-size=\"14.00\">FILTER BY [(col(&quot;timestamp&quot;)) &gt;= (String(2024&#45;08&#45;27))]</text>\n",
       "</g>\n",
       "<!-- p2 -->\n",
       "<g id=\"node2\" class=\"node\">\n",
       "<title>p2</title>\n",
       "<polygon fill=\"none\" stroke=\"black\" points=\"431,-110 0,-110 0,-74 431,-74 431,-110\"/>\n",
       "<text text-anchor=\"middle\" x=\"215.5\" y=\"-88.3\" font-family=\"Times,serif\" font-size=\"14.00\">WITH COLUMNS [col(&quot;title&quot;).str.uppercase().alias(&quot;title&quot;)]</text>\n",
       "</g>\n",
       "<!-- p1&#45;&#45;p2 -->\n",
       "<g id=\"edge1\" class=\"edge\">\n",
       "<title>p1&#45;&#45;p2</title>\n",
       "<path fill=\"none\" stroke=\"black\" d=\"M215.5,-145.7C215.5,-134.85 215.5,-120.92 215.5,-110.1\"/>\n",
       "</g>\n",
       "<!-- p3 -->\n",
       "<g id=\"node3\" class=\"node\">\n",
       "<title>p3</title>\n",
       "<polygon fill=\"none\" stroke=\"black\" points=\"331,-38 100,-38 100,0 331,0 331,-38\"/>\n",
       "<text text-anchor=\"middle\" x=\"215.5\" y=\"-22.8\" font-family=\"Times,serif\" font-size=\"14.00\">Csv SCAN [data/schedule.csv]</text>\n",
       "<text text-anchor=\"middle\" x=\"215.5\" y=\"-7.8\" font-family=\"Times,serif\" font-size=\"14.00\">π */3;</text>\n",
       "</g>\n",
       "<!-- p2&#45;&#45;p3 -->\n",
       "<g id=\"edge2\" class=\"edge\">\n",
       "<title>p2&#45;&#45;p3</title>\n",
       "<path fill=\"none\" stroke=\"black\" d=\"M215.5,-73.81C215.5,-62.98 215.5,-49.01 215.5,-38.02\"/>\n",
       "</g>\n",
       "</g>\n",
       "</svg>\n"
      ],
      "text/plain": [
       "<LazyFrame at 0x7F17C65C2570>"
      ]
     },
     "execution_count": 50,
     "metadata": {},
     "output_type": "execute_result"
    }
   ],
   "source": [
    "tuesday_intro"
   ]
  },
  {
   "cell_type": "code",
   "execution_count": 51,
   "id": "cac25a05-a9ed-4623-9c7c-4504050a3fa1",
   "metadata": {},
   "outputs": [
    {
     "data": {
      "image/svg+xml": [
       "<svg xmlns=\"http://www.w3.org/2000/svg\" xmlns:xlink=\"http://www.w3.org/1999/xlink\" width=\"439pt\" height=\"133pt\" viewBox=\"0.00 0.00 439.00 133.00\">\n",
       "<g id=\"graph0\" class=\"graph\" transform=\"scale(1 1) rotate(0) translate(4 129)\">\n",
       "<title>polars_query</title>\n",
       "<polygon fill=\"white\" stroke=\"transparent\" points=\"-4,4 -4,-129 435,-129 435,4 -4,4\"/>\n",
       "<!-- p1 -->\n",
       "<g id=\"node1\" class=\"node\">\n",
       "<title>p1</title>\n",
       "<polygon fill=\"none\" stroke=\"black\" points=\"431,-125 0,-125 0,-89 431,-89 431,-125\"/>\n",
       "<text text-anchor=\"middle\" x=\"215.5\" y=\"-103.3\" font-family=\"Times,serif\" font-size=\"14.00\">WITH COLUMNS [col(&quot;title&quot;).str.uppercase().alias(&quot;title&quot;)]</text>\n",
       "</g>\n",
       "<!-- p2 -->\n",
       "<g id=\"node2\" class=\"node\">\n",
       "<title>p2</title>\n",
       "<polygon fill=\"none\" stroke=\"black\" points=\"392,-53 39,-53 39,0 392,0 392,-53\"/>\n",
       "<text text-anchor=\"middle\" x=\"215.5\" y=\"-37.8\" font-family=\"Times,serif\" font-size=\"14.00\">Csv SCAN [data/schedule.csv]</text>\n",
       "<text text-anchor=\"middle\" x=\"215.5\" y=\"-22.8\" font-family=\"Times,serif\" font-size=\"14.00\">π */3;</text>\n",
       "<text text-anchor=\"middle\" x=\"215.5\" y=\"-7.8\" font-family=\"Times,serif\" font-size=\"14.00\">σ [(col(&quot;timestamp&quot;)) &gt;= (String(2024-08-27))]</text>\n",
       "</g>\n",
       "<!-- p1&#45;&#45;p2 -->\n",
       "<g id=\"edge1\" class=\"edge\">\n",
       "<title>p1--p2</title>\n",
       "<path fill=\"none\" stroke=\"black\" d=\"M215.5,-88.97C215.5,-78.51 215.5,-64.9 215.5,-53.16\"/>\n",
       "</g>\n",
       "</g>\n",
       "</svg>"
      ],
      "text/plain": [
       "<IPython.core.display.SVG object>"
      ]
     },
     "metadata": {},
     "output_type": "display_data"
    }
   ],
   "source": [
    "tuesday_intro.show_graph()"
   ]
  },
  {
   "cell_type": "markdown",
   "id": "f65c65cd-79a1-4b4b-a5c7-bc1e2729f51b",
   "metadata": {},
   "source": [
    "Polars can do [several optimizations](https://docs.pola.rs/user-guide/lazy/optimizations/) before carrying out a query. In this case, it has realized that the filtering can be done earlier - actually while reading the file from disk - instead of first upper-casing many titles just to filter them out later!"
   ]
  },
  {
   "cell_type": "markdown",
   "id": "25772a77-c1c4-472e-9cf6-8da50f03a373",
   "metadata": {},
   "source": [
    "## Next Steps\n",
    "\n",
    "While Polars is still somewhat new, it recently reached its [**Version 1** milestone](https://pola.rs/posts/announcing-polars-1/) and is production ready!\n",
    "\n",
    "- [Polars documentation](https://docs.pola.rs/)\n",
    "- [Modern Polars](https://kevinheavey.github.io/modern-polars/): Comparison to pandas based on the [Modern pandas](http://tomaugspurger.net/posts/modern-1-intro/) blog post\n",
    "- [Effective Polars](https://store.metasnake.com/effective-polars): Book by Matt Harrison\n",
    "- [Polars Workshop](https://justinbois.github.io/dd-pol/2024/part_1/lessons/01/intro_to_polars.html): Notes by Justin Bois\n",
    "- [Great tables](https://posit-dev.github.io/great-tables/blog/polars-styling/): Present Polars data frames as beautiful tables"
   ]
  },
  {
   "cell_type": "code",
   "execution_count": 52,
   "id": "ff8d4b80-2655-49a7-bb75-002a29d18c1b",
   "metadata": {},
   "outputs": [
    {
     "data": {
      "text/html": [
       "<div id=\"xkmiqatwkq\" style=\"padding-left:0px;padding-right:0px;padding-top:10px;padding-bottom:10px;overflow-x:auto;overflow-y:auto;width:auto;height:auto;\">\n",
       "<style>\n",
       "#xkmiqatwkq table {\n",
       "          font-family: -apple-system, BlinkMacSystemFont, 'Segoe UI', Roboto, Oxygen, Ubuntu, Cantarell, 'Helvetica Neue', 'Fira Sans', 'Droid Sans', Arial, sans-serif;\n",
       "          -webkit-font-smoothing: antialiased;\n",
       "          -moz-osx-font-smoothing: grayscale;\n",
       "        }\n",
       "\n",
       "#xkmiqatwkq thead, tbody, tfoot, tr, td, th { border-style: none; }\n",
       " tr { background-color: transparent; }\n",
       "#xkmiqatwkq p { margin: 0; padding: 0; }\n",
       " #xkmiqatwkq .gt_table { display: table; border-collapse: collapse; line-height: normal; margin-left: auto; margin-right: auto; color: #333333; font-size: 16px; font-weight: normal; font-style: normal; background-color: #FFFFFF; width: auto; border-top-style: solid; border-top-width: 2px; border-top-color: #A8A8A8; border-right-style: none; border-right-width: 2px; border-right-color: #D3D3D3; border-bottom-style: solid; border-bottom-width: 2px; border-bottom-color: #A8A8A8; border-left-style: none; border-left-width: 2px; border-left-color: #D3D3D3; }\n",
       " #xkmiqatwkq .gt_caption { padding-top: 4px; padding-bottom: 4px; }\n",
       " #xkmiqatwkq .gt_title { color: #333333; font-size: 125%; font-weight: initial; padding-top: 4px; padding-bottom: 4px; padding-left: 5px; padding-right: 5px; border-bottom-color: #FFFFFF; border-bottom-width: 0; }\n",
       " #xkmiqatwkq .gt_subtitle { color: #333333; font-size: 85%; font-weight: initial; padding-top: 3px; padding-bottom: 5px; padding-left: 5px; padding-right: 5px; border-top-color: #FFFFFF; border-top-width: 0; }\n",
       " #xkmiqatwkq .gt_heading { background-color: #FFFFFF; text-align: center; border-bottom-color: #FFFFFF; border-left-style: none; border-left-width: 1px; border-left-color: #D3D3D3; border-right-style: none; border-right-width: 1px; border-right-color: #D3D3D3; }\n",
       " #xkmiqatwkq .gt_bottom_border { border-bottom-style: solid; border-bottom-width: 2px; border-bottom-color: #D3D3D3; }\n",
       " #xkmiqatwkq .gt_col_headings { border-top-style: solid; border-top-width: 2px; border-top-color: #D3D3D3; border-bottom-style: solid; border-bottom-width: 2px; border-bottom-color: #D3D3D3; border-left-style: none; border-left-width: 1px; border-left-color: #D3D3D3; border-right-style: none; border-right-width: 1px; border-right-color: #D3D3D3; }\n",
       " #xkmiqatwkq .gt_col_heading { color: #333333; background-color: #FFFFFF; font-size: 100%; font-weight: normal; text-transform: inherit; border-left-style: none; border-left-width: 1px; border-left-color: #D3D3D3; border-right-style: none; border-right-width: 1px; border-right-color: #D3D3D3; vertical-align: bottom; padding-top: 5px; padding-bottom: 5px; padding-left: 5px; padding-right: 5px; overflow-x: hidden; }\n",
       " #xkmiqatwkq .gt_column_spanner_outer { color: #333333; background-color: #FFFFFF; font-size: 100%; font-weight: normal; text-transform: inherit; padding-top: 0; padding-bottom: 0; padding-left: 4px; padding-right: 4px; }\n",
       " #xkmiqatwkq .gt_column_spanner_outer:first-child { padding-left: 0; }\n",
       " #xkmiqatwkq .gt_column_spanner_outer:last-child { padding-right: 0; }\n",
       " #xkmiqatwkq .gt_column_spanner { border-bottom-style: solid; border-bottom-width: 2px; border-bottom-color: #D3D3D3; vertical-align: bottom; padding-top: 5px; padding-bottom: 5px; overflow-x: hidden; display: inline-block; width: 100%; }\n",
       " #xkmiqatwkq .gt_spanner_row { border-bottom-style: hidden; }\n",
       " #xkmiqatwkq .gt_group_heading { padding-top: 8px; padding-bottom: 8px; padding-left: 5px; padding-right: 5px; color: #333333; background-color: #FFFFFF; font-size: 100%; font-weight: initial; text-transform: inherit; border-top-style: solid; border-top-width: 2px; border-top-color: #D3D3D3; border-bottom-style: solid; border-bottom-width: 2px; border-bottom-color: #D3D3D3; border-left-style: none; border-left-width: 1px; border-left-color: #D3D3D3; border-right-style: none; border-right-width: 1px; border-right-color: #D3D3D3; vertical-align: middle; text-align: left; }\n",
       " #xkmiqatwkq .gt_empty_group_heading { padding: 0.5px; color: #333333; background-color: #FFFFFF; font-size: 100%; font-weight: initial; border-top-style: solid; border-top-width: 2px; border-top-color: #D3D3D3; border-bottom-style: solid; border-bottom-width: 2px; border-bottom-color: #D3D3D3; vertical-align: middle; }\n",
       " #xkmiqatwkq .gt_from_md> :first-child { margin-top: 0; }\n",
       " #xkmiqatwkq .gt_from_md> :last-child { margin-bottom: 0; }\n",
       " #xkmiqatwkq .gt_row { padding-top: 8px; padding-bottom: 8px; padding-left: 5px; padding-right: 5px; margin: 10px; border-top-style: solid; border-top-width: 1px; border-top-color: #D3D3D3; border-left-style: none; border-left-width: 1px; border-left-color: #D3D3D3; border-right-style: none; border-right-width: 1px; border-right-color: #D3D3D3; vertical-align: middle; overflow-x: hidden; }\n",
       " #xkmiqatwkq .gt_stub { color: #333333; background-color: #FFFFFF; font-size: 100%; font-weight: initial; text-transform: inherit; border-right-style: solid; border-right-width: 2px; border-right-color: #D3D3D3; padding-left: 5px; padding-right: 5px; }\n",
       " #xkmiqatwkq .gt_stub_row_group { color: #333333; background-color: #FFFFFF; font-size: 100%; font-weight: initial; text-transform: inherit; border-right-style: solid; border-right-width: 2px; border-right-color: #D3D3D3; padding-left: 5px; padding-right: 5px; vertical-align: top; }\n",
       " #xkmiqatwkq .gt_row_group_first td { border-top-width: 2px; }\n",
       " #xkmiqatwkq .gt_row_group_first th { border-top-width: 2px; }\n",
       " #xkmiqatwkq .gt_table_body { border-top-style: solid; border-top-width: 2px; border-top-color: #D3D3D3; border-bottom-style: solid; border-bottom-width: 2px; border-bottom-color: #D3D3D3; }\n",
       " #xkmiqatwkq .gt_sourcenotes { color: #333333; background-color: #FFFFFF; border-bottom-style: none; border-bottom-width: 2px; border-bottom-color: #D3D3D3; border-left-style: none; border-left-width: 2px; border-left-color: #D3D3D3; border-right-style: none; border-right-width: 2px; border-right-color: #D3D3D3; }\n",
       " #xkmiqatwkq .gt_sourcenote { font-size: 90%; padding-top: 4px; padding-bottom: 4px; padding-left: 5px; padding-right: 5px; text-align: left; }\n",
       " #xkmiqatwkq .gt_left { text-align: left; }\n",
       " #xkmiqatwkq .gt_center { text-align: center; }\n",
       " #xkmiqatwkq .gt_right { text-align: right; font-variant-numeric: tabular-nums; }\n",
       " #xkmiqatwkq .gt_font_normal { font-weight: normal; }\n",
       " #xkmiqatwkq .gt_font_bold { font-weight: bold; }\n",
       " #xkmiqatwkq .gt_font_italic { font-style: italic; }\n",
       " #xkmiqatwkq .gt_super { font-size: 65%; }\n",
       " #xkmiqatwkq .gt_footnote_marks { font-size: 75%; vertical-align: 0.4em; position: initial; }\n",
       " #xkmiqatwkq .gt_asterisk { font-size: 100%; vertical-align: 0; }\n",
       " \n",
       "</style>\n",
       "<table class=\"gt_table\" data-quarto-disable-processing=\"false\" data-quarto-bootstrap=\"false\">\n",
       "<thead class=\"gt_header\">\n",
       "  <tr>\n",
       "    <th colspan=\"4\" class=\"gt_heading gt_title gt_font_normal\">EuroSciPy 2024</th>\n",
       "  </tr>\n",
       "  <tr>\n",
       "    <th colspan=\"4\" class=\"gt_heading gt_subtitle gt_font_normal gt_bottom_border\">Tutorials in Szczecin</th>\n",
       "  </tr>\n",
       "</thead>\n",
       "<tr class=\"gt_col_headings gt_spanner_row\">\n",
       "  <th class=\"gt_center gt_columns_top_border gt_column_spanner_outer\" rowspan=\"1\" colspan=\"2\" scope=\"colgroup\" id=\"When\">\n",
       "    <span class=\"gt_column_spanner\">When</span>\n",
       "  </th>\n",
       "  <th class=\"gt_col_heading gt_columns_bottom_border gt_left\" rowspan=\"2\" colspan=\"1\" scope=\"col\" id=\"Room 6\">Room 6</th>\n",
       "  <th class=\"gt_col_heading gt_columns_bottom_border gt_left\" rowspan=\"2\" colspan=\"1\" scope=\"col\" id=\"Room 5\">Room 5</th>\n",
       "</tr>\n",
       "<tr class=\"gt_col_headings\">\n",
       "  <th class=\"gt_col_heading gt_columns_bottom_border gt_right\" rowspan=\"1\" colspan=\"1\" scope=\"col\" id=\"Date\">Date</th>\n",
       "  <th class=\"gt_col_heading gt_columns_bottom_border gt_center\" rowspan=\"1\" colspan=\"1\" scope=\"col\" id=\"Time\">Time</th>\n",
       "</tr>\n",
       "<tbody class=\"gt_table_body\">\n",
       "  <tr>\n",
       "    <td class=\"gt_row gt_right\">2024-08-26</td>\n",
       "    <td class=\"gt_row gt_center\">09:00:00</td>\n",
       "    <td class=\"gt_row gt_left\">Introduction to Python</td>\n",
       "    <td class=\"gt_row gt_left\">What is the magic of magic methods in the Python language?</td>\n",
       "  </tr>\n",
       "  <tr>\n",
       "    <td class=\"gt_row gt_right\">2024-08-26</td>\n",
       "    <td class=\"gt_row gt_center\">11:00:00</td>\n",
       "    <td class=\"gt_row gt_left\">Introduction to NumPy</td>\n",
       "    <td class=\"gt_row gt_left\">Decorators - A deep dive</td>\n",
       "  </tr>\n",
       "  <tr>\n",
       "    <td class=\"gt_row gt_right\">2024-08-26</td>\n",
       "    <td class=\"gt_row gt_center\">14:00:00</td>\n",
       "    <td class=\"gt_row gt_left\">Introduction to matplotlib for data visualization with Python</td>\n",
       "    <td class=\"gt_row gt_left\">Probabilistic classification and cost-sensitive learning with scikit-learn</td>\n",
       "  </tr>\n",
       "  <tr>\n",
       "    <td class=\"gt_row gt_right\">2024-08-26</td>\n",
       "    <td class=\"gt_row gt_center\">16:00:00</td>\n",
       "    <td class=\"gt_row gt_left\">Image Analysis in Python with scikit-image</td>\n",
       "    <td class=\"gt_row gt_left\">Using the Array API to write code that runs with NumPy, Cupy, and PyTorch</td>\n",
       "  </tr>\n",
       "  <tr>\n",
       "    <td class=\"gt_row gt_right\">2024-08-27</td>\n",
       "    <td class=\"gt_row gt_center\">09:00:00</td>\n",
       "    <td style=\"font-weight: bold;\" class=\"gt_row gt_left\">Introduction to Polars: Fast and readable data analysis</td>\n",
       "    <td class=\"gt_row gt_left\">Building robust workflows with strong provenance</td>\n",
       "  </tr>\n",
       "  <tr>\n",
       "    <td class=\"gt_row gt_right\">2024-08-27</td>\n",
       "    <td class=\"gt_row gt_center\">11:00:00</td>\n",
       "    <td class=\"gt_row gt_left\">Using Wikipedia as a language corpus for NLP</td>\n",
       "    <td class=\"gt_row gt_left\">Combining Python and Rust to create Polars plugins</td>\n",
       "  </tr>\n",
       "  <tr>\n",
       "    <td class=\"gt_row gt_right\">2024-08-27</td>\n",
       "    <td class=\"gt_row gt_center\">14:00:00</td>\n",
       "    <td class=\"gt_row gt_left\">Introduction to machine learning with scikit-learn and pandas</td>\n",
       "    <td class=\"gt_row gt_left\">Multi-dimensional arrays with Scipp</td>\n",
       "  </tr>\n",
       "  <tr>\n",
       "    <td class=\"gt_row gt_right\">2024-08-27</td>\n",
       "    <td class=\"gt_row gt_center\">16:00:00</td>\n",
       "    <td class=\"gt_row gt_left\">A hitchhiker's guide to contributing to open source</td>\n",
       "    <td class=\"gt_row gt_left\">sktime - Python toolbox for time series</td>\n",
       "  </tr>\n",
       "</tbody>\n",
       "\n",
       "\n",
       "</table>\n",
       "\n",
       "</div>\n",
       "        "
      ],
      "text/plain": [
       "GT(_tbl_data=shape: (8, 4)\n",
       "┌────────────┬──────────┬─────────────────────────────────┬─────────────────────────────────┐\n",
       "│ Date       ┆ Time     ┆ Room 6                          ┆ Room 5                          │\n",
       "│ ---        ┆ ---      ┆ ---                             ┆ ---                             │\n",
       "│ date       ┆ time     ┆ str                             ┆ str                             │\n",
       "╞════════════╪══════════╪═════════════════════════════════╪═════════════════════════════════╡\n",
       "│ 2024-08-26 ┆ 09:00:00 ┆ Introduction to Python          ┆ What is the magic of magic met… │\n",
       "│ 2024-08-26 ┆ 11:00:00 ┆ Introduction to NumPy           ┆ Decorators - A deep dive        │\n",
       "│ 2024-08-26 ┆ 14:00:00 ┆ Introduction to matplotlib for… ┆ Probabilistic classification a… │\n",
       "│ 2024-08-26 ┆ 16:00:00 ┆ Image Analysis in Python with … ┆ Using the Array API to write c… │\n",
       "│ 2024-08-27 ┆ 09:00:00 ┆ Introduction to Polars: Fast a… ┆ Building robust workflows with… │\n",
       "│ 2024-08-27 ┆ 11:00:00 ┆ Using Wikipedia as a language … ┆ Combining Python and Rust to c… │\n",
       "│ 2024-08-27 ┆ 14:00:00 ┆ Introduction to machine learni… ┆ Multi-dimensional arrays with … │\n",
       "│ 2024-08-27 ┆ 16:00:00 ┆ A hitchhiker's guide to contri… ┆ sktime - Python toolbox for ti… │\n",
       "└────────────┴──────────┴─────────────────────────────────┴─────────────────────────────────┘, _body=<great_tables._gt_data.Body object at 0x7f17c5477f20>, _boxhead=Boxhead([ColInfo(var='Date', type=<ColInfoTypeEnum.default: 1>, column_label='Date', column_align='right', column_width=None), ColInfo(var='Time', type=<ColInfoTypeEnum.default: 1>, column_label='Time', column_align='center', column_width=None), ColInfo(var='Room 6', type=<ColInfoTypeEnum.default: 1>, column_label='Room 6', column_align='left', column_width=None), ColInfo(var='Room 5', type=<ColInfoTypeEnum.default: 1>, column_label='Room 5', column_align='left', column_width=None)]), _stub=<great_tables._gt_data.Stub object at 0x7f17c57eaed0>, _spanners=Spanners([SpannerInfo(spanner_id='When', spanner_level=0, spanner_label='When', spanner_units=None, spanner_pattern=None, vars=['Date', 'Time'], built=None)]), _heading=Heading(title='EuroSciPy 2024', subtitle='Tutorials in Szczecin', preheader=None), _stubhead=None, _source_notes=[], _footnotes=[], _styles=[StyleInfo(locname='data', locnum=5, grpname=None, colname='Room 6', rownum=4, colnum=None, styles=[CellStyleText(color=None, font=None, size=None, align=None, v_align=None, style=None, weight='bold', stretch=None, decorate=None, transform=None, whitespace=None)])], _locale=<great_tables._gt_data.Locale object at 0x7f17c534f2c0>, _formats=[], _substitutions=[], _options=Options(table_id=OptionsInfo(scss=False, category='table', type='value', value=None), table_caption=OptionsInfo(scss=False, category='table', type='value', value=None), table_width=OptionsInfo(scss=True, category='table', type='px', value='auto'), table_layout=OptionsInfo(scss=True, category='table', type='value', value='fixed'), table_margin_left=OptionsInfo(scss=True, category='table', type='px', value='auto'), table_margin_right=OptionsInfo(scss=True, category='table', type='px', value='auto'), table_background_color=OptionsInfo(scss=True, category='table', type='value', value='#FFFFFF'), table_font_names=OptionsInfo(scss=False, category='table', type='values', value=['-apple-system', 'BlinkMacSystemFont', 'Segoe UI', 'Roboto', 'Oxygen', 'Ubuntu', 'Cantarell', 'Helvetica Neue', 'Fira Sans', 'Droid Sans', 'Arial', 'sans-serif']), table_font_size=OptionsInfo(scss=True, category='table', type='px', value='16px'), table_font_weight=OptionsInfo(scss=True, category='table', type='value', value='normal'), table_font_style=OptionsInfo(scss=True, category='table', type='value', value='normal'), table_font_color=OptionsInfo(scss=True, category='table', type='value', value='#333333'), table_font_color_light=OptionsInfo(scss=True, category='table', type='value', value='#FFFFFF'), table_border_top_include=OptionsInfo(scss=False, category='table', type='boolean', value=True), table_border_top_style=OptionsInfo(scss=True, category='table', type='value', value='solid'), table_border_top_width=OptionsInfo(scss=True, category='table', type='px', value='2px'), table_border_top_color=OptionsInfo(scss=True, category='table', type='value', value='#A8A8A8'), table_border_right_style=OptionsInfo(scss=True, category='table', type='value', value='none'), table_border_right_width=OptionsInfo(scss=True, category='table', type='px', value='2px'), table_border_right_color=OptionsInfo(scss=True, category='table', type='value', value='#D3D3D3'), table_border_bottom_include=OptionsInfo(scss=False, category='table', type='boolean', value=True), table_border_bottom_style=OptionsInfo(scss=True, category='table', type='value', value='solid'), table_border_bottom_width=OptionsInfo(scss=True, category='table', type='px', value='2px'), table_border_bottom_color=OptionsInfo(scss=True, category='table', type='value', value='#A8A8A8'), table_border_left_style=OptionsInfo(scss=True, category='table', type='value', value='none'), table_border_left_width=OptionsInfo(scss=True, category='table', type='px', value='2px'), table_border_left_color=OptionsInfo(scss=True, category='table', type='value', value='#D3D3D3'), heading_background_color=OptionsInfo(scss=True, category='heading', type='value', value=None), heading_align=OptionsInfo(scss=True, category='heading', type='value', value='center'), heading_title_font_size=OptionsInfo(scss=True, category='heading', type='px', value='125%'), heading_title_font_weight=OptionsInfo(scss=True, category='heading', type='value', value='initial'), heading_subtitle_font_size=OptionsInfo(scss=True, category='heading', type='px', value='85%'), heading_subtitle_font_weight=OptionsInfo(scss=True, category='heading', type='value', value='initial'), heading_padding=OptionsInfo(scss=True, category='heading', type='px', value='4px'), heading_padding_horizontal=OptionsInfo(scss=True, category='heading', type='px', value='5px'), heading_border_bottom_style=OptionsInfo(scss=True, category='heading', type='value', value='solid'), heading_border_bottom_width=OptionsInfo(scss=True, category='heading', type='px', value='2px'), heading_border_bottom_color=OptionsInfo(scss=True, category='heading', type='value', value='#D3D3D3'), heading_border_lr_style=OptionsInfo(scss=True, category='heading', type='value', value='none'), heading_border_lr_width=OptionsInfo(scss=True, category='heading', type='px', value='1px'), heading_border_lr_color=OptionsInfo(scss=True, category='heading', type='value', value='#D3D3D3'), column_labels_background_color=OptionsInfo(scss=True, category='column_labels', type='value', value=None), column_labels_font_size=OptionsInfo(scss=True, category='column_labels', type='px', value='100%'), column_labels_font_weight=OptionsInfo(scss=True, category='column_labels', type='value', value='normal'), column_labels_text_transform=OptionsInfo(scss=True, category='column_labels', type='value', value='inherit'), column_labels_padding=OptionsInfo(scss=True, category='column_labels', type='px', value='5px'), column_labels_padding_horizontal=OptionsInfo(scss=True, category='column_labels', type='px', value='5px'), column_labels_vlines_style=OptionsInfo(scss=True, category='table_body', type='value', value='none'), column_labels_vlines_width=OptionsInfo(scss=True, category='table_body', type='px', value='1px'), column_labels_vlines_color=OptionsInfo(scss=True, category='table_body', type='value', value='#D3D3D3'), column_labels_border_top_style=OptionsInfo(scss=True, category='column_labels', type='value', value='solid'), column_labels_border_top_width=OptionsInfo(scss=True, category='column_labels', type='px', value='2px'), column_labels_border_top_color=OptionsInfo(scss=True, category='column_labels', type='value', value='#D3D3D3'), column_labels_border_bottom_style=OptionsInfo(scss=True, category='column_labels', type='value', value='solid'), column_labels_border_bottom_width=OptionsInfo(scss=True, category='column_labels', type='px', value='2px'), column_labels_border_bottom_color=OptionsInfo(scss=True, category='column_labels', type='value', value='#D3D3D3'), column_labels_border_lr_style=OptionsInfo(scss=True, category='column_labels', type='value', value='none'), column_labels_border_lr_width=OptionsInfo(scss=True, category='column_labels', type='px', value='1px'), column_labels_border_lr_color=OptionsInfo(scss=True, category='column_labels', type='value', value='#D3D3D3'), column_labels_hidden=OptionsInfo(scss=False, category='column_labels', type='boolean', value=False), row_group_background_color=OptionsInfo(scss=True, category='row_group', type='value', value=None), row_group_font_size=OptionsInfo(scss=True, category='row_group', type='px', value='100%'), row_group_font_weight=OptionsInfo(scss=True, category='row_group', type='value', value='initial'), row_group_text_transform=OptionsInfo(scss=True, category='row_group', type='value', value='inherit'), row_group_padding=OptionsInfo(scss=True, category='row_group', type='px', value='8px'), row_group_padding_horizontal=OptionsInfo(scss=True, category='row_group', type='px', value='5px'), row_group_border_top_style=OptionsInfo(scss=True, category='row_group', type='value', value='solid'), row_group_border_top_width=OptionsInfo(scss=True, category='row_group', type='px', value='2px'), row_group_border_top_color=OptionsInfo(scss=True, category='row_group', type='value', value='#D3D3D3'), row_group_border_right_style=OptionsInfo(scss=True, category='row_group', type='value', value='none'), row_group_border_right_width=OptionsInfo(scss=True, category='row_group', type='px', value='1px'), row_group_border_right_color=OptionsInfo(scss=True, category='row_group', type='value', value='#D3D3D3'), row_group_border_bottom_style=OptionsInfo(scss=True, category='row_group', type='value', value='solid'), row_group_border_bottom_width=OptionsInfo(scss=True, category='row_group', type='px', value='2px'), row_group_border_bottom_color=OptionsInfo(scss=True, category='row_group', type='value', value='#D3D3D3'), row_group_border_left_style=OptionsInfo(scss=True, category='row_group', type='value', value='none'), row_group_border_left_width=OptionsInfo(scss=True, category='row_group', type='px', value='1px'), row_group_border_left_color=OptionsInfo(scss=True, category='row_group', type='value', value='#D3D3D3'), row_group_as_column=OptionsInfo(scss=False, category='row_group', type='boolean', value=False), table_body_hlines_style=OptionsInfo(scss=True, category='table_body', type='value', value='solid'), table_body_hlines_width=OptionsInfo(scss=True, category='table_body', type='px', value='1px'), table_body_hlines_color=OptionsInfo(scss=True, category='table_body', type='value', value='#D3D3D3'), table_body_vlines_style=OptionsInfo(scss=True, category='table_body', type='value', value='none'), table_body_vlines_width=OptionsInfo(scss=True, category='table_body', type='px', value='1px'), table_body_vlines_color=OptionsInfo(scss=True, category='table_body', type='value', value='#D3D3D3'), table_body_border_top_style=OptionsInfo(scss=True, category='table_body', type='value', value='solid'), table_body_border_top_width=OptionsInfo(scss=True, category='table_body', type='px', value='2px'), table_body_border_top_color=OptionsInfo(scss=True, category='table_body', type='value', value='#D3D3D3'), table_body_border_bottom_style=OptionsInfo(scss=True, category='table_body', type='value', value='solid'), table_body_border_bottom_width=OptionsInfo(scss=True, category='table_body', type='px', value='2px'), table_body_border_bottom_color=OptionsInfo(scss=True, category='table_body', type='value', value='#D3D3D3'), data_row_padding=OptionsInfo(scss=True, category='data_row', type='px', value='8px'), data_row_padding_horizontal=OptionsInfo(scss=True, category='data_row', type='px', value='5px'), stub_background_color=OptionsInfo(scss=True, category='stub', type='value', value=None), stub_font_size=OptionsInfo(scss=True, category='stub', type='px', value='100%'), stub_font_weight=OptionsInfo(scss=True, category='stub', type='value', value='initial'), stub_text_transform=OptionsInfo(scss=True, category='stub', type='value', value='inherit'), stub_border_style=OptionsInfo(scss=True, category='stub', type='value', value='solid'), stub_border_width=OptionsInfo(scss=True, category='stub', type='px', value='2px'), stub_border_color=OptionsInfo(scss=True, category='stub', type='value', value='#D3D3D3'), stub_row_group_background_color=OptionsInfo(scss=True, category='stub', type='value', value=None), stub_row_group_font_size=OptionsInfo(scss=True, category='stub', type='px', value='100%'), stub_row_group_font_weight=OptionsInfo(scss=True, category='stub', type='value', value='initial'), stub_row_group_text_transform=OptionsInfo(scss=True, category='stub', type='value', value='inherit'), stub_row_group_border_style=OptionsInfo(scss=True, category='stub', type='value', value='solid'), stub_row_group_border_width=OptionsInfo(scss=True, category='stub', type='px', value='2px'), stub_row_group_border_color=OptionsInfo(scss=True, category='stub', type='value', value='#D3D3D3'), source_notes_padding=OptionsInfo(scss=True, category='source_notes', type='px', value='4px'), source_notes_padding_horizontal=OptionsInfo(scss=True, category='source_notes', type='px', value='5px'), source_notes_background_color=OptionsInfo(scss=True, category='source_notes', type='value', value=None), source_notes_font_size=OptionsInfo(scss=True, category='source_notes', type='px', value='90%'), source_notes_border_bottom_style=OptionsInfo(scss=True, category='source_notes', type='value', value='none'), source_notes_border_bottom_width=OptionsInfo(scss=True, category='source_notes', type='px', value='2px'), source_notes_border_bottom_color=OptionsInfo(scss=True, category='source_notes', type='value', value='#D3D3D3'), source_notes_border_lr_style=OptionsInfo(scss=True, category='source_notes', type='value', value='none'), source_notes_border_lr_width=OptionsInfo(scss=True, category='source_notes', type='px', value='2px'), source_notes_border_lr_color=OptionsInfo(scss=True, category='source_notes', type='value', value='#D3D3D3'), source_notes_multiline=OptionsInfo(scss=False, category='source_notes', type='boolean', value=True), source_notes_sep=OptionsInfo(scss=False, category='source_notes', type='value', value=' '), container_width=OptionsInfo(scss=False, category='container', type='px', value='auto'), container_height=OptionsInfo(scss=False, category='container', type='px', value='auto'), container_padding_x=OptionsInfo(scss=False, category='container', type='px', value='0px'), container_padding_y=OptionsInfo(scss=False, category='container', type='px', value='10px'), container_overflow_x=OptionsInfo(scss=False, category='container', type='overflow', value='auto'), container_overflow_y=OptionsInfo(scss=False, category='container', type='overflow', value='auto'), quarto_disable_processing=OptionsInfo(scss=False, category='quarto', type='logical', value=False), quarto_use_bootstrap=OptionsInfo(scss=False, category='quarto', type='logical', value=False)), _has_built=False)"
      ]
     },
     "execution_count": 52,
     "metadata": {},
     "output_type": "execute_result"
    }
   ],
   "source": [
    "from great_tables import GT, loc, style\n",
    "\n",
    "schedule_table = (\n",
    "    schedule.pivot(on=\"room\", index=\"timestamp\", values=\"title\")\n",
    "    .select(\n",
    "        pl.col(\"timestamp\").dt.date().alias(\"Date\"),\n",
    "        pl.col(\"timestamp\").dt.time().alias(\"Time\"),\n",
    "        pl.col(\"6\").alias(\"Room 6\"),\n",
    "        pl.col(\"5\").alias(\"Room 5\"),\n",
    "    )\n",
    ")\n",
    "\n",
    "(\n",
    "    GT(schedule_table)\n",
    "    .tab_header(\n",
    "        title=\"EuroSciPy 2024\",\n",
    "        subtitle=\"Tutorials in Szczecin\",\n",
    "    )\n",
    "    .tab_spanner(\n",
    "        label=\"When\",\n",
    "        columns=[\"Date\", \"Time\"],\n",
    "    )\n",
    "    .tab_style(\n",
    "        style.text(weight=\"bold\"),\n",
    "        loc.body(\"Room 6\", pl.col(\"Room 6\").str.contains(\"Polars\"))\n",
    "    )\n",
    ")"
   ]
  }
 ],
 "metadata": {
  "jupytext": {
   "formats": "ipynb,py:percent"
  },
  "kernelspec": {
   "display_name": "Python 3 (ipykernel)",
   "language": "python",
   "name": "python3"
  },
  "language_info": {
   "codemirror_mode": {
    "name": "ipython",
    "version": 3
   },
   "file_extension": ".py",
   "mimetype": "text/x-python",
   "name": "python",
   "nbconvert_exporter": "python",
   "pygments_lexer": "ipython3",
   "version": "3.12.5"
  }
 },
 "nbformat": 4,
 "nbformat_minor": 5
}
